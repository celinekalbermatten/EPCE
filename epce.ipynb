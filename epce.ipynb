{
  "cells": [
    {
      "cell_type": "code",
      "execution_count": 1,
      "metadata": {
        "id": "a2MszSw_lb44"
      },
      "outputs": [],
      "source": [
        "import torch\n",
        "from torch import nn\n",
        "from torch.utils.data import DataLoader\n",
        "import EPCE\n",
        "import glob\n",
        "from torchvision import transforms\n",
        "from torch.utils.data import DataLoader, Dataset\n",
        "\n",
        "from tqdm import tqdm\n",
        "\n",
        "import os\n",
        "import time\n",
        "\n",
        "from data_loader import HDRDataset\n",
        "from model import FHDR\n",
        "import potions\n",
        "from util import (\n",
        "    load_checkpoint,\n",
        "    make_required_directories,\n",
        "    mu_tonemap,\n",
        "    save_checkpoint,\n",
        "    save_hdr_image,\n",
        "    save_ldr_image,\n",
        "    update_lr,\n",
        "\n",
        ")\n",
        "\n"
      ]
    },
    {
      "cell_type": "code",
      "execution_count": 5,
      "metadata": {},
      "outputs": [
        {
          "ename": "ImportError",
          "evalue": "cannot import name 'Memory' from 'joblib' (unknown location)",
          "output_type": "error",
          "traceback": [
            "\u001b[1;31m---------------------------------------------------------------------------\u001b[0m",
            "\u001b[1;31mImportError\u001b[0m                               Traceback (most recent call last)",
            "\u001b[1;32mc:\\Users\\Céline Kalbermatten\\Documents\\EPFL\\MA1\\Machine_Learning\\EPCE\\epce.ipynb Cell 2\u001b[0m line \u001b[0;36m1\n\u001b[1;32m----> <a href='vscode-notebook-cell:/c%3A/Users/C%C3%A9line%20Kalbermatten/Documents/EPFL/MA1/Machine_Learning/EPCE/epce.ipynb#X24sZmlsZQ%3D%3D?line=0'>1</a>\u001b[0m \u001b[39mimport\u001b[39;00m \u001b[39msklearn\u001b[39;00m\n",
            "File \u001b[1;32mc:\\condaenv\\lib\\site-packages\\sklearn\\__init__.py:83\u001b[0m\n\u001b[0;32m     69\u001b[0m     \u001b[39m# We are not importing the rest of scikit-learn during the build\u001b[39;00m\n\u001b[0;32m     70\u001b[0m     \u001b[39m# process, as it may not be compiled yet\u001b[39;00m\n\u001b[0;32m     71\u001b[0m \u001b[39melse\u001b[39;00m:\n\u001b[1;32m   (...)\u001b[0m\n\u001b[0;32m     77\u001b[0m     \u001b[39m# later is linked to the OpenMP runtime to make it possible to introspect\u001b[39;00m\n\u001b[0;32m     78\u001b[0m     \u001b[39m# it and importing it first would fail if the OpenMP dll cannot be found.\u001b[39;00m\n\u001b[0;32m     79\u001b[0m     \u001b[39mfrom\u001b[39;00m \u001b[39m.\u001b[39;00m \u001b[39mimport\u001b[39;00m (\n\u001b[0;32m     80\u001b[0m         __check_build,  \u001b[39m# noqa: F401\u001b[39;00m\n\u001b[0;32m     81\u001b[0m         _distributor_init,  \u001b[39m# noqa: F401\u001b[39;00m\n\u001b[0;32m     82\u001b[0m     )\n\u001b[1;32m---> 83\u001b[0m     \u001b[39mfrom\u001b[39;00m \u001b[39m.\u001b[39;00m\u001b[39mbase\u001b[39;00m \u001b[39mimport\u001b[39;00m clone\n\u001b[0;32m     84\u001b[0m     \u001b[39mfrom\u001b[39;00m \u001b[39m.\u001b[39;00m\u001b[39mutils\u001b[39;00m\u001b[39m.\u001b[39;00m\u001b[39m_show_versions\u001b[39;00m \u001b[39mimport\u001b[39;00m show_versions\n\u001b[0;32m     86\u001b[0m     __all__ \u001b[39m=\u001b[39m [\n\u001b[0;32m     87\u001b[0m         \u001b[39m\"\u001b[39m\u001b[39mcalibration\u001b[39m\u001b[39m\"\u001b[39m,\n\u001b[0;32m     88\u001b[0m         \u001b[39m\"\u001b[39m\u001b[39mcluster\u001b[39m\u001b[39m\"\u001b[39m,\n\u001b[1;32m   (...)\u001b[0m\n\u001b[0;32m    129\u001b[0m         \u001b[39m\"\u001b[39m\u001b[39mshow_versions\u001b[39m\u001b[39m\"\u001b[39m,\n\u001b[0;32m    130\u001b[0m     ]\n",
            "File \u001b[1;32mc:\\condaenv\\lib\\site-packages\\sklearn\\base.py:19\u001b[0m\n\u001b[0;32m     17\u001b[0m \u001b[39mfrom\u001b[39;00m \u001b[39m.\u001b[39;00m\u001b[39m_config\u001b[39;00m \u001b[39mimport\u001b[39;00m config_context, get_config\n\u001b[0;32m     18\u001b[0m \u001b[39mfrom\u001b[39;00m \u001b[39m.\u001b[39;00m\u001b[39mexceptions\u001b[39;00m \u001b[39mimport\u001b[39;00m InconsistentVersionWarning\n\u001b[1;32m---> 19\u001b[0m \u001b[39mfrom\u001b[39;00m \u001b[39m.\u001b[39;00m\u001b[39mutils\u001b[39;00m \u001b[39mimport\u001b[39;00m _IS_32BIT\n\u001b[0;32m     20\u001b[0m \u001b[39mfrom\u001b[39;00m \u001b[39m.\u001b[39;00m\u001b[39mutils\u001b[39;00m\u001b[39m.\u001b[39;00m\u001b[39m_estimator_html_repr\u001b[39;00m \u001b[39mimport\u001b[39;00m estimator_html_repr\n\u001b[0;32m     21\u001b[0m \u001b[39mfrom\u001b[39;00m \u001b[39m.\u001b[39;00m\u001b[39mutils\u001b[39;00m\u001b[39m.\u001b[39;00m\u001b[39m_metadata_requests\u001b[39;00m \u001b[39mimport\u001b[39;00m _MetadataRequester\n",
            "File \u001b[1;32mc:\\condaenv\\lib\\site-packages\\sklearn\\utils\\__init__.py:19\u001b[0m\n\u001b[0;32m     17\u001b[0m \u001b[39mfrom\u001b[39;00m \u001b[39m.\u001b[39;00m\u001b[39m.\u001b[39;00m \u001b[39mimport\u001b[39;00m get_config\n\u001b[0;32m     18\u001b[0m \u001b[39mfrom\u001b[39;00m \u001b[39m.\u001b[39;00m\u001b[39m.\u001b[39;00m\u001b[39mexceptions\u001b[39;00m \u001b[39mimport\u001b[39;00m DataConversionWarning\n\u001b[1;32m---> 19\u001b[0m \u001b[39mfrom\u001b[39;00m \u001b[39m.\u001b[39;00m \u001b[39mimport\u001b[39;00m _joblib, metadata_routing\n\u001b[0;32m     20\u001b[0m \u001b[39mfrom\u001b[39;00m \u001b[39m.\u001b[39;00m\u001b[39m_bunch\u001b[39;00m \u001b[39mimport\u001b[39;00m Bunch\n\u001b[0;32m     21\u001b[0m \u001b[39mfrom\u001b[39;00m \u001b[39m.\u001b[39;00m\u001b[39m_estimator_html_repr\u001b[39;00m \u001b[39mimport\u001b[39;00m estimator_html_repr\n",
            "File \u001b[1;32mc:\\condaenv\\lib\\site-packages\\sklearn\\utils\\_joblib.py:8\u001b[0m\n\u001b[0;32m      5\u001b[0m     \u001b[39m# joblib imports may raise DeprecationWarning on certain Python\u001b[39;00m\n\u001b[0;32m      6\u001b[0m     \u001b[39m# versions\u001b[39;00m\n\u001b[0;32m      7\u001b[0m     \u001b[39mimport\u001b[39;00m \u001b[39mjoblib\u001b[39;00m\n\u001b[1;32m----> 8\u001b[0m     \u001b[39mfrom\u001b[39;00m \u001b[39mjoblib\u001b[39;00m \u001b[39mimport\u001b[39;00m (\n\u001b[0;32m      9\u001b[0m         Memory,\n\u001b[0;32m     10\u001b[0m         Parallel,\n\u001b[0;32m     11\u001b[0m         __version__,\n\u001b[0;32m     12\u001b[0m         cpu_count,\n\u001b[0;32m     13\u001b[0m         delayed,\n\u001b[0;32m     14\u001b[0m         dump,\n\u001b[0;32m     15\u001b[0m         effective_n_jobs,\n\u001b[0;32m     16\u001b[0m         \u001b[39mhash\u001b[39m,\n\u001b[0;32m     17\u001b[0m         load,\n\u001b[0;32m     18\u001b[0m         logger,\n\u001b[0;32m     19\u001b[0m         parallel_backend,\n\u001b[0;32m     20\u001b[0m         register_parallel_backend,\n\u001b[0;32m     21\u001b[0m     )\n\u001b[0;32m     24\u001b[0m __all__ \u001b[39m=\u001b[39m [\n\u001b[0;32m     25\u001b[0m     \u001b[39m\"\u001b[39m\u001b[39mparallel_backend\u001b[39m\u001b[39m\"\u001b[39m,\n\u001b[0;32m     26\u001b[0m     \u001b[39m\"\u001b[39m\u001b[39mregister_parallel_backend\u001b[39m\u001b[39m\"\u001b[39m,\n\u001b[1;32m   (...)\u001b[0m\n\u001b[0;32m     37\u001b[0m     \u001b[39m\"\u001b[39m\u001b[39m__version__\u001b[39m\u001b[39m\"\u001b[39m,\n\u001b[0;32m     38\u001b[0m ]\n",
            "\u001b[1;31mImportError\u001b[0m: cannot import name 'Memory' from 'joblib' (unknown location)"
          ]
        }
      ],
      "source": [
        "import sklearn"
      ]
    },
    {
      "cell_type": "code",
      "execution_count": 6,
      "metadata": {},
      "outputs": [
        {
          "ename": "ImportError",
          "evalue": "cannot import name 'Memory' from 'joblib' (unknown location)",
          "output_type": "error",
          "traceback": [
            "\u001b[1;31m---------------------------------------------------------------------------\u001b[0m",
            "\u001b[1;31mImportError\u001b[0m                               Traceback (most recent call last)",
            "\u001b[1;32mc:\\Users\\Céline Kalbermatten\\Documents\\EPFL\\MA1\\Machine_Learning\\EPCE\\epce.ipynb Cell 3\u001b[0m line \u001b[0;36m1\n\u001b[1;32m----> <a href='vscode-notebook-cell:/c%3A/Users/C%C3%A9line%20Kalbermatten/Documents/EPFL/MA1/Machine_Learning/EPCE/epce.ipynb#X23sZmlsZQ%3D%3D?line=0'>1</a>\u001b[0m \u001b[39mimport\u001b[39;00m \u001b[39msklearn\u001b[39;00m\n\u001b[0;32m      <a href='vscode-notebook-cell:/c%3A/Users/C%C3%A9line%20Kalbermatten/Documents/EPFL/MA1/Machine_Learning/EPCE/epce.ipynb#X23sZmlsZQ%3D%3D?line=1'>2</a>\u001b[0m \u001b[39mimport\u001b[39;00m \u001b[39mscipy\u001b[39;00m\n\u001b[0;32m      <a href='vscode-notebook-cell:/c%3A/Users/C%C3%A9line%20Kalbermatten/Documents/EPFL/MA1/Machine_Learning/EPCE/epce.ipynb#X23sZmlsZQ%3D%3D?line=3'>4</a>\u001b[0m \u001b[39mprint\u001b[39m(sklearn\u001b[39m.\u001b[39m__version__)\n",
            "File \u001b[1;32mc:\\condaenv\\lib\\site-packages\\sklearn\\__init__.py:83\u001b[0m\n\u001b[0;32m     69\u001b[0m     \u001b[39m# We are not importing the rest of scikit-learn during the build\u001b[39;00m\n\u001b[0;32m     70\u001b[0m     \u001b[39m# process, as it may not be compiled yet\u001b[39;00m\n\u001b[0;32m     71\u001b[0m \u001b[39melse\u001b[39;00m:\n\u001b[1;32m   (...)\u001b[0m\n\u001b[0;32m     77\u001b[0m     \u001b[39m# later is linked to the OpenMP runtime to make it possible to introspect\u001b[39;00m\n\u001b[0;32m     78\u001b[0m     \u001b[39m# it and importing it first would fail if the OpenMP dll cannot be found.\u001b[39;00m\n\u001b[0;32m     79\u001b[0m     \u001b[39mfrom\u001b[39;00m \u001b[39m.\u001b[39;00m \u001b[39mimport\u001b[39;00m (\n\u001b[0;32m     80\u001b[0m         __check_build,  \u001b[39m# noqa: F401\u001b[39;00m\n\u001b[0;32m     81\u001b[0m         _distributor_init,  \u001b[39m# noqa: F401\u001b[39;00m\n\u001b[0;32m     82\u001b[0m     )\n\u001b[1;32m---> 83\u001b[0m     \u001b[39mfrom\u001b[39;00m \u001b[39m.\u001b[39;00m\u001b[39mbase\u001b[39;00m \u001b[39mimport\u001b[39;00m clone\n\u001b[0;32m     84\u001b[0m     \u001b[39mfrom\u001b[39;00m \u001b[39m.\u001b[39;00m\u001b[39mutils\u001b[39;00m\u001b[39m.\u001b[39;00m\u001b[39m_show_versions\u001b[39;00m \u001b[39mimport\u001b[39;00m show_versions\n\u001b[0;32m     86\u001b[0m     __all__ \u001b[39m=\u001b[39m [\n\u001b[0;32m     87\u001b[0m         \u001b[39m\"\u001b[39m\u001b[39mcalibration\u001b[39m\u001b[39m\"\u001b[39m,\n\u001b[0;32m     88\u001b[0m         \u001b[39m\"\u001b[39m\u001b[39mcluster\u001b[39m\u001b[39m\"\u001b[39m,\n\u001b[1;32m   (...)\u001b[0m\n\u001b[0;32m    129\u001b[0m         \u001b[39m\"\u001b[39m\u001b[39mshow_versions\u001b[39m\u001b[39m\"\u001b[39m,\n\u001b[0;32m    130\u001b[0m     ]\n",
            "File \u001b[1;32mc:\\condaenv\\lib\\site-packages\\sklearn\\base.py:19\u001b[0m\n\u001b[0;32m     17\u001b[0m \u001b[39mfrom\u001b[39;00m \u001b[39m.\u001b[39;00m\u001b[39m_config\u001b[39;00m \u001b[39mimport\u001b[39;00m config_context, get_config\n\u001b[0;32m     18\u001b[0m \u001b[39mfrom\u001b[39;00m \u001b[39m.\u001b[39;00m\u001b[39mexceptions\u001b[39;00m \u001b[39mimport\u001b[39;00m InconsistentVersionWarning\n\u001b[1;32m---> 19\u001b[0m \u001b[39mfrom\u001b[39;00m \u001b[39m.\u001b[39;00m\u001b[39mutils\u001b[39;00m \u001b[39mimport\u001b[39;00m _IS_32BIT\n\u001b[0;32m     20\u001b[0m \u001b[39mfrom\u001b[39;00m \u001b[39m.\u001b[39;00m\u001b[39mutils\u001b[39;00m\u001b[39m.\u001b[39;00m\u001b[39m_estimator_html_repr\u001b[39;00m \u001b[39mimport\u001b[39;00m estimator_html_repr\n\u001b[0;32m     21\u001b[0m \u001b[39mfrom\u001b[39;00m \u001b[39m.\u001b[39;00m\u001b[39mutils\u001b[39;00m\u001b[39m.\u001b[39;00m\u001b[39m_metadata_requests\u001b[39;00m \u001b[39mimport\u001b[39;00m _MetadataRequester\n",
            "File \u001b[1;32mc:\\condaenv\\lib\\site-packages\\sklearn\\utils\\__init__.py:19\u001b[0m\n\u001b[0;32m     17\u001b[0m \u001b[39mfrom\u001b[39;00m \u001b[39m.\u001b[39;00m\u001b[39m.\u001b[39;00m \u001b[39mimport\u001b[39;00m get_config\n\u001b[0;32m     18\u001b[0m \u001b[39mfrom\u001b[39;00m \u001b[39m.\u001b[39;00m\u001b[39m.\u001b[39;00m\u001b[39mexceptions\u001b[39;00m \u001b[39mimport\u001b[39;00m DataConversionWarning\n\u001b[1;32m---> 19\u001b[0m \u001b[39mfrom\u001b[39;00m \u001b[39m.\u001b[39;00m \u001b[39mimport\u001b[39;00m _joblib, metadata_routing\n\u001b[0;32m     20\u001b[0m \u001b[39mfrom\u001b[39;00m \u001b[39m.\u001b[39;00m\u001b[39m_bunch\u001b[39;00m \u001b[39mimport\u001b[39;00m Bunch\n\u001b[0;32m     21\u001b[0m \u001b[39mfrom\u001b[39;00m \u001b[39m.\u001b[39;00m\u001b[39m_estimator_html_repr\u001b[39;00m \u001b[39mimport\u001b[39;00m estimator_html_repr\n",
            "File \u001b[1;32mc:\\condaenv\\lib\\site-packages\\sklearn\\utils\\_joblib.py:8\u001b[0m\n\u001b[0;32m      5\u001b[0m     \u001b[39m# joblib imports may raise DeprecationWarning on certain Python\u001b[39;00m\n\u001b[0;32m      6\u001b[0m     \u001b[39m# versions\u001b[39;00m\n\u001b[0;32m      7\u001b[0m     \u001b[39mimport\u001b[39;00m \u001b[39mjoblib\u001b[39;00m\n\u001b[1;32m----> 8\u001b[0m     \u001b[39mfrom\u001b[39;00m \u001b[39mjoblib\u001b[39;00m \u001b[39mimport\u001b[39;00m (\n\u001b[0;32m      9\u001b[0m         Memory,\n\u001b[0;32m     10\u001b[0m         Parallel,\n\u001b[0;32m     11\u001b[0m         __version__,\n\u001b[0;32m     12\u001b[0m         cpu_count,\n\u001b[0;32m     13\u001b[0m         delayed,\n\u001b[0;32m     14\u001b[0m         dump,\n\u001b[0;32m     15\u001b[0m         effective_n_jobs,\n\u001b[0;32m     16\u001b[0m         \u001b[39mhash\u001b[39m,\n\u001b[0;32m     17\u001b[0m         load,\n\u001b[0;32m     18\u001b[0m         logger,\n\u001b[0;32m     19\u001b[0m         parallel_backend,\n\u001b[0;32m     20\u001b[0m         register_parallel_backend,\n\u001b[0;32m     21\u001b[0m     )\n\u001b[0;32m     24\u001b[0m __all__ \u001b[39m=\u001b[39m [\n\u001b[0;32m     25\u001b[0m     \u001b[39m\"\u001b[39m\u001b[39mparallel_backend\u001b[39m\u001b[39m\"\u001b[39m,\n\u001b[0;32m     26\u001b[0m     \u001b[39m\"\u001b[39m\u001b[39mregister_parallel_backend\u001b[39m\u001b[39m\"\u001b[39m,\n\u001b[1;32m   (...)\u001b[0m\n\u001b[0;32m     37\u001b[0m     \u001b[39m\"\u001b[39m\u001b[39m__version__\u001b[39m\u001b[39m\"\u001b[39m,\n\u001b[0;32m     38\u001b[0m ]\n",
            "\u001b[1;31mImportError\u001b[0m: cannot import name 'Memory' from 'joblib' (unknown location)"
          ]
        }
      ],
      "source": [
        "import sklearn\n",
        "import scipy\n",
        "\n",
        "print(sklearn.__version__)\n",
        "print(scipy.__version__)"
      ]
    },
    {
      "cell_type": "code",
      "execution_count": 7,
      "metadata": {},
      "outputs": [
        {
          "ename": "ImportError",
          "evalue": "cannot import name 'Memory' from 'joblib' (unknown location)",
          "output_type": "error",
          "traceback": [
            "\u001b[1;31m---------------------------------------------------------------------------\u001b[0m",
            "\u001b[1;31mImportError\u001b[0m                               Traceback (most recent call last)",
            "\u001b[1;32mc:\\Users\\Céline Kalbermatten\\Documents\\EPFL\\MA1\\Machine_Learning\\EPCE\\epce.ipynb Cell 4\u001b[0m line \u001b[0;36m1\n\u001b[1;32m----> <a href='vscode-notebook-cell:/c%3A/Users/C%C3%A9line%20Kalbermatten/Documents/EPFL/MA1/Machine_Learning/EPCE/epce.ipynb#W1sZmlsZQ%3D%3D?line=0'>1</a>\u001b[0m \u001b[39mfrom\u001b[39;00m \u001b[39msklearn\u001b[39;00m\u001b[39m.\u001b[39;00m\u001b[39mmodel_selection\u001b[39;00m \u001b[39mimport\u001b[39;00m train_test_split\n",
            "File \u001b[1;32mc:\\condaenv\\lib\\site-packages\\sklearn\\__init__.py:83\u001b[0m\n\u001b[0;32m     69\u001b[0m     \u001b[39m# We are not importing the rest of scikit-learn during the build\u001b[39;00m\n\u001b[0;32m     70\u001b[0m     \u001b[39m# process, as it may not be compiled yet\u001b[39;00m\n\u001b[0;32m     71\u001b[0m \u001b[39melse\u001b[39;00m:\n\u001b[1;32m   (...)\u001b[0m\n\u001b[0;32m     77\u001b[0m     \u001b[39m# later is linked to the OpenMP runtime to make it possible to introspect\u001b[39;00m\n\u001b[0;32m     78\u001b[0m     \u001b[39m# it and importing it first would fail if the OpenMP dll cannot be found.\u001b[39;00m\n\u001b[0;32m     79\u001b[0m     \u001b[39mfrom\u001b[39;00m \u001b[39m.\u001b[39;00m \u001b[39mimport\u001b[39;00m (\n\u001b[0;32m     80\u001b[0m         __check_build,  \u001b[39m# noqa: F401\u001b[39;00m\n\u001b[0;32m     81\u001b[0m         _distributor_init,  \u001b[39m# noqa: F401\u001b[39;00m\n\u001b[0;32m     82\u001b[0m     )\n\u001b[1;32m---> 83\u001b[0m     \u001b[39mfrom\u001b[39;00m \u001b[39m.\u001b[39;00m\u001b[39mbase\u001b[39;00m \u001b[39mimport\u001b[39;00m clone\n\u001b[0;32m     84\u001b[0m     \u001b[39mfrom\u001b[39;00m \u001b[39m.\u001b[39;00m\u001b[39mutils\u001b[39;00m\u001b[39m.\u001b[39;00m\u001b[39m_show_versions\u001b[39;00m \u001b[39mimport\u001b[39;00m show_versions\n\u001b[0;32m     86\u001b[0m     __all__ \u001b[39m=\u001b[39m [\n\u001b[0;32m     87\u001b[0m         \u001b[39m\"\u001b[39m\u001b[39mcalibration\u001b[39m\u001b[39m\"\u001b[39m,\n\u001b[0;32m     88\u001b[0m         \u001b[39m\"\u001b[39m\u001b[39mcluster\u001b[39m\u001b[39m\"\u001b[39m,\n\u001b[1;32m   (...)\u001b[0m\n\u001b[0;32m    129\u001b[0m         \u001b[39m\"\u001b[39m\u001b[39mshow_versions\u001b[39m\u001b[39m\"\u001b[39m,\n\u001b[0;32m    130\u001b[0m     ]\n",
            "File \u001b[1;32mc:\\condaenv\\lib\\site-packages\\sklearn\\base.py:19\u001b[0m\n\u001b[0;32m     17\u001b[0m \u001b[39mfrom\u001b[39;00m \u001b[39m.\u001b[39;00m\u001b[39m_config\u001b[39;00m \u001b[39mimport\u001b[39;00m config_context, get_config\n\u001b[0;32m     18\u001b[0m \u001b[39mfrom\u001b[39;00m \u001b[39m.\u001b[39;00m\u001b[39mexceptions\u001b[39;00m \u001b[39mimport\u001b[39;00m InconsistentVersionWarning\n\u001b[1;32m---> 19\u001b[0m \u001b[39mfrom\u001b[39;00m \u001b[39m.\u001b[39;00m\u001b[39mutils\u001b[39;00m \u001b[39mimport\u001b[39;00m _IS_32BIT\n\u001b[0;32m     20\u001b[0m \u001b[39mfrom\u001b[39;00m \u001b[39m.\u001b[39;00m\u001b[39mutils\u001b[39;00m\u001b[39m.\u001b[39;00m\u001b[39m_estimator_html_repr\u001b[39;00m \u001b[39mimport\u001b[39;00m estimator_html_repr\n\u001b[0;32m     21\u001b[0m \u001b[39mfrom\u001b[39;00m \u001b[39m.\u001b[39;00m\u001b[39mutils\u001b[39;00m\u001b[39m.\u001b[39;00m\u001b[39m_metadata_requests\u001b[39;00m \u001b[39mimport\u001b[39;00m _MetadataRequester\n",
            "File \u001b[1;32mc:\\condaenv\\lib\\site-packages\\sklearn\\utils\\__init__.py:19\u001b[0m\n\u001b[0;32m     17\u001b[0m \u001b[39mfrom\u001b[39;00m \u001b[39m.\u001b[39;00m\u001b[39m.\u001b[39;00m \u001b[39mimport\u001b[39;00m get_config\n\u001b[0;32m     18\u001b[0m \u001b[39mfrom\u001b[39;00m \u001b[39m.\u001b[39;00m\u001b[39m.\u001b[39;00m\u001b[39mexceptions\u001b[39;00m \u001b[39mimport\u001b[39;00m DataConversionWarning\n\u001b[1;32m---> 19\u001b[0m \u001b[39mfrom\u001b[39;00m \u001b[39m.\u001b[39;00m \u001b[39mimport\u001b[39;00m _joblib, metadata_routing\n\u001b[0;32m     20\u001b[0m \u001b[39mfrom\u001b[39;00m \u001b[39m.\u001b[39;00m\u001b[39m_bunch\u001b[39;00m \u001b[39mimport\u001b[39;00m Bunch\n\u001b[0;32m     21\u001b[0m \u001b[39mfrom\u001b[39;00m \u001b[39m.\u001b[39;00m\u001b[39m_estimator_html_repr\u001b[39;00m \u001b[39mimport\u001b[39;00m estimator_html_repr\n",
            "File \u001b[1;32mc:\\condaenv\\lib\\site-packages\\sklearn\\utils\\_joblib.py:8\u001b[0m\n\u001b[0;32m      5\u001b[0m     \u001b[39m# joblib imports may raise DeprecationWarning on certain Python\u001b[39;00m\n\u001b[0;32m      6\u001b[0m     \u001b[39m# versions\u001b[39;00m\n\u001b[0;32m      7\u001b[0m     \u001b[39mimport\u001b[39;00m \u001b[39mjoblib\u001b[39;00m\n\u001b[1;32m----> 8\u001b[0m     \u001b[39mfrom\u001b[39;00m \u001b[39mjoblib\u001b[39;00m \u001b[39mimport\u001b[39;00m (\n\u001b[0;32m      9\u001b[0m         Memory,\n\u001b[0;32m     10\u001b[0m         Parallel,\n\u001b[0;32m     11\u001b[0m         __version__,\n\u001b[0;32m     12\u001b[0m         cpu_count,\n\u001b[0;32m     13\u001b[0m         delayed,\n\u001b[0;32m     14\u001b[0m         dump,\n\u001b[0;32m     15\u001b[0m         effective_n_jobs,\n\u001b[0;32m     16\u001b[0m         \u001b[39mhash\u001b[39m,\n\u001b[0;32m     17\u001b[0m         load,\n\u001b[0;32m     18\u001b[0m         logger,\n\u001b[0;32m     19\u001b[0m         parallel_backend,\n\u001b[0;32m     20\u001b[0m         register_parallel_backend,\n\u001b[0;32m     21\u001b[0m     )\n\u001b[0;32m     24\u001b[0m __all__ \u001b[39m=\u001b[39m [\n\u001b[0;32m     25\u001b[0m     \u001b[39m\"\u001b[39m\u001b[39mparallel_backend\u001b[39m\u001b[39m\"\u001b[39m,\n\u001b[0;32m     26\u001b[0m     \u001b[39m\"\u001b[39m\u001b[39mregister_parallel_backend\u001b[39m\u001b[39m\"\u001b[39m,\n\u001b[1;32m   (...)\u001b[0m\n\u001b[0;32m     37\u001b[0m     \u001b[39m\"\u001b[39m\u001b[39m__version__\u001b[39m\u001b[39m\"\u001b[39m,\n\u001b[0;32m     38\u001b[0m ]\n",
            "\u001b[1;31mImportError\u001b[0m: cannot import name 'Memory' from 'joblib' (unknown location)"
          ]
        }
      ],
      "source": [
        "from sklearn.model_selection import train_test_split"
      ]
    },
    {
      "cell_type": "code",
      "execution_count": 10,
      "metadata": {
        "id": "IXaN1n02lyE2"
      },
      "outputs": [],
      "source": [
        "\n",
        "opt = potions.Options().parse()\n",
        "\n"
      ]
    },
    {
      "cell_type": "code",
      "execution_count": 4,
      "metadata": {
        "colab": {
          "base_uri": "https://localhost:8080/"
        },
        "id": "b1Vl_A7Gum20",
        "outputId": "56c0db40-827a-4b9a-dfed-699603d7b111"
      },
      "outputs": [
        {
          "ename": "NameError",
          "evalue": "name 'train_test_split' is not defined",
          "output_type": "error",
          "traceback": [
            "\u001b[1;31m---------------------------------------------------------------------------\u001b[0m",
            "\u001b[1;31mNameError\u001b[0m                                 Traceback (most recent call last)",
            "\u001b[1;32mc:\\Users\\Céline Kalbermatten\\Documents\\EPFL\\MA1\\Machine_Learning\\EPCE\\epce.ipynb Cell 4\u001b[0m line \u001b[0;36m4\n\u001b[0;32m      <a href='vscode-notebook-cell:/c%3A/Users/C%C3%A9line%20Kalbermatten/Documents/EPFL/MA1/Machine_Learning/EPCE/epce.ipynb#W3sZmlsZQ%3D%3D?line=0'>1</a>\u001b[0m dataset \u001b[39m=\u001b[39m HDRDataset(mode\u001b[39m=\u001b[39m\u001b[39m\"\u001b[39m\u001b[39mtrain\u001b[39m\u001b[39m\"\u001b[39m, opt\u001b[39m=\u001b[39mopt)\n\u001b[0;32m      <a href='vscode-notebook-cell:/c%3A/Users/C%C3%A9line%20Kalbermatten/Documents/EPFL/MA1/Machine_Learning/EPCE/epce.ipynb#W3sZmlsZQ%3D%3D?line=2'>3</a>\u001b[0m \u001b[39m# split dataset into training and validation sets\u001b[39;00m\n\u001b[1;32m----> <a href='vscode-notebook-cell:/c%3A/Users/C%C3%A9line%20Kalbermatten/Documents/EPFL/MA1/Machine_Learning/EPCE/epce.ipynb#W3sZmlsZQ%3D%3D?line=3'>4</a>\u001b[0m train_dataset, val_dataset \u001b[39m=\u001b[39m train_test_split(dataset, test_size\u001b[39m=\u001b[39m\u001b[39m0.2\u001b[39m, random_state\u001b[39m=\u001b[39m\u001b[39m42\u001b[39m)\n\u001b[0;32m      <a href='vscode-notebook-cell:/c%3A/Users/C%C3%A9line%20Kalbermatten/Documents/EPFL/MA1/Machine_Learning/EPCE/epce.ipynb#W3sZmlsZQ%3D%3D?line=5'>6</a>\u001b[0m \u001b[39m# create separate data loaders for training and validation\u001b[39;00m\n\u001b[0;32m      <a href='vscode-notebook-cell:/c%3A/Users/C%C3%A9line%20Kalbermatten/Documents/EPFL/MA1/Machine_Learning/EPCE/epce.ipynb#W3sZmlsZQ%3D%3D?line=6'>7</a>\u001b[0m train_data_loader \u001b[39m=\u001b[39m DataLoader(train_dataset, batch_size\u001b[39m=\u001b[39mopt\u001b[39m.\u001b[39mbatch_size, shuffle\u001b[39m=\u001b[39m\u001b[39mTrue\u001b[39;00m)\n",
            "\u001b[1;31mNameError\u001b[0m: name 'train_test_split' is not defined"
          ]
        }
      ],
      "source": [
        "dataset = HDRDataset(mode=\"train\", opt=opt)\n",
        "\n",
        "# split dataset into training and validation sets\n",
        "train_dataset, val_dataset = train_test_split(dataset, test_size=0.2, random_state=42)\n",
        "\n",
        "# create separate data loaders for training and validation\n",
        "train_data_loader = DataLoader(train_dataset, batch_size=opt.batch_size, shuffle=True)\n",
        "val_data_loader = DataLoader(val_dataset, batch_size=opt.batch_size, shuffle=False)\n",
        "print(\"Training samples: \", len(train_data_loader))\n",
        "print(\"Validation samples: \", len(val_data_loader))\n",
        "\n",
        "\n",
        "\n",
        "# Define the curve estimation model\n",
        "model = EPCE.PPVisionTransformer()\n",
        "# Define the loss function\n",
        "\n",
        "l1 = torch.nn.L1Loss()\n",
        "perceptual_loss = EPCE.VGGLoss()\n",
        "# Define the optimizer\n",
        "optimizer = torch.optim.Adam(model.parameters(), lr=0.0001)\n",
        "# Set the device (CPU or GPU)\n",
        "device = torch.device(\"cuda\")\n",
        "\n"
      ]
    },
    {
      "cell_type": "code",
      "execution_count": 12,
      "metadata": {},
      "outputs": [
        {
          "name": "stdout",
          "output_type": "stream",
          "text": [
            "Training samples:  850\n"
          ]
        },
        {
          "name": "stderr",
          "output_type": "stream",
          "text": [
            "c:\\condaenv\\lib\\site-packages\\torchvision\\models\\_utils.py:208: UserWarning: The parameter 'pretrained' is deprecated since 0.13 and may be removed in the future, please use 'weights' instead.\n",
            "  warnings.warn(\n",
            "c:\\condaenv\\lib\\site-packages\\torchvision\\models\\_utils.py:223: UserWarning: Arguments other than a weight enum or `None` for 'weights' are deprecated since 0.13 and may be removed in the future. The current behavior is equivalent to passing `weights=VGG19_Weights.IMAGENET1K_V1`. You can also use `weights=VGG19_Weights.DEFAULT` to get the most up-to-date weights.\n",
            "  warnings.warn(msg)\n"
          ]
        },
        {
          "ename": "AssertionError",
          "evalue": "Torch not compiled with CUDA enabled",
          "output_type": "error",
          "traceback": [
            "\u001b[1;31m---------------------------------------------------------------------------\u001b[0m",
            "\u001b[1;31mAssertionError\u001b[0m                            Traceback (most recent call last)",
            "\u001b[1;32mc:\\Users\\Céline Kalbermatten\\Documents\\EPFL\\MA1\\Machine_Learning\\EPCE\\epce.ipynb Cell 7\u001b[0m line \u001b[0;36m1\n\u001b[0;32m      <a href='vscode-notebook-cell:/c%3A/Users/C%C3%A9line%20Kalbermatten/Documents/EPFL/MA1/Machine_Learning/EPCE/epce.ipynb#X25sZmlsZQ%3D%3D?line=8'>9</a>\u001b[0m \u001b[39m# Define the loss function\u001b[39;00m\n\u001b[0;32m     <a href='vscode-notebook-cell:/c%3A/Users/C%C3%A9line%20Kalbermatten/Documents/EPFL/MA1/Machine_Learning/EPCE/epce.ipynb#X25sZmlsZQ%3D%3D?line=10'>11</a>\u001b[0m l1 \u001b[39m=\u001b[39m torch\u001b[39m.\u001b[39mnn\u001b[39m.\u001b[39mL1Loss()\n\u001b[1;32m---> <a href='vscode-notebook-cell:/c%3A/Users/C%C3%A9line%20Kalbermatten/Documents/EPFL/MA1/Machine_Learning/EPCE/epce.ipynb#X25sZmlsZQ%3D%3D?line=11'>12</a>\u001b[0m perceptual_loss \u001b[39m=\u001b[39m EPCE\u001b[39m.\u001b[39;49mVGGLoss()\n\u001b[0;32m     <a href='vscode-notebook-cell:/c%3A/Users/C%C3%A9line%20Kalbermatten/Documents/EPFL/MA1/Machine_Learning/EPCE/epce.ipynb#X25sZmlsZQ%3D%3D?line=12'>13</a>\u001b[0m \u001b[39m# Define the optimizer\u001b[39;00m\n\u001b[0;32m     <a href='vscode-notebook-cell:/c%3A/Users/C%C3%A9line%20Kalbermatten/Documents/EPFL/MA1/Machine_Learning/EPCE/epce.ipynb#X25sZmlsZQ%3D%3D?line=13'>14</a>\u001b[0m optimizer \u001b[39m=\u001b[39m torch\u001b[39m.\u001b[39moptim\u001b[39m.\u001b[39mAdam(model\u001b[39m.\u001b[39mparameters(), lr\u001b[39m=\u001b[39m\u001b[39m0.0001\u001b[39m)\n",
            "File \u001b[1;32mc:\\Users\\Céline Kalbermatten\\Documents\\EPFL\\MA1\\Machine_Learning\\EPCE\\EPCE.py:499\u001b[0m, in \u001b[0;36mVGGLoss.__init__\u001b[1;34m(self)\u001b[0m\n\u001b[0;32m    497\u001b[0m \u001b[39mdef\u001b[39;00m \u001b[39m__init__\u001b[39m(\u001b[39mself\u001b[39m):\n\u001b[0;32m    498\u001b[0m     \u001b[39msuper\u001b[39m(VGGLoss, \u001b[39mself\u001b[39m)\u001b[39m.\u001b[39m\u001b[39m__init__\u001b[39m()\n\u001b[1;32m--> 499\u001b[0m     \u001b[39mself\u001b[39m\u001b[39m.\u001b[39mvgg \u001b[39m=\u001b[39m Vgg19()\u001b[39m.\u001b[39;49mcuda()\n\u001b[0;32m    500\u001b[0m     \u001b[39mself\u001b[39m\u001b[39m.\u001b[39mcriterion \u001b[39m=\u001b[39m nn\u001b[39m.\u001b[39mL1Loss()\n\u001b[0;32m    501\u001b[0m     \u001b[39mself\u001b[39m\u001b[39m.\u001b[39mweights \u001b[39m=\u001b[39m [\u001b[39m1.0\u001b[39m \u001b[39m/\u001b[39m \u001b[39m32\u001b[39m, \u001b[39m1.0\u001b[39m \u001b[39m/\u001b[39m \u001b[39m16\u001b[39m, \u001b[39m1.0\u001b[39m \u001b[39m/\u001b[39m \u001b[39m8\u001b[39m, \u001b[39m1.0\u001b[39m \u001b[39m/\u001b[39m \u001b[39m4\u001b[39m, \u001b[39m1.0\u001b[39m]\n",
            "File \u001b[1;32mc:\\condaenv\\lib\\site-packages\\torch\\nn\\modules\\module.py:918\u001b[0m, in \u001b[0;36mModule.cuda\u001b[1;34m(self, device)\u001b[0m\n\u001b[0;32m    901\u001b[0m \u001b[39mdef\u001b[39;00m \u001b[39mcuda\u001b[39m(\u001b[39mself\u001b[39m: T, device: Optional[Union[\u001b[39mint\u001b[39m, device]] \u001b[39m=\u001b[39m \u001b[39mNone\u001b[39;00m) \u001b[39m-\u001b[39m\u001b[39m>\u001b[39m T:\n\u001b[0;32m    902\u001b[0m \u001b[39m    \u001b[39m\u001b[39mr\u001b[39m\u001b[39m\"\"\"Moves all model parameters and buffers to the GPU.\u001b[39;00m\n\u001b[0;32m    903\u001b[0m \n\u001b[0;32m    904\u001b[0m \u001b[39m    This also makes associated parameters and buffers different objects. So\u001b[39;00m\n\u001b[1;32m   (...)\u001b[0m\n\u001b[0;32m    916\u001b[0m \u001b[39m        Module: self\u001b[39;00m\n\u001b[0;32m    917\u001b[0m \u001b[39m    \"\"\"\u001b[39;00m\n\u001b[1;32m--> 918\u001b[0m     \u001b[39mreturn\u001b[39;00m \u001b[39mself\u001b[39;49m\u001b[39m.\u001b[39;49m_apply(\u001b[39mlambda\u001b[39;49;00m t: t\u001b[39m.\u001b[39;49mcuda(device))\n",
            "File \u001b[1;32mc:\\condaenv\\lib\\site-packages\\torch\\nn\\modules\\module.py:810\u001b[0m, in \u001b[0;36mModule._apply\u001b[1;34m(self, fn, recurse)\u001b[0m\n\u001b[0;32m    808\u001b[0m \u001b[39mif\u001b[39;00m recurse:\n\u001b[0;32m    809\u001b[0m     \u001b[39mfor\u001b[39;00m module \u001b[39min\u001b[39;00m \u001b[39mself\u001b[39m\u001b[39m.\u001b[39mchildren():\n\u001b[1;32m--> 810\u001b[0m         module\u001b[39m.\u001b[39;49m_apply(fn)\n\u001b[0;32m    812\u001b[0m \u001b[39mdef\u001b[39;00m \u001b[39mcompute_should_use_set_data\u001b[39m(tensor, tensor_applied):\n\u001b[0;32m    813\u001b[0m     \u001b[39mif\u001b[39;00m torch\u001b[39m.\u001b[39m_has_compatible_shallow_copy_type(tensor, tensor_applied):\n\u001b[0;32m    814\u001b[0m         \u001b[39m# If the new tensor has compatible tensor type as the existing tensor,\u001b[39;00m\n\u001b[0;32m    815\u001b[0m         \u001b[39m# the current behavior is to change the tensor in-place using `.data =`,\u001b[39;00m\n\u001b[1;32m   (...)\u001b[0m\n\u001b[0;32m    820\u001b[0m         \u001b[39m# global flag to let the user control whether they want the future\u001b[39;00m\n\u001b[0;32m    821\u001b[0m         \u001b[39m# behavior of overwriting the existing tensor or not.\u001b[39;00m\n",
            "File \u001b[1;32mc:\\condaenv\\lib\\site-packages\\torch\\nn\\modules\\module.py:810\u001b[0m, in \u001b[0;36mModule._apply\u001b[1;34m(self, fn, recurse)\u001b[0m\n\u001b[0;32m    808\u001b[0m \u001b[39mif\u001b[39;00m recurse:\n\u001b[0;32m    809\u001b[0m     \u001b[39mfor\u001b[39;00m module \u001b[39min\u001b[39;00m \u001b[39mself\u001b[39m\u001b[39m.\u001b[39mchildren():\n\u001b[1;32m--> 810\u001b[0m         module\u001b[39m.\u001b[39;49m_apply(fn)\n\u001b[0;32m    812\u001b[0m \u001b[39mdef\u001b[39;00m \u001b[39mcompute_should_use_set_data\u001b[39m(tensor, tensor_applied):\n\u001b[0;32m    813\u001b[0m     \u001b[39mif\u001b[39;00m torch\u001b[39m.\u001b[39m_has_compatible_shallow_copy_type(tensor, tensor_applied):\n\u001b[0;32m    814\u001b[0m         \u001b[39m# If the new tensor has compatible tensor type as the existing tensor,\u001b[39;00m\n\u001b[0;32m    815\u001b[0m         \u001b[39m# the current behavior is to change the tensor in-place using `.data =`,\u001b[39;00m\n\u001b[1;32m   (...)\u001b[0m\n\u001b[0;32m    820\u001b[0m         \u001b[39m# global flag to let the user control whether they want the future\u001b[39;00m\n\u001b[0;32m    821\u001b[0m         \u001b[39m# behavior of overwriting the existing tensor or not.\u001b[39;00m\n",
            "File \u001b[1;32mc:\\condaenv\\lib\\site-packages\\torch\\nn\\modules\\module.py:833\u001b[0m, in \u001b[0;36mModule._apply\u001b[1;34m(self, fn, recurse)\u001b[0m\n\u001b[0;32m    829\u001b[0m \u001b[39m# Tensors stored in modules are graph leaves, and we don't want to\u001b[39;00m\n\u001b[0;32m    830\u001b[0m \u001b[39m# track autograd history of `param_applied`, so we have to use\u001b[39;00m\n\u001b[0;32m    831\u001b[0m \u001b[39m# `with torch.no_grad():`\u001b[39;00m\n\u001b[0;32m    832\u001b[0m \u001b[39mwith\u001b[39;00m torch\u001b[39m.\u001b[39mno_grad():\n\u001b[1;32m--> 833\u001b[0m     param_applied \u001b[39m=\u001b[39m fn(param)\n\u001b[0;32m    834\u001b[0m should_use_set_data \u001b[39m=\u001b[39m compute_should_use_set_data(param, param_applied)\n\u001b[0;32m    835\u001b[0m \u001b[39mif\u001b[39;00m should_use_set_data:\n",
            "File \u001b[1;32mc:\\condaenv\\lib\\site-packages\\torch\\nn\\modules\\module.py:918\u001b[0m, in \u001b[0;36mModule.cuda.<locals>.<lambda>\u001b[1;34m(t)\u001b[0m\n\u001b[0;32m    901\u001b[0m \u001b[39mdef\u001b[39;00m \u001b[39mcuda\u001b[39m(\u001b[39mself\u001b[39m: T, device: Optional[Union[\u001b[39mint\u001b[39m, device]] \u001b[39m=\u001b[39m \u001b[39mNone\u001b[39;00m) \u001b[39m-\u001b[39m\u001b[39m>\u001b[39m T:\n\u001b[0;32m    902\u001b[0m \u001b[39m    \u001b[39m\u001b[39mr\u001b[39m\u001b[39m\"\"\"Moves all model parameters and buffers to the GPU.\u001b[39;00m\n\u001b[0;32m    903\u001b[0m \n\u001b[0;32m    904\u001b[0m \u001b[39m    This also makes associated parameters and buffers different objects. So\u001b[39;00m\n\u001b[1;32m   (...)\u001b[0m\n\u001b[0;32m    916\u001b[0m \u001b[39m        Module: self\u001b[39;00m\n\u001b[0;32m    917\u001b[0m \u001b[39m    \"\"\"\u001b[39;00m\n\u001b[1;32m--> 918\u001b[0m     \u001b[39mreturn\u001b[39;00m \u001b[39mself\u001b[39m\u001b[39m.\u001b[39m_apply(\u001b[39mlambda\u001b[39;00m t: t\u001b[39m.\u001b[39;49mcuda(device))\n",
            "File \u001b[1;32mc:\\condaenv\\lib\\site-packages\\torch\\cuda\\__init__.py:289\u001b[0m, in \u001b[0;36m_lazy_init\u001b[1;34m()\u001b[0m\n\u001b[0;32m    284\u001b[0m     \u001b[39mraise\u001b[39;00m \u001b[39mRuntimeError\u001b[39;00m(\n\u001b[0;32m    285\u001b[0m         \u001b[39m\"\u001b[39m\u001b[39mCannot re-initialize CUDA in forked subprocess. To use CUDA with \u001b[39m\u001b[39m\"\u001b[39m\n\u001b[0;32m    286\u001b[0m         \u001b[39m\"\u001b[39m\u001b[39mmultiprocessing, you must use the \u001b[39m\u001b[39m'\u001b[39m\u001b[39mspawn\u001b[39m\u001b[39m'\u001b[39m\u001b[39m start method\u001b[39m\u001b[39m\"\u001b[39m\n\u001b[0;32m    287\u001b[0m     )\n\u001b[0;32m    288\u001b[0m \u001b[39mif\u001b[39;00m \u001b[39mnot\u001b[39;00m \u001b[39mhasattr\u001b[39m(torch\u001b[39m.\u001b[39m_C, \u001b[39m\"\u001b[39m\u001b[39m_cuda_getDeviceCount\u001b[39m\u001b[39m\"\u001b[39m):\n\u001b[1;32m--> 289\u001b[0m     \u001b[39mraise\u001b[39;00m \u001b[39mAssertionError\u001b[39;00m(\u001b[39m\"\u001b[39m\u001b[39mTorch not compiled with CUDA enabled\u001b[39m\u001b[39m\"\u001b[39m)\n\u001b[0;32m    290\u001b[0m \u001b[39mif\u001b[39;00m _cudart \u001b[39mis\u001b[39;00m \u001b[39mNone\u001b[39;00m:\n\u001b[0;32m    291\u001b[0m     \u001b[39mraise\u001b[39;00m \u001b[39mAssertionError\u001b[39;00m(\n\u001b[0;32m    292\u001b[0m         \u001b[39m\"\u001b[39m\u001b[39mlibcudart functions unavailable. It looks like you have a broken build?\u001b[39m\u001b[39m\"\u001b[39m\n\u001b[0;32m    293\u001b[0m     )\n",
            "\u001b[1;31mAssertionError\u001b[0m: Torch not compiled with CUDA enabled"
          ]
        }
      ],
      "source": [
        "dataset = HDRDataset(mode=\"train\", opt=opt)\n",
        "\n",
        "data_loader = DataLoader(dataset, batch_size=opt.batch_size, shuffle=True)\n",
        "\n",
        "print(\"Training samples: \", len(data_loader))\n",
        "\n",
        "# Define the curve estimation model\n",
        "model = EPCE.PPVisionTransformer()\n",
        "# Define the loss function\n",
        "\n",
        "l1 = torch.nn.L1Loss()\n",
        "perceptual_loss = EPCE.VGGLoss()\n",
        "# Define the optimizer\n",
        "optimizer = torch.optim.Adam(model.parameters(), lr=0.0001)\n",
        "# Set the device (CPU or GPU)\n",
        "device = torch.device(\"cuda\")\n"
      ]
    },
    {
      "cell_type": "code",
      "execution_count": null,
      "metadata": {
        "colab": {
          "base_uri": "https://localhost:8080/"
        },
        "id": "ayzpnJtb0VRU",
        "outputId": "f22dfea9-946b-43c4-f0e8-57ba63c73f31"
      },
      "outputs": [
        {
          "name": "stderr",
          "output_type": "stream",
          "text": [
            "100%|██████████| 10/10 [00:13<00:00,  1.36s/it]\n",
            "/content/drive/MyDrive/epce-hdr/util.py:55: RuntimeWarning: invalid value encountered in divide\n",
            "  scaled_mantissa = mantissa * 255.0 / brightest\n"
          ]
        },
        {
          "name": "stdout",
          "output_type": "stream",
          "text": [
            "Average validation Loss: 67.26266479492188\n",
            "Epoch [1/1000], Average Loss: 78.6072\n",
            "Average validation Loss: 67.26266479492188\n"
          ]
        },
        {
          "name": "stderr",
          "output_type": "stream",
          "text": [
            "100%|██████████| 10/10 [00:13<00:00,  1.37s/it]\n"
          ]
        },
        {
          "name": "stdout",
          "output_type": "stream",
          "text": [
            "Average validation Loss: 35.719173431396484\n",
            "Epoch [2/1000], Average Loss: 64.8635\n",
            "Average validation Loss: 35.719173431396484\n"
          ]
        },
        {
          "name": "stderr",
          "output_type": "stream",
          "text": [
            "100%|██████████| 10/10 [00:13<00:00,  1.39s/it]\n"
          ]
        },
        {
          "name": "stdout",
          "output_type": "stream",
          "text": [
            "Average validation Loss: 31.82997703552246\n",
            "Epoch [3/1000], Average Loss: 57.9039\n",
            "Average validation Loss: 31.82997703552246\n"
          ]
        },
        {
          "name": "stderr",
          "output_type": "stream",
          "text": [
            "100%|██████████| 10/10 [00:13<00:00,  1.40s/it]\n"
          ]
        },
        {
          "name": "stdout",
          "output_type": "stream",
          "text": [
            "Average validation Loss: 89.61791229248047\n",
            "Epoch [4/1000], Average Loss: 59.4317\n",
            "Average validation Loss: 89.61791229248047\n"
          ]
        },
        {
          "name": "stderr",
          "output_type": "stream",
          "text": [
            "100%|██████████| 10/10 [00:14<00:00,  1.42s/it]\n"
          ]
        },
        {
          "name": "stdout",
          "output_type": "stream",
          "text": [
            "Average validation Loss: 34.20195007324219\n",
            "Epoch [5/1000], Average Loss: 53.7440\n",
            "Average validation Loss: 34.20195007324219\n"
          ]
        },
        {
          "name": "stderr",
          "output_type": "stream",
          "text": [
            "100%|██████████| 10/10 [00:14<00:00,  1.43s/it]\n"
          ]
        },
        {
          "name": "stdout",
          "output_type": "stream",
          "text": [
            "Average validation Loss: 257.9534912109375\n",
            "Epoch [6/1000], Average Loss: 65.9860\n",
            "Average validation Loss: 257.9534912109375\n"
          ]
        },
        {
          "name": "stderr",
          "output_type": "stream",
          "text": [
            "100%|██████████| 10/10 [00:14<00:00,  1.44s/it]\n"
          ]
        },
        {
          "name": "stdout",
          "output_type": "stream",
          "text": [
            "Average validation Loss: 87.25542449951172\n",
            "Epoch [7/1000], Average Loss: 57.1644\n",
            "Average validation Loss: 87.25542449951172\n"
          ]
        },
        {
          "name": "stderr",
          "output_type": "stream",
          "text": [
            "100%|██████████| 10/10 [00:14<00:00,  1.46s/it]\n"
          ]
        },
        {
          "name": "stdout",
          "output_type": "stream",
          "text": [
            "Average validation Loss: 89.71257781982422\n",
            "Epoch [8/1000], Average Loss: 56.1245\n",
            "Average validation Loss: 89.71257781982422\n"
          ]
        },
        {
          "name": "stderr",
          "output_type": "stream",
          "text": [
            "100%|██████████| 10/10 [00:14<00:00,  1.47s/it]\n"
          ]
        },
        {
          "name": "stdout",
          "output_type": "stream",
          "text": [
            "Average validation Loss: 96.12278747558594\n",
            "Epoch [9/1000], Average Loss: 55.2741\n",
            "Average validation Loss: 96.12278747558594\n"
          ]
        },
        {
          "name": "stderr",
          "output_type": "stream",
          "text": [
            "100%|██████████| 10/10 [00:14<00:00,  1.46s/it]\n"
          ]
        },
        {
          "name": "stdout",
          "output_type": "stream",
          "text": [
            "Average validation Loss: 23.47561264038086\n",
            "Epoch [10/1000], Average Loss: 51.8582\n",
            "Average validation Loss: 23.47561264038086\n"
          ]
        },
        {
          "name": "stderr",
          "output_type": "stream",
          "text": [
            "100%|██████████| 10/10 [00:14<00:00,  1.45s/it]\n"
          ]
        },
        {
          "name": "stdout",
          "output_type": "stream",
          "text": [
            "Average validation Loss: 30.114309310913086\n",
            "Epoch [11/1000], Average Loss: 52.4731\n",
            "Average validation Loss: 30.114309310913086\n"
          ]
        },
        {
          "name": "stderr",
          "output_type": "stream",
          "text": [
            "100%|██████████| 10/10 [00:14<00:00,  1.45s/it]\n"
          ]
        },
        {
          "name": "stdout",
          "output_type": "stream",
          "text": [
            "Average validation Loss: 15.674161911010742\n",
            "Epoch [12/1000], Average Loss: 50.2608\n",
            "Average validation Loss: 15.674161911010742\n"
          ]
        },
        {
          "name": "stderr",
          "output_type": "stream",
          "text": [
            "100%|██████████| 10/10 [00:14<00:00,  1.46s/it]\n"
          ]
        },
        {
          "name": "stdout",
          "output_type": "stream",
          "text": [
            "Average validation Loss: 35.62763595581055\n",
            "Epoch [13/1000], Average Loss: 54.0456\n",
            "Average validation Loss: 35.62763595581055\n"
          ]
        },
        {
          "name": "stderr",
          "output_type": "stream",
          "text": [
            "100%|██████████| 10/10 [00:14<00:00,  1.46s/it]\n"
          ]
        },
        {
          "name": "stdout",
          "output_type": "stream",
          "text": [
            "Average validation Loss: 17.59443473815918\n",
            "Epoch [14/1000], Average Loss: 53.4174\n",
            "Average validation Loss: 17.59443473815918\n"
          ]
        },
        {
          "name": "stderr",
          "output_type": "stream",
          "text": [
            "100%|██████████| 10/10 [00:14<00:00,  1.46s/it]\n"
          ]
        },
        {
          "name": "stdout",
          "output_type": "stream",
          "text": [
            "Average validation Loss: 25.221372604370117\n",
            "Epoch [15/1000], Average Loss: 51.6524\n",
            "Average validation Loss: 25.221372604370117\n"
          ]
        },
        {
          "name": "stderr",
          "output_type": "stream",
          "text": [
            "100%|██████████| 10/10 [00:14<00:00,  1.46s/it]\n"
          ]
        },
        {
          "name": "stdout",
          "output_type": "stream",
          "text": [
            "Average validation Loss: 251.7268524169922\n",
            "Epoch [16/1000], Average Loss: 62.7765\n",
            "Average validation Loss: 251.7268524169922\n"
          ]
        },
        {
          "name": "stderr",
          "output_type": "stream",
          "text": [
            "100%|██████████| 10/10 [00:14<00:00,  1.46s/it]\n"
          ]
        },
        {
          "name": "stdout",
          "output_type": "stream",
          "text": [
            "Average validation Loss: 86.7455062866211\n",
            "Epoch [17/1000], Average Loss: 54.5746\n",
            "Average validation Loss: 86.7455062866211\n"
          ]
        },
        {
          "name": "stderr",
          "output_type": "stream",
          "text": [
            "100%|██████████| 10/10 [00:14<00:00,  1.46s/it]\n"
          ]
        },
        {
          "name": "stdout",
          "output_type": "stream",
          "text": [
            "Average validation Loss: 22.75423240661621\n",
            "Epoch [18/1000], Average Loss: 50.3703\n",
            "Average validation Loss: 22.75423240661621\n"
          ]
        },
        {
          "name": "stderr",
          "output_type": "stream",
          "text": [
            "100%|██████████| 10/10 [00:14<00:00,  1.46s/it]\n"
          ]
        },
        {
          "name": "stdout",
          "output_type": "stream",
          "text": [
            "Average validation Loss: 16.536144256591797\n",
            "Epoch [19/1000], Average Loss: 49.4060\n",
            "Average validation Loss: 16.536144256591797\n"
          ]
        },
        {
          "name": "stderr",
          "output_type": "stream",
          "text": [
            "100%|██████████| 10/10 [00:14<00:00,  1.46s/it]\n"
          ]
        },
        {
          "name": "stdout",
          "output_type": "stream",
          "text": [
            "Average validation Loss: 61.40571212768555\n",
            "Epoch [20/1000], Average Loss: 52.7718\n",
            "Average validation Loss: 61.40571212768555\n"
          ]
        },
        {
          "name": "stderr",
          "output_type": "stream",
          "text": [
            "100%|██████████| 10/10 [00:14<00:00,  1.46s/it]\n"
          ]
        },
        {
          "name": "stdout",
          "output_type": "stream",
          "text": [
            "Average validation Loss: 52.72028350830078\n",
            "Epoch [21/1000], Average Loss: 51.8074\n",
            "Average validation Loss: 52.72028350830078\n"
          ]
        },
        {
          "name": "stderr",
          "output_type": "stream",
          "text": [
            "100%|██████████| 10/10 [00:14<00:00,  1.46s/it]\n"
          ]
        },
        {
          "name": "stdout",
          "output_type": "stream",
          "text": [
            "Average validation Loss: 26.77098846435547\n",
            "Epoch [22/1000], Average Loss: 50.2448\n",
            "Average validation Loss: 26.77098846435547\n"
          ]
        },
        {
          "name": "stderr",
          "output_type": "stream",
          "text": [
            "100%|██████████| 10/10 [00:14<00:00,  1.46s/it]\n"
          ]
        },
        {
          "name": "stdout",
          "output_type": "stream",
          "text": [
            "Average validation Loss: 87.08480072021484\n",
            "Epoch [23/1000], Average Loss: 52.2161\n",
            "Average validation Loss: 87.08480072021484\n"
          ]
        },
        {
          "name": "stderr",
          "output_type": "stream",
          "text": [
            "100%|██████████| 10/10 [00:14<00:00,  1.46s/it]\n"
          ]
        },
        {
          "name": "stdout",
          "output_type": "stream",
          "text": [
            "Average validation Loss: 15.583846092224121\n",
            "Epoch [24/1000], Average Loss: 49.7269\n",
            "Average validation Loss: 15.583846092224121\n"
          ]
        },
        {
          "name": "stderr",
          "output_type": "stream",
          "text": [
            "100%|██████████| 10/10 [00:14<00:00,  1.46s/it]\n"
          ]
        },
        {
          "name": "stdout",
          "output_type": "stream",
          "text": [
            "Average validation Loss: 28.11998748779297\n",
            "Epoch [25/1000], Average Loss: 48.5248\n",
            "Average validation Loss: 28.11998748779297\n"
          ]
        },
        {
          "name": "stderr",
          "output_type": "stream",
          "text": [
            "100%|██████████| 10/10 [00:14<00:00,  1.46s/it]\n"
          ]
        },
        {
          "name": "stdout",
          "output_type": "stream",
          "text": [
            "Average validation Loss: 56.614959716796875\n",
            "Epoch [26/1000], Average Loss: 49.3905\n",
            "Average validation Loss: 56.614959716796875\n"
          ]
        },
        {
          "name": "stderr",
          "output_type": "stream",
          "text": [
            "100%|██████████| 10/10 [00:14<00:00,  1.46s/it]\n"
          ]
        },
        {
          "name": "stdout",
          "output_type": "stream",
          "text": [
            "Average validation Loss: 46.4251823425293\n",
            "Epoch [27/1000], Average Loss: 49.1822\n",
            "Average validation Loss: 46.4251823425293\n"
          ]
        },
        {
          "name": "stderr",
          "output_type": "stream",
          "text": [
            "100%|██████████| 10/10 [00:14<00:00,  1.46s/it]\n"
          ]
        },
        {
          "name": "stdout",
          "output_type": "stream",
          "text": [
            "Average validation Loss: 43.12894821166992\n",
            "Epoch [28/1000], Average Loss: 48.6134\n",
            "Average validation Loss: 43.12894821166992\n"
          ]
        },
        {
          "name": "stderr",
          "output_type": "stream",
          "text": [
            "100%|██████████| 10/10 [00:14<00:00,  1.46s/it]\n"
          ]
        },
        {
          "name": "stdout",
          "output_type": "stream",
          "text": [
            "Average validation Loss: 249.6412811279297\n",
            "Epoch [29/1000], Average Loss: 58.4777\n",
            "Average validation Loss: 249.6412811279297\n"
          ]
        },
        {
          "name": "stderr",
          "output_type": "stream",
          "text": [
            "100%|██████████| 10/10 [00:14<00:00,  1.46s/it]\n"
          ]
        },
        {
          "name": "stdout",
          "output_type": "stream",
          "text": [
            "Average validation Loss: 86.95494079589844\n",
            "Epoch [30/1000], Average Loss: 51.8035\n",
            "Average validation Loss: 86.95494079589844\n"
          ]
        },
        {
          "name": "stderr",
          "output_type": "stream",
          "text": [
            "100%|██████████| 10/10 [00:14<00:00,  1.46s/it]\n"
          ]
        },
        {
          "name": "stdout",
          "output_type": "stream",
          "text": [
            "Average validation Loss: 44.2791862487793\n",
            "Epoch [31/1000], Average Loss: 51.6209\n",
            "Average validation Loss: 44.2791862487793\n"
          ]
        },
        {
          "name": "stderr",
          "output_type": "stream",
          "text": [
            "100%|██████████| 10/10 [00:14<00:00,  1.46s/it]\n"
          ]
        },
        {
          "name": "stdout",
          "output_type": "stream",
          "text": [
            "Average validation Loss: 12.45649528503418\n",
            "Epoch [32/1000], Average Loss: 50.2658\n",
            "Average validation Loss: 12.45649528503418\n"
          ]
        },
        {
          "name": "stderr",
          "output_type": "stream",
          "text": [
            "100%|██████████| 10/10 [00:14<00:00,  1.45s/it]\n"
          ]
        },
        {
          "name": "stdout",
          "output_type": "stream",
          "text": [
            "Average validation Loss: 80.12307739257812\n",
            "Epoch [33/1000], Average Loss: 53.4144\n",
            "Average validation Loss: 80.12307739257812\n"
          ]
        },
        {
          "name": "stderr",
          "output_type": "stream",
          "text": [
            "100%|██████████| 10/10 [00:14<00:00,  1.45s/it]\n"
          ]
        },
        {
          "name": "stdout",
          "output_type": "stream",
          "text": [
            "Average validation Loss: 23.52664566040039\n",
            "Epoch [34/1000], Average Loss: 50.4565\n",
            "Average validation Loss: 23.52664566040039\n"
          ]
        },
        {
          "name": "stderr",
          "output_type": "stream",
          "text": [
            "100%|██████████| 10/10 [00:14<00:00,  1.46s/it]\n"
          ]
        },
        {
          "name": "stdout",
          "output_type": "stream",
          "text": [
            "Average validation Loss: 27.08661651611328\n",
            "Epoch [35/1000], Average Loss: 49.5028\n",
            "Average validation Loss: 27.08661651611328\n"
          ]
        },
        {
          "name": "stderr",
          "output_type": "stream",
          "text": [
            "100%|██████████| 10/10 [00:14<00:00,  1.46s/it]\n"
          ]
        },
        {
          "name": "stdout",
          "output_type": "stream",
          "text": [
            "Average validation Loss: 13.52530288696289\n",
            "Epoch [36/1000], Average Loss: 47.4783\n",
            "Average validation Loss: 13.52530288696289\n"
          ]
        },
        {
          "name": "stderr",
          "output_type": "stream",
          "text": [
            "100%|██████████| 10/10 [00:14<00:00,  1.46s/it]\n"
          ]
        },
        {
          "name": "stdout",
          "output_type": "stream",
          "text": [
            "Average validation Loss: 22.065685272216797\n",
            "Epoch [37/1000], Average Loss: 47.8763\n",
            "Average validation Loss: 22.065685272216797\n"
          ]
        },
        {
          "name": "stderr",
          "output_type": "stream",
          "text": [
            "100%|██████████| 10/10 [00:14<00:00,  1.46s/it]\n"
          ]
        },
        {
          "name": "stdout",
          "output_type": "stream",
          "text": [
            "Average validation Loss: 44.01560592651367\n",
            "Epoch [38/1000], Average Loss: 49.3894\n",
            "Average validation Loss: 44.01560592651367\n"
          ]
        },
        {
          "name": "stderr",
          "output_type": "stream",
          "text": [
            "100%|██████████| 10/10 [00:14<00:00,  1.46s/it]\n"
          ]
        },
        {
          "name": "stdout",
          "output_type": "stream",
          "text": [
            "Average validation Loss: 42.12400436401367\n",
            "Epoch [39/1000], Average Loss: 50.5986\n",
            "Average validation Loss: 42.12400436401367\n"
          ]
        },
        {
          "name": "stderr",
          "output_type": "stream",
          "text": [
            "100%|██████████| 10/10 [00:14<00:00,  1.46s/it]\n"
          ]
        },
        {
          "name": "stdout",
          "output_type": "stream",
          "text": [
            "Average validation Loss: 26.698925018310547\n",
            "Epoch [40/1000], Average Loss: 48.3387\n",
            "Average validation Loss: 26.698925018310547\n"
          ]
        },
        {
          "name": "stderr",
          "output_type": "stream",
          "text": [
            "100%|██████████| 10/10 [00:14<00:00,  1.46s/it]\n"
          ]
        },
        {
          "name": "stdout",
          "output_type": "stream",
          "text": [
            "Average validation Loss: 77.91915130615234\n",
            "Epoch [41/1000], Average Loss: 48.4108\n",
            "Average validation Loss: 77.91915130615234\n"
          ]
        },
        {
          "name": "stderr",
          "output_type": "stream",
          "text": [
            "100%|██████████| 10/10 [00:14<00:00,  1.46s/it]\n"
          ]
        },
        {
          "name": "stdout",
          "output_type": "stream",
          "text": [
            "Average validation Loss: 14.785436630249023\n",
            "Epoch [42/1000], Average Loss: 46.5332\n",
            "Average validation Loss: 14.785436630249023\n"
          ]
        },
        {
          "name": "stderr",
          "output_type": "stream",
          "text": [
            "100%|██████████| 10/10 [00:14<00:00,  1.46s/it]\n"
          ]
        },
        {
          "name": "stdout",
          "output_type": "stream",
          "text": [
            "Average validation Loss: 47.36689758300781\n",
            "Epoch [43/1000], Average Loss: 47.4437\n",
            "Average validation Loss: 47.36689758300781\n"
          ]
        },
        {
          "name": "stderr",
          "output_type": "stream",
          "text": [
            "100%|██████████| 10/10 [00:14<00:00,  1.46s/it]\n"
          ]
        },
        {
          "name": "stdout",
          "output_type": "stream",
          "text": [
            "Average validation Loss: 70.01946258544922\n",
            "Epoch [44/1000], Average Loss: 46.5762\n",
            "Average validation Loss: 70.01946258544922\n"
          ]
        },
        {
          "name": "stderr",
          "output_type": "stream",
          "text": [
            "100%|██████████| 10/10 [00:14<00:00,  1.46s/it]\n"
          ]
        },
        {
          "name": "stdout",
          "output_type": "stream",
          "text": [
            "Average validation Loss: 39.24419403076172\n",
            "Epoch [45/1000], Average Loss: 44.6753\n",
            "Average validation Loss: 39.24419403076172\n"
          ]
        },
        {
          "name": "stderr",
          "output_type": "stream",
          "text": [
            "100%|██████████| 10/10 [00:14<00:00,  1.45s/it]\n"
          ]
        },
        {
          "name": "stdout",
          "output_type": "stream",
          "text": [
            "Average validation Loss: 15.613887786865234\n",
            "Epoch [46/1000], Average Loss: 42.9440\n",
            "Average validation Loss: 15.613887786865234\n"
          ]
        },
        {
          "name": "stderr",
          "output_type": "stream",
          "text": [
            "100%|██████████| 10/10 [00:14<00:00,  1.46s/it]\n"
          ]
        },
        {
          "name": "stdout",
          "output_type": "stream",
          "text": [
            "Average validation Loss: 34.08622360229492\n",
            "Epoch [47/1000], Average Loss: 41.7629\n",
            "Average validation Loss: 34.08622360229492\n"
          ]
        },
        {
          "name": "stderr",
          "output_type": "stream",
          "text": [
            "100%|██████████| 10/10 [00:14<00:00,  1.46s/it]\n"
          ]
        },
        {
          "name": "stdout",
          "output_type": "stream",
          "text": [
            "Average validation Loss: 16.030475616455078\n",
            "Epoch [48/1000], Average Loss: 41.3427\n",
            "Average validation Loss: 16.030475616455078\n"
          ]
        },
        {
          "name": "stderr",
          "output_type": "stream",
          "text": [
            "100%|██████████| 10/10 [00:14<00:00,  1.46s/it]\n"
          ]
        },
        {
          "name": "stdout",
          "output_type": "stream",
          "text": [
            "Average validation Loss: 20.42707061767578\n",
            "Epoch [49/1000], Average Loss: 42.3593\n",
            "Average validation Loss: 20.42707061767578\n"
          ]
        },
        {
          "name": "stderr",
          "output_type": "stream",
          "text": [
            "100%|██████████| 10/10 [00:14<00:00,  1.46s/it]\n"
          ]
        },
        {
          "name": "stdout",
          "output_type": "stream",
          "text": [
            "Average validation Loss: 231.72494506835938\n",
            "Epoch [50/1000], Average Loss: 51.9599\n",
            "Average validation Loss: 231.72494506835938\n"
          ]
        },
        {
          "name": "stderr",
          "output_type": "stream",
          "text": [
            "100%|██████████| 10/10 [00:14<00:00,  1.46s/it]\n"
          ]
        },
        {
          "name": "stdout",
          "output_type": "stream",
          "text": [
            "Average validation Loss: 16.307666778564453\n",
            "Epoch [51/1000], Average Loss: 38.2000\n",
            "Average validation Loss: 16.307666778564453\n"
          ]
        },
        {
          "name": "stderr",
          "output_type": "stream",
          "text": [
            "100%|██████████| 10/10 [00:14<00:00,  1.46s/it]\n"
          ]
        },
        {
          "name": "stdout",
          "output_type": "stream",
          "text": [
            "Average validation Loss: 16.172637939453125\n",
            "Epoch [52/1000], Average Loss: 36.5386\n",
            "Average validation Loss: 16.172637939453125\n"
          ]
        },
        {
          "name": "stderr",
          "output_type": "stream",
          "text": [
            "100%|██████████| 10/10 [00:14<00:00,  1.46s/it]\n"
          ]
        },
        {
          "name": "stdout",
          "output_type": "stream",
          "text": [
            "Average validation Loss: 21.341726303100586\n",
            "Epoch [53/1000], Average Loss: 37.6726\n",
            "Average validation Loss: 21.341726303100586\n"
          ]
        },
        {
          "name": "stderr",
          "output_type": "stream",
          "text": [
            "100%|██████████| 10/10 [00:14<00:00,  1.46s/it]\n"
          ]
        },
        {
          "name": "stdout",
          "output_type": "stream",
          "text": [
            "Average validation Loss: 22.421199798583984\n",
            "Epoch [54/1000], Average Loss: 39.7958\n",
            "Average validation Loss: 22.421199798583984\n"
          ]
        },
        {
          "name": "stderr",
          "output_type": "stream",
          "text": [
            "100%|██████████| 10/10 [00:14<00:00,  1.46s/it]\n"
          ]
        },
        {
          "name": "stdout",
          "output_type": "stream",
          "text": [
            "Average validation Loss: 17.689868927001953\n",
            "Epoch [55/1000], Average Loss: 36.1188\n",
            "Average validation Loss: 17.689868927001953\n"
          ]
        },
        {
          "name": "stderr",
          "output_type": "stream",
          "text": [
            "100%|██████████| 10/10 [00:14<00:00,  1.46s/it]\n"
          ]
        },
        {
          "name": "stdout",
          "output_type": "stream",
          "text": [
            "Average validation Loss: 32.43994903564453\n",
            "Epoch [56/1000], Average Loss: 34.7670\n",
            "Average validation Loss: 32.43994903564453\n"
          ]
        },
        {
          "name": "stderr",
          "output_type": "stream",
          "text": [
            "100%|██████████| 10/10 [00:14<00:00,  1.46s/it]\n"
          ]
        },
        {
          "name": "stdout",
          "output_type": "stream",
          "text": [
            "Average validation Loss: 37.56238555908203\n",
            "Epoch [57/1000], Average Loss: 34.5326\n",
            "Average validation Loss: 37.56238555908203\n"
          ]
        },
        {
          "name": "stderr",
          "output_type": "stream",
          "text": [
            "100%|██████████| 10/10 [00:14<00:00,  1.46s/it]\n"
          ]
        },
        {
          "name": "stdout",
          "output_type": "stream",
          "text": [
            "Average validation Loss: 65.18476867675781\n",
            "Epoch [58/1000], Average Loss: 37.9715\n",
            "Average validation Loss: 65.18476867675781\n"
          ]
        },
        {
          "name": "stderr",
          "output_type": "stream",
          "text": [
            "100%|██████████| 10/10 [00:14<00:00,  1.46s/it]\n"
          ]
        },
        {
          "name": "stdout",
          "output_type": "stream",
          "text": [
            "Average validation Loss: 14.912328720092773\n",
            "Epoch [59/1000], Average Loss: 33.4247\n",
            "Average validation Loss: 14.912328720092773\n"
          ]
        },
        {
          "name": "stderr",
          "output_type": "stream",
          "text": [
            "100%|██████████| 10/10 [00:14<00:00,  1.45s/it]\n"
          ]
        },
        {
          "name": "stdout",
          "output_type": "stream",
          "text": [
            "Average validation Loss: 11.143545150756836\n",
            "Epoch [60/1000], Average Loss: 30.5398\n",
            "Average validation Loss: 11.143545150756836\n"
          ]
        },
        {
          "name": "stderr",
          "output_type": "stream",
          "text": [
            "100%|██████████| 10/10 [00:14<00:00,  1.45s/it]\n"
          ]
        },
        {
          "name": "stdout",
          "output_type": "stream",
          "text": [
            "Average validation Loss: 69.84376525878906\n",
            "Epoch [61/1000], Average Loss: 38.2174\n",
            "Average validation Loss: 69.84376525878906\n"
          ]
        },
        {
          "name": "stderr",
          "output_type": "stream",
          "text": [
            "100%|██████████| 10/10 [00:14<00:00,  1.45s/it]\n"
          ]
        },
        {
          "name": "stdout",
          "output_type": "stream",
          "text": [
            "Average validation Loss: 18.199222564697266\n",
            "Epoch [62/1000], Average Loss: 35.7762\n",
            "Average validation Loss: 18.199222564697266\n"
          ]
        },
        {
          "name": "stderr",
          "output_type": "stream",
          "text": [
            "100%|██████████| 10/10 [00:14<00:00,  1.46s/it]\n"
          ]
        },
        {
          "name": "stdout",
          "output_type": "stream",
          "text": [
            "Average validation Loss: 15.232236862182617\n",
            "Epoch [63/1000], Average Loss: 32.4366\n",
            "Average validation Loss: 15.232236862182617\n"
          ]
        },
        {
          "name": "stderr",
          "output_type": "stream",
          "text": [
            "100%|██████████| 10/10 [00:14<00:00,  1.45s/it]\n"
          ]
        },
        {
          "name": "stdout",
          "output_type": "stream",
          "text": [
            "Average validation Loss: 46.88898849487305\n",
            "Epoch [64/1000], Average Loss: 32.8395\n",
            "Average validation Loss: 46.88898849487305\n"
          ]
        },
        {
          "name": "stderr",
          "output_type": "stream",
          "text": [
            "100%|██████████| 10/10 [00:14<00:00,  1.45s/it]\n"
          ]
        },
        {
          "name": "stdout",
          "output_type": "stream",
          "text": [
            "Average validation Loss: 16.917011260986328\n",
            "Epoch [65/1000], Average Loss: 30.6685\n",
            "Average validation Loss: 16.917011260986328\n"
          ]
        },
        {
          "name": "stderr",
          "output_type": "stream",
          "text": [
            "100%|██████████| 10/10 [00:14<00:00,  1.45s/it]\n"
          ]
        },
        {
          "name": "stdout",
          "output_type": "stream",
          "text": [
            "Average validation Loss: 17.576416015625\n",
            "Epoch [66/1000], Average Loss: 31.1521\n",
            "Average validation Loss: 17.576416015625\n"
          ]
        },
        {
          "name": "stderr",
          "output_type": "stream",
          "text": [
            "100%|██████████| 10/10 [00:14<00:00,  1.45s/it]\n"
          ]
        },
        {
          "name": "stdout",
          "output_type": "stream",
          "text": [
            "Average validation Loss: 14.288436889648438\n",
            "Epoch [67/1000], Average Loss: 31.0602\n",
            "Average validation Loss: 14.288436889648438\n"
          ]
        },
        {
          "name": "stderr",
          "output_type": "stream",
          "text": [
            "100%|██████████| 10/10 [00:14<00:00,  1.45s/it]\n"
          ]
        },
        {
          "name": "stdout",
          "output_type": "stream",
          "text": [
            "Average validation Loss: 18.970516204833984\n",
            "Epoch [68/1000], Average Loss: 30.7851\n",
            "Average validation Loss: 18.970516204833984\n"
          ]
        },
        {
          "name": "stderr",
          "output_type": "stream",
          "text": [
            "100%|██████████| 10/10 [00:14<00:00,  1.45s/it]\n"
          ]
        },
        {
          "name": "stdout",
          "output_type": "stream",
          "text": [
            "Average validation Loss: 12.456596374511719\n",
            "Epoch [69/1000], Average Loss: 27.8239\n",
            "Average validation Loss: 12.456596374511719\n"
          ]
        },
        {
          "name": "stderr",
          "output_type": "stream",
          "text": [
            "100%|██████████| 10/10 [00:14<00:00,  1.45s/it]\n"
          ]
        },
        {
          "name": "stdout",
          "output_type": "stream",
          "text": [
            "Average validation Loss: 12.971404075622559\n",
            "Epoch [70/1000], Average Loss: 28.0627\n",
            "Average validation Loss: 12.971404075622559\n"
          ]
        },
        {
          "name": "stderr",
          "output_type": "stream",
          "text": [
            "100%|██████████| 10/10 [00:14<00:00,  1.45s/it]\n"
          ]
        },
        {
          "name": "stdout",
          "output_type": "stream",
          "text": [
            "Average validation Loss: 14.840511322021484\n",
            "Epoch [71/1000], Average Loss: 28.1124\n",
            "Average validation Loss: 14.840511322021484\n"
          ]
        },
        {
          "name": "stderr",
          "output_type": "stream",
          "text": [
            "100%|██████████| 10/10 [00:14<00:00,  1.45s/it]\n"
          ]
        },
        {
          "name": "stdout",
          "output_type": "stream",
          "text": [
            "Average validation Loss: 39.332435607910156\n",
            "Epoch [72/1000], Average Loss: 28.4075\n",
            "Average validation Loss: 39.332435607910156\n"
          ]
        },
        {
          "name": "stderr",
          "output_type": "stream",
          "text": [
            "100%|██████████| 10/10 [00:14<00:00,  1.45s/it]\n"
          ]
        },
        {
          "name": "stdout",
          "output_type": "stream",
          "text": [
            "Average validation Loss: 15.599300384521484\n",
            "Epoch [73/1000], Average Loss: 26.7681\n",
            "Average validation Loss: 15.599300384521484\n"
          ]
        },
        {
          "name": "stderr",
          "output_type": "stream",
          "text": [
            "100%|██████████| 10/10 [00:14<00:00,  1.45s/it]\n"
          ]
        },
        {
          "name": "stdout",
          "output_type": "stream",
          "text": [
            "Average validation Loss: 104.28143310546875\n",
            "Epoch [74/1000], Average Loss: 32.7727\n",
            "Average validation Loss: 104.28143310546875\n"
          ]
        },
        {
          "name": "stderr",
          "output_type": "stream",
          "text": [
            "100%|██████████| 10/10 [00:14<00:00,  1.45s/it]\n"
          ]
        },
        {
          "name": "stdout",
          "output_type": "stream",
          "text": [
            "Average validation Loss: 17.46509552001953\n",
            "Epoch [75/1000], Average Loss: 22.3212\n",
            "Average validation Loss: 17.46509552001953\n"
          ]
        },
        {
          "name": "stderr",
          "output_type": "stream",
          "text": [
            "100%|██████████| 10/10 [00:14<00:00,  1.45s/it]\n"
          ]
        },
        {
          "name": "stdout",
          "output_type": "stream",
          "text": [
            "Average validation Loss: 15.878450393676758\n",
            "Epoch [76/1000], Average Loss: 26.6167\n",
            "Average validation Loss: 15.878450393676758\n"
          ]
        },
        {
          "name": "stderr",
          "output_type": "stream",
          "text": [
            "100%|██████████| 10/10 [00:14<00:00,  1.45s/it]\n"
          ]
        },
        {
          "name": "stdout",
          "output_type": "stream",
          "text": [
            "Average validation Loss: 21.361799240112305\n",
            "Epoch [77/1000], Average Loss: 27.2691\n",
            "Average validation Loss: 21.361799240112305\n"
          ]
        },
        {
          "name": "stderr",
          "output_type": "stream",
          "text": [
            "100%|██████████| 10/10 [00:14<00:00,  1.45s/it]\n"
          ]
        },
        {
          "name": "stdout",
          "output_type": "stream",
          "text": [
            "Average validation Loss: 20.741565704345703\n",
            "Epoch [78/1000], Average Loss: 36.1808\n",
            "Average validation Loss: 20.741565704345703\n"
          ]
        },
        {
          "name": "stderr",
          "output_type": "stream",
          "text": [
            "100%|██████████| 10/10 [00:14<00:00,  1.45s/it]\n"
          ]
        },
        {
          "name": "stdout",
          "output_type": "stream",
          "text": [
            "Average validation Loss: 26.567974090576172\n",
            "Epoch [79/1000], Average Loss: 49.2714\n",
            "Average validation Loss: 26.567974090576172\n"
          ]
        },
        {
          "name": "stderr",
          "output_type": "stream",
          "text": [
            "100%|██████████| 10/10 [00:14<00:00,  1.45s/it]\n"
          ]
        },
        {
          "name": "stdout",
          "output_type": "stream",
          "text": [
            "Average validation Loss: 21.23370361328125\n",
            "Epoch [80/1000], Average Loss: 44.7663\n",
            "Average validation Loss: 21.23370361328125\n"
          ]
        },
        {
          "name": "stderr",
          "output_type": "stream",
          "text": [
            "100%|██████████| 10/10 [00:14<00:00,  1.45s/it]\n"
          ]
        },
        {
          "name": "stdout",
          "output_type": "stream",
          "text": [
            "Average validation Loss: 30.767929077148438\n",
            "Epoch [81/1000], Average Loss: 37.8576\n",
            "Average validation Loss: 30.767929077148438\n"
          ]
        },
        {
          "name": "stderr",
          "output_type": "stream",
          "text": [
            "100%|██████████| 10/10 [00:14<00:00,  1.45s/it]\n"
          ]
        },
        {
          "name": "stdout",
          "output_type": "stream",
          "text": [
            "Average validation Loss: 17.410255432128906\n",
            "Epoch [82/1000], Average Loss: 32.6010\n",
            "Average validation Loss: 17.410255432128906\n"
          ]
        },
        {
          "name": "stderr",
          "output_type": "stream",
          "text": [
            "100%|██████████| 10/10 [00:14<00:00,  1.45s/it]\n"
          ]
        },
        {
          "name": "stdout",
          "output_type": "stream",
          "text": [
            "Average validation Loss: 38.45176696777344\n",
            "Epoch [83/1000], Average Loss: 30.3271\n",
            "Average validation Loss: 38.45176696777344\n"
          ]
        },
        {
          "name": "stderr",
          "output_type": "stream",
          "text": [
            "100%|██████████| 10/10 [00:14<00:00,  1.45s/it]\n"
          ]
        },
        {
          "name": "stdout",
          "output_type": "stream",
          "text": [
            "Average validation Loss: 7.717538356781006\n",
            "Epoch [84/1000], Average Loss: 26.1573\n",
            "Average validation Loss: 7.717538356781006\n"
          ]
        },
        {
          "name": "stderr",
          "output_type": "stream",
          "text": [
            "100%|██████████| 10/10 [00:14<00:00,  1.45s/it]\n"
          ]
        },
        {
          "name": "stdout",
          "output_type": "stream",
          "text": [
            "Average validation Loss: 12.33657455444336\n",
            "Epoch [85/1000], Average Loss: 26.1229\n",
            "Average validation Loss: 12.33657455444336\n"
          ]
        },
        {
          "name": "stderr",
          "output_type": "stream",
          "text": [
            "100%|██████████| 10/10 [00:14<00:00,  1.45s/it]\n"
          ]
        },
        {
          "name": "stdout",
          "output_type": "stream",
          "text": [
            "Average validation Loss: 10.390373229980469\n",
            "Epoch [86/1000], Average Loss: 23.8428\n",
            "Average validation Loss: 10.390373229980469\n"
          ]
        },
        {
          "name": "stderr",
          "output_type": "stream",
          "text": [
            "100%|██████████| 10/10 [00:14<00:00,  1.45s/it]\n"
          ]
        },
        {
          "name": "stdout",
          "output_type": "stream",
          "text": [
            "Average validation Loss: 18.62794303894043\n",
            "Epoch [87/1000], Average Loss: 22.9357\n",
            "Average validation Loss: 18.62794303894043\n"
          ]
        },
        {
          "name": "stderr",
          "output_type": "stream",
          "text": [
            "100%|██████████| 10/10 [00:14<00:00,  1.45s/it]\n"
          ]
        },
        {
          "name": "stdout",
          "output_type": "stream",
          "text": [
            "Average validation Loss: 99.75981140136719\n",
            "Epoch [88/1000], Average Loss: 27.2038\n",
            "Average validation Loss: 99.75981140136719\n"
          ]
        },
        {
          "name": "stderr",
          "output_type": "stream",
          "text": [
            "100%|██████████| 10/10 [00:14<00:00,  1.45s/it]\n"
          ]
        },
        {
          "name": "stdout",
          "output_type": "stream",
          "text": [
            "Average validation Loss: 18.992938995361328\n",
            "Epoch [89/1000], Average Loss: 25.2705\n",
            "Average validation Loss: 18.992938995361328\n"
          ]
        },
        {
          "name": "stderr",
          "output_type": "stream",
          "text": [
            "100%|██████████| 10/10 [00:14<00:00,  1.45s/it]\n"
          ]
        },
        {
          "name": "stdout",
          "output_type": "stream",
          "text": [
            "Average validation Loss: 17.46877098083496\n",
            "Epoch [90/1000], Average Loss: 24.5746\n",
            "Average validation Loss: 17.46877098083496\n"
          ]
        },
        {
          "name": "stderr",
          "output_type": "stream",
          "text": [
            "100%|██████████| 10/10 [00:14<00:00,  1.45s/it]\n"
          ]
        },
        {
          "name": "stdout",
          "output_type": "stream",
          "text": [
            "Average validation Loss: 23.489715576171875\n",
            "Epoch [91/1000], Average Loss: 22.0125\n",
            "Average validation Loss: 23.489715576171875\n"
          ]
        },
        {
          "name": "stderr",
          "output_type": "stream",
          "text": [
            "100%|██████████| 10/10 [00:14<00:00,  1.45s/it]\n"
          ]
        },
        {
          "name": "stdout",
          "output_type": "stream",
          "text": [
            "Average validation Loss: 33.13511657714844\n",
            "Epoch [92/1000], Average Loss: 23.1590\n",
            "Average validation Loss: 33.13511657714844\n"
          ]
        },
        {
          "name": "stderr",
          "output_type": "stream",
          "text": [
            "100%|██████████| 10/10 [00:14<00:00,  1.45s/it]\n"
          ]
        },
        {
          "name": "stdout",
          "output_type": "stream",
          "text": [
            "Average validation Loss: 16.431930541992188\n",
            "Epoch [93/1000], Average Loss: 19.7834\n",
            "Average validation Loss: 16.431930541992188\n"
          ]
        },
        {
          "name": "stderr",
          "output_type": "stream",
          "text": [
            "100%|██████████| 10/10 [00:14<00:00,  1.45s/it]\n"
          ]
        },
        {
          "name": "stdout",
          "output_type": "stream",
          "text": [
            "Average validation Loss: 9.154472351074219\n",
            "Epoch [94/1000], Average Loss: 21.0354\n",
            "Average validation Loss: 9.154472351074219\n"
          ]
        },
        {
          "name": "stderr",
          "output_type": "stream",
          "text": [
            "100%|██████████| 10/10 [00:14<00:00,  1.45s/it]\n"
          ]
        },
        {
          "name": "stdout",
          "output_type": "stream",
          "text": [
            "Average validation Loss: 9.876178741455078\n",
            "Epoch [95/1000], Average Loss: 18.4544\n",
            "Average validation Loss: 9.876178741455078\n"
          ]
        },
        {
          "name": "stderr",
          "output_type": "stream",
          "text": [
            "100%|██████████| 10/10 [00:14<00:00,  1.45s/it]\n"
          ]
        },
        {
          "name": "stdout",
          "output_type": "stream",
          "text": [
            "Average validation Loss: 19.743404388427734\n",
            "Epoch [96/1000], Average Loss: 18.6826\n",
            "Average validation Loss: 19.743404388427734\n"
          ]
        },
        {
          "name": "stderr",
          "output_type": "stream",
          "text": [
            "100%|██████████| 10/10 [00:14<00:00,  1.45s/it]\n"
          ]
        },
        {
          "name": "stdout",
          "output_type": "stream",
          "text": [
            "Average validation Loss: 35.07257843017578\n",
            "Epoch [97/1000], Average Loss: 22.7440\n",
            "Average validation Loss: 35.07257843017578\n"
          ]
        },
        {
          "name": "stderr",
          "output_type": "stream",
          "text": [
            "100%|██████████| 10/10 [00:14<00:00,  1.45s/it]\n"
          ]
        },
        {
          "name": "stdout",
          "output_type": "stream",
          "text": [
            "Average validation Loss: 16.743465423583984\n",
            "Epoch [98/1000], Average Loss: 18.5482\n",
            "Average validation Loss: 16.743465423583984\n"
          ]
        },
        {
          "name": "stderr",
          "output_type": "stream",
          "text": [
            "100%|██████████| 10/10 [00:14<00:00,  1.45s/it]\n"
          ]
        },
        {
          "name": "stdout",
          "output_type": "stream",
          "text": [
            "Average validation Loss: 19.22542381286621\n",
            "Epoch [99/1000], Average Loss: 18.1563\n",
            "Average validation Loss: 19.22542381286621\n"
          ]
        },
        {
          "name": "stderr",
          "output_type": "stream",
          "text": [
            "100%|██████████| 10/10 [00:14<00:00,  1.45s/it]\n"
          ]
        },
        {
          "name": "stdout",
          "output_type": "stream",
          "text": [
            "Average validation Loss: 9.022199630737305\n",
            "Epoch [100/1000], Average Loss: 18.5972\n",
            "Average validation Loss: 9.022199630737305\n"
          ]
        },
        {
          "name": "stderr",
          "output_type": "stream",
          "text": [
            "100%|██████████| 10/10 [00:14<00:00,  1.45s/it]\n"
          ]
        },
        {
          "name": "stdout",
          "output_type": "stream",
          "text": [
            "Average validation Loss: 11.843463897705078\n",
            "Epoch [101/1000], Average Loss: 19.1695\n",
            "Average validation Loss: 11.843463897705078\n",
            "Learning rate decayed. Updated LR is: 0.000200\n"
          ]
        },
        {
          "name": "stderr",
          "output_type": "stream",
          "text": [
            "100%|██████████| 10/10 [00:14<00:00,  1.45s/it]\n"
          ]
        },
        {
          "name": "stdout",
          "output_type": "stream",
          "text": [
            "Average validation Loss: 7.282932281494141\n",
            "Epoch [102/1000], Average Loss: 18.6070\n",
            "Average validation Loss: 7.282932281494141\n",
            "Learning rate decayed. Updated LR is: 0.000200\n"
          ]
        },
        {
          "name": "stderr",
          "output_type": "stream",
          "text": [
            "100%|██████████| 10/10 [00:14<00:00,  1.45s/it]\n"
          ]
        },
        {
          "name": "stdout",
          "output_type": "stream",
          "text": [
            "Average validation Loss: 11.825756072998047\n",
            "Epoch [103/1000], Average Loss: 21.0110\n",
            "Average validation Loss: 11.825756072998047\n",
            "Learning rate decayed. Updated LR is: 0.000199\n"
          ]
        },
        {
          "name": "stderr",
          "output_type": "stream",
          "text": [
            "100%|██████████| 10/10 [00:14<00:00,  1.45s/it]\n"
          ]
        },
        {
          "name": "stdout",
          "output_type": "stream",
          "text": [
            "Average validation Loss: 8.316293716430664\n",
            "Epoch [104/1000], Average Loss: 23.4263\n",
            "Average validation Loss: 8.316293716430664\n",
            "Learning rate decayed. Updated LR is: 0.000199\n"
          ]
        },
        {
          "name": "stderr",
          "output_type": "stream",
          "text": [
            "100%|██████████| 10/10 [00:14<00:00,  1.45s/it]\n"
          ]
        },
        {
          "name": "stdout",
          "output_type": "stream",
          "text": [
            "Average validation Loss: 29.669239044189453\n",
            "Epoch [105/1000], Average Loss: 26.2440\n",
            "Average validation Loss: 29.669239044189453\n",
            "Learning rate decayed. Updated LR is: 0.000199\n"
          ]
        },
        {
          "name": "stderr",
          "output_type": "stream",
          "text": [
            "100%|██████████| 10/10 [00:14<00:00,  1.45s/it]\n"
          ]
        },
        {
          "name": "stdout",
          "output_type": "stream",
          "text": [
            "Average validation Loss: 9.108991622924805\n",
            "Epoch [106/1000], Average Loss: 29.6615\n",
            "Average validation Loss: 9.108991622924805\n",
            "Learning rate decayed. Updated LR is: 0.000199\n"
          ]
        },
        {
          "name": "stderr",
          "output_type": "stream",
          "text": [
            "100%|██████████| 10/10 [00:14<00:00,  1.45s/it]\n"
          ]
        },
        {
          "name": "stdout",
          "output_type": "stream",
          "text": [
            "Average validation Loss: 16.896991729736328\n",
            "Epoch [107/1000], Average Loss: 26.6526\n",
            "Average validation Loss: 16.896991729736328\n",
            "Learning rate decayed. Updated LR is: 0.000198\n"
          ]
        },
        {
          "name": "stderr",
          "output_type": "stream",
          "text": [
            "100%|██████████| 10/10 [00:14<00:00,  1.45s/it]\n"
          ]
        },
        {
          "name": "stdout",
          "output_type": "stream",
          "text": [
            "Average validation Loss: 16.800634384155273\n",
            "Epoch [108/1000], Average Loss: 27.0656\n",
            "Average validation Loss: 16.800634384155273\n",
            "Learning rate decayed. Updated LR is: 0.000198\n"
          ]
        },
        {
          "name": "stderr",
          "output_type": "stream",
          "text": [
            "100%|██████████| 10/10 [00:14<00:00,  1.45s/it]\n"
          ]
        },
        {
          "name": "stdout",
          "output_type": "stream",
          "text": [
            "Average validation Loss: 41.14623260498047\n",
            "Epoch [109/1000], Average Loss: 34.4746\n",
            "Average validation Loss: 41.14623260498047\n",
            "Learning rate decayed. Updated LR is: 0.000198\n"
          ]
        },
        {
          "name": "stderr",
          "output_type": "stream",
          "text": [
            "100%|██████████| 10/10 [00:14<00:00,  1.45s/it]\n"
          ]
        },
        {
          "name": "stdout",
          "output_type": "stream",
          "text": [
            "Average validation Loss: 25.736446380615234\n",
            "Epoch [110/1000], Average Loss: 32.6084\n",
            "Average validation Loss: 25.736446380615234\n",
            "Learning rate decayed. Updated LR is: 0.000198\n"
          ]
        },
        {
          "name": "stderr",
          "output_type": "stream",
          "text": [
            "100%|██████████| 10/10 [00:14<00:00,  1.45s/it]\n"
          ]
        },
        {
          "name": "stdout",
          "output_type": "stream",
          "text": [
            "Average validation Loss: 20.582195281982422\n",
            "Epoch [111/1000], Average Loss: 30.5291\n",
            "Average validation Loss: 20.582195281982422\n",
            "Learning rate decayed. Updated LR is: 0.000198\n"
          ]
        },
        {
          "name": "stderr",
          "output_type": "stream",
          "text": [
            "100%|██████████| 10/10 [00:14<00:00,  1.45s/it]\n"
          ]
        },
        {
          "name": "stdout",
          "output_type": "stream",
          "text": [
            "Average validation Loss: 9.139323234558105\n",
            "Epoch [112/1000], Average Loss: 27.8442\n",
            "Average validation Loss: 9.139323234558105\n",
            "Learning rate decayed. Updated LR is: 0.000197\n"
          ]
        },
        {
          "name": "stderr",
          "output_type": "stream",
          "text": [
            "100%|██████████| 10/10 [00:14<00:00,  1.44s/it]\n"
          ]
        },
        {
          "name": "stdout",
          "output_type": "stream",
          "text": [
            "Average validation Loss: 13.929262161254883\n",
            "Epoch [113/1000], Average Loss: 24.8926\n",
            "Average validation Loss: 13.929262161254883\n",
            "Learning rate decayed. Updated LR is: 0.000197\n"
          ]
        },
        {
          "name": "stderr",
          "output_type": "stream",
          "text": [
            "100%|██████████| 10/10 [00:14<00:00,  1.44s/it]\n"
          ]
        },
        {
          "name": "stdout",
          "output_type": "stream",
          "text": [
            "Average validation Loss: 16.99917221069336\n",
            "Epoch [114/1000], Average Loss: 25.9025\n",
            "Average validation Loss: 16.99917221069336\n",
            "Learning rate decayed. Updated LR is: 0.000197\n"
          ]
        },
        {
          "name": "stderr",
          "output_type": "stream",
          "text": [
            "100%|██████████| 10/10 [00:14<00:00,  1.44s/it]\n"
          ]
        },
        {
          "name": "stdout",
          "output_type": "stream",
          "text": [
            "Average validation Loss: 34.47577667236328\n",
            "Epoch [115/1000], Average Loss: 24.0660\n",
            "Average validation Loss: 34.47577667236328\n",
            "Learning rate decayed. Updated LR is: 0.000197\n"
          ]
        },
        {
          "name": "stderr",
          "output_type": "stream",
          "text": [
            "100%|██████████| 10/10 [00:14<00:00,  1.44s/it]\n"
          ]
        },
        {
          "name": "stdout",
          "output_type": "stream",
          "text": [
            "Average validation Loss: 18.38947105407715\n",
            "Epoch [116/1000], Average Loss: 22.5160\n",
            "Average validation Loss: 18.38947105407715\n",
            "Learning rate decayed. Updated LR is: 0.000196\n"
          ]
        },
        {
          "name": "stderr",
          "output_type": "stream",
          "text": [
            "100%|██████████| 10/10 [00:14<00:00,  1.44s/it]\n"
          ]
        },
        {
          "name": "stdout",
          "output_type": "stream",
          "text": [
            "Average validation Loss: 12.488256454467773\n",
            "Epoch [117/1000], Average Loss: 28.7847\n",
            "Average validation Loss: 12.488256454467773\n",
            "Learning rate decayed. Updated LR is: 0.000196\n"
          ]
        },
        {
          "name": "stderr",
          "output_type": "stream",
          "text": [
            "100%|██████████| 10/10 [00:14<00:00,  1.44s/it]\n"
          ]
        },
        {
          "name": "stdout",
          "output_type": "stream",
          "text": [
            "Average validation Loss: 10.093635559082031\n",
            "Epoch [118/1000], Average Loss: 23.7742\n",
            "Average validation Loss: 10.093635559082031\n",
            "Learning rate decayed. Updated LR is: 0.000196\n"
          ]
        },
        {
          "name": "stderr",
          "output_type": "stream",
          "text": [
            "100%|██████████| 10/10 [00:14<00:00,  1.44s/it]\n"
          ]
        },
        {
          "name": "stdout",
          "output_type": "stream",
          "text": [
            "Average validation Loss: 9.749229431152344\n",
            "Epoch [119/1000], Average Loss: 19.7022\n",
            "Average validation Loss: 9.749229431152344\n",
            "Learning rate decayed. Updated LR is: 0.000196\n"
          ]
        },
        {
          "name": "stderr",
          "output_type": "stream",
          "text": [
            "100%|██████████| 10/10 [00:14<00:00,  1.44s/it]\n"
          ]
        },
        {
          "name": "stdout",
          "output_type": "stream",
          "text": [
            "Average validation Loss: 13.07656478881836\n",
            "Epoch [120/1000], Average Loss: 21.9141\n",
            "Average validation Loss: 13.07656478881836\n",
            "Learning rate decayed. Updated LR is: 0.000196\n"
          ]
        },
        {
          "name": "stderr",
          "output_type": "stream",
          "text": [
            "100%|██████████| 10/10 [00:14<00:00,  1.44s/it]\n"
          ]
        },
        {
          "name": "stdout",
          "output_type": "stream",
          "text": [
            "Average validation Loss: 8.700438499450684\n",
            "Epoch [121/1000], Average Loss: 19.0988\n",
            "Average validation Loss: 8.700438499450684\n",
            "Learning rate decayed. Updated LR is: 0.000195\n"
          ]
        },
        {
          "name": "stderr",
          "output_type": "stream",
          "text": [
            "100%|██████████| 10/10 [00:14<00:00,  1.44s/it]\n"
          ]
        },
        {
          "name": "stdout",
          "output_type": "stream",
          "text": [
            "Average validation Loss: 15.275847434997559\n",
            "Epoch [122/1000], Average Loss: 18.1213\n",
            "Average validation Loss: 15.275847434997559\n",
            "Learning rate decayed. Updated LR is: 0.000195\n"
          ]
        },
        {
          "name": "stderr",
          "output_type": "stream",
          "text": [
            "100%|██████████| 10/10 [00:14<00:00,  1.44s/it]\n"
          ]
        },
        {
          "name": "stdout",
          "output_type": "stream",
          "text": [
            "Average validation Loss: 10.858028411865234\n",
            "Epoch [123/1000], Average Loss: 16.9059\n",
            "Average validation Loss: 10.858028411865234\n",
            "Learning rate decayed. Updated LR is: 0.000195\n"
          ]
        },
        {
          "name": "stderr",
          "output_type": "stream",
          "text": [
            "100%|██████████| 10/10 [00:14<00:00,  1.44s/it]\n"
          ]
        },
        {
          "name": "stdout",
          "output_type": "stream",
          "text": [
            "Average validation Loss: 11.222346305847168\n",
            "Epoch [124/1000], Average Loss: 17.5717\n",
            "Average validation Loss: 11.222346305847168\n",
            "Learning rate decayed. Updated LR is: 0.000195\n"
          ]
        },
        {
          "name": "stderr",
          "output_type": "stream",
          "text": [
            "100%|██████████| 10/10 [00:14<00:00,  1.44s/it]\n"
          ]
        },
        {
          "name": "stdout",
          "output_type": "stream",
          "text": [
            "Average validation Loss: 18.45844078063965\n",
            "Epoch [125/1000], Average Loss: 18.9741\n",
            "Average validation Loss: 18.45844078063965\n",
            "Learning rate decayed. Updated LR is: 0.000194\n"
          ]
        },
        {
          "name": "stderr",
          "output_type": "stream",
          "text": [
            "100%|██████████| 10/10 [00:14<00:00,  1.44s/it]\n"
          ]
        },
        {
          "name": "stdout",
          "output_type": "stream",
          "text": [
            "Average validation Loss: 9.445718765258789\n",
            "Epoch [126/1000], Average Loss: 21.3665\n",
            "Average validation Loss: 9.445718765258789\n",
            "Learning rate decayed. Updated LR is: 0.000194\n"
          ]
        },
        {
          "name": "stderr",
          "output_type": "stream",
          "text": [
            "100%|██████████| 10/10 [00:14<00:00,  1.44s/it]\n"
          ]
        },
        {
          "name": "stdout",
          "output_type": "stream",
          "text": [
            "Average validation Loss: 18.812274932861328\n",
            "Epoch [127/1000], Average Loss: 31.1267\n",
            "Average validation Loss: 18.812274932861328\n",
            "Learning rate decayed. Updated LR is: 0.000194\n"
          ]
        },
        {
          "name": "stderr",
          "output_type": "stream",
          "text": [
            "100%|██████████| 10/10 [00:14<00:00,  1.44s/it]\n"
          ]
        },
        {
          "name": "stdout",
          "output_type": "stream",
          "text": [
            "Average validation Loss: 20.060840606689453\n",
            "Epoch [128/1000], Average Loss: 23.5354\n",
            "Average validation Loss: 20.060840606689453\n",
            "Learning rate decayed. Updated LR is: 0.000194\n"
          ]
        },
        {
          "name": "stderr",
          "output_type": "stream",
          "text": [
            "100%|██████████| 10/10 [00:14<00:00,  1.44s/it]\n"
          ]
        },
        {
          "name": "stdout",
          "output_type": "stream",
          "text": [
            "Average validation Loss: 15.994331359863281\n",
            "Epoch [129/1000], Average Loss: 19.0573\n",
            "Average validation Loss: 15.994331359863281\n",
            "Learning rate decayed. Updated LR is: 0.000194\n"
          ]
        },
        {
          "name": "stderr",
          "output_type": "stream",
          "text": [
            "100%|██████████| 10/10 [00:14<00:00,  1.44s/it]\n"
          ]
        },
        {
          "name": "stdout",
          "output_type": "stream",
          "text": [
            "Average validation Loss: 12.145347595214844\n",
            "Epoch [130/1000], Average Loss: 18.7988\n",
            "Average validation Loss: 12.145347595214844\n",
            "Learning rate decayed. Updated LR is: 0.000193\n"
          ]
        },
        {
          "name": "stderr",
          "output_type": "stream",
          "text": [
            "100%|██████████| 10/10 [00:14<00:00,  1.44s/it]\n"
          ]
        },
        {
          "name": "stdout",
          "output_type": "stream",
          "text": [
            "Average validation Loss: 14.545278549194336\n",
            "Epoch [131/1000], Average Loss: 18.0173\n",
            "Average validation Loss: 14.545278549194336\n",
            "Learning rate decayed. Updated LR is: 0.000193\n"
          ]
        },
        {
          "name": "stderr",
          "output_type": "stream",
          "text": [
            "100%|██████████| 10/10 [00:14<00:00,  1.44s/it]\n"
          ]
        },
        {
          "name": "stdout",
          "output_type": "stream",
          "text": [
            "Average validation Loss: 19.131399154663086\n",
            "Epoch [132/1000], Average Loss: 17.1669\n",
            "Average validation Loss: 19.131399154663086\n",
            "Learning rate decayed. Updated LR is: 0.000193\n"
          ]
        },
        {
          "name": "stderr",
          "output_type": "stream",
          "text": [
            "100%|██████████| 10/10 [00:14<00:00,  1.44s/it]\n"
          ]
        },
        {
          "name": "stdout",
          "output_type": "stream",
          "text": [
            "Average validation Loss: 11.661723136901855\n",
            "Epoch [133/1000], Average Loss: 16.5080\n",
            "Average validation Loss: 11.661723136901855\n",
            "Learning rate decayed. Updated LR is: 0.000193\n"
          ]
        },
        {
          "name": "stderr",
          "output_type": "stream",
          "text": [
            "100%|██████████| 10/10 [00:14<00:00,  1.44s/it]\n"
          ]
        },
        {
          "name": "stdout",
          "output_type": "stream",
          "text": [
            "Average validation Loss: 6.639544486999512\n",
            "Epoch [134/1000], Average Loss: 15.2285\n",
            "Average validation Loss: 6.639544486999512\n",
            "Learning rate decayed. Updated LR is: 0.000192\n"
          ]
        },
        {
          "name": "stderr",
          "output_type": "stream",
          "text": [
            "100%|██████████| 10/10 [00:14<00:00,  1.44s/it]\n"
          ]
        },
        {
          "name": "stdout",
          "output_type": "stream",
          "text": [
            "Average validation Loss: 9.919954299926758\n",
            "Epoch [135/1000], Average Loss: 17.0303\n",
            "Average validation Loss: 9.919954299926758\n",
            "Learning rate decayed. Updated LR is: 0.000192\n"
          ]
        },
        {
          "name": "stderr",
          "output_type": "stream",
          "text": [
            "100%|██████████| 10/10 [00:14<00:00,  1.44s/it]\n"
          ]
        },
        {
          "name": "stdout",
          "output_type": "stream",
          "text": [
            "Average validation Loss: 6.676957607269287\n",
            "Epoch [136/1000], Average Loss: 15.6472\n",
            "Average validation Loss: 6.676957607269287\n",
            "Learning rate decayed. Updated LR is: 0.000192\n"
          ]
        },
        {
          "name": "stderr",
          "output_type": "stream",
          "text": [
            "100%|██████████| 10/10 [00:14<00:00,  1.44s/it]\n"
          ]
        },
        {
          "name": "stdout",
          "output_type": "stream",
          "text": [
            "Average validation Loss: 13.218076705932617\n",
            "Epoch [137/1000], Average Loss: 15.8026\n",
            "Average validation Loss: 13.218076705932617\n",
            "Learning rate decayed. Updated LR is: 0.000192\n"
          ]
        },
        {
          "name": "stderr",
          "output_type": "stream",
          "text": [
            "100%|██████████| 10/10 [00:14<00:00,  1.44s/it]\n"
          ]
        },
        {
          "name": "stdout",
          "output_type": "stream",
          "text": [
            "Average validation Loss: 8.63907241821289\n",
            "Epoch [138/1000], Average Loss: 15.2638\n",
            "Average validation Loss: 8.63907241821289\n",
            "Learning rate decayed. Updated LR is: 0.000192\n"
          ]
        },
        {
          "name": "stderr",
          "output_type": "stream",
          "text": [
            "100%|██████████| 10/10 [00:14<00:00,  1.44s/it]\n"
          ]
        },
        {
          "name": "stdout",
          "output_type": "stream",
          "text": [
            "Average validation Loss: 7.4707489013671875\n",
            "Epoch [139/1000], Average Loss: 14.7512\n",
            "Average validation Loss: 7.4707489013671875\n",
            "Learning rate decayed. Updated LR is: 0.000191\n"
          ]
        },
        {
          "name": "stderr",
          "output_type": "stream",
          "text": [
            "100%|██████████| 10/10 [00:14<00:00,  1.44s/it]\n"
          ]
        },
        {
          "name": "stdout",
          "output_type": "stream",
          "text": [
            "Average validation Loss: 13.424869537353516\n",
            "Epoch [140/1000], Average Loss: 14.5955\n",
            "Average validation Loss: 13.424869537353516\n",
            "Learning rate decayed. Updated LR is: 0.000191\n"
          ]
        },
        {
          "name": "stderr",
          "output_type": "stream",
          "text": [
            "100%|██████████| 10/10 [00:14<00:00,  1.44s/it]\n"
          ]
        },
        {
          "name": "stdout",
          "output_type": "stream",
          "text": [
            "Average validation Loss: 7.485082626342773\n",
            "Epoch [141/1000], Average Loss: 16.9810\n",
            "Average validation Loss: 7.485082626342773\n",
            "Learning rate decayed. Updated LR is: 0.000191\n"
          ]
        },
        {
          "name": "stderr",
          "output_type": "stream",
          "text": [
            "100%|██████████| 10/10 [00:14<00:00,  1.44s/it]\n"
          ]
        },
        {
          "name": "stdout",
          "output_type": "stream",
          "text": [
            "Average validation Loss: 12.738733291625977\n",
            "Epoch [142/1000], Average Loss: 19.9395\n",
            "Average validation Loss: 12.738733291625977\n",
            "Learning rate decayed. Updated LR is: 0.000191\n"
          ]
        },
        {
          "name": "stderr",
          "output_type": "stream",
          "text": [
            "100%|██████████| 10/10 [00:14<00:00,  1.44s/it]\n"
          ]
        },
        {
          "name": "stdout",
          "output_type": "stream",
          "text": [
            "Average validation Loss: 18.264163970947266\n",
            "Epoch [143/1000], Average Loss: 21.4873\n",
            "Average validation Loss: 18.264163970947266\n",
            "Learning rate decayed. Updated LR is: 0.000190\n"
          ]
        },
        {
          "name": "stderr",
          "output_type": "stream",
          "text": [
            "100%|██████████| 10/10 [00:14<00:00,  1.44s/it]\n"
          ]
        },
        {
          "name": "stdout",
          "output_type": "stream",
          "text": [
            "Average validation Loss: 14.963995933532715\n",
            "Epoch [144/1000], Average Loss: 17.6706\n",
            "Average validation Loss: 14.963995933532715\n",
            "Learning rate decayed. Updated LR is: 0.000190\n"
          ]
        },
        {
          "name": "stderr",
          "output_type": "stream",
          "text": [
            "100%|██████████| 10/10 [00:14<00:00,  1.44s/it]\n"
          ]
        },
        {
          "name": "stdout",
          "output_type": "stream",
          "text": [
            "Average validation Loss: 14.536505699157715\n",
            "Epoch [145/1000], Average Loss: 15.2525\n",
            "Average validation Loss: 14.536505699157715\n",
            "Learning rate decayed. Updated LR is: 0.000190\n"
          ]
        },
        {
          "name": "stderr",
          "output_type": "stream",
          "text": [
            "100%|██████████| 10/10 [00:14<00:00,  1.44s/it]\n"
          ]
        },
        {
          "name": "stdout",
          "output_type": "stream",
          "text": [
            "Average validation Loss: 13.642667770385742\n",
            "Epoch [146/1000], Average Loss: 14.0146\n",
            "Average validation Loss: 13.642667770385742\n",
            "Learning rate decayed. Updated LR is: 0.000190\n"
          ]
        },
        {
          "name": "stderr",
          "output_type": "stream",
          "text": [
            "100%|██████████| 10/10 [00:14<00:00,  1.44s/it]\n"
          ]
        },
        {
          "name": "stdout",
          "output_type": "stream",
          "text": [
            "Average validation Loss: 25.134923934936523\n",
            "Epoch [147/1000], Average Loss: 15.1753\n",
            "Average validation Loss: 25.134923934936523\n",
            "Learning rate decayed. Updated LR is: 0.000190\n"
          ]
        },
        {
          "name": "stderr",
          "output_type": "stream",
          "text": [
            "100%|██████████| 10/10 [00:14<00:00,  1.44s/it]\n"
          ]
        },
        {
          "name": "stdout",
          "output_type": "stream",
          "text": [
            "Average validation Loss: 12.741067886352539\n",
            "Epoch [148/1000], Average Loss: 14.9986\n",
            "Average validation Loss: 12.741067886352539\n",
            "Learning rate decayed. Updated LR is: 0.000189\n"
          ]
        },
        {
          "name": "stderr",
          "output_type": "stream",
          "text": [
            "100%|██████████| 10/10 [00:14<00:00,  1.44s/it]\n"
          ]
        },
        {
          "name": "stdout",
          "output_type": "stream",
          "text": [
            "Average validation Loss: 19.85330581665039\n",
            "Epoch [149/1000], Average Loss: 17.5783\n",
            "Average validation Loss: 19.85330581665039\n",
            "Learning rate decayed. Updated LR is: 0.000189\n"
          ]
        },
        {
          "name": "stderr",
          "output_type": "stream",
          "text": [
            "100%|██████████| 10/10 [00:14<00:00,  1.44s/it]\n"
          ]
        },
        {
          "name": "stdout",
          "output_type": "stream",
          "text": [
            "Average validation Loss: 6.320995330810547\n",
            "Epoch [150/1000], Average Loss: 15.0206\n",
            "Average validation Loss: 6.320995330810547\n",
            "Learning rate decayed. Updated LR is: 0.000189\n"
          ]
        },
        {
          "name": "stderr",
          "output_type": "stream",
          "text": [
            "100%|██████████| 10/10 [00:14<00:00,  1.44s/it]\n"
          ]
        },
        {
          "name": "stdout",
          "output_type": "stream",
          "text": [
            "Average validation Loss: 9.215415954589844\n",
            "Epoch [151/1000], Average Loss: 17.5580\n",
            "Average validation Loss: 9.215415954589844\n",
            "Learning rate decayed. Updated LR is: 0.000189\n"
          ]
        },
        {
          "name": "stderr",
          "output_type": "stream",
          "text": [
            "100%|██████████| 10/10 [00:14<00:00,  1.44s/it]\n"
          ]
        },
        {
          "name": "stdout",
          "output_type": "stream",
          "text": [
            "Average validation Loss: 24.95758819580078\n",
            "Epoch [152/1000], Average Loss: 17.1817\n",
            "Average validation Loss: 24.95758819580078\n",
            "Learning rate decayed. Updated LR is: 0.000188\n"
          ]
        },
        {
          "name": "stderr",
          "output_type": "stream",
          "text": [
            "100%|██████████| 10/10 [00:14<00:00,  1.44s/it]\n"
          ]
        },
        {
          "name": "stdout",
          "output_type": "stream",
          "text": [
            "Average validation Loss: 13.377291679382324\n",
            "Epoch [153/1000], Average Loss: 18.1526\n",
            "Average validation Loss: 13.377291679382324\n",
            "Learning rate decayed. Updated LR is: 0.000188\n"
          ]
        },
        {
          "name": "stderr",
          "output_type": "stream",
          "text": [
            "100%|██████████| 10/10 [00:14<00:00,  1.44s/it]\n"
          ]
        },
        {
          "name": "stdout",
          "output_type": "stream",
          "text": [
            "Average validation Loss: 7.685277938842773\n",
            "Epoch [154/1000], Average Loss: 15.0009\n",
            "Average validation Loss: 7.685277938842773\n",
            "Learning rate decayed. Updated LR is: 0.000188\n"
          ]
        },
        {
          "name": "stderr",
          "output_type": "stream",
          "text": [
            "100%|██████████| 10/10 [00:14<00:00,  1.44s/it]\n"
          ]
        },
        {
          "name": "stdout",
          "output_type": "stream",
          "text": [
            "Average validation Loss: 9.329259872436523\n",
            "Epoch [155/1000], Average Loss: 15.1370\n",
            "Average validation Loss: 9.329259872436523\n",
            "Learning rate decayed. Updated LR is: 0.000188\n"
          ]
        },
        {
          "name": "stderr",
          "output_type": "stream",
          "text": [
            "100%|██████████| 10/10 [00:14<00:00,  1.44s/it]\n"
          ]
        },
        {
          "name": "stdout",
          "output_type": "stream",
          "text": [
            "Average validation Loss: 12.786951065063477\n",
            "Epoch [156/1000], Average Loss: 14.7223\n",
            "Average validation Loss: 12.786951065063477\n",
            "Learning rate decayed. Updated LR is: 0.000188\n"
          ]
        },
        {
          "name": "stderr",
          "output_type": "stream",
          "text": [
            "100%|██████████| 10/10 [00:14<00:00,  1.44s/it]\n"
          ]
        },
        {
          "name": "stdout",
          "output_type": "stream",
          "text": [
            "Average validation Loss: 14.55933952331543\n",
            "Epoch [157/1000], Average Loss: 14.8274\n",
            "Average validation Loss: 14.55933952331543\n",
            "Learning rate decayed. Updated LR is: 0.000187\n"
          ]
        },
        {
          "name": "stderr",
          "output_type": "stream",
          "text": [
            "100%|██████████| 10/10 [00:14<00:00,  1.44s/it]\n"
          ]
        },
        {
          "name": "stdout",
          "output_type": "stream",
          "text": [
            "Average validation Loss: 11.449281692504883\n",
            "Epoch [158/1000], Average Loss: 14.3220\n",
            "Average validation Loss: 11.449281692504883\n",
            "Learning rate decayed. Updated LR is: 0.000187\n"
          ]
        },
        {
          "name": "stderr",
          "output_type": "stream",
          "text": [
            "100%|██████████| 10/10 [00:14<00:00,  1.44s/it]\n"
          ]
        },
        {
          "name": "stdout",
          "output_type": "stream",
          "text": [
            "Average validation Loss: 4.50595760345459\n",
            "Epoch [159/1000], Average Loss: 12.8528\n",
            "Average validation Loss: 4.50595760345459\n",
            "Learning rate decayed. Updated LR is: 0.000187\n"
          ]
        },
        {
          "name": "stderr",
          "output_type": "stream",
          "text": [
            "100%|██████████| 10/10 [00:14<00:00,  1.44s/it]\n"
          ]
        },
        {
          "name": "stdout",
          "output_type": "stream",
          "text": [
            "Average validation Loss: 7.58586311340332\n",
            "Epoch [160/1000], Average Loss: 12.5139\n",
            "Average validation Loss: 7.58586311340332\n",
            "Learning rate decayed. Updated LR is: 0.000187\n"
          ]
        },
        {
          "name": "stderr",
          "output_type": "stream",
          "text": [
            "100%|██████████| 10/10 [00:14<00:00,  1.44s/it]\n"
          ]
        },
        {
          "name": "stdout",
          "output_type": "stream",
          "text": [
            "Average validation Loss: 7.079545974731445\n",
            "Epoch [161/1000], Average Loss: 12.5159\n",
            "Average validation Loss: 7.079545974731445\n",
            "Learning rate decayed. Updated LR is: 0.000186\n"
          ]
        },
        {
          "name": "stderr",
          "output_type": "stream",
          "text": [
            "100%|██████████| 10/10 [00:14<00:00,  1.44s/it]\n"
          ]
        },
        {
          "name": "stdout",
          "output_type": "stream",
          "text": [
            "Average validation Loss: 10.565633773803711\n",
            "Epoch [162/1000], Average Loss: 12.4248\n",
            "Average validation Loss: 10.565633773803711\n",
            "Learning rate decayed. Updated LR is: 0.000186\n"
          ]
        },
        {
          "name": "stderr",
          "output_type": "stream",
          "text": [
            "100%|██████████| 10/10 [00:14<00:00,  1.44s/it]\n"
          ]
        },
        {
          "name": "stdout",
          "output_type": "stream",
          "text": [
            "Average validation Loss: 8.165308952331543\n",
            "Epoch [163/1000], Average Loss: 12.2108\n",
            "Average validation Loss: 8.165308952331543\n",
            "Learning rate decayed. Updated LR is: 0.000186\n"
          ]
        },
        {
          "name": "stderr",
          "output_type": "stream",
          "text": [
            "100%|██████████| 10/10 [00:14<00:00,  1.45s/it]\n"
          ]
        },
        {
          "name": "stdout",
          "output_type": "stream",
          "text": [
            "Average validation Loss: 7.29203987121582\n",
            "Epoch [164/1000], Average Loss: 14.3401\n",
            "Average validation Loss: 7.29203987121582\n",
            "Learning rate decayed. Updated LR is: 0.000186\n"
          ]
        },
        {
          "name": "stderr",
          "output_type": "stream",
          "text": [
            "100%|██████████| 10/10 [00:14<00:00,  1.44s/it]\n"
          ]
        },
        {
          "name": "stdout",
          "output_type": "stream",
          "text": [
            "Average validation Loss: 51.121734619140625\n",
            "Epoch [165/1000], Average Loss: 18.1018\n",
            "Average validation Loss: 51.121734619140625\n",
            "Learning rate decayed. Updated LR is: 0.000186\n"
          ]
        },
        {
          "name": "stderr",
          "output_type": "stream",
          "text": [
            "100%|██████████| 10/10 [00:14<00:00,  1.44s/it]\n"
          ]
        },
        {
          "name": "stdout",
          "output_type": "stream",
          "text": [
            "Average validation Loss: 10.767584800720215\n",
            "Epoch [166/1000], Average Loss: 17.7569\n",
            "Average validation Loss: 10.767584800720215\n",
            "Learning rate decayed. Updated LR is: 0.000185\n"
          ]
        },
        {
          "name": "stderr",
          "output_type": "stream",
          "text": [
            "100%|██████████| 10/10 [00:14<00:00,  1.44s/it]\n"
          ]
        },
        {
          "name": "stdout",
          "output_type": "stream",
          "text": [
            "Average validation Loss: 10.664033889770508\n",
            "Epoch [167/1000], Average Loss: 18.5536\n",
            "Average validation Loss: 10.664033889770508\n",
            "Learning rate decayed. Updated LR is: 0.000185\n"
          ]
        },
        {
          "name": "stderr",
          "output_type": "stream",
          "text": [
            "100%|██████████| 10/10 [00:14<00:00,  1.44s/it]\n"
          ]
        },
        {
          "name": "stdout",
          "output_type": "stream",
          "text": [
            "Average validation Loss: 10.012886047363281\n",
            "Epoch [168/1000], Average Loss: 15.3663\n",
            "Average validation Loss: 10.012886047363281\n",
            "Learning rate decayed. Updated LR is: 0.000185\n"
          ]
        },
        {
          "name": "stderr",
          "output_type": "stream",
          "text": [
            "100%|██████████| 10/10 [00:14<00:00,  1.44s/it]\n"
          ]
        },
        {
          "name": "stdout",
          "output_type": "stream",
          "text": [
            "Average validation Loss: 12.01782512664795\n",
            "Epoch [169/1000], Average Loss: 14.4265\n",
            "Average validation Loss: 12.01782512664795\n",
            "Learning rate decayed. Updated LR is: 0.000185\n"
          ]
        },
        {
          "name": "stderr",
          "output_type": "stream",
          "text": [
            "100%|██████████| 10/10 [00:14<00:00,  1.44s/it]\n"
          ]
        },
        {
          "name": "stdout",
          "output_type": "stream",
          "text": [
            "Average validation Loss: 10.296281814575195\n",
            "Epoch [170/1000], Average Loss: 15.0282\n",
            "Average validation Loss: 10.296281814575195\n",
            "Learning rate decayed. Updated LR is: 0.000184\n"
          ]
        },
        {
          "name": "stderr",
          "output_type": "stream",
          "text": [
            "100%|██████████| 10/10 [00:14<00:00,  1.44s/it]\n"
          ]
        },
        {
          "name": "stdout",
          "output_type": "stream",
          "text": [
            "Average validation Loss: 13.317309379577637\n",
            "Epoch [171/1000], Average Loss: 16.2784\n",
            "Average validation Loss: 13.317309379577637\n",
            "Learning rate decayed. Updated LR is: 0.000184\n"
          ]
        },
        {
          "name": "stderr",
          "output_type": "stream",
          "text": [
            "100%|██████████| 10/10 [00:14<00:00,  1.44s/it]\n"
          ]
        },
        {
          "name": "stdout",
          "output_type": "stream",
          "text": [
            "Average validation Loss: 7.521944999694824\n",
            "Epoch [172/1000], Average Loss: 13.3685\n",
            "Average validation Loss: 7.521944999694824\n",
            "Learning rate decayed. Updated LR is: 0.000184\n"
          ]
        },
        {
          "name": "stderr",
          "output_type": "stream",
          "text": [
            "100%|██████████| 10/10 [00:14<00:00,  1.44s/it]\n"
          ]
        },
        {
          "name": "stdout",
          "output_type": "stream",
          "text": [
            "Average validation Loss: 15.12928581237793\n",
            "Epoch [173/1000], Average Loss: 13.8234\n",
            "Average validation Loss: 15.12928581237793\n",
            "Learning rate decayed. Updated LR is: 0.000184\n"
          ]
        },
        {
          "name": "stderr",
          "output_type": "stream",
          "text": [
            "100%|██████████| 10/10 [00:14<00:00,  1.44s/it]\n"
          ]
        },
        {
          "name": "stdout",
          "output_type": "stream",
          "text": [
            "Average validation Loss: 9.344484329223633\n",
            "Epoch [174/1000], Average Loss: 13.2166\n",
            "Average validation Loss: 9.344484329223633\n",
            "Learning rate decayed. Updated LR is: 0.000184\n"
          ]
        },
        {
          "name": "stderr",
          "output_type": "stream",
          "text": [
            "100%|██████████| 10/10 [00:14<00:00,  1.44s/it]\n"
          ]
        },
        {
          "name": "stdout",
          "output_type": "stream",
          "text": [
            "Average validation Loss: 11.003839492797852\n",
            "Epoch [175/1000], Average Loss: 14.7029\n",
            "Average validation Loss: 11.003839492797852\n",
            "Learning rate decayed. Updated LR is: 0.000183\n"
          ]
        },
        {
          "name": "stderr",
          "output_type": "stream",
          "text": [
            "100%|██████████| 10/10 [00:14<00:00,  1.44s/it]\n"
          ]
        },
        {
          "name": "stdout",
          "output_type": "stream",
          "text": [
            "Average validation Loss: 10.071844100952148\n",
            "Epoch [176/1000], Average Loss: 15.8862\n",
            "Average validation Loss: 10.071844100952148\n",
            "Learning rate decayed. Updated LR is: 0.000183\n"
          ]
        },
        {
          "name": "stderr",
          "output_type": "stream",
          "text": [
            "100%|██████████| 10/10 [00:14<00:00,  1.44s/it]\n"
          ]
        },
        {
          "name": "stdout",
          "output_type": "stream",
          "text": [
            "Average validation Loss: 15.690208435058594\n",
            "Epoch [177/1000], Average Loss: 15.5719\n",
            "Average validation Loss: 15.690208435058594\n",
            "Learning rate decayed. Updated LR is: 0.000183\n"
          ]
        },
        {
          "name": "stderr",
          "output_type": "stream",
          "text": [
            "100%|██████████| 10/10 [00:14<00:00,  1.44s/it]\n"
          ]
        },
        {
          "name": "stdout",
          "output_type": "stream",
          "text": [
            "Average validation Loss: 5.447935104370117\n",
            "Epoch [178/1000], Average Loss: 14.8756\n",
            "Average validation Loss: 5.447935104370117\n",
            "Learning rate decayed. Updated LR is: 0.000183\n"
          ]
        },
        {
          "name": "stderr",
          "output_type": "stream",
          "text": [
            "100%|██████████| 10/10 [00:14<00:00,  1.44s/it]\n"
          ]
        },
        {
          "name": "stdout",
          "output_type": "stream",
          "text": [
            "Average validation Loss: 9.791728973388672\n",
            "Epoch [179/1000], Average Loss: 16.2734\n",
            "Average validation Loss: 9.791728973388672\n",
            "Learning rate decayed. Updated LR is: 0.000182\n"
          ]
        },
        {
          "name": "stderr",
          "output_type": "stream",
          "text": [
            "100%|██████████| 10/10 [00:14<00:00,  1.44s/it]\n"
          ]
        },
        {
          "name": "stdout",
          "output_type": "stream",
          "text": [
            "Average validation Loss: 7.573888778686523\n",
            "Epoch [180/1000], Average Loss: 13.6288\n",
            "Average validation Loss: 7.573888778686523\n",
            "Learning rate decayed. Updated LR is: 0.000182\n"
          ]
        },
        {
          "name": "stderr",
          "output_type": "stream",
          "text": [
            "100%|██████████| 10/10 [00:14<00:00,  1.44s/it]\n"
          ]
        },
        {
          "name": "stdout",
          "output_type": "stream",
          "text": [
            "Average validation Loss: 6.678494930267334\n",
            "Epoch [181/1000], Average Loss: 13.2606\n",
            "Average validation Loss: 6.678494930267334\n",
            "Learning rate decayed. Updated LR is: 0.000182\n"
          ]
        },
        {
          "name": "stderr",
          "output_type": "stream",
          "text": [
            "100%|██████████| 10/10 [00:14<00:00,  1.44s/it]\n"
          ]
        },
        {
          "name": "stdout",
          "output_type": "stream",
          "text": [
            "Average validation Loss: 17.627655029296875\n",
            "Epoch [182/1000], Average Loss: 14.0563\n",
            "Average validation Loss: 17.627655029296875\n",
            "Learning rate decayed. Updated LR is: 0.000182\n"
          ]
        },
        {
          "name": "stderr",
          "output_type": "stream",
          "text": [
            "100%|██████████| 10/10 [00:14<00:00,  1.44s/it]\n"
          ]
        },
        {
          "name": "stdout",
          "output_type": "stream",
          "text": [
            "Average validation Loss: 22.62898826599121\n",
            "Epoch [183/1000], Average Loss: 14.0793\n",
            "Average validation Loss: 22.62898826599121\n",
            "Learning rate decayed. Updated LR is: 0.000182\n"
          ]
        },
        {
          "name": "stderr",
          "output_type": "stream",
          "text": [
            "100%|██████████| 10/10 [00:14<00:00,  1.44s/it]\n"
          ]
        },
        {
          "name": "stdout",
          "output_type": "stream",
          "text": [
            "Average validation Loss: 6.2783002853393555\n",
            "Epoch [184/1000], Average Loss: 12.3965\n",
            "Average validation Loss: 6.2783002853393555\n",
            "Learning rate decayed. Updated LR is: 0.000181\n"
          ]
        },
        {
          "name": "stderr",
          "output_type": "stream",
          "text": [
            "100%|██████████| 10/10 [00:14<00:00,  1.44s/it]\n"
          ]
        },
        {
          "name": "stdout",
          "output_type": "stream",
          "text": [
            "Average validation Loss: 6.162561416625977\n",
            "Epoch [185/1000], Average Loss: 12.4276\n",
            "Average validation Loss: 6.162561416625977\n",
            "Learning rate decayed. Updated LR is: 0.000181\n"
          ]
        },
        {
          "name": "stderr",
          "output_type": "stream",
          "text": [
            "100%|██████████| 10/10 [00:14<00:00,  1.44s/it]\n"
          ]
        },
        {
          "name": "stdout",
          "output_type": "stream",
          "text": [
            "Average validation Loss: 5.210341930389404\n",
            "Epoch [186/1000], Average Loss: 12.5283\n",
            "Average validation Loss: 5.210341930389404\n",
            "Learning rate decayed. Updated LR is: 0.000181\n"
          ]
        },
        {
          "name": "stderr",
          "output_type": "stream",
          "text": [
            "100%|██████████| 10/10 [00:14<00:00,  1.44s/it]\n"
          ]
        },
        {
          "name": "stdout",
          "output_type": "stream",
          "text": [
            "Average validation Loss: 7.91357946395874\n",
            "Epoch [187/1000], Average Loss: 11.8588\n",
            "Average validation Loss: 7.91357946395874\n",
            "Learning rate decayed. Updated LR is: 0.000181\n"
          ]
        },
        {
          "name": "stderr",
          "output_type": "stream",
          "text": [
            "100%|██████████| 10/10 [00:14<00:00,  1.44s/it]\n"
          ]
        },
        {
          "name": "stdout",
          "output_type": "stream",
          "text": [
            "Average validation Loss: 36.97779083251953\n",
            "Epoch [188/1000], Average Loss: 13.9268\n",
            "Average validation Loss: 36.97779083251953\n",
            "Learning rate decayed. Updated LR is: 0.000180\n"
          ]
        },
        {
          "name": "stderr",
          "output_type": "stream",
          "text": [
            "100%|██████████| 10/10 [00:14<00:00,  1.44s/it]\n"
          ]
        },
        {
          "name": "stdout",
          "output_type": "stream",
          "text": [
            "Average validation Loss: 6.833341121673584\n",
            "Epoch [189/1000], Average Loss: 12.4584\n",
            "Average validation Loss: 6.833341121673584\n",
            "Learning rate decayed. Updated LR is: 0.000180\n"
          ]
        },
        {
          "name": "stderr",
          "output_type": "stream",
          "text": [
            "100%|██████████| 10/10 [00:14<00:00,  1.44s/it]\n"
          ]
        },
        {
          "name": "stdout",
          "output_type": "stream",
          "text": [
            "Average validation Loss: 8.07203197479248\n",
            "Epoch [190/1000], Average Loss: 15.3383\n",
            "Average validation Loss: 8.07203197479248\n",
            "Learning rate decayed. Updated LR is: 0.000180\n"
          ]
        },
        {
          "name": "stderr",
          "output_type": "stream",
          "text": [
            "100%|██████████| 10/10 [00:14<00:00,  1.44s/it]\n"
          ]
        },
        {
          "name": "stdout",
          "output_type": "stream",
          "text": [
            "Average validation Loss: 8.121248245239258\n",
            "Epoch [191/1000], Average Loss: 12.7193\n",
            "Average validation Loss: 8.121248245239258\n",
            "Learning rate decayed. Updated LR is: 0.000180\n"
          ]
        },
        {
          "name": "stderr",
          "output_type": "stream",
          "text": [
            "100%|██████████| 10/10 [00:14<00:00,  1.44s/it]\n"
          ]
        },
        {
          "name": "stdout",
          "output_type": "stream",
          "text": [
            "Average validation Loss: 15.779644012451172\n",
            "Epoch [192/1000], Average Loss: 12.5514\n",
            "Average validation Loss: 15.779644012451172\n",
            "Learning rate decayed. Updated LR is: 0.000180\n"
          ]
        },
        {
          "name": "stderr",
          "output_type": "stream",
          "text": [
            "100%|██████████| 10/10 [00:14<00:00,  1.44s/it]\n"
          ]
        },
        {
          "name": "stdout",
          "output_type": "stream",
          "text": [
            "Average validation Loss: 10.078350067138672\n",
            "Epoch [193/1000], Average Loss: 13.1709\n",
            "Average validation Loss: 10.078350067138672\n",
            "Learning rate decayed. Updated LR is: 0.000179\n"
          ]
        },
        {
          "name": "stderr",
          "output_type": "stream",
          "text": [
            "100%|██████████| 10/10 [00:14<00:00,  1.44s/it]\n"
          ]
        },
        {
          "name": "stdout",
          "output_type": "stream",
          "text": [
            "Average validation Loss: 9.889184951782227\n",
            "Epoch [194/1000], Average Loss: 12.9505\n",
            "Average validation Loss: 9.889184951782227\n",
            "Learning rate decayed. Updated LR is: 0.000179\n"
          ]
        },
        {
          "name": "stderr",
          "output_type": "stream",
          "text": [
            "100%|██████████| 10/10 [00:14<00:00,  1.44s/it]\n"
          ]
        },
        {
          "name": "stdout",
          "output_type": "stream",
          "text": [
            "Average validation Loss: 21.60641860961914\n",
            "Epoch [195/1000], Average Loss: 13.8564\n",
            "Average validation Loss: 21.60641860961914\n",
            "Learning rate decayed. Updated LR is: 0.000179\n"
          ]
        },
        {
          "name": "stderr",
          "output_type": "stream",
          "text": [
            "100%|██████████| 10/10 [00:14<00:00,  1.44s/it]\n"
          ]
        },
        {
          "name": "stdout",
          "output_type": "stream",
          "text": [
            "Average validation Loss: 4.375945091247559\n",
            "Epoch [196/1000], Average Loss: 12.3256\n",
            "Average validation Loss: 4.375945091247559\n",
            "Learning rate decayed. Updated LR is: 0.000179\n"
          ]
        },
        {
          "name": "stderr",
          "output_type": "stream",
          "text": [
            "100%|██████████| 10/10 [00:14<00:00,  1.44s/it]\n"
          ]
        },
        {
          "name": "stdout",
          "output_type": "stream",
          "text": [
            "Average validation Loss: 7.132174491882324\n",
            "Epoch [197/1000], Average Loss: 11.6462\n",
            "Average validation Loss: 7.132174491882324\n",
            "Learning rate decayed. Updated LR is: 0.000178\n"
          ]
        },
        {
          "name": "stderr",
          "output_type": "stream",
          "text": [
            "100%|██████████| 10/10 [00:14<00:00,  1.44s/it]\n"
          ]
        },
        {
          "name": "stdout",
          "output_type": "stream",
          "text": [
            "Average validation Loss: 10.49545669555664\n",
            "Epoch [198/1000], Average Loss: 12.1232\n",
            "Average validation Loss: 10.49545669555664\n",
            "Learning rate decayed. Updated LR is: 0.000178\n"
          ]
        },
        {
          "name": "stderr",
          "output_type": "stream",
          "text": [
            "100%|██████████| 10/10 [00:14<00:00,  1.44s/it]\n"
          ]
        },
        {
          "name": "stdout",
          "output_type": "stream",
          "text": [
            "Average validation Loss: 7.031435012817383\n",
            "Epoch [199/1000], Average Loss: 11.7478\n",
            "Average validation Loss: 7.031435012817383\n",
            "Learning rate decayed. Updated LR is: 0.000178\n"
          ]
        },
        {
          "name": "stderr",
          "output_type": "stream",
          "text": [
            "100%|██████████| 10/10 [00:14<00:00,  1.44s/it]\n"
          ]
        },
        {
          "name": "stdout",
          "output_type": "stream",
          "text": [
            "Average validation Loss: 5.011836051940918\n",
            "Epoch [200/1000], Average Loss: 12.3114\n",
            "Average validation Loss: 5.011836051940918\n",
            "Learning rate decayed. Updated LR is: 0.000178\n"
          ]
        },
        {
          "name": "stderr",
          "output_type": "stream",
          "text": [
            "100%|██████████| 10/10 [00:14<00:00,  1.44s/it]\n"
          ]
        },
        {
          "name": "stdout",
          "output_type": "stream",
          "text": [
            "Average validation Loss: 6.856229305267334\n",
            "Epoch [201/1000], Average Loss: 12.3926\n",
            "Average validation Loss: 6.856229305267334\n",
            "Learning rate decayed. Updated LR is: 0.000178\n"
          ]
        },
        {
          "name": "stderr",
          "output_type": "stream",
          "text": [
            "100%|██████████| 10/10 [00:14<00:00,  1.45s/it]\n"
          ]
        },
        {
          "name": "stdout",
          "output_type": "stream",
          "text": [
            "Average validation Loss: 5.711657524108887\n",
            "Epoch [202/1000], Average Loss: 12.0832\n",
            "Average validation Loss: 5.711657524108887\n",
            "Learning rate decayed. Updated LR is: 0.000177\n"
          ]
        },
        {
          "name": "stderr",
          "output_type": "stream",
          "text": [
            "100%|██████████| 10/10 [00:14<00:00,  1.44s/it]\n"
          ]
        },
        {
          "name": "stdout",
          "output_type": "stream",
          "text": [
            "Average validation Loss: 4.578652381896973\n",
            "Epoch [203/1000], Average Loss: 11.1142\n",
            "Average validation Loss: 4.578652381896973\n",
            "Learning rate decayed. Updated LR is: 0.000177\n"
          ]
        },
        {
          "name": "stderr",
          "output_type": "stream",
          "text": [
            "100%|██████████| 10/10 [00:14<00:00,  1.44s/it]\n"
          ]
        },
        {
          "name": "stdout",
          "output_type": "stream",
          "text": [
            "Average validation Loss: 18.72304344177246\n",
            "Epoch [204/1000], Average Loss: 12.4700\n",
            "Average validation Loss: 18.72304344177246\n",
            "Learning rate decayed. Updated LR is: 0.000177\n"
          ]
        },
        {
          "name": "stderr",
          "output_type": "stream",
          "text": [
            "100%|██████████| 10/10 [00:14<00:00,  1.44s/it]\n"
          ]
        },
        {
          "name": "stdout",
          "output_type": "stream",
          "text": [
            "Average validation Loss: 10.483739852905273\n",
            "Epoch [205/1000], Average Loss: 11.2108\n",
            "Average validation Loss: 10.483739852905273\n",
            "Learning rate decayed. Updated LR is: 0.000177\n"
          ]
        },
        {
          "name": "stderr",
          "output_type": "stream",
          "text": [
            "100%|██████████| 10/10 [00:14<00:00,  1.44s/it]\n"
          ]
        },
        {
          "name": "stdout",
          "output_type": "stream",
          "text": [
            "Average validation Loss: 5.763315200805664\n",
            "Epoch [206/1000], Average Loss: 11.2758\n",
            "Average validation Loss: 5.763315200805664\n",
            "Learning rate decayed. Updated LR is: 0.000176\n"
          ]
        },
        {
          "name": "stderr",
          "output_type": "stream",
          "text": [
            "100%|██████████| 10/10 [00:14<00:00,  1.44s/it]\n"
          ]
        },
        {
          "name": "stdout",
          "output_type": "stream",
          "text": [
            "Average validation Loss: 13.170557975769043\n",
            "Epoch [207/1000], Average Loss: 11.1834\n",
            "Average validation Loss: 13.170557975769043\n",
            "Learning rate decayed. Updated LR is: 0.000176\n"
          ]
        },
        {
          "name": "stderr",
          "output_type": "stream",
          "text": [
            "100%|██████████| 10/10 [00:14<00:00,  1.44s/it]\n"
          ]
        },
        {
          "name": "stdout",
          "output_type": "stream",
          "text": [
            "Average validation Loss: 9.919157028198242\n",
            "Epoch [208/1000], Average Loss: 11.2246\n",
            "Average validation Loss: 9.919157028198242\n",
            "Learning rate decayed. Updated LR is: 0.000176\n"
          ]
        },
        {
          "name": "stderr",
          "output_type": "stream",
          "text": [
            "100%|██████████| 10/10 [00:14<00:00,  1.44s/it]\n"
          ]
        },
        {
          "name": "stdout",
          "output_type": "stream",
          "text": [
            "Average validation Loss: 4.414357662200928\n",
            "Epoch [209/1000], Average Loss: 11.0981\n",
            "Average validation Loss: 4.414357662200928\n",
            "Learning rate decayed. Updated LR is: 0.000176\n"
          ]
        },
        {
          "name": "stderr",
          "output_type": "stream",
          "text": [
            "100%|██████████| 10/10 [00:14<00:00,  1.44s/it]\n"
          ]
        },
        {
          "name": "stdout",
          "output_type": "stream",
          "text": [
            "Average validation Loss: 5.843331813812256\n",
            "Epoch [210/1000], Average Loss: 11.0591\n",
            "Average validation Loss: 5.843331813812256\n",
            "Learning rate decayed. Updated LR is: 0.000176\n"
          ]
        },
        {
          "name": "stderr",
          "output_type": "stream",
          "text": [
            "100%|██████████| 10/10 [00:14<00:00,  1.44s/it]\n"
          ]
        },
        {
          "name": "stdout",
          "output_type": "stream",
          "text": [
            "Average validation Loss: 7.7753095626831055\n",
            "Epoch [211/1000], Average Loss: 10.1086\n",
            "Average validation Loss: 7.7753095626831055\n",
            "Learning rate decayed. Updated LR is: 0.000175\n"
          ]
        },
        {
          "name": "stderr",
          "output_type": "stream",
          "text": [
            "100%|██████████| 10/10 [00:14<00:00,  1.44s/it]\n"
          ]
        },
        {
          "name": "stdout",
          "output_type": "stream",
          "text": [
            "Average validation Loss: 6.269766807556152\n",
            "Epoch [212/1000], Average Loss: 10.0114\n",
            "Average validation Loss: 6.269766807556152\n",
            "Learning rate decayed. Updated LR is: 0.000175\n"
          ]
        },
        {
          "name": "stderr",
          "output_type": "stream",
          "text": [
            "100%|██████████| 10/10 [00:14<00:00,  1.44s/it]\n"
          ]
        },
        {
          "name": "stdout",
          "output_type": "stream",
          "text": [
            "Average validation Loss: 5.447679042816162\n",
            "Epoch [213/1000], Average Loss: 9.7507\n",
            "Average validation Loss: 5.447679042816162\n",
            "Learning rate decayed. Updated LR is: 0.000175\n"
          ]
        },
        {
          "name": "stderr",
          "output_type": "stream",
          "text": [
            "100%|██████████| 10/10 [00:14<00:00,  1.44s/it]\n"
          ]
        },
        {
          "name": "stdout",
          "output_type": "stream",
          "text": [
            "Average validation Loss: 30.517593383789062\n",
            "Epoch [214/1000], Average Loss: 11.0874\n",
            "Average validation Loss: 30.517593383789062\n",
            "Learning rate decayed. Updated LR is: 0.000175\n"
          ]
        },
        {
          "name": "stderr",
          "output_type": "stream",
          "text": [
            "100%|██████████| 10/10 [00:14<00:00,  1.44s/it]\n"
          ]
        },
        {
          "name": "stdout",
          "output_type": "stream",
          "text": [
            "Average validation Loss: 5.467580318450928\n",
            "Epoch [215/1000], Average Loss: 10.0363\n",
            "Average validation Loss: 5.467580318450928\n",
            "Learning rate decayed. Updated LR is: 0.000174\n"
          ]
        },
        {
          "name": "stderr",
          "output_type": "stream",
          "text": [
            "100%|██████████| 10/10 [00:14<00:00,  1.44s/it]\n"
          ]
        },
        {
          "name": "stdout",
          "output_type": "stream",
          "text": [
            "Average validation Loss: 12.008322715759277\n",
            "Epoch [216/1000], Average Loss: 11.0639\n",
            "Average validation Loss: 12.008322715759277\n",
            "Learning rate decayed. Updated LR is: 0.000174\n"
          ]
        },
        {
          "name": "stderr",
          "output_type": "stream",
          "text": [
            "100%|██████████| 10/10 [00:14<00:00,  1.44s/it]\n"
          ]
        },
        {
          "name": "stdout",
          "output_type": "stream",
          "text": [
            "Average validation Loss: 4.109143257141113\n",
            "Epoch [217/1000], Average Loss: 13.2235\n",
            "Average validation Loss: 4.109143257141113\n",
            "Learning rate decayed. Updated LR is: 0.000174\n"
          ]
        },
        {
          "name": "stderr",
          "output_type": "stream",
          "text": [
            "100%|██████████| 10/10 [00:14<00:00,  1.44s/it]\n"
          ]
        },
        {
          "name": "stdout",
          "output_type": "stream",
          "text": [
            "Average validation Loss: 6.736748695373535\n",
            "Epoch [218/1000], Average Loss: 13.1002\n",
            "Average validation Loss: 6.736748695373535\n",
            "Learning rate decayed. Updated LR is: 0.000174\n"
          ]
        },
        {
          "name": "stderr",
          "output_type": "stream",
          "text": [
            "100%|██████████| 10/10 [00:14<00:00,  1.44s/it]\n"
          ]
        },
        {
          "name": "stdout",
          "output_type": "stream",
          "text": [
            "Average validation Loss: 7.575002193450928\n",
            "Epoch [219/1000], Average Loss: 12.4241\n",
            "Average validation Loss: 7.575002193450928\n",
            "Learning rate decayed. Updated LR is: 0.000174\n"
          ]
        },
        {
          "name": "stderr",
          "output_type": "stream",
          "text": [
            "100%|██████████| 10/10 [00:14<00:00,  1.44s/it]\n"
          ]
        },
        {
          "name": "stdout",
          "output_type": "stream",
          "text": [
            "Average validation Loss: 7.4273810386657715\n",
            "Epoch [220/1000], Average Loss: 11.9027\n",
            "Average validation Loss: 7.4273810386657715\n",
            "Learning rate decayed. Updated LR is: 0.000173\n"
          ]
        },
        {
          "name": "stderr",
          "output_type": "stream",
          "text": [
            "100%|██████████| 10/10 [00:14<00:00,  1.44s/it]\n"
          ]
        },
        {
          "name": "stdout",
          "output_type": "stream",
          "text": [
            "Average validation Loss: 8.528097152709961\n",
            "Epoch [221/1000], Average Loss: 14.0767\n",
            "Average validation Loss: 8.528097152709961\n",
            "Learning rate decayed. Updated LR is: 0.000173\n"
          ]
        },
        {
          "name": "stderr",
          "output_type": "stream",
          "text": [
            "100%|██████████| 10/10 [00:14<00:00,  1.44s/it]\n"
          ]
        },
        {
          "name": "stdout",
          "output_type": "stream",
          "text": [
            "Average validation Loss: 7.628262996673584\n",
            "Epoch [222/1000], Average Loss: 11.5636\n",
            "Average validation Loss: 7.628262996673584\n",
            "Learning rate decayed. Updated LR is: 0.000173\n"
          ]
        },
        {
          "name": "stderr",
          "output_type": "stream",
          "text": [
            "100%|██████████| 10/10 [00:14<00:00,  1.44s/it]\n"
          ]
        },
        {
          "name": "stdout",
          "output_type": "stream",
          "text": [
            "Average validation Loss: 12.385444641113281\n",
            "Epoch [223/1000], Average Loss: 12.2839\n",
            "Average validation Loss: 12.385444641113281\n",
            "Learning rate decayed. Updated LR is: 0.000173\n"
          ]
        },
        {
          "name": "stderr",
          "output_type": "stream",
          "text": [
            "100%|██████████| 10/10 [00:14<00:00,  1.44s/it]\n"
          ]
        },
        {
          "name": "stdout",
          "output_type": "stream",
          "text": [
            "Average validation Loss: 15.210683822631836\n",
            "Epoch [224/1000], Average Loss: 12.7684\n",
            "Average validation Loss: 15.210683822631836\n",
            "Learning rate decayed. Updated LR is: 0.000172\n"
          ]
        },
        {
          "name": "stderr",
          "output_type": "stream",
          "text": [
            "100%|██████████| 10/10 [00:14<00:00,  1.44s/it]\n"
          ]
        },
        {
          "name": "stdout",
          "output_type": "stream",
          "text": [
            "Average validation Loss: 5.0145978927612305\n",
            "Epoch [225/1000], Average Loss: 11.3517\n",
            "Average validation Loss: 5.0145978927612305\n",
            "Learning rate decayed. Updated LR is: 0.000172\n"
          ]
        },
        {
          "name": "stderr",
          "output_type": "stream",
          "text": [
            "100%|██████████| 10/10 [00:14<00:00,  1.44s/it]\n"
          ]
        },
        {
          "name": "stdout",
          "output_type": "stream",
          "text": [
            "Average validation Loss: 29.834524154663086\n",
            "Epoch [226/1000], Average Loss: 11.8920\n",
            "Average validation Loss: 29.834524154663086\n",
            "Learning rate decayed. Updated LR is: 0.000172\n"
          ]
        },
        {
          "name": "stderr",
          "output_type": "stream",
          "text": [
            "100%|██████████| 10/10 [00:14<00:00,  1.44s/it]\n"
          ]
        },
        {
          "name": "stdout",
          "output_type": "stream",
          "text": [
            "Average validation Loss: 12.6630859375\n",
            "Epoch [227/1000], Average Loss: 11.9037\n",
            "Average validation Loss: 12.6630859375\n",
            "Learning rate decayed. Updated LR is: 0.000172\n"
          ]
        },
        {
          "name": "stderr",
          "output_type": "stream",
          "text": [
            "100%|██████████| 10/10 [00:14<00:00,  1.44s/it]\n"
          ]
        },
        {
          "name": "stdout",
          "output_type": "stream",
          "text": [
            "Average validation Loss: 5.773056983947754\n",
            "Epoch [228/1000], Average Loss: 11.0627\n",
            "Average validation Loss: 5.773056983947754\n",
            "Learning rate decayed. Updated LR is: 0.000172\n"
          ]
        },
        {
          "name": "stderr",
          "output_type": "stream",
          "text": [
            "100%|██████████| 10/10 [00:14<00:00,  1.44s/it]\n"
          ]
        },
        {
          "name": "stdout",
          "output_type": "stream",
          "text": [
            "Average validation Loss: 8.528067588806152\n",
            "Epoch [229/1000], Average Loss: 10.5940\n",
            "Average validation Loss: 8.528067588806152\n",
            "Learning rate decayed. Updated LR is: 0.000171\n"
          ]
        },
        {
          "name": "stderr",
          "output_type": "stream",
          "text": [
            "100%|██████████| 10/10 [00:14<00:00,  1.44s/it]\n"
          ]
        },
        {
          "name": "stdout",
          "output_type": "stream",
          "text": [
            "Average validation Loss: 3.7936086654663086\n",
            "Epoch [230/1000], Average Loss: 10.6693\n",
            "Average validation Loss: 3.7936086654663086\n",
            "Learning rate decayed. Updated LR is: 0.000171\n"
          ]
        },
        {
          "name": "stderr",
          "output_type": "stream",
          "text": [
            "100%|██████████| 10/10 [00:14<00:00,  1.44s/it]\n"
          ]
        },
        {
          "name": "stdout",
          "output_type": "stream",
          "text": [
            "Average validation Loss: 5.874991416931152\n",
            "Epoch [231/1000], Average Loss: 10.0510\n",
            "Average validation Loss: 5.874991416931152\n",
            "Learning rate decayed. Updated LR is: 0.000171\n"
          ]
        },
        {
          "name": "stderr",
          "output_type": "stream",
          "text": [
            "100%|██████████| 10/10 [00:14<00:00,  1.44s/it]\n"
          ]
        },
        {
          "name": "stdout",
          "output_type": "stream",
          "text": [
            "Average validation Loss: 6.988809108734131\n",
            "Epoch [232/1000], Average Loss: 10.7285\n",
            "Average validation Loss: 6.988809108734131\n",
            "Learning rate decayed. Updated LR is: 0.000171\n"
          ]
        },
        {
          "name": "stderr",
          "output_type": "stream",
          "text": [
            "100%|██████████| 10/10 [00:14<00:00,  1.44s/it]\n"
          ]
        },
        {
          "name": "stdout",
          "output_type": "stream",
          "text": [
            "Average validation Loss: 9.457807540893555\n",
            "Epoch [233/1000], Average Loss: 12.2369\n",
            "Average validation Loss: 9.457807540893555\n",
            "Learning rate decayed. Updated LR is: 0.000170\n"
          ]
        },
        {
          "name": "stderr",
          "output_type": "stream",
          "text": [
            "100%|██████████| 10/10 [00:14<00:00,  1.44s/it]\n"
          ]
        },
        {
          "name": "stdout",
          "output_type": "stream",
          "text": [
            "Average validation Loss: 7.6874098777771\n",
            "Epoch [234/1000], Average Loss: 10.1927\n",
            "Average validation Loss: 7.6874098777771\n",
            "Learning rate decayed. Updated LR is: 0.000170\n"
          ]
        },
        {
          "name": "stderr",
          "output_type": "stream",
          "text": [
            "100%|██████████| 10/10 [00:14<00:00,  1.44s/it]\n"
          ]
        },
        {
          "name": "stdout",
          "output_type": "stream",
          "text": [
            "Average validation Loss: 30.086950302124023\n",
            "Epoch [235/1000], Average Loss: 11.1396\n",
            "Average validation Loss: 30.086950302124023\n",
            "Learning rate decayed. Updated LR is: 0.000170\n"
          ]
        },
        {
          "name": "stderr",
          "output_type": "stream",
          "text": [
            "100%|██████████| 10/10 [00:14<00:00,  1.44s/it]\n"
          ]
        },
        {
          "name": "stdout",
          "output_type": "stream",
          "text": [
            "Average validation Loss: 7.2310004234313965\n",
            "Epoch [236/1000], Average Loss: 10.9487\n",
            "Average validation Loss: 7.2310004234313965\n",
            "Learning rate decayed. Updated LR is: 0.000170\n"
          ]
        },
        {
          "name": "stderr",
          "output_type": "stream",
          "text": [
            "100%|██████████| 10/10 [00:14<00:00,  1.44s/it]\n"
          ]
        },
        {
          "name": "stdout",
          "output_type": "stream",
          "text": [
            "Average validation Loss: 5.371306419372559\n",
            "Epoch [237/1000], Average Loss: 11.2852\n",
            "Average validation Loss: 5.371306419372559\n",
            "Learning rate decayed. Updated LR is: 0.000170\n"
          ]
        },
        {
          "name": "stderr",
          "output_type": "stream",
          "text": [
            "100%|██████████| 10/10 [00:14<00:00,  1.44s/it]\n"
          ]
        },
        {
          "name": "stdout",
          "output_type": "stream",
          "text": [
            "Average validation Loss: 5.074893474578857\n",
            "Epoch [238/1000], Average Loss: 10.3720\n",
            "Average validation Loss: 5.074893474578857\n",
            "Learning rate decayed. Updated LR is: 0.000169\n"
          ]
        },
        {
          "name": "stderr",
          "output_type": "stream",
          "text": [
            "100%|██████████| 10/10 [00:14<00:00,  1.44s/it]\n"
          ]
        },
        {
          "name": "stdout",
          "output_type": "stream",
          "text": [
            "Average validation Loss: 7.959315776824951\n",
            "Epoch [239/1000], Average Loss: 10.7423\n",
            "Average validation Loss: 7.959315776824951\n",
            "Learning rate decayed. Updated LR is: 0.000169\n"
          ]
        },
        {
          "name": "stderr",
          "output_type": "stream",
          "text": [
            "100%|██████████| 10/10 [00:14<00:00,  1.45s/it]\n"
          ]
        },
        {
          "name": "stdout",
          "output_type": "stream",
          "text": [
            "Average validation Loss: 10.698649406433105\n",
            "Epoch [240/1000], Average Loss: 11.2011\n",
            "Average validation Loss: 10.698649406433105\n",
            "Learning rate decayed. Updated LR is: 0.000169\n"
          ]
        },
        {
          "name": "stderr",
          "output_type": "stream",
          "text": [
            "100%|██████████| 10/10 [00:14<00:00,  1.44s/it]\n"
          ]
        },
        {
          "name": "stdout",
          "output_type": "stream",
          "text": [
            "Average validation Loss: 6.703824996948242\n",
            "Epoch [241/1000], Average Loss: 9.6493\n",
            "Average validation Loss: 6.703824996948242\n",
            "Learning rate decayed. Updated LR is: 0.000169\n"
          ]
        },
        {
          "name": "stderr",
          "output_type": "stream",
          "text": [
            "100%|██████████| 10/10 [00:14<00:00,  1.44s/it]\n"
          ]
        },
        {
          "name": "stdout",
          "output_type": "stream",
          "text": [
            "Average validation Loss: 26.68477439880371\n",
            "Epoch [242/1000], Average Loss: 10.2540\n",
            "Average validation Loss: 26.68477439880371\n",
            "Learning rate decayed. Updated LR is: 0.000168\n"
          ]
        },
        {
          "name": "stderr",
          "output_type": "stream",
          "text": [
            "100%|██████████| 10/10 [00:14<00:00,  1.44s/it]\n"
          ]
        },
        {
          "name": "stdout",
          "output_type": "stream",
          "text": [
            "Average validation Loss: 3.822171211242676\n",
            "Epoch [243/1000], Average Loss: 9.9254\n",
            "Average validation Loss: 3.822171211242676\n",
            "Learning rate decayed. Updated LR is: 0.000168\n"
          ]
        },
        {
          "name": "stderr",
          "output_type": "stream",
          "text": [
            "100%|██████████| 10/10 [00:14<00:00,  1.44s/it]\n"
          ]
        },
        {
          "name": "stdout",
          "output_type": "stream",
          "text": [
            "Average validation Loss: 6.050797939300537\n",
            "Epoch [244/1000], Average Loss: 10.4782\n",
            "Average validation Loss: 6.050797939300537\n",
            "Learning rate decayed. Updated LR is: 0.000168\n"
          ]
        },
        {
          "name": "stderr",
          "output_type": "stream",
          "text": [
            "100%|██████████| 10/10 [00:14<00:00,  1.44s/it]\n"
          ]
        },
        {
          "name": "stdout",
          "output_type": "stream",
          "text": [
            "Average validation Loss: 3.677852153778076\n",
            "Epoch [245/1000], Average Loss: 10.5583\n",
            "Average validation Loss: 3.677852153778076\n",
            "Learning rate decayed. Updated LR is: 0.000168\n"
          ]
        },
        {
          "name": "stderr",
          "output_type": "stream",
          "text": [
            "100%|██████████| 10/10 [00:14<00:00,  1.44s/it]\n"
          ]
        },
        {
          "name": "stdout",
          "output_type": "stream",
          "text": [
            "Average validation Loss: 10.789663314819336\n",
            "Epoch [246/1000], Average Loss: 10.3748\n",
            "Average validation Loss: 10.789663314819336\n",
            "Learning rate decayed. Updated LR is: 0.000168\n"
          ]
        },
        {
          "name": "stderr",
          "output_type": "stream",
          "text": [
            "100%|██████████| 10/10 [00:14<00:00,  1.44s/it]\n"
          ]
        },
        {
          "name": "stdout",
          "output_type": "stream",
          "text": [
            "Average validation Loss: 5.931682109832764\n",
            "Epoch [247/1000], Average Loss: 11.0338\n",
            "Average validation Loss: 5.931682109832764\n",
            "Learning rate decayed. Updated LR is: 0.000167\n"
          ]
        },
        {
          "name": "stderr",
          "output_type": "stream",
          "text": [
            "100%|██████████| 10/10 [00:14<00:00,  1.44s/it]\n"
          ]
        },
        {
          "name": "stdout",
          "output_type": "stream",
          "text": [
            "Average validation Loss: 5.475682258605957\n",
            "Epoch [248/1000], Average Loss: 9.3567\n",
            "Average validation Loss: 5.475682258605957\n",
            "Learning rate decayed. Updated LR is: 0.000167\n"
          ]
        },
        {
          "name": "stderr",
          "output_type": "stream",
          "text": [
            "100%|██████████| 10/10 [00:14<00:00,  1.44s/it]\n"
          ]
        },
        {
          "name": "stdout",
          "output_type": "stream",
          "text": [
            "Average validation Loss: 3.7016971111297607\n",
            "Epoch [249/1000], Average Loss: 9.0001\n",
            "Average validation Loss: 3.7016971111297607\n",
            "Learning rate decayed. Updated LR is: 0.000167\n"
          ]
        },
        {
          "name": "stderr",
          "output_type": "stream",
          "text": [
            "100%|██████████| 10/10 [00:14<00:00,  1.44s/it]\n"
          ]
        },
        {
          "name": "stdout",
          "output_type": "stream",
          "text": [
            "Average validation Loss: 5.264591217041016\n",
            "Epoch [250/1000], Average Loss: 9.3515\n",
            "Average validation Loss: 5.264591217041016\n",
            "Learning rate decayed. Updated LR is: 0.000167\n"
          ]
        },
        {
          "name": "stderr",
          "output_type": "stream",
          "text": [
            "100%|██████████| 10/10 [00:14<00:00,  1.44s/it]\n"
          ]
        },
        {
          "name": "stdout",
          "output_type": "stream",
          "text": [
            "Average validation Loss: 3.7414159774780273\n",
            "Epoch [251/1000], Average Loss: 9.6189\n",
            "Average validation Loss: 3.7414159774780273\n",
            "Learning rate decayed. Updated LR is: 0.000166\n"
          ]
        },
        {
          "name": "stderr",
          "output_type": "stream",
          "text": [
            "100%|██████████| 10/10 [00:14<00:00,  1.44s/it]\n"
          ]
        },
        {
          "name": "stdout",
          "output_type": "stream",
          "text": [
            "Average validation Loss: 4.799201011657715\n",
            "Epoch [252/1000], Average Loss: 9.3133\n",
            "Average validation Loss: 4.799201011657715\n",
            "Learning rate decayed. Updated LR is: 0.000166\n"
          ]
        },
        {
          "name": "stderr",
          "output_type": "stream",
          "text": [
            "100%|██████████| 10/10 [00:14<00:00,  1.44s/it]\n"
          ]
        },
        {
          "name": "stdout",
          "output_type": "stream",
          "text": [
            "Average validation Loss: 3.492919445037842\n",
            "Epoch [253/1000], Average Loss: 9.7503\n",
            "Average validation Loss: 3.492919445037842\n",
            "Learning rate decayed. Updated LR is: 0.000166\n"
          ]
        },
        {
          "name": "stderr",
          "output_type": "stream",
          "text": [
            "100%|██████████| 10/10 [00:14<00:00,  1.44s/it]\n"
          ]
        },
        {
          "name": "stdout",
          "output_type": "stream",
          "text": [
            "Average validation Loss: 4.826526641845703\n",
            "Epoch [254/1000], Average Loss: 9.7581\n",
            "Average validation Loss: 4.826526641845703\n",
            "Learning rate decayed. Updated LR is: 0.000166\n"
          ]
        },
        {
          "name": "stderr",
          "output_type": "stream",
          "text": [
            "100%|██████████| 10/10 [00:14<00:00,  1.44s/it]\n"
          ]
        },
        {
          "name": "stdout",
          "output_type": "stream",
          "text": [
            "Average validation Loss: 3.948890447616577\n",
            "Epoch [255/1000], Average Loss: 10.7863\n",
            "Average validation Loss: 3.948890447616577\n",
            "Learning rate decayed. Updated LR is: 0.000166\n"
          ]
        },
        {
          "name": "stderr",
          "output_type": "stream",
          "text": [
            "100%|██████████| 10/10 [00:14<00:00,  1.44s/it]\n"
          ]
        },
        {
          "name": "stdout",
          "output_type": "stream",
          "text": [
            "Average validation Loss: 6.133763313293457\n",
            "Epoch [256/1000], Average Loss: 10.6870\n",
            "Average validation Loss: 6.133763313293457\n",
            "Learning rate decayed. Updated LR is: 0.000165\n"
          ]
        },
        {
          "name": "stderr",
          "output_type": "stream",
          "text": [
            "100%|██████████| 10/10 [00:14<00:00,  1.44s/it]\n"
          ]
        },
        {
          "name": "stdout",
          "output_type": "stream",
          "text": [
            "Average validation Loss: 5.604541778564453\n",
            "Epoch [257/1000], Average Loss: 9.9410\n",
            "Average validation Loss: 5.604541778564453\n",
            "Learning rate decayed. Updated LR is: 0.000165\n"
          ]
        },
        {
          "name": "stderr",
          "output_type": "stream",
          "text": [
            "100%|██████████| 10/10 [00:14<00:00,  1.44s/it]\n"
          ]
        },
        {
          "name": "stdout",
          "output_type": "stream",
          "text": [
            "Average validation Loss: 11.520780563354492\n",
            "Epoch [258/1000], Average Loss: 9.8009\n",
            "Average validation Loss: 11.520780563354492\n",
            "Learning rate decayed. Updated LR is: 0.000165\n"
          ]
        },
        {
          "name": "stderr",
          "output_type": "stream",
          "text": [
            "100%|██████████| 10/10 [00:14<00:00,  1.44s/it]\n"
          ]
        },
        {
          "name": "stdout",
          "output_type": "stream",
          "text": [
            "Average validation Loss: 18.07522201538086\n",
            "Epoch [259/1000], Average Loss: 12.5842\n",
            "Average validation Loss: 18.07522201538086\n",
            "Learning rate decayed. Updated LR is: 0.000165\n"
          ]
        },
        {
          "name": "stderr",
          "output_type": "stream",
          "text": [
            "100%|██████████| 10/10 [00:14<00:00,  1.44s/it]\n"
          ]
        },
        {
          "name": "stdout",
          "output_type": "stream",
          "text": [
            "Average validation Loss: 7.77169942855835\n",
            "Epoch [260/1000], Average Loss: 9.4304\n",
            "Average validation Loss: 7.77169942855835\n",
            "Learning rate decayed. Updated LR is: 0.000164\n"
          ]
        },
        {
          "name": "stderr",
          "output_type": "stream",
          "text": [
            "100%|██████████| 10/10 [00:14<00:00,  1.44s/it]\n"
          ]
        },
        {
          "name": "stdout",
          "output_type": "stream",
          "text": [
            "Average validation Loss: 4.253144264221191\n",
            "Epoch [261/1000], Average Loss: 9.0482\n",
            "Average validation Loss: 4.253144264221191\n",
            "Learning rate decayed. Updated LR is: 0.000164\n"
          ]
        },
        {
          "name": "stderr",
          "output_type": "stream",
          "text": [
            "100%|██████████| 10/10 [00:14<00:00,  1.44s/it]\n"
          ]
        },
        {
          "name": "stdout",
          "output_type": "stream",
          "text": [
            "Average validation Loss: 23.950035095214844\n",
            "Epoch [262/1000], Average Loss: 9.4837\n",
            "Average validation Loss: 23.950035095214844\n",
            "Learning rate decayed. Updated LR is: 0.000164\n"
          ]
        },
        {
          "name": "stderr",
          "output_type": "stream",
          "text": [
            "100%|██████████| 10/10 [00:14<00:00,  1.44s/it]\n"
          ]
        },
        {
          "name": "stdout",
          "output_type": "stream",
          "text": [
            "Average validation Loss: 8.283105850219727\n",
            "Epoch [263/1000], Average Loss: 8.9607\n",
            "Average validation Loss: 8.283105850219727\n",
            "Learning rate decayed. Updated LR is: 0.000164\n"
          ]
        },
        {
          "name": "stderr",
          "output_type": "stream",
          "text": [
            "100%|██████████| 10/10 [00:14<00:00,  1.44s/it]\n"
          ]
        },
        {
          "name": "stdout",
          "output_type": "stream",
          "text": [
            "Average validation Loss: 4.822884559631348\n",
            "Epoch [264/1000], Average Loss: 9.0469\n",
            "Average validation Loss: 4.822884559631348\n",
            "Learning rate decayed. Updated LR is: 0.000164\n"
          ]
        },
        {
          "name": "stderr",
          "output_type": "stream",
          "text": [
            "100%|██████████| 10/10 [00:14<00:00,  1.44s/it]\n"
          ]
        },
        {
          "name": "stdout",
          "output_type": "stream",
          "text": [
            "Average validation Loss: 5.701756954193115\n",
            "Epoch [265/1000], Average Loss: 10.7757\n",
            "Average validation Loss: 5.701756954193115\n",
            "Learning rate decayed. Updated LR is: 0.000163\n"
          ]
        },
        {
          "name": "stderr",
          "output_type": "stream",
          "text": [
            "100%|██████████| 10/10 [00:14<00:00,  1.44s/it]\n"
          ]
        },
        {
          "name": "stdout",
          "output_type": "stream",
          "text": [
            "Average validation Loss: 3.1095690727233887\n",
            "Epoch [266/1000], Average Loss: 10.1994\n",
            "Average validation Loss: 3.1095690727233887\n",
            "Learning rate decayed. Updated LR is: 0.000163\n"
          ]
        },
        {
          "name": "stderr",
          "output_type": "stream",
          "text": [
            "100%|██████████| 10/10 [00:14<00:00,  1.44s/it]\n"
          ]
        },
        {
          "name": "stdout",
          "output_type": "stream",
          "text": [
            "Average validation Loss: 10.454742431640625\n",
            "Epoch [267/1000], Average Loss: 9.9091\n",
            "Average validation Loss: 10.454742431640625\n",
            "Learning rate decayed. Updated LR is: 0.000163\n"
          ]
        },
        {
          "name": "stderr",
          "output_type": "stream",
          "text": [
            "100%|██████████| 10/10 [00:14<00:00,  1.44s/it]\n"
          ]
        },
        {
          "name": "stdout",
          "output_type": "stream",
          "text": [
            "Average validation Loss: 15.295504570007324\n",
            "Epoch [268/1000], Average Loss: 9.6381\n",
            "Average validation Loss: 15.295504570007324\n",
            "Learning rate decayed. Updated LR is: 0.000163\n"
          ]
        },
        {
          "name": "stderr",
          "output_type": "stream",
          "text": [
            "100%|██████████| 10/10 [00:14<00:00,  1.44s/it]\n"
          ]
        },
        {
          "name": "stdout",
          "output_type": "stream",
          "text": [
            "Average validation Loss: 6.488696575164795\n",
            "Epoch [269/1000], Average Loss: 8.7004\n",
            "Average validation Loss: 6.488696575164795\n",
            "Learning rate decayed. Updated LR is: 0.000162\n"
          ]
        },
        {
          "name": "stderr",
          "output_type": "stream",
          "text": [
            "100%|██████████| 10/10 [00:14<00:00,  1.44s/it]\n"
          ]
        },
        {
          "name": "stdout",
          "output_type": "stream",
          "text": [
            "Average validation Loss: 3.7478671073913574\n",
            "Epoch [270/1000], Average Loss: 8.5695\n",
            "Average validation Loss: 3.7478671073913574\n",
            "Learning rate decayed. Updated LR is: 0.000162\n"
          ]
        },
        {
          "name": "stderr",
          "output_type": "stream",
          "text": [
            "100%|██████████| 10/10 [00:14<00:00,  1.44s/it]\n"
          ]
        },
        {
          "name": "stdout",
          "output_type": "stream",
          "text": [
            "Average validation Loss: 3.2275424003601074\n",
            "Epoch [271/1000], Average Loss: 9.2591\n",
            "Average validation Loss: 3.2275424003601074\n",
            "Learning rate decayed. Updated LR is: 0.000162\n"
          ]
        },
        {
          "name": "stderr",
          "output_type": "stream",
          "text": [
            "100%|██████████| 10/10 [00:14<00:00,  1.44s/it]\n"
          ]
        },
        {
          "name": "stdout",
          "output_type": "stream",
          "text": [
            "Average validation Loss: 6.960253715515137\n",
            "Epoch [272/1000], Average Loss: 8.9205\n",
            "Average validation Loss: 6.960253715515137\n",
            "Learning rate decayed. Updated LR is: 0.000162\n"
          ]
        },
        {
          "name": "stderr",
          "output_type": "stream",
          "text": [
            "100%|██████████| 10/10 [00:14<00:00,  1.44s/it]\n"
          ]
        },
        {
          "name": "stdout",
          "output_type": "stream",
          "text": [
            "Average validation Loss: 5.809695243835449\n",
            "Epoch [273/1000], Average Loss: 9.6279\n",
            "Average validation Loss: 5.809695243835449\n",
            "Learning rate decayed. Updated LR is: 0.000162\n"
          ]
        },
        {
          "name": "stderr",
          "output_type": "stream",
          "text": [
            "100%|██████████| 10/10 [00:14<00:00,  1.44s/it]\n"
          ]
        },
        {
          "name": "stdout",
          "output_type": "stream",
          "text": [
            "Average validation Loss: 10.797330856323242\n",
            "Epoch [274/1000], Average Loss: 9.2904\n",
            "Average validation Loss: 10.797330856323242\n",
            "Learning rate decayed. Updated LR is: 0.000161\n"
          ]
        },
        {
          "name": "stderr",
          "output_type": "stream",
          "text": [
            "100%|██████████| 10/10 [00:14<00:00,  1.44s/it]\n"
          ]
        },
        {
          "name": "stdout",
          "output_type": "stream",
          "text": [
            "Average validation Loss: 3.0744094848632812\n",
            "Epoch [275/1000], Average Loss: 8.6255\n",
            "Average validation Loss: 3.0744094848632812\n",
            "Learning rate decayed. Updated LR is: 0.000161\n"
          ]
        },
        {
          "name": "stderr",
          "output_type": "stream",
          "text": [
            "100%|██████████| 10/10 [00:14<00:00,  1.44s/it]\n"
          ]
        },
        {
          "name": "stdout",
          "output_type": "stream",
          "text": [
            "Average validation Loss: 9.927565574645996\n",
            "Epoch [276/1000], Average Loss: 9.3296\n",
            "Average validation Loss: 9.927565574645996\n",
            "Learning rate decayed. Updated LR is: 0.000161\n"
          ]
        },
        {
          "name": "stderr",
          "output_type": "stream",
          "text": [
            "100%|██████████| 10/10 [00:14<00:00,  1.44s/it]\n"
          ]
        },
        {
          "name": "stdout",
          "output_type": "stream",
          "text": [
            "Average validation Loss: 10.935081481933594\n",
            "Epoch [277/1000], Average Loss: 10.1275\n",
            "Average validation Loss: 10.935081481933594\n",
            "Learning rate decayed. Updated LR is: 0.000161\n"
          ]
        },
        {
          "name": "stderr",
          "output_type": "stream",
          "text": [
            "100%|██████████| 10/10 [00:14<00:00,  1.44s/it]\n"
          ]
        },
        {
          "name": "stdout",
          "output_type": "stream",
          "text": [
            "Average validation Loss: 5.623040676116943\n",
            "Epoch [278/1000], Average Loss: 10.7336\n",
            "Average validation Loss: 5.623040676116943\n",
            "Learning rate decayed. Updated LR is: 0.000160\n"
          ]
        },
        {
          "name": "stderr",
          "output_type": "stream",
          "text": [
            "100%|██████████| 10/10 [00:14<00:00,  1.44s/it]\n"
          ]
        },
        {
          "name": "stdout",
          "output_type": "stream",
          "text": [
            "Average validation Loss: 5.7023024559021\n",
            "Epoch [279/1000], Average Loss: 11.6419\n",
            "Average validation Loss: 5.7023024559021\n",
            "Learning rate decayed. Updated LR is: 0.000160\n"
          ]
        },
        {
          "name": "stderr",
          "output_type": "stream",
          "text": [
            "100%|██████████| 10/10 [00:14<00:00,  1.44s/it]\n"
          ]
        },
        {
          "name": "stdout",
          "output_type": "stream",
          "text": [
            "Average validation Loss: 11.736620903015137\n",
            "Epoch [280/1000], Average Loss: 10.6915\n",
            "Average validation Loss: 11.736620903015137\n",
            "Learning rate decayed. Updated LR is: 0.000160\n"
          ]
        },
        {
          "name": "stderr",
          "output_type": "stream",
          "text": [
            "100%|██████████| 10/10 [00:14<00:00,  1.44s/it]\n"
          ]
        },
        {
          "name": "stdout",
          "output_type": "stream",
          "text": [
            "Average validation Loss: 9.068380355834961\n",
            "Epoch [281/1000], Average Loss: 8.5951\n",
            "Average validation Loss: 9.068380355834961\n",
            "Learning rate decayed. Updated LR is: 0.000160\n"
          ]
        },
        {
          "name": "stderr",
          "output_type": "stream",
          "text": [
            "100%|██████████| 10/10 [00:14<00:00,  1.44s/it]\n"
          ]
        },
        {
          "name": "stdout",
          "output_type": "stream",
          "text": [
            "Average validation Loss: 2.9963011741638184\n",
            "Epoch [282/1000], Average Loss: 8.1884\n",
            "Average validation Loss: 2.9963011741638184\n",
            "Learning rate decayed. Updated LR is: 0.000160\n"
          ]
        },
        {
          "name": "stderr",
          "output_type": "stream",
          "text": [
            "100%|██████████| 10/10 [00:14<00:00,  1.44s/it]\n"
          ]
        },
        {
          "name": "stdout",
          "output_type": "stream",
          "text": [
            "Average validation Loss: 7.098256587982178\n",
            "Epoch [283/1000], Average Loss: 8.4813\n",
            "Average validation Loss: 7.098256587982178\n",
            "Learning rate decayed. Updated LR is: 0.000159\n"
          ]
        },
        {
          "name": "stderr",
          "output_type": "stream",
          "text": [
            "100%|██████████| 10/10 [00:14<00:00,  1.44s/it]\n"
          ]
        },
        {
          "name": "stdout",
          "output_type": "stream",
          "text": [
            "Average validation Loss: 3.7514922618865967\n",
            "Epoch [284/1000], Average Loss: 9.4839\n",
            "Average validation Loss: 3.7514922618865967\n",
            "Learning rate decayed. Updated LR is: 0.000159\n"
          ]
        },
        {
          "name": "stderr",
          "output_type": "stream",
          "text": [
            "100%|██████████| 10/10 [00:14<00:00,  1.44s/it]\n"
          ]
        },
        {
          "name": "stdout",
          "output_type": "stream",
          "text": [
            "Average validation Loss: 5.541814804077148\n",
            "Epoch [285/1000], Average Loss: 8.4001\n",
            "Average validation Loss: 5.541814804077148\n",
            "Learning rate decayed. Updated LR is: 0.000159\n"
          ]
        },
        {
          "name": "stderr",
          "output_type": "stream",
          "text": [
            "100%|██████████| 10/10 [00:14<00:00,  1.44s/it]\n"
          ]
        },
        {
          "name": "stdout",
          "output_type": "stream",
          "text": [
            "Average validation Loss: 10.712302207946777\n",
            "Epoch [286/1000], Average Loss: 8.6076\n",
            "Average validation Loss: 10.712302207946777\n",
            "Learning rate decayed. Updated LR is: 0.000159\n"
          ]
        },
        {
          "name": "stderr",
          "output_type": "stream",
          "text": [
            "100%|██████████| 10/10 [00:14<00:00,  1.44s/it]\n"
          ]
        },
        {
          "name": "stdout",
          "output_type": "stream",
          "text": [
            "Average validation Loss: 5.291440963745117\n",
            "Epoch [287/1000], Average Loss: 8.7043\n",
            "Average validation Loss: 5.291440963745117\n",
            "Learning rate decayed. Updated LR is: 0.000158\n"
          ]
        },
        {
          "name": "stderr",
          "output_type": "stream",
          "text": [
            "100%|██████████| 10/10 [00:14<00:00,  1.44s/it]\n"
          ]
        },
        {
          "name": "stdout",
          "output_type": "stream",
          "text": [
            "Average validation Loss: 9.93419075012207\n",
            "Epoch [288/1000], Average Loss: 9.3390\n",
            "Average validation Loss: 9.93419075012207\n",
            "Learning rate decayed. Updated LR is: 0.000158\n"
          ]
        },
        {
          "name": "stderr",
          "output_type": "stream",
          "text": [
            "100%|██████████| 10/10 [00:14<00:00,  1.44s/it]\n"
          ]
        },
        {
          "name": "stdout",
          "output_type": "stream",
          "text": [
            "Average validation Loss: 4.411363124847412\n",
            "Epoch [289/1000], Average Loss: 8.2942\n",
            "Average validation Loss: 4.411363124847412\n",
            "Learning rate decayed. Updated LR is: 0.000158\n"
          ]
        },
        {
          "name": "stderr",
          "output_type": "stream",
          "text": [
            "100%|██████████| 10/10 [00:14<00:00,  1.44s/it]\n"
          ]
        },
        {
          "name": "stdout",
          "output_type": "stream",
          "text": [
            "Average validation Loss: 4.958658218383789\n",
            "Epoch [290/1000], Average Loss: 8.6736\n",
            "Average validation Loss: 4.958658218383789\n",
            "Learning rate decayed. Updated LR is: 0.000158\n"
          ]
        },
        {
          "name": "stderr",
          "output_type": "stream",
          "text": [
            "100%|██████████| 10/10 [00:14<00:00,  1.44s/it]\n"
          ]
        },
        {
          "name": "stdout",
          "output_type": "stream",
          "text": [
            "Average validation Loss: 2.962984561920166\n",
            "Epoch [291/1000], Average Loss: 8.2619\n",
            "Average validation Loss: 2.962984561920166\n",
            "Learning rate decayed. Updated LR is: 0.000158\n"
          ]
        },
        {
          "name": "stderr",
          "output_type": "stream",
          "text": [
            "100%|██████████| 10/10 [00:14<00:00,  1.44s/it]\n"
          ]
        },
        {
          "name": "stdout",
          "output_type": "stream",
          "text": [
            "Average validation Loss: 9.796244621276855\n",
            "Epoch [292/1000], Average Loss: 10.2273\n",
            "Average validation Loss: 9.796244621276855\n",
            "Learning rate decayed. Updated LR is: 0.000157\n"
          ]
        },
        {
          "name": "stderr",
          "output_type": "stream",
          "text": [
            "100%|██████████| 10/10 [00:14<00:00,  1.44s/it]\n"
          ]
        },
        {
          "name": "stdout",
          "output_type": "stream",
          "text": [
            "Average validation Loss: 3.220828056335449\n",
            "Epoch [293/1000], Average Loss: 12.5315\n",
            "Average validation Loss: 3.220828056335449\n",
            "Learning rate decayed. Updated LR is: 0.000157\n"
          ]
        },
        {
          "name": "stderr",
          "output_type": "stream",
          "text": [
            "100%|██████████| 10/10 [00:14<00:00,  1.44s/it]\n"
          ]
        },
        {
          "name": "stdout",
          "output_type": "stream",
          "text": [
            "Average validation Loss: 5.421551704406738\n",
            "Epoch [294/1000], Average Loss: 9.3054\n",
            "Average validation Loss: 5.421551704406738\n",
            "Learning rate decayed. Updated LR is: 0.000157\n"
          ]
        },
        {
          "name": "stderr",
          "output_type": "stream",
          "text": [
            "100%|██████████| 10/10 [00:14<00:00,  1.44s/it]\n"
          ]
        },
        {
          "name": "stdout",
          "output_type": "stream",
          "text": [
            "Average validation Loss: 5.604910850524902\n",
            "Epoch [295/1000], Average Loss: 8.4411\n",
            "Average validation Loss: 5.604910850524902\n",
            "Learning rate decayed. Updated LR is: 0.000157\n"
          ]
        },
        {
          "name": "stderr",
          "output_type": "stream",
          "text": [
            "100%|██████████| 10/10 [00:14<00:00,  1.44s/it]\n"
          ]
        },
        {
          "name": "stdout",
          "output_type": "stream",
          "text": [
            "Average validation Loss: 13.875651359558105\n",
            "Epoch [296/1000], Average Loss: 8.4077\n",
            "Average validation Loss: 13.875651359558105\n",
            "Learning rate decayed. Updated LR is: 0.000156\n"
          ]
        },
        {
          "name": "stderr",
          "output_type": "stream",
          "text": [
            "100%|██████████| 10/10 [00:14<00:00,  1.44s/it]\n"
          ]
        },
        {
          "name": "stdout",
          "output_type": "stream",
          "text": [
            "Average validation Loss: 3.1969122886657715\n",
            "Epoch [297/1000], Average Loss: 8.0364\n",
            "Average validation Loss: 3.1969122886657715\n",
            "Learning rate decayed. Updated LR is: 0.000156\n"
          ]
        },
        {
          "name": "stderr",
          "output_type": "stream",
          "text": [
            "100%|██████████| 10/10 [00:14<00:00,  1.44s/it]\n"
          ]
        },
        {
          "name": "stdout",
          "output_type": "stream",
          "text": [
            "Average validation Loss: 6.109138011932373\n",
            "Epoch [298/1000], Average Loss: 8.1351\n",
            "Average validation Loss: 6.109138011932373\n",
            "Learning rate decayed. Updated LR is: 0.000156\n"
          ]
        },
        {
          "name": "stderr",
          "output_type": "stream",
          "text": [
            "100%|██████████| 10/10 [00:14<00:00,  1.44s/it]\n"
          ]
        },
        {
          "name": "stdout",
          "output_type": "stream",
          "text": [
            "Average validation Loss: 8.491766929626465\n",
            "Epoch [299/1000], Average Loss: 8.7640\n",
            "Average validation Loss: 8.491766929626465\n",
            "Learning rate decayed. Updated LR is: 0.000156\n"
          ]
        },
        {
          "name": "stderr",
          "output_type": "stream",
          "text": [
            "100%|██████████| 10/10 [00:14<00:00,  1.44s/it]\n"
          ]
        },
        {
          "name": "stdout",
          "output_type": "stream",
          "text": [
            "Average validation Loss: 4.804113388061523\n",
            "Epoch [300/1000], Average Loss: 7.9771\n",
            "Average validation Loss: 4.804113388061523\n",
            "Learning rate decayed. Updated LR is: 0.000156\n"
          ]
        },
        {
          "name": "stderr",
          "output_type": "stream",
          "text": [
            "100%|██████████| 10/10 [00:14<00:00,  1.44s/it]\n"
          ]
        },
        {
          "name": "stdout",
          "output_type": "stream",
          "text": [
            "Average validation Loss: 5.448780059814453\n",
            "Epoch [301/1000], Average Loss: 8.5752\n",
            "Average validation Loss: 5.448780059814453\n",
            "Learning rate decayed. Updated LR is: 0.000155\n"
          ]
        },
        {
          "name": "stderr",
          "output_type": "stream",
          "text": [
            "100%|██████████| 10/10 [00:14<00:00,  1.44s/it]\n"
          ]
        },
        {
          "name": "stdout",
          "output_type": "stream",
          "text": [
            "Average validation Loss: 10.91560173034668\n",
            "Epoch [302/1000], Average Loss: 8.5891\n",
            "Average validation Loss: 10.91560173034668\n",
            "Learning rate decayed. Updated LR is: 0.000155\n"
          ]
        },
        {
          "name": "stderr",
          "output_type": "stream",
          "text": [
            "100%|██████████| 10/10 [00:14<00:00,  1.44s/it]\n"
          ]
        },
        {
          "name": "stdout",
          "output_type": "stream",
          "text": [
            "Average validation Loss: 2.697669506072998\n",
            "Epoch [303/1000], Average Loss: 8.0674\n",
            "Average validation Loss: 2.697669506072998\n",
            "Learning rate decayed. Updated LR is: 0.000155\n"
          ]
        },
        {
          "name": "stderr",
          "output_type": "stream",
          "text": [
            "100%|██████████| 10/10 [00:14<00:00,  1.44s/it]\n"
          ]
        },
        {
          "name": "stdout",
          "output_type": "stream",
          "text": [
            "Average validation Loss: 5.955729961395264\n",
            "Epoch [304/1000], Average Loss: 8.1347\n",
            "Average validation Loss: 5.955729961395264\n",
            "Learning rate decayed. Updated LR is: 0.000155\n"
          ]
        },
        {
          "name": "stderr",
          "output_type": "stream",
          "text": [
            "100%|██████████| 10/10 [00:14<00:00,  1.44s/it]\n"
          ]
        },
        {
          "name": "stdout",
          "output_type": "stream",
          "text": [
            "Average validation Loss: 7.278684616088867\n",
            "Epoch [305/1000], Average Loss: 8.8341\n",
            "Average validation Loss: 7.278684616088867\n",
            "Learning rate decayed. Updated LR is: 0.000154\n"
          ]
        },
        {
          "name": "stderr",
          "output_type": "stream",
          "text": [
            "100%|██████████| 10/10 [00:14<00:00,  1.44s/it]\n"
          ]
        },
        {
          "name": "stdout",
          "output_type": "stream",
          "text": [
            "Average validation Loss: 9.277284622192383\n",
            "Epoch [306/1000], Average Loss: 8.6875\n",
            "Average validation Loss: 9.277284622192383\n",
            "Learning rate decayed. Updated LR is: 0.000154\n"
          ]
        },
        {
          "name": "stderr",
          "output_type": "stream",
          "text": [
            "100%|██████████| 10/10 [00:14<00:00,  1.44s/it]\n"
          ]
        },
        {
          "name": "stdout",
          "output_type": "stream",
          "text": [
            "Average validation Loss: 5.14801549911499\n",
            "Epoch [307/1000], Average Loss: 8.5183\n",
            "Average validation Loss: 5.14801549911499\n",
            "Learning rate decayed. Updated LR is: 0.000154\n"
          ]
        },
        {
          "name": "stderr",
          "output_type": "stream",
          "text": [
            "100%|██████████| 10/10 [00:14<00:00,  1.44s/it]\n"
          ]
        },
        {
          "name": "stdout",
          "output_type": "stream",
          "text": [
            "Average validation Loss: 5.522120952606201\n",
            "Epoch [308/1000], Average Loss: 8.8476\n",
            "Average validation Loss: 5.522120952606201\n",
            "Learning rate decayed. Updated LR is: 0.000154\n"
          ]
        },
        {
          "name": "stderr",
          "output_type": "stream",
          "text": [
            "100%|██████████| 10/10 [00:14<00:00,  1.44s/it]\n"
          ]
        },
        {
          "name": "stdout",
          "output_type": "stream",
          "text": [
            "Average validation Loss: 7.287717342376709\n",
            "Epoch [309/1000], Average Loss: 8.9427\n",
            "Average validation Loss: 7.287717342376709\n",
            "Learning rate decayed. Updated LR is: 0.000154\n"
          ]
        },
        {
          "name": "stderr",
          "output_type": "stream",
          "text": [
            "100%|██████████| 10/10 [00:14<00:00,  1.44s/it]\n"
          ]
        },
        {
          "name": "stdout",
          "output_type": "stream",
          "text": [
            "Average validation Loss: 9.525897026062012\n",
            "Epoch [310/1000], Average Loss: 9.5565\n",
            "Average validation Loss: 9.525897026062012\n",
            "Learning rate decayed. Updated LR is: 0.000153\n"
          ]
        },
        {
          "name": "stderr",
          "output_type": "stream",
          "text": [
            "100%|██████████| 10/10 [00:14<00:00,  1.44s/it]\n"
          ]
        },
        {
          "name": "stdout",
          "output_type": "stream",
          "text": [
            "Average validation Loss: 9.049837112426758\n",
            "Epoch [311/1000], Average Loss: 10.8154\n",
            "Average validation Loss: 9.049837112426758\n",
            "Learning rate decayed. Updated LR is: 0.000153\n"
          ]
        },
        {
          "name": "stderr",
          "output_type": "stream",
          "text": [
            "100%|██████████| 10/10 [00:14<00:00,  1.44s/it]\n"
          ]
        },
        {
          "name": "stdout",
          "output_type": "stream",
          "text": [
            "Average validation Loss: 7.648561000823975\n",
            "Epoch [312/1000], Average Loss: 9.1874\n",
            "Average validation Loss: 7.648561000823975\n",
            "Learning rate decayed. Updated LR is: 0.000153\n"
          ]
        },
        {
          "name": "stderr",
          "output_type": "stream",
          "text": [
            "100%|██████████| 10/10 [00:14<00:00,  1.44s/it]\n"
          ]
        },
        {
          "name": "stdout",
          "output_type": "stream",
          "text": [
            "Average validation Loss: 3.297057867050171\n",
            "Epoch [313/1000], Average Loss: 9.0481\n",
            "Average validation Loss: 3.297057867050171\n",
            "Learning rate decayed. Updated LR is: 0.000153\n"
          ]
        },
        {
          "name": "stderr",
          "output_type": "stream",
          "text": [
            "100%|██████████| 10/10 [00:14<00:00,  1.44s/it]\n"
          ]
        },
        {
          "name": "stdout",
          "output_type": "stream",
          "text": [
            "Average validation Loss: 4.324355602264404\n",
            "Epoch [314/1000], Average Loss: 9.7510\n",
            "Average validation Loss: 4.324355602264404\n",
            "Learning rate decayed. Updated LR is: 0.000152\n"
          ]
        },
        {
          "name": "stderr",
          "output_type": "stream",
          "text": [
            "100%|██████████| 10/10 [00:14<00:00,  1.44s/it]\n"
          ]
        },
        {
          "name": "stdout",
          "output_type": "stream",
          "text": [
            "Average validation Loss: 8.950130462646484\n",
            "Epoch [315/1000], Average Loss: 10.0815\n",
            "Average validation Loss: 8.950130462646484\n",
            "Learning rate decayed. Updated LR is: 0.000152\n"
          ]
        },
        {
          "name": "stderr",
          "output_type": "stream",
          "text": [
            "100%|██████████| 10/10 [00:14<00:00,  1.44s/it]\n"
          ]
        },
        {
          "name": "stdout",
          "output_type": "stream",
          "text": [
            "Average validation Loss: 12.072955131530762\n",
            "Epoch [316/1000], Average Loss: 9.6410\n",
            "Average validation Loss: 12.072955131530762\n",
            "Learning rate decayed. Updated LR is: 0.000152\n"
          ]
        },
        {
          "name": "stderr",
          "output_type": "stream",
          "text": [
            "100%|██████████| 10/10 [00:14<00:00,  1.44s/it]\n"
          ]
        },
        {
          "name": "stdout",
          "output_type": "stream",
          "text": [
            "Average validation Loss: 4.026644706726074\n",
            "Epoch [317/1000], Average Loss: 10.1830\n",
            "Average validation Loss: 4.026644706726074\n",
            "Learning rate decayed. Updated LR is: 0.000152\n"
          ]
        },
        {
          "name": "stderr",
          "output_type": "stream",
          "text": [
            "100%|██████████| 10/10 [00:14<00:00,  1.44s/it]\n"
          ]
        },
        {
          "name": "stdout",
          "output_type": "stream",
          "text": [
            "Average validation Loss: 14.66016960144043\n",
            "Epoch [318/1000], Average Loss: 9.3634\n",
            "Average validation Loss: 14.66016960144043\n",
            "Learning rate decayed. Updated LR is: 0.000152\n"
          ]
        },
        {
          "name": "stderr",
          "output_type": "stream",
          "text": [
            "100%|██████████| 10/10 [00:14<00:00,  1.44s/it]\n"
          ]
        },
        {
          "name": "stdout",
          "output_type": "stream",
          "text": [
            "Average validation Loss: 6.227302551269531\n",
            "Epoch [319/1000], Average Loss: 8.6814\n",
            "Average validation Loss: 6.227302551269531\n",
            "Learning rate decayed. Updated LR is: 0.000151\n"
          ]
        },
        {
          "name": "stderr",
          "output_type": "stream",
          "text": [
            "100%|██████████| 10/10 [00:14<00:00,  1.44s/it]\n"
          ]
        },
        {
          "name": "stdout",
          "output_type": "stream",
          "text": [
            "Average validation Loss: 3.0247294902801514\n",
            "Epoch [320/1000], Average Loss: 9.3403\n",
            "Average validation Loss: 3.0247294902801514\n",
            "Learning rate decayed. Updated LR is: 0.000151\n"
          ]
        },
        {
          "name": "stderr",
          "output_type": "stream",
          "text": [
            "100%|██████████| 10/10 [00:14<00:00,  1.44s/it]\n"
          ]
        },
        {
          "name": "stdout",
          "output_type": "stream",
          "text": [
            "Average validation Loss: 4.114123344421387\n",
            "Epoch [321/1000], Average Loss: 9.5482\n",
            "Average validation Loss: 4.114123344421387\n",
            "Learning rate decayed. Updated LR is: 0.000151\n"
          ]
        },
        {
          "name": "stderr",
          "output_type": "stream",
          "text": [
            "100%|██████████| 10/10 [00:14<00:00,  1.43s/it]\n"
          ]
        },
        {
          "name": "stdout",
          "output_type": "stream",
          "text": [
            "Average validation Loss: 9.471563339233398\n",
            "Epoch [322/1000], Average Loss: 8.7817\n",
            "Average validation Loss: 9.471563339233398\n",
            "Learning rate decayed. Updated LR is: 0.000151\n"
          ]
        },
        {
          "name": "stderr",
          "output_type": "stream",
          "text": [
            "100%|██████████| 10/10 [00:14<00:00,  1.44s/it]\n"
          ]
        },
        {
          "name": "stdout",
          "output_type": "stream",
          "text": [
            "Average validation Loss: 16.3331356048584\n",
            "Epoch [323/1000], Average Loss: 9.7993\n",
            "Average validation Loss: 16.3331356048584\n",
            "Learning rate decayed. Updated LR is: 0.000150\n"
          ]
        },
        {
          "name": "stderr",
          "output_type": "stream",
          "text": [
            "100%|██████████| 10/10 [00:14<00:00,  1.44s/it]\n"
          ]
        },
        {
          "name": "stdout",
          "output_type": "stream",
          "text": [
            "Average validation Loss: 3.377743721008301\n",
            "Epoch [324/1000], Average Loss: 8.1188\n",
            "Average validation Loss: 3.377743721008301\n",
            "Learning rate decayed. Updated LR is: 0.000150\n"
          ]
        },
        {
          "name": "stderr",
          "output_type": "stream",
          "text": [
            "100%|██████████| 10/10 [00:14<00:00,  1.43s/it]\n"
          ]
        },
        {
          "name": "stdout",
          "output_type": "stream",
          "text": [
            "Average validation Loss: 3.698124647140503\n",
            "Epoch [325/1000], Average Loss: 8.4010\n",
            "Average validation Loss: 3.698124647140503\n",
            "Learning rate decayed. Updated LR is: 0.000150\n"
          ]
        },
        {
          "name": "stderr",
          "output_type": "stream",
          "text": [
            "100%|██████████| 10/10 [00:14<00:00,  1.43s/it]\n"
          ]
        },
        {
          "name": "stdout",
          "output_type": "stream",
          "text": [
            "Average validation Loss: 5.068050384521484\n",
            "Epoch [326/1000], Average Loss: 8.0963\n",
            "Average validation Loss: 5.068050384521484\n",
            "Learning rate decayed. Updated LR is: 0.000150\n"
          ]
        },
        {
          "name": "stderr",
          "output_type": "stream",
          "text": [
            "100%|██████████| 10/10 [00:14<00:00,  1.44s/it]\n"
          ]
        },
        {
          "name": "stdout",
          "output_type": "stream",
          "text": [
            "Average validation Loss: 3.27335786819458\n",
            "Epoch [327/1000], Average Loss: 9.8726\n",
            "Average validation Loss: 3.27335786819458\n",
            "Learning rate decayed. Updated LR is: 0.000150\n"
          ]
        },
        {
          "name": "stderr",
          "output_type": "stream",
          "text": [
            "100%|██████████| 10/10 [00:14<00:00,  1.43s/it]\n"
          ]
        },
        {
          "name": "stdout",
          "output_type": "stream",
          "text": [
            "Average validation Loss: 5.463611602783203\n",
            "Epoch [328/1000], Average Loss: 9.5208\n",
            "Average validation Loss: 5.463611602783203\n",
            "Learning rate decayed. Updated LR is: 0.000149\n"
          ]
        },
        {
          "name": "stderr",
          "output_type": "stream",
          "text": [
            "100%|██████████| 10/10 [00:14<00:00,  1.43s/it]\n"
          ]
        },
        {
          "name": "stdout",
          "output_type": "stream",
          "text": [
            "Average validation Loss: 3.3386597633361816\n",
            "Epoch [329/1000], Average Loss: 7.8639\n",
            "Average validation Loss: 3.3386597633361816\n",
            "Learning rate decayed. Updated LR is: 0.000149\n"
          ]
        },
        {
          "name": "stderr",
          "output_type": "stream",
          "text": [
            "100%|██████████| 10/10 [00:14<00:00,  1.43s/it]\n"
          ]
        },
        {
          "name": "stdout",
          "output_type": "stream",
          "text": [
            "Average validation Loss: 5.636235237121582\n",
            "Epoch [330/1000], Average Loss: 7.0482\n",
            "Average validation Loss: 5.636235237121582\n",
            "Learning rate decayed. Updated LR is: 0.000149\n"
          ]
        },
        {
          "name": "stderr",
          "output_type": "stream",
          "text": [
            "100%|██████████| 10/10 [00:14<00:00,  1.44s/it]\n"
          ]
        },
        {
          "name": "stdout",
          "output_type": "stream",
          "text": [
            "Average validation Loss: 3.7420012950897217\n",
            "Epoch [331/1000], Average Loss: 6.4568\n",
            "Average validation Loss: 3.7420012950897217\n",
            "Learning rate decayed. Updated LR is: 0.000149\n"
          ]
        },
        {
          "name": "stderr",
          "output_type": "stream",
          "text": [
            "100%|██████████| 10/10 [00:14<00:00,  1.44s/it]\n"
          ]
        },
        {
          "name": "stdout",
          "output_type": "stream",
          "text": [
            "Average validation Loss: 11.596874237060547\n",
            "Epoch [332/1000], Average Loss: 7.7429\n",
            "Average validation Loss: 11.596874237060547\n",
            "Learning rate decayed. Updated LR is: 0.000148\n"
          ]
        },
        {
          "name": "stderr",
          "output_type": "stream",
          "text": [
            "100%|██████████| 10/10 [00:14<00:00,  1.44s/it]\n"
          ]
        },
        {
          "name": "stdout",
          "output_type": "stream",
          "text": [
            "Average validation Loss: 5.463621139526367\n",
            "Epoch [333/1000], Average Loss: 7.6965\n",
            "Average validation Loss: 5.463621139526367\n",
            "Learning rate decayed. Updated LR is: 0.000148\n"
          ]
        },
        {
          "name": "stderr",
          "output_type": "stream",
          "text": [
            "100%|██████████| 10/10 [00:14<00:00,  1.43s/it]\n"
          ]
        },
        {
          "name": "stdout",
          "output_type": "stream",
          "text": [
            "Average validation Loss: 5.7898054122924805\n",
            "Epoch [334/1000], Average Loss: 7.5357\n",
            "Average validation Loss: 5.7898054122924805\n",
            "Learning rate decayed. Updated LR is: 0.000148\n"
          ]
        },
        {
          "name": "stderr",
          "output_type": "stream",
          "text": [
            "100%|██████████| 10/10 [00:14<00:00,  1.43s/it]\n"
          ]
        },
        {
          "name": "stdout",
          "output_type": "stream",
          "text": [
            "Average validation Loss: 4.91274356842041\n",
            "Epoch [335/1000], Average Loss: 8.1366\n",
            "Average validation Loss: 4.91274356842041\n",
            "Learning rate decayed. Updated LR is: 0.000148\n"
          ]
        },
        {
          "name": "stderr",
          "output_type": "stream",
          "text": [
            "100%|██████████| 10/10 [00:14<00:00,  1.44s/it]\n"
          ]
        },
        {
          "name": "stdout",
          "output_type": "stream",
          "text": [
            "Average validation Loss: 6.578639984130859\n",
            "Epoch [336/1000], Average Loss: 8.0933\n",
            "Average validation Loss: 6.578639984130859\n",
            "Learning rate decayed. Updated LR is: 0.000148\n"
          ]
        },
        {
          "name": "stderr",
          "output_type": "stream",
          "text": [
            "100%|██████████| 10/10 [00:14<00:00,  1.44s/it]\n"
          ]
        },
        {
          "name": "stdout",
          "output_type": "stream",
          "text": [
            "Average validation Loss: 21.559682846069336\n",
            "Epoch [337/1000], Average Loss: 10.3007\n",
            "Average validation Loss: 21.559682846069336\n",
            "Learning rate decayed. Updated LR is: 0.000147\n"
          ]
        },
        {
          "name": "stderr",
          "output_type": "stream",
          "text": [
            "100%|██████████| 10/10 [00:14<00:00,  1.43s/it]\n"
          ]
        },
        {
          "name": "stdout",
          "output_type": "stream",
          "text": [
            "Average validation Loss: 6.619306564331055\n",
            "Epoch [338/1000], Average Loss: 9.5644\n",
            "Average validation Loss: 6.619306564331055\n",
            "Learning rate decayed. Updated LR is: 0.000147\n"
          ]
        },
        {
          "name": "stderr",
          "output_type": "stream",
          "text": [
            "100%|██████████| 10/10 [00:14<00:00,  1.43s/it]\n"
          ]
        },
        {
          "name": "stdout",
          "output_type": "stream",
          "text": [
            "Average validation Loss: 6.161003112792969\n",
            "Epoch [339/1000], Average Loss: 7.9860\n",
            "Average validation Loss: 6.161003112792969\n",
            "Learning rate decayed. Updated LR is: 0.000147\n"
          ]
        },
        {
          "name": "stderr",
          "output_type": "stream",
          "text": [
            "100%|██████████| 10/10 [00:14<00:00,  1.44s/it]\n"
          ]
        },
        {
          "name": "stdout",
          "output_type": "stream",
          "text": [
            "Average validation Loss: 3.7769832611083984\n",
            "Epoch [340/1000], Average Loss: 7.1803\n",
            "Average validation Loss: 3.7769832611083984\n",
            "Learning rate decayed. Updated LR is: 0.000147\n"
          ]
        },
        {
          "name": "stderr",
          "output_type": "stream",
          "text": [
            "100%|██████████| 10/10 [00:14<00:00,  1.44s/it]\n"
          ]
        },
        {
          "name": "stdout",
          "output_type": "stream",
          "text": [
            "Average validation Loss: 3.3892717361450195\n",
            "Epoch [341/1000], Average Loss: 6.5203\n",
            "Average validation Loss: 3.3892717361450195\n",
            "Learning rate decayed. Updated LR is: 0.000146\n"
          ]
        },
        {
          "name": "stderr",
          "output_type": "stream",
          "text": [
            "100%|██████████| 10/10 [00:14<00:00,  1.43s/it]\n"
          ]
        },
        {
          "name": "stdout",
          "output_type": "stream",
          "text": [
            "Average validation Loss: 4.998536109924316\n",
            "Epoch [342/1000], Average Loss: 7.4707\n",
            "Average validation Loss: 4.998536109924316\n",
            "Learning rate decayed. Updated LR is: 0.000146\n"
          ]
        },
        {
          "name": "stderr",
          "output_type": "stream",
          "text": [
            "100%|██████████| 10/10 [00:14<00:00,  1.43s/it]\n"
          ]
        },
        {
          "name": "stdout",
          "output_type": "stream",
          "text": [
            "Average validation Loss: 3.7558279037475586\n",
            "Epoch [343/1000], Average Loss: 6.9719\n",
            "Average validation Loss: 3.7558279037475586\n",
            "Learning rate decayed. Updated LR is: 0.000146\n"
          ]
        },
        {
          "name": "stderr",
          "output_type": "stream",
          "text": [
            "100%|██████████| 10/10 [00:14<00:00,  1.43s/it]\n"
          ]
        },
        {
          "name": "stdout",
          "output_type": "stream",
          "text": [
            "Average validation Loss: 4.057267665863037\n",
            "Epoch [344/1000], Average Loss: 6.5813\n",
            "Average validation Loss: 4.057267665863037\n",
            "Learning rate decayed. Updated LR is: 0.000146\n"
          ]
        },
        {
          "name": "stderr",
          "output_type": "stream",
          "text": [
            "100%|██████████| 10/10 [00:14<00:00,  1.44s/it]\n"
          ]
        },
        {
          "name": "stdout",
          "output_type": "stream",
          "text": [
            "Average validation Loss: 2.244378089904785\n",
            "Epoch [345/1000], Average Loss: 7.0906\n",
            "Average validation Loss: 2.244378089904785\n",
            "Learning rate decayed. Updated LR is: 0.000146\n"
          ]
        },
        {
          "name": "stderr",
          "output_type": "stream",
          "text": [
            "100%|██████████| 10/10 [00:14<00:00,  1.44s/it]\n"
          ]
        },
        {
          "name": "stdout",
          "output_type": "stream",
          "text": [
            "Average validation Loss: 2.520516872406006\n",
            "Epoch [346/1000], Average Loss: 6.1572\n",
            "Average validation Loss: 2.520516872406006\n",
            "Learning rate decayed. Updated LR is: 0.000145\n"
          ]
        },
        {
          "name": "stderr",
          "output_type": "stream",
          "text": [
            "100%|██████████| 10/10 [00:14<00:00,  1.44s/it]\n"
          ]
        },
        {
          "name": "stdout",
          "output_type": "stream",
          "text": [
            "Average validation Loss: 2.5897765159606934\n",
            "Epoch [347/1000], Average Loss: 6.0413\n",
            "Average validation Loss: 2.5897765159606934\n",
            "Learning rate decayed. Updated LR is: 0.000145\n"
          ]
        },
        {
          "name": "stderr",
          "output_type": "stream",
          "text": [
            "100%|██████████| 10/10 [00:14<00:00,  1.43s/it]\n"
          ]
        },
        {
          "name": "stdout",
          "output_type": "stream",
          "text": [
            "Average validation Loss: 4.190234184265137\n",
            "Epoch [348/1000], Average Loss: 6.8364\n",
            "Average validation Loss: 4.190234184265137\n",
            "Learning rate decayed. Updated LR is: 0.000145\n"
          ]
        },
        {
          "name": "stderr",
          "output_type": "stream",
          "text": [
            "100%|██████████| 10/10 [00:14<00:00,  1.43s/it]\n"
          ]
        },
        {
          "name": "stdout",
          "output_type": "stream",
          "text": [
            "Average validation Loss: 4.701359748840332\n",
            "Epoch [349/1000], Average Loss: 6.8804\n",
            "Average validation Loss: 4.701359748840332\n",
            "Learning rate decayed. Updated LR is: 0.000145\n"
          ]
        },
        {
          "name": "stderr",
          "output_type": "stream",
          "text": [
            "100%|██████████| 10/10 [00:14<00:00,  1.43s/it]\n"
          ]
        },
        {
          "name": "stdout",
          "output_type": "stream",
          "text": [
            "Average validation Loss: 6.276656150817871\n",
            "Epoch [350/1000], Average Loss: 7.7720\n",
            "Average validation Loss: 6.276656150817871\n",
            "Learning rate decayed. Updated LR is: 0.000144\n"
          ]
        },
        {
          "name": "stderr",
          "output_type": "stream",
          "text": [
            "100%|██████████| 10/10 [00:14<00:00,  1.44s/it]\n"
          ]
        },
        {
          "name": "stdout",
          "output_type": "stream",
          "text": [
            "Average validation Loss: 11.66501235961914\n",
            "Epoch [351/1000], Average Loss: 8.9555\n",
            "Average validation Loss: 11.66501235961914\n",
            "Learning rate decayed. Updated LR is: 0.000144\n"
          ]
        },
        {
          "name": "stderr",
          "output_type": "stream",
          "text": [
            "100%|██████████| 10/10 [00:14<00:00,  1.43s/it]\n"
          ]
        },
        {
          "name": "stdout",
          "output_type": "stream",
          "text": [
            "Average validation Loss: 4.867902755737305\n",
            "Epoch [352/1000], Average Loss: 8.7105\n",
            "Average validation Loss: 4.867902755737305\n",
            "Learning rate decayed. Updated LR is: 0.000144\n"
          ]
        },
        {
          "name": "stderr",
          "output_type": "stream",
          "text": [
            "100%|██████████| 10/10 [00:14<00:00,  1.43s/it]\n"
          ]
        },
        {
          "name": "stdout",
          "output_type": "stream",
          "text": [
            "Average validation Loss: 7.305845260620117\n",
            "Epoch [353/1000], Average Loss: 7.8804\n",
            "Average validation Loss: 7.305845260620117\n",
            "Learning rate decayed. Updated LR is: 0.000144\n"
          ]
        },
        {
          "name": "stderr",
          "output_type": "stream",
          "text": [
            "100%|██████████| 10/10 [00:14<00:00,  1.44s/it]\n"
          ]
        },
        {
          "name": "stdout",
          "output_type": "stream",
          "text": [
            "Average validation Loss: 3.5894124507904053\n",
            "Epoch [354/1000], Average Loss: 6.8761\n",
            "Average validation Loss: 3.5894124507904053\n",
            "Learning rate decayed. Updated LR is: 0.000144\n"
          ]
        },
        {
          "name": "stderr",
          "output_type": "stream",
          "text": [
            "100%|██████████| 10/10 [00:14<00:00,  1.44s/it]\n"
          ]
        },
        {
          "name": "stdout",
          "output_type": "stream",
          "text": [
            "Average validation Loss: 6.0668487548828125\n",
            "Epoch [355/1000], Average Loss: 7.0475\n",
            "Average validation Loss: 6.0668487548828125\n",
            "Learning rate decayed. Updated LR is: 0.000143\n"
          ]
        },
        {
          "name": "stderr",
          "output_type": "stream",
          "text": [
            "100%|██████████| 10/10 [00:14<00:00,  1.43s/it]\n"
          ]
        },
        {
          "name": "stdout",
          "output_type": "stream",
          "text": [
            "Average validation Loss: 2.701930522918701\n",
            "Epoch [356/1000], Average Loss: 7.9265\n",
            "Average validation Loss: 2.701930522918701\n",
            "Learning rate decayed. Updated LR is: 0.000143\n"
          ]
        },
        {
          "name": "stderr",
          "output_type": "stream",
          "text": [
            "100%|██████████| 10/10 [00:14<00:00,  1.44s/it]\n"
          ]
        },
        {
          "name": "stdout",
          "output_type": "stream",
          "text": [
            "Average validation Loss: 3.863328695297241\n",
            "Epoch [357/1000], Average Loss: 6.6868\n",
            "Average validation Loss: 3.863328695297241\n",
            "Learning rate decayed. Updated LR is: 0.000143\n"
          ]
        },
        {
          "name": "stderr",
          "output_type": "stream",
          "text": [
            "100%|██████████| 10/10 [00:14<00:00,  1.44s/it]\n"
          ]
        },
        {
          "name": "stdout",
          "output_type": "stream",
          "text": [
            "Average validation Loss: 4.367032051086426\n",
            "Epoch [358/1000], Average Loss: 7.5574\n",
            "Average validation Loss: 4.367032051086426\n",
            "Learning rate decayed. Updated LR is: 0.000143\n"
          ]
        },
        {
          "name": "stderr",
          "output_type": "stream",
          "text": [
            "100%|██████████| 10/10 [00:14<00:00,  1.43s/it]\n"
          ]
        },
        {
          "name": "stdout",
          "output_type": "stream",
          "text": [
            "Average validation Loss: 5.482636451721191\n",
            "Epoch [359/1000], Average Loss: 7.4862\n",
            "Average validation Loss: 5.482636451721191\n",
            "Learning rate decayed. Updated LR is: 0.000142\n"
          ]
        },
        {
          "name": "stderr",
          "output_type": "stream",
          "text": [
            "100%|██████████| 10/10 [00:14<00:00,  1.43s/it]\n"
          ]
        },
        {
          "name": "stdout",
          "output_type": "stream",
          "text": [
            "Average validation Loss: 4.9972944259643555\n",
            "Epoch [360/1000], Average Loss: 7.8189\n",
            "Average validation Loss: 4.9972944259643555\n",
            "Learning rate decayed. Updated LR is: 0.000142\n"
          ]
        },
        {
          "name": "stderr",
          "output_type": "stream",
          "text": [
            "100%|██████████| 10/10 [00:14<00:00,  1.44s/it]\n"
          ]
        },
        {
          "name": "stdout",
          "output_type": "stream",
          "text": [
            "Average validation Loss: 17.79727554321289\n",
            "Epoch [361/1000], Average Loss: 7.4683\n",
            "Average validation Loss: 17.79727554321289\n",
            "Learning rate decayed. Updated LR is: 0.000142\n"
          ]
        },
        {
          "name": "stderr",
          "output_type": "stream",
          "text": [
            "100%|██████████| 10/10 [00:14<00:00,  1.43s/it]\n"
          ]
        },
        {
          "name": "stdout",
          "output_type": "stream",
          "text": [
            "Average validation Loss: 8.304156303405762\n",
            "Epoch [362/1000], Average Loss: 8.9711\n",
            "Average validation Loss: 8.304156303405762\n",
            "Learning rate decayed. Updated LR is: 0.000142\n"
          ]
        },
        {
          "name": "stderr",
          "output_type": "stream",
          "text": [
            "100%|██████████| 10/10 [00:14<00:00,  1.43s/it]\n"
          ]
        },
        {
          "name": "stdout",
          "output_type": "stream",
          "text": [
            "Average validation Loss: 9.41120719909668\n",
            "Epoch [363/1000], Average Loss: 9.0259\n",
            "Average validation Loss: 9.41120719909668\n",
            "Learning rate decayed. Updated LR is: 0.000142\n"
          ]
        },
        {
          "name": "stderr",
          "output_type": "stream",
          "text": [
            "100%|██████████| 10/10 [00:14<00:00,  1.43s/it]\n"
          ]
        },
        {
          "name": "stdout",
          "output_type": "stream",
          "text": [
            "Average validation Loss: 3.443199872970581\n",
            "Epoch [364/1000], Average Loss: 7.4192\n",
            "Average validation Loss: 3.443199872970581\n",
            "Learning rate decayed. Updated LR is: 0.000141\n"
          ]
        },
        {
          "name": "stderr",
          "output_type": "stream",
          "text": [
            "100%|██████████| 10/10 [00:14<00:00,  1.43s/it]\n"
          ]
        },
        {
          "name": "stdout",
          "output_type": "stream",
          "text": [
            "Average validation Loss: 3.699228048324585\n",
            "Epoch [365/1000], Average Loss: 6.8449\n",
            "Average validation Loss: 3.699228048324585\n",
            "Learning rate decayed. Updated LR is: 0.000141\n"
          ]
        },
        {
          "name": "stderr",
          "output_type": "stream",
          "text": [
            "100%|██████████| 10/10 [00:14<00:00,  1.44s/it]\n"
          ]
        },
        {
          "name": "stdout",
          "output_type": "stream",
          "text": [
            "Average validation Loss: 2.8556652069091797\n",
            "Epoch [366/1000], Average Loss: 6.1013\n",
            "Average validation Loss: 2.8556652069091797\n",
            "Learning rate decayed. Updated LR is: 0.000141\n"
          ]
        },
        {
          "name": "stderr",
          "output_type": "stream",
          "text": [
            "100%|██████████| 10/10 [00:14<00:00,  1.43s/it]\n"
          ]
        },
        {
          "name": "stdout",
          "output_type": "stream",
          "text": [
            "Average validation Loss: 3.401881694793701\n",
            "Epoch [367/1000], Average Loss: 7.2813\n",
            "Average validation Loss: 3.401881694793701\n",
            "Learning rate decayed. Updated LR is: 0.000141\n"
          ]
        },
        {
          "name": "stderr",
          "output_type": "stream",
          "text": [
            "100%|██████████| 10/10 [00:14<00:00,  1.43s/it]\n"
          ]
        },
        {
          "name": "stdout",
          "output_type": "stream",
          "text": [
            "Average validation Loss: 2.44850492477417\n",
            "Epoch [368/1000], Average Loss: 6.8657\n",
            "Average validation Loss: 2.44850492477417\n",
            "Learning rate decayed. Updated LR is: 0.000140\n"
          ]
        },
        {
          "name": "stderr",
          "output_type": "stream",
          "text": [
            "100%|██████████| 10/10 [00:14<00:00,  1.43s/it]\n"
          ]
        },
        {
          "name": "stdout",
          "output_type": "stream",
          "text": [
            "Average validation Loss: 3.267643690109253\n",
            "Epoch [369/1000], Average Loss: 6.8198\n",
            "Average validation Loss: 3.267643690109253\n",
            "Learning rate decayed. Updated LR is: 0.000140\n"
          ]
        },
        {
          "name": "stderr",
          "output_type": "stream",
          "text": [
            "100%|██████████| 10/10 [00:14<00:00,  1.43s/it]\n"
          ]
        },
        {
          "name": "stdout",
          "output_type": "stream",
          "text": [
            "Average validation Loss: 6.201859474182129\n",
            "Epoch [370/1000], Average Loss: 7.2687\n",
            "Average validation Loss: 6.201859474182129\n",
            "Learning rate decayed. Updated LR is: 0.000140\n"
          ]
        },
        {
          "name": "stderr",
          "output_type": "stream",
          "text": [
            "100%|██████████| 10/10 [00:14<00:00,  1.44s/it]\n"
          ]
        },
        {
          "name": "stdout",
          "output_type": "stream",
          "text": [
            "Average validation Loss: 14.934814453125\n",
            "Epoch [371/1000], Average Loss: 7.9439\n",
            "Average validation Loss: 14.934814453125\n",
            "Learning rate decayed. Updated LR is: 0.000140\n"
          ]
        },
        {
          "name": "stderr",
          "output_type": "stream",
          "text": [
            "100%|██████████| 10/10 [00:14<00:00,  1.43s/it]\n"
          ]
        },
        {
          "name": "stdout",
          "output_type": "stream",
          "text": [
            "Average validation Loss: 7.587911605834961\n",
            "Epoch [372/1000], Average Loss: 7.7526\n",
            "Average validation Loss: 7.587911605834961\n",
            "Learning rate decayed. Updated LR is: 0.000140\n"
          ]
        },
        {
          "name": "stderr",
          "output_type": "stream",
          "text": [
            "100%|██████████| 10/10 [00:14<00:00,  1.43s/it]\n"
          ]
        },
        {
          "name": "stdout",
          "output_type": "stream",
          "text": [
            "Average validation Loss: 4.749615669250488\n",
            "Epoch [373/1000], Average Loss: 7.3686\n",
            "Average validation Loss: 4.749615669250488\n",
            "Learning rate decayed. Updated LR is: 0.000139\n"
          ]
        },
        {
          "name": "stderr",
          "output_type": "stream",
          "text": [
            "100%|██████████| 10/10 [00:14<00:00,  1.43s/it]\n"
          ]
        },
        {
          "name": "stdout",
          "output_type": "stream",
          "text": [
            "Average validation Loss: 10.25682258605957\n",
            "Epoch [374/1000], Average Loss: 6.7911\n",
            "Average validation Loss: 10.25682258605957\n",
            "Learning rate decayed. Updated LR is: 0.000139\n"
          ]
        },
        {
          "name": "stderr",
          "output_type": "stream",
          "text": [
            "100%|██████████| 10/10 [00:14<00:00,  1.43s/it]\n"
          ]
        },
        {
          "name": "stdout",
          "output_type": "stream",
          "text": [
            "Average validation Loss: 3.1084365844726562\n",
            "Epoch [375/1000], Average Loss: 7.5290\n",
            "Average validation Loss: 3.1084365844726562\n",
            "Learning rate decayed. Updated LR is: 0.000139\n"
          ]
        },
        {
          "name": "stderr",
          "output_type": "stream",
          "text": [
            "100%|██████████| 10/10 [00:14<00:00,  1.44s/it]\n"
          ]
        },
        {
          "name": "stdout",
          "output_type": "stream",
          "text": [
            "Average validation Loss: 3.036581039428711\n",
            "Epoch [376/1000], Average Loss: 8.1499\n",
            "Average validation Loss: 3.036581039428711\n",
            "Learning rate decayed. Updated LR is: 0.000139\n"
          ]
        },
        {
          "name": "stderr",
          "output_type": "stream",
          "text": [
            "100%|██████████| 10/10 [00:14<00:00,  1.43s/it]\n"
          ]
        },
        {
          "name": "stdout",
          "output_type": "stream",
          "text": [
            "Average validation Loss: 9.312990188598633\n",
            "Epoch [377/1000], Average Loss: 7.9757\n",
            "Average validation Loss: 9.312990188598633\n",
            "Learning rate decayed. Updated LR is: 0.000138\n"
          ]
        },
        {
          "name": "stderr",
          "output_type": "stream",
          "text": [
            "100%|██████████| 10/10 [00:14<00:00,  1.44s/it]\n"
          ]
        },
        {
          "name": "stdout",
          "output_type": "stream",
          "text": [
            "Average validation Loss: 4.596091270446777\n",
            "Epoch [378/1000], Average Loss: 7.4314\n",
            "Average validation Loss: 4.596091270446777\n",
            "Learning rate decayed. Updated LR is: 0.000138\n"
          ]
        },
        {
          "name": "stderr",
          "output_type": "stream",
          "text": [
            "100%|██████████| 10/10 [00:14<00:00,  1.44s/it]\n"
          ]
        },
        {
          "name": "stdout",
          "output_type": "stream",
          "text": [
            "Average validation Loss: 4.1204833984375\n",
            "Epoch [379/1000], Average Loss: 7.1335\n",
            "Average validation Loss: 4.1204833984375\n",
            "Learning rate decayed. Updated LR is: 0.000138\n"
          ]
        },
        {
          "name": "stderr",
          "output_type": "stream",
          "text": [
            "100%|██████████| 10/10 [00:14<00:00,  1.44s/it]\n"
          ]
        },
        {
          "name": "stdout",
          "output_type": "stream",
          "text": [
            "Average validation Loss: 6.66294002532959\n",
            "Epoch [380/1000], Average Loss: 6.6699\n",
            "Average validation Loss: 6.66294002532959\n",
            "Learning rate decayed. Updated LR is: 0.000138\n"
          ]
        },
        {
          "name": "stderr",
          "output_type": "stream",
          "text": [
            "100%|██████████| 10/10 [00:14<00:00,  1.43s/it]\n"
          ]
        },
        {
          "name": "stdout",
          "output_type": "stream",
          "text": [
            "Average validation Loss: 3.621717929840088\n",
            "Epoch [381/1000], Average Loss: 6.8464\n",
            "Average validation Loss: 3.621717929840088\n",
            "Learning rate decayed. Updated LR is: 0.000138\n"
          ]
        },
        {
          "name": "stderr",
          "output_type": "stream",
          "text": [
            "100%|██████████| 10/10 [00:14<00:00,  1.43s/it]\n"
          ]
        },
        {
          "name": "stdout",
          "output_type": "stream",
          "text": [
            "Average validation Loss: 4.476647853851318\n",
            "Epoch [382/1000], Average Loss: 6.2229\n",
            "Average validation Loss: 4.476647853851318\n",
            "Learning rate decayed. Updated LR is: 0.000137\n"
          ]
        },
        {
          "name": "stderr",
          "output_type": "stream",
          "text": [
            "100%|██████████| 10/10 [00:14<00:00,  1.43s/it]\n"
          ]
        },
        {
          "name": "stdout",
          "output_type": "stream",
          "text": [
            "Average validation Loss: 3.2718780040740967\n",
            "Epoch [383/1000], Average Loss: 6.1472\n",
            "Average validation Loss: 3.2718780040740967\n",
            "Learning rate decayed. Updated LR is: 0.000137\n"
          ]
        },
        {
          "name": "stderr",
          "output_type": "stream",
          "text": [
            "100%|██████████| 10/10 [00:14<00:00,  1.43s/it]\n"
          ]
        },
        {
          "name": "stdout",
          "output_type": "stream",
          "text": [
            "Average validation Loss: 2.4014554023742676\n",
            "Epoch [384/1000], Average Loss: 7.0926\n",
            "Average validation Loss: 2.4014554023742676\n",
            "Learning rate decayed. Updated LR is: 0.000137\n"
          ]
        },
        {
          "name": "stderr",
          "output_type": "stream",
          "text": [
            "100%|██████████| 10/10 [00:14<00:00,  1.43s/it]\n"
          ]
        },
        {
          "name": "stdout",
          "output_type": "stream",
          "text": [
            "Average validation Loss: 5.136124610900879\n",
            "Epoch [385/1000], Average Loss: 6.9561\n",
            "Average validation Loss: 5.136124610900879\n",
            "Learning rate decayed. Updated LR is: 0.000137\n"
          ]
        },
        {
          "name": "stderr",
          "output_type": "stream",
          "text": [
            "100%|██████████| 10/10 [00:14<00:00,  1.43s/it]\n"
          ]
        },
        {
          "name": "stdout",
          "output_type": "stream",
          "text": [
            "Average validation Loss: 3.727874755859375\n",
            "Epoch [386/1000], Average Loss: 6.9596\n",
            "Average validation Loss: 3.727874755859375\n",
            "Learning rate decayed. Updated LR is: 0.000136\n"
          ]
        },
        {
          "name": "stderr",
          "output_type": "stream",
          "text": [
            "100%|██████████| 10/10 [00:14<00:00,  1.43s/it]\n"
          ]
        },
        {
          "name": "stdout",
          "output_type": "stream",
          "text": [
            "Average validation Loss: 6.289857387542725\n",
            "Epoch [387/1000], Average Loss: 6.6215\n",
            "Average validation Loss: 6.289857387542725\n",
            "Learning rate decayed. Updated LR is: 0.000136\n"
          ]
        },
        {
          "name": "stderr",
          "output_type": "stream",
          "text": [
            "100%|██████████| 10/10 [00:14<00:00,  1.43s/it]\n"
          ]
        },
        {
          "name": "stdout",
          "output_type": "stream",
          "text": [
            "Average validation Loss: 4.407984733581543\n",
            "Epoch [388/1000], Average Loss: 6.7412\n",
            "Average validation Loss: 4.407984733581543\n",
            "Learning rate decayed. Updated LR is: 0.000136\n"
          ]
        },
        {
          "name": "stderr",
          "output_type": "stream",
          "text": [
            "100%|██████████| 10/10 [00:14<00:00,  1.44s/it]\n"
          ]
        },
        {
          "name": "stdout",
          "output_type": "stream",
          "text": [
            "Average validation Loss: 2.130115032196045\n",
            "Epoch [389/1000], Average Loss: 6.0778\n",
            "Average validation Loss: 2.130115032196045\n",
            "Learning rate decayed. Updated LR is: 0.000136\n"
          ]
        },
        {
          "name": "stderr",
          "output_type": "stream",
          "text": [
            "100%|██████████| 10/10 [00:14<00:00,  1.44s/it]\n"
          ]
        },
        {
          "name": "stdout",
          "output_type": "stream",
          "text": [
            "Average validation Loss: 3.3168439865112305\n",
            "Epoch [390/1000], Average Loss: 5.6116\n",
            "Average validation Loss: 3.3168439865112305\n",
            "Learning rate decayed. Updated LR is: 0.000136\n"
          ]
        },
        {
          "name": "stderr",
          "output_type": "stream",
          "text": [
            "100%|██████████| 10/10 [00:14<00:00,  1.44s/it]\n"
          ]
        },
        {
          "name": "stdout",
          "output_type": "stream",
          "text": [
            "Average validation Loss: 4.323946952819824\n",
            "Epoch [391/1000], Average Loss: 6.6625\n",
            "Average validation Loss: 4.323946952819824\n",
            "Learning rate decayed. Updated LR is: 0.000135\n"
          ]
        },
        {
          "name": "stderr",
          "output_type": "stream",
          "text": [
            "100%|██████████| 10/10 [00:14<00:00,  1.44s/it]\n"
          ]
        },
        {
          "name": "stdout",
          "output_type": "stream",
          "text": [
            "Average validation Loss: 7.945224761962891\n",
            "Epoch [392/1000], Average Loss: 7.0777\n",
            "Average validation Loss: 7.945224761962891\n",
            "Learning rate decayed. Updated LR is: 0.000135\n"
          ]
        },
        {
          "name": "stderr",
          "output_type": "stream",
          "text": [
            "100%|██████████| 10/10 [00:14<00:00,  1.44s/it]\n"
          ]
        },
        {
          "name": "stdout",
          "output_type": "stream",
          "text": [
            "Average validation Loss: 2.411925792694092\n",
            "Epoch [393/1000], Average Loss: 7.6468\n",
            "Average validation Loss: 2.411925792694092\n",
            "Learning rate decayed. Updated LR is: 0.000135\n"
          ]
        },
        {
          "name": "stderr",
          "output_type": "stream",
          "text": [
            "100%|██████████| 10/10 [00:14<00:00,  1.44s/it]\n"
          ]
        },
        {
          "name": "stdout",
          "output_type": "stream",
          "text": [
            "Average validation Loss: 3.676229953765869\n",
            "Epoch [394/1000], Average Loss: 6.2627\n",
            "Average validation Loss: 3.676229953765869\n",
            "Learning rate decayed. Updated LR is: 0.000135\n"
          ]
        },
        {
          "name": "stderr",
          "output_type": "stream",
          "text": [
            "100%|██████████| 10/10 [00:14<00:00,  1.44s/it]\n"
          ]
        },
        {
          "name": "stdout",
          "output_type": "stream",
          "text": [
            "Average validation Loss: 5.768893718719482\n",
            "Epoch [395/1000], Average Loss: 7.7363\n",
            "Average validation Loss: 5.768893718719482\n",
            "Learning rate decayed. Updated LR is: 0.000134\n"
          ]
        },
        {
          "name": "stderr",
          "output_type": "stream",
          "text": [
            "100%|██████████| 10/10 [00:14<00:00,  1.44s/it]\n"
          ]
        },
        {
          "name": "stdout",
          "output_type": "stream",
          "text": [
            "Average validation Loss: 3.7961184978485107\n",
            "Epoch [396/1000], Average Loss: 6.6681\n",
            "Average validation Loss: 3.7961184978485107\n",
            "Learning rate decayed. Updated LR is: 0.000134\n"
          ]
        },
        {
          "name": "stderr",
          "output_type": "stream",
          "text": [
            "100%|██████████| 10/10 [00:14<00:00,  1.44s/it]\n"
          ]
        },
        {
          "name": "stdout",
          "output_type": "stream",
          "text": [
            "Average validation Loss: 2.0782551765441895\n",
            "Epoch [397/1000], Average Loss: 5.9363\n",
            "Average validation Loss: 2.0782551765441895\n",
            "Learning rate decayed. Updated LR is: 0.000134\n"
          ]
        },
        {
          "name": "stderr",
          "output_type": "stream",
          "text": [
            "100%|██████████| 10/10 [00:14<00:00,  1.44s/it]\n"
          ]
        },
        {
          "name": "stdout",
          "output_type": "stream",
          "text": [
            "Average validation Loss: 7.326132774353027\n",
            "Epoch [398/1000], Average Loss: 6.1433\n",
            "Average validation Loss: 7.326132774353027\n",
            "Learning rate decayed. Updated LR is: 0.000134\n"
          ]
        },
        {
          "name": "stderr",
          "output_type": "stream",
          "text": [
            "100%|██████████| 10/10 [00:14<00:00,  1.44s/it]\n"
          ]
        },
        {
          "name": "stdout",
          "output_type": "stream",
          "text": [
            "Average validation Loss: 2.9995837211608887\n",
            "Epoch [399/1000], Average Loss: 6.5669\n",
            "Average validation Loss: 2.9995837211608887\n",
            "Learning rate decayed. Updated LR is: 0.000134\n"
          ]
        },
        {
          "name": "stderr",
          "output_type": "stream",
          "text": [
            "100%|██████████| 10/10 [00:14<00:00,  1.44s/it]\n"
          ]
        },
        {
          "name": "stdout",
          "output_type": "stream",
          "text": [
            "Average validation Loss: 4.808598518371582\n",
            "Epoch [400/1000], Average Loss: 6.2096\n",
            "Average validation Loss: 4.808598518371582\n",
            "Learning rate decayed. Updated LR is: 0.000133\n"
          ]
        },
        {
          "name": "stderr",
          "output_type": "stream",
          "text": [
            "100%|██████████| 10/10 [00:14<00:00,  1.44s/it]\n"
          ]
        },
        {
          "name": "stdout",
          "output_type": "stream",
          "text": [
            "Average validation Loss: 2.275430679321289\n",
            "Epoch [401/1000], Average Loss: 5.8705\n",
            "Average validation Loss: 2.275430679321289\n",
            "Learning rate decayed. Updated LR is: 0.000133\n"
          ]
        },
        {
          "name": "stderr",
          "output_type": "stream",
          "text": [
            "100%|██████████| 10/10 [00:14<00:00,  1.44s/it]\n"
          ]
        },
        {
          "name": "stdout",
          "output_type": "stream",
          "text": [
            "Average validation Loss: 2.2021701335906982\n",
            "Epoch [402/1000], Average Loss: 5.9494\n",
            "Average validation Loss: 2.2021701335906982\n",
            "Learning rate decayed. Updated LR is: 0.000133\n"
          ]
        },
        {
          "name": "stderr",
          "output_type": "stream",
          "text": [
            "100%|██████████| 10/10 [00:14<00:00,  1.43s/it]\n"
          ]
        },
        {
          "name": "stdout",
          "output_type": "stream",
          "text": [
            "Average validation Loss: 13.940296173095703\n",
            "Epoch [403/1000], Average Loss: 7.2750\n",
            "Average validation Loss: 13.940296173095703\n",
            "Learning rate decayed. Updated LR is: 0.000133\n"
          ]
        },
        {
          "name": "stderr",
          "output_type": "stream",
          "text": [
            "100%|██████████| 10/10 [00:14<00:00,  1.43s/it]\n"
          ]
        },
        {
          "name": "stdout",
          "output_type": "stream",
          "text": [
            "Average validation Loss: 3.6720340251922607\n",
            "Epoch [404/1000], Average Loss: 7.9402\n",
            "Average validation Loss: 3.6720340251922607\n",
            "Learning rate decayed. Updated LR is: 0.000132\n"
          ]
        },
        {
          "name": "stderr",
          "output_type": "stream",
          "text": [
            "100%|██████████| 10/10 [00:14<00:00,  1.43s/it]\n"
          ]
        },
        {
          "name": "stdout",
          "output_type": "stream",
          "text": [
            "Average validation Loss: 3.482590436935425\n",
            "Epoch [405/1000], Average Loss: 7.0651\n",
            "Average validation Loss: 3.482590436935425\n",
            "Learning rate decayed. Updated LR is: 0.000132\n"
          ]
        },
        {
          "name": "stderr",
          "output_type": "stream",
          "text": [
            "100%|██████████| 10/10 [00:14<00:00,  1.43s/it]\n"
          ]
        },
        {
          "name": "stdout",
          "output_type": "stream",
          "text": [
            "Average validation Loss: 4.973012447357178\n",
            "Epoch [406/1000], Average Loss: 6.5586\n",
            "Average validation Loss: 4.973012447357178\n",
            "Learning rate decayed. Updated LR is: 0.000132\n"
          ]
        },
        {
          "name": "stderr",
          "output_type": "stream",
          "text": [
            "100%|██████████| 10/10 [00:14<00:00,  1.43s/it]\n"
          ]
        },
        {
          "name": "stdout",
          "output_type": "stream",
          "text": [
            "Average validation Loss: 15.400301933288574\n",
            "Epoch [407/1000], Average Loss: 8.1105\n",
            "Average validation Loss: 15.400301933288574\n",
            "Learning rate decayed. Updated LR is: 0.000132\n"
          ]
        },
        {
          "name": "stderr",
          "output_type": "stream",
          "text": [
            "100%|██████████| 10/10 [00:14<00:00,  1.43s/it]\n"
          ]
        },
        {
          "name": "stdout",
          "output_type": "stream",
          "text": [
            "Average validation Loss: 5.526808738708496\n",
            "Epoch [408/1000], Average Loss: 7.6119\n",
            "Average validation Loss: 5.526808738708496\n",
            "Learning rate decayed. Updated LR is: 0.000132\n"
          ]
        },
        {
          "name": "stderr",
          "output_type": "stream",
          "text": [
            "100%|██████████| 10/10 [00:14<00:00,  1.43s/it]\n"
          ]
        },
        {
          "name": "stdout",
          "output_type": "stream",
          "text": [
            "Average validation Loss: 3.920313596725464\n",
            "Epoch [409/1000], Average Loss: 6.5279\n",
            "Average validation Loss: 3.920313596725464\n",
            "Learning rate decayed. Updated LR is: 0.000131\n"
          ]
        },
        {
          "name": "stderr",
          "output_type": "stream",
          "text": [
            "100%|██████████| 10/10 [00:14<00:00,  1.43s/it]\n"
          ]
        },
        {
          "name": "stdout",
          "output_type": "stream",
          "text": [
            "Average validation Loss: 3.6308813095092773\n",
            "Epoch [410/1000], Average Loss: 5.9780\n",
            "Average validation Loss: 3.6308813095092773\n",
            "Learning rate decayed. Updated LR is: 0.000131\n"
          ]
        },
        {
          "name": "stderr",
          "output_type": "stream",
          "text": [
            "100%|██████████| 10/10 [00:14<00:00,  1.44s/it]\n"
          ]
        },
        {
          "name": "stdout",
          "output_type": "stream",
          "text": [
            "Average validation Loss: 4.974674224853516\n",
            "Epoch [411/1000], Average Loss: 6.0607\n",
            "Average validation Loss: 4.974674224853516\n",
            "Learning rate decayed. Updated LR is: 0.000131\n"
          ]
        },
        {
          "name": "stderr",
          "output_type": "stream",
          "text": [
            "100%|██████████| 10/10 [00:14<00:00,  1.43s/it]\n"
          ]
        },
        {
          "name": "stdout",
          "output_type": "stream",
          "text": [
            "Average validation Loss: 2.017360210418701\n",
            "Epoch [412/1000], Average Loss: 5.6629\n",
            "Average validation Loss: 2.017360210418701\n",
            "Learning rate decayed. Updated LR is: 0.000131\n"
          ]
        },
        {
          "name": "stderr",
          "output_type": "stream",
          "text": [
            "100%|██████████| 10/10 [00:14<00:00,  1.43s/it]\n"
          ]
        },
        {
          "name": "stdout",
          "output_type": "stream",
          "text": [
            "Average validation Loss: 3.356849431991577\n",
            "Epoch [413/1000], Average Loss: 6.3005\n",
            "Average validation Loss: 3.356849431991577\n",
            "Learning rate decayed. Updated LR is: 0.000130\n"
          ]
        },
        {
          "name": "stderr",
          "output_type": "stream",
          "text": [
            "100%|██████████| 10/10 [00:14<00:00,  1.43s/it]\n"
          ]
        },
        {
          "name": "stdout",
          "output_type": "stream",
          "text": [
            "Average validation Loss: 3.3468008041381836\n",
            "Epoch [414/1000], Average Loss: 5.5507\n",
            "Average validation Loss: 3.3468008041381836\n",
            "Learning rate decayed. Updated LR is: 0.000130\n"
          ]
        },
        {
          "name": "stderr",
          "output_type": "stream",
          "text": [
            "100%|██████████| 10/10 [00:14<00:00,  1.43s/it]\n"
          ]
        },
        {
          "name": "stdout",
          "output_type": "stream",
          "text": [
            "Average validation Loss: 3.1574771404266357\n",
            "Epoch [415/1000], Average Loss: 6.5059\n",
            "Average validation Loss: 3.1574771404266357\n",
            "Learning rate decayed. Updated LR is: 0.000130\n"
          ]
        },
        {
          "name": "stderr",
          "output_type": "stream",
          "text": [
            "100%|██████████| 10/10 [00:14<00:00,  1.43s/it]\n"
          ]
        },
        {
          "name": "stdout",
          "output_type": "stream",
          "text": [
            "Average validation Loss: 5.864234447479248\n",
            "Epoch [416/1000], Average Loss: 5.6460\n",
            "Average validation Loss: 5.864234447479248\n",
            "Learning rate decayed. Updated LR is: 0.000130\n"
          ]
        },
        {
          "name": "stderr",
          "output_type": "stream",
          "text": [
            "100%|██████████| 10/10 [00:14<00:00,  1.43s/it]\n"
          ]
        },
        {
          "name": "stdout",
          "output_type": "stream",
          "text": [
            "Average validation Loss: 4.4639506340026855\n",
            "Epoch [417/1000], Average Loss: 5.2738\n",
            "Average validation Loss: 4.4639506340026855\n",
            "Learning rate decayed. Updated LR is: 0.000130\n"
          ]
        },
        {
          "name": "stderr",
          "output_type": "stream",
          "text": [
            "100%|██████████| 10/10 [00:14<00:00,  1.43s/it]\n"
          ]
        },
        {
          "name": "stdout",
          "output_type": "stream",
          "text": [
            "Average validation Loss: 2.1445064544677734\n",
            "Epoch [418/1000], Average Loss: 5.4425\n",
            "Average validation Loss: 2.1445064544677734\n",
            "Learning rate decayed. Updated LR is: 0.000129\n"
          ]
        },
        {
          "name": "stderr",
          "output_type": "stream",
          "text": [
            "100%|██████████| 10/10 [00:14<00:00,  1.43s/it]\n"
          ]
        },
        {
          "name": "stdout",
          "output_type": "stream",
          "text": [
            "Average validation Loss: 2.8268866539001465\n",
            "Epoch [419/1000], Average Loss: 5.5908\n",
            "Average validation Loss: 2.8268866539001465\n",
            "Learning rate decayed. Updated LR is: 0.000129\n"
          ]
        },
        {
          "name": "stderr",
          "output_type": "stream",
          "text": [
            "100%|██████████| 10/10 [00:14<00:00,  1.43s/it]\n"
          ]
        },
        {
          "name": "stdout",
          "output_type": "stream",
          "text": [
            "Average validation Loss: 2.7537384033203125\n",
            "Epoch [420/1000], Average Loss: 5.3890\n",
            "Average validation Loss: 2.7537384033203125\n",
            "Learning rate decayed. Updated LR is: 0.000129\n"
          ]
        },
        {
          "name": "stderr",
          "output_type": "stream",
          "text": [
            "100%|██████████| 10/10 [00:14<00:00,  1.43s/it]\n"
          ]
        },
        {
          "name": "stdout",
          "output_type": "stream",
          "text": [
            "Average validation Loss: 2.014061450958252\n",
            "Epoch [421/1000], Average Loss: 5.3459\n",
            "Average validation Loss: 2.014061450958252\n",
            "Learning rate decayed. Updated LR is: 0.000129\n"
          ]
        },
        {
          "name": "stderr",
          "output_type": "stream",
          "text": [
            "100%|██████████| 10/10 [00:14<00:00,  1.43s/it]\n"
          ]
        },
        {
          "name": "stdout",
          "output_type": "stream",
          "text": [
            "Average validation Loss: 12.785516738891602\n",
            "Epoch [422/1000], Average Loss: 5.7946\n",
            "Average validation Loss: 12.785516738891602\n",
            "Learning rate decayed. Updated LR is: 0.000128\n"
          ]
        },
        {
          "name": "stderr",
          "output_type": "stream",
          "text": [
            "100%|██████████| 10/10 [00:14<00:00,  1.43s/it]\n"
          ]
        },
        {
          "name": "stdout",
          "output_type": "stream",
          "text": [
            "Average validation Loss: 2.740133047103882\n",
            "Epoch [423/1000], Average Loss: 5.8410\n",
            "Average validation Loss: 2.740133047103882\n",
            "Learning rate decayed. Updated LR is: 0.000128\n"
          ]
        },
        {
          "name": "stderr",
          "output_type": "stream",
          "text": [
            "100%|██████████| 10/10 [00:14<00:00,  1.43s/it]\n"
          ]
        },
        {
          "name": "stdout",
          "output_type": "stream",
          "text": [
            "Average validation Loss: 2.763974189758301\n",
            "Epoch [424/1000], Average Loss: 5.3721\n",
            "Average validation Loss: 2.763974189758301\n",
            "Learning rate decayed. Updated LR is: 0.000128\n"
          ]
        },
        {
          "name": "stderr",
          "output_type": "stream",
          "text": [
            "100%|██████████| 10/10 [00:14<00:00,  1.43s/it]\n"
          ]
        },
        {
          "name": "stdout",
          "output_type": "stream",
          "text": [
            "Average validation Loss: 8.165060997009277\n",
            "Epoch [425/1000], Average Loss: 5.5313\n",
            "Average validation Loss: 8.165060997009277\n",
            "Learning rate decayed. Updated LR is: 0.000128\n"
          ]
        },
        {
          "name": "stderr",
          "output_type": "stream",
          "text": [
            "100%|██████████| 10/10 [00:14<00:00,  1.43s/it]\n"
          ]
        },
        {
          "name": "stdout",
          "output_type": "stream",
          "text": [
            "Average validation Loss: 3.8725955486297607\n",
            "Epoch [426/1000], Average Loss: 5.0981\n",
            "Average validation Loss: 3.8725955486297607\n",
            "Learning rate decayed. Updated LR is: 0.000128\n"
          ]
        },
        {
          "name": "stderr",
          "output_type": "stream",
          "text": [
            "100%|██████████| 10/10 [00:14<00:00,  1.43s/it]\n"
          ]
        },
        {
          "name": "stdout",
          "output_type": "stream",
          "text": [
            "Average validation Loss: 11.812387466430664\n",
            "Epoch [427/1000], Average Loss: 6.5005\n",
            "Average validation Loss: 11.812387466430664\n",
            "Learning rate decayed. Updated LR is: 0.000127\n"
          ]
        },
        {
          "name": "stderr",
          "output_type": "stream",
          "text": [
            "100%|██████████| 10/10 [00:14<00:00,  1.43s/it]\n"
          ]
        },
        {
          "name": "stdout",
          "output_type": "stream",
          "text": [
            "Average validation Loss: 6.255763053894043\n",
            "Epoch [428/1000], Average Loss: 6.6997\n",
            "Average validation Loss: 6.255763053894043\n",
            "Learning rate decayed. Updated LR is: 0.000127\n"
          ]
        },
        {
          "name": "stderr",
          "output_type": "stream",
          "text": [
            "100%|██████████| 10/10 [00:14<00:00,  1.43s/it]\n"
          ]
        },
        {
          "name": "stdout",
          "output_type": "stream",
          "text": [
            "Average validation Loss: 2.163356304168701\n",
            "Epoch [429/1000], Average Loss: 5.9887\n",
            "Average validation Loss: 2.163356304168701\n",
            "Learning rate decayed. Updated LR is: 0.000127\n"
          ]
        },
        {
          "name": "stderr",
          "output_type": "stream",
          "text": [
            "100%|██████████| 10/10 [00:14<00:00,  1.43s/it]\n"
          ]
        },
        {
          "name": "stdout",
          "output_type": "stream",
          "text": [
            "Average validation Loss: 3.116732597351074\n",
            "Epoch [430/1000], Average Loss: 5.6058\n",
            "Average validation Loss: 3.116732597351074\n",
            "Learning rate decayed. Updated LR is: 0.000127\n"
          ]
        },
        {
          "name": "stderr",
          "output_type": "stream",
          "text": [
            "100%|██████████| 10/10 [00:14<00:00,  1.44s/it]\n"
          ]
        },
        {
          "name": "stdout",
          "output_type": "stream",
          "text": [
            "Average validation Loss: 2.8128623962402344\n",
            "Epoch [431/1000], Average Loss: 5.1624\n",
            "Average validation Loss: 2.8128623962402344\n",
            "Learning rate decayed. Updated LR is: 0.000126\n"
          ]
        },
        {
          "name": "stderr",
          "output_type": "stream",
          "text": [
            "100%|██████████| 10/10 [00:14<00:00,  1.43s/it]\n"
          ]
        },
        {
          "name": "stdout",
          "output_type": "stream",
          "text": [
            "Average validation Loss: 3.823946952819824\n",
            "Epoch [432/1000], Average Loss: 6.0088\n",
            "Average validation Loss: 3.823946952819824\n",
            "Learning rate decayed. Updated LR is: 0.000126\n"
          ]
        },
        {
          "name": "stderr",
          "output_type": "stream",
          "text": [
            "100%|██████████| 10/10 [00:14<00:00,  1.43s/it]\n"
          ]
        },
        {
          "name": "stdout",
          "output_type": "stream",
          "text": [
            "Average validation Loss: 4.675176620483398\n",
            "Epoch [433/1000], Average Loss: 5.0935\n",
            "Average validation Loss: 4.675176620483398\n",
            "Learning rate decayed. Updated LR is: 0.000126\n"
          ]
        },
        {
          "name": "stderr",
          "output_type": "stream",
          "text": [
            "100%|██████████| 10/10 [00:14<00:00,  1.44s/it]\n"
          ]
        },
        {
          "name": "stdout",
          "output_type": "stream",
          "text": [
            "Average validation Loss: 9.22538948059082\n",
            "Epoch [434/1000], Average Loss: 5.7975\n",
            "Average validation Loss: 9.22538948059082\n",
            "Learning rate decayed. Updated LR is: 0.000126\n"
          ]
        },
        {
          "name": "stderr",
          "output_type": "stream",
          "text": [
            "100%|██████████| 10/10 [00:14<00:00,  1.44s/it]\n"
          ]
        },
        {
          "name": "stdout",
          "output_type": "stream",
          "text": [
            "Average validation Loss: 2.286120891571045\n",
            "Epoch [435/1000], Average Loss: 5.3007\n",
            "Average validation Loss: 2.286120891571045\n",
            "Learning rate decayed. Updated LR is: 0.000126\n"
          ]
        },
        {
          "name": "stderr",
          "output_type": "stream",
          "text": [
            "100%|██████████| 10/10 [00:14<00:00,  1.44s/it]\n"
          ]
        },
        {
          "name": "stdout",
          "output_type": "stream",
          "text": [
            "Average validation Loss: 3.0240771770477295\n",
            "Epoch [436/1000], Average Loss: 6.2924\n",
            "Average validation Loss: 3.0240771770477295\n",
            "Learning rate decayed. Updated LR is: 0.000125\n"
          ]
        },
        {
          "name": "stderr",
          "output_type": "stream",
          "text": [
            "100%|██████████| 10/10 [00:14<00:00,  1.44s/it]\n"
          ]
        },
        {
          "name": "stdout",
          "output_type": "stream",
          "text": [
            "Average validation Loss: 3.480343818664551\n",
            "Epoch [437/1000], Average Loss: 5.9013\n",
            "Average validation Loss: 3.480343818664551\n",
            "Learning rate decayed. Updated LR is: 0.000125\n"
          ]
        },
        {
          "name": "stderr",
          "output_type": "stream",
          "text": [
            "100%|██████████| 10/10 [00:14<00:00,  1.44s/it]\n"
          ]
        },
        {
          "name": "stdout",
          "output_type": "stream",
          "text": [
            "Average validation Loss: 2.1742258071899414\n",
            "Epoch [438/1000], Average Loss: 4.8733\n",
            "Average validation Loss: 2.1742258071899414\n",
            "Learning rate decayed. Updated LR is: 0.000125\n"
          ]
        },
        {
          "name": "stderr",
          "output_type": "stream",
          "text": [
            "100%|██████████| 10/10 [00:14<00:00,  1.43s/it]\n"
          ]
        },
        {
          "name": "stdout",
          "output_type": "stream",
          "text": [
            "Average validation Loss: 1.9502891302108765\n",
            "Epoch [439/1000], Average Loss: 5.0408\n",
            "Average validation Loss: 1.9502891302108765\n",
            "Learning rate decayed. Updated LR is: 0.000125\n"
          ]
        },
        {
          "name": "stderr",
          "output_type": "stream",
          "text": [
            "100%|██████████| 10/10 [00:14<00:00,  1.43s/it]\n"
          ]
        },
        {
          "name": "stdout",
          "output_type": "stream",
          "text": [
            "Average validation Loss: 2.6607203483581543\n",
            "Epoch [440/1000], Average Loss: 5.1274\n",
            "Average validation Loss: 2.6607203483581543\n",
            "Learning rate decayed. Updated LR is: 0.000124\n"
          ]
        },
        {
          "name": "stderr",
          "output_type": "stream",
          "text": [
            "100%|██████████| 10/10 [00:14<00:00,  1.43s/it]\n"
          ]
        },
        {
          "name": "stdout",
          "output_type": "stream",
          "text": [
            "Average validation Loss: 1.9747235774993896\n",
            "Epoch [441/1000], Average Loss: 5.1463\n",
            "Average validation Loss: 1.9747235774993896\n",
            "Learning rate decayed. Updated LR is: 0.000124\n"
          ]
        },
        {
          "name": "stderr",
          "output_type": "stream",
          "text": [
            "100%|██████████| 10/10 [00:14<00:00,  1.43s/it]\n"
          ]
        },
        {
          "name": "stdout",
          "output_type": "stream",
          "text": [
            "Average validation Loss: 1.9294064044952393\n",
            "Epoch [442/1000], Average Loss: 5.5932\n",
            "Average validation Loss: 1.9294064044952393\n",
            "Learning rate decayed. Updated LR is: 0.000124\n"
          ]
        },
        {
          "name": "stderr",
          "output_type": "stream",
          "text": [
            "100%|██████████| 10/10 [00:14<00:00,  1.43s/it]\n"
          ]
        },
        {
          "name": "stdout",
          "output_type": "stream",
          "text": [
            "Average validation Loss: 1.7492480278015137\n",
            "Epoch [443/1000], Average Loss: 5.2755\n",
            "Average validation Loss: 1.7492480278015137\n",
            "Learning rate decayed. Updated LR is: 0.000124\n"
          ]
        },
        {
          "name": "stderr",
          "output_type": "stream",
          "text": [
            "100%|██████████| 10/10 [00:14<00:00,  1.43s/it]\n"
          ]
        },
        {
          "name": "stdout",
          "output_type": "stream",
          "text": [
            "Average validation Loss: 6.892723083496094\n",
            "Epoch [444/1000], Average Loss: 6.1024\n",
            "Average validation Loss: 6.892723083496094\n",
            "Learning rate decayed. Updated LR is: 0.000124\n"
          ]
        },
        {
          "name": "stderr",
          "output_type": "stream",
          "text": [
            "100%|██████████| 10/10 [00:14<00:00,  1.43s/it]\n"
          ]
        },
        {
          "name": "stdout",
          "output_type": "stream",
          "text": [
            "Average validation Loss: 4.2575273513793945\n",
            "Epoch [445/1000], Average Loss: 5.8619\n",
            "Average validation Loss: 4.2575273513793945\n",
            "Learning rate decayed. Updated LR is: 0.000123\n"
          ]
        },
        {
          "name": "stderr",
          "output_type": "stream",
          "text": [
            "100%|██████████| 10/10 [00:14<00:00,  1.43s/it]\n"
          ]
        },
        {
          "name": "stdout",
          "output_type": "stream",
          "text": [
            "Average validation Loss: 6.378130912780762\n",
            "Epoch [446/1000], Average Loss: 5.8381\n",
            "Average validation Loss: 6.378130912780762\n",
            "Learning rate decayed. Updated LR is: 0.000123\n"
          ]
        },
        {
          "name": "stderr",
          "output_type": "stream",
          "text": [
            "100%|██████████| 10/10 [00:14<00:00,  1.43s/it]\n"
          ]
        },
        {
          "name": "stdout",
          "output_type": "stream",
          "text": [
            "Average validation Loss: 2.790923595428467\n",
            "Epoch [447/1000], Average Loss: 5.9239\n",
            "Average validation Loss: 2.790923595428467\n",
            "Learning rate decayed. Updated LR is: 0.000123\n"
          ]
        },
        {
          "name": "stderr",
          "output_type": "stream",
          "text": [
            "100%|██████████| 10/10 [00:14<00:00,  1.43s/it]\n"
          ]
        },
        {
          "name": "stdout",
          "output_type": "stream",
          "text": [
            "Average validation Loss: 6.34133243560791\n",
            "Epoch [448/1000], Average Loss: 5.6706\n",
            "Average validation Loss: 6.34133243560791\n",
            "Learning rate decayed. Updated LR is: 0.000123\n"
          ]
        },
        {
          "name": "stderr",
          "output_type": "stream",
          "text": [
            "100%|██████████| 10/10 [00:14<00:00,  1.43s/it]\n"
          ]
        },
        {
          "name": "stdout",
          "output_type": "stream",
          "text": [
            "Average validation Loss: 13.486064910888672\n",
            "Epoch [449/1000], Average Loss: 6.7347\n",
            "Average validation Loss: 13.486064910888672\n",
            "Learning rate decayed. Updated LR is: 0.000122\n"
          ]
        },
        {
          "name": "stderr",
          "output_type": "stream",
          "text": [
            "100%|██████████| 10/10 [00:14<00:00,  1.43s/it]\n"
          ]
        },
        {
          "name": "stdout",
          "output_type": "stream",
          "text": [
            "Average validation Loss: 6.87907600402832\n",
            "Epoch [450/1000], Average Loss: 7.0552\n",
            "Average validation Loss: 6.87907600402832\n",
            "Learning rate decayed. Updated LR is: 0.000122\n"
          ]
        },
        {
          "name": "stderr",
          "output_type": "stream",
          "text": [
            "100%|██████████| 10/10 [00:14<00:00,  1.43s/it]\n"
          ]
        },
        {
          "name": "stdout",
          "output_type": "stream",
          "text": [
            "Average validation Loss: 1.7181956768035889\n",
            "Epoch [451/1000], Average Loss: 5.9658\n",
            "Average validation Loss: 1.7181956768035889\n",
            "Learning rate decayed. Updated LR is: 0.000122\n"
          ]
        },
        {
          "name": "stderr",
          "output_type": "stream",
          "text": [
            "100%|██████████| 10/10 [00:14<00:00,  1.43s/it]\n"
          ]
        },
        {
          "name": "stdout",
          "output_type": "stream",
          "text": [
            "Average validation Loss: 2.8842170238494873\n",
            "Epoch [452/1000], Average Loss: 5.8671\n",
            "Average validation Loss: 2.8842170238494873\n",
            "Learning rate decayed. Updated LR is: 0.000122\n"
          ]
        },
        {
          "name": "stderr",
          "output_type": "stream",
          "text": [
            "100%|██████████| 10/10 [00:14<00:00,  1.43s/it]\n"
          ]
        },
        {
          "name": "stdout",
          "output_type": "stream",
          "text": [
            "Average validation Loss: 4.097222805023193\n",
            "Epoch [453/1000], Average Loss: 6.0719\n",
            "Average validation Loss: 4.097222805023193\n",
            "Learning rate decayed. Updated LR is: 0.000122\n"
          ]
        },
        {
          "name": "stderr",
          "output_type": "stream",
          "text": [
            "100%|██████████| 10/10 [00:14<00:00,  1.43s/it]\n"
          ]
        },
        {
          "name": "stdout",
          "output_type": "stream",
          "text": [
            "Average validation Loss: 5.510682582855225\n",
            "Epoch [454/1000], Average Loss: 5.7732\n",
            "Average validation Loss: 5.510682582855225\n",
            "Learning rate decayed. Updated LR is: 0.000121\n"
          ]
        },
        {
          "name": "stderr",
          "output_type": "stream",
          "text": [
            "100%|██████████| 10/10 [00:14<00:00,  1.43s/it]\n"
          ]
        },
        {
          "name": "stdout",
          "output_type": "stream",
          "text": [
            "Average validation Loss: 2.714993953704834\n",
            "Epoch [455/1000], Average Loss: 4.9438\n",
            "Average validation Loss: 2.714993953704834\n",
            "Learning rate decayed. Updated LR is: 0.000121\n"
          ]
        },
        {
          "name": "stderr",
          "output_type": "stream",
          "text": [
            "100%|██████████| 10/10 [00:14<00:00,  1.43s/it]\n"
          ]
        },
        {
          "name": "stdout",
          "output_type": "stream",
          "text": [
            "Average validation Loss: 4.03351354598999\n",
            "Epoch [456/1000], Average Loss: 4.8823\n",
            "Average validation Loss: 4.03351354598999\n",
            "Learning rate decayed. Updated LR is: 0.000121\n"
          ]
        },
        {
          "name": "stderr",
          "output_type": "stream",
          "text": [
            "100%|██████████| 10/10 [00:14<00:00,  1.43s/it]\n"
          ]
        },
        {
          "name": "stdout",
          "output_type": "stream",
          "text": [
            "Average validation Loss: 2.585991382598877\n",
            "Epoch [457/1000], Average Loss: 5.0395\n",
            "Average validation Loss: 2.585991382598877\n",
            "Learning rate decayed. Updated LR is: 0.000121\n"
          ]
        },
        {
          "name": "stderr",
          "output_type": "stream",
          "text": [
            "100%|██████████| 10/10 [00:14<00:00,  1.44s/it]\n"
          ]
        },
        {
          "name": "stdout",
          "output_type": "stream",
          "text": [
            "Average validation Loss: 11.151080131530762\n",
            "Epoch [458/1000], Average Loss: 5.5144\n",
            "Average validation Loss: 11.151080131530762\n",
            "Learning rate decayed. Updated LR is: 0.000120\n"
          ]
        },
        {
          "name": "stderr",
          "output_type": "stream",
          "text": [
            "100%|██████████| 10/10 [00:14<00:00,  1.44s/it]\n"
          ]
        },
        {
          "name": "stdout",
          "output_type": "stream",
          "text": [
            "Average validation Loss: 7.646018028259277\n",
            "Epoch [459/1000], Average Loss: 6.1203\n",
            "Average validation Loss: 7.646018028259277\n",
            "Learning rate decayed. Updated LR is: 0.000120\n"
          ]
        },
        {
          "name": "stderr",
          "output_type": "stream",
          "text": [
            "100%|██████████| 10/10 [00:14<00:00,  1.43s/it]\n"
          ]
        },
        {
          "name": "stdout",
          "output_type": "stream",
          "text": [
            "Average validation Loss: 4.675504684448242\n",
            "Epoch [460/1000], Average Loss: 6.3956\n",
            "Average validation Loss: 4.675504684448242\n",
            "Learning rate decayed. Updated LR is: 0.000120\n"
          ]
        },
        {
          "name": "stderr",
          "output_type": "stream",
          "text": [
            "100%|██████████| 10/10 [00:14<00:00,  1.44s/it]\n"
          ]
        },
        {
          "name": "stdout",
          "output_type": "stream",
          "text": [
            "Average validation Loss: 5.805931091308594\n",
            "Epoch [461/1000], Average Loss: 6.4302\n",
            "Average validation Loss: 5.805931091308594\n",
            "Learning rate decayed. Updated LR is: 0.000120\n"
          ]
        },
        {
          "name": "stderr",
          "output_type": "stream",
          "text": [
            "100%|██████████| 10/10 [00:14<00:00,  1.44s/it]\n"
          ]
        },
        {
          "name": "stdout",
          "output_type": "stream",
          "text": [
            "Average validation Loss: 2.374051570892334\n",
            "Epoch [462/1000], Average Loss: 6.3779\n",
            "Average validation Loss: 2.374051570892334\n",
            "Learning rate decayed. Updated LR is: 0.000120\n"
          ]
        },
        {
          "name": "stderr",
          "output_type": "stream",
          "text": [
            "100%|██████████| 10/10 [00:14<00:00,  1.43s/it]\n"
          ]
        },
        {
          "name": "stdout",
          "output_type": "stream",
          "text": [
            "Average validation Loss: 5.498051643371582\n",
            "Epoch [463/1000], Average Loss: 6.4808\n",
            "Average validation Loss: 5.498051643371582\n",
            "Learning rate decayed. Updated LR is: 0.000119\n"
          ]
        },
        {
          "name": "stderr",
          "output_type": "stream",
          "text": [
            "100%|██████████| 10/10 [00:14<00:00,  1.43s/it]\n"
          ]
        },
        {
          "name": "stdout",
          "output_type": "stream",
          "text": [
            "Average validation Loss: 6.9739179611206055\n",
            "Epoch [464/1000], Average Loss: 6.5054\n",
            "Average validation Loss: 6.9739179611206055\n",
            "Learning rate decayed. Updated LR is: 0.000119\n"
          ]
        },
        {
          "name": "stderr",
          "output_type": "stream",
          "text": [
            "100%|██████████| 10/10 [00:14<00:00,  1.43s/it]\n"
          ]
        },
        {
          "name": "stdout",
          "output_type": "stream",
          "text": [
            "Average validation Loss: 2.3098063468933105\n",
            "Epoch [465/1000], Average Loss: 6.3091\n",
            "Average validation Loss: 2.3098063468933105\n",
            "Learning rate decayed. Updated LR is: 0.000119\n"
          ]
        },
        {
          "name": "stderr",
          "output_type": "stream",
          "text": [
            "100%|██████████| 10/10 [00:14<00:00,  1.43s/it]\n"
          ]
        },
        {
          "name": "stdout",
          "output_type": "stream",
          "text": [
            "Average validation Loss: 3.5599489212036133\n",
            "Epoch [466/1000], Average Loss: 6.6478\n",
            "Average validation Loss: 3.5599489212036133\n",
            "Learning rate decayed. Updated LR is: 0.000119\n"
          ]
        },
        {
          "name": "stderr",
          "output_type": "stream",
          "text": [
            "100%|██████████| 10/10 [00:14<00:00,  1.43s/it]\n"
          ]
        },
        {
          "name": "stdout",
          "output_type": "stream",
          "text": [
            "Average validation Loss: 5.559976577758789\n",
            "Epoch [467/1000], Average Loss: 6.3952\n",
            "Average validation Loss: 5.559976577758789\n",
            "Learning rate decayed. Updated LR is: 0.000118\n"
          ]
        },
        {
          "name": "stderr",
          "output_type": "stream",
          "text": [
            "100%|██████████| 10/10 [00:14<00:00,  1.43s/it]\n"
          ]
        },
        {
          "name": "stdout",
          "output_type": "stream",
          "text": [
            "Average validation Loss: 1.9967522621154785\n",
            "Epoch [468/1000], Average Loss: 6.0566\n",
            "Average validation Loss: 1.9967522621154785\n",
            "Learning rate decayed. Updated LR is: 0.000118\n"
          ]
        },
        {
          "name": "stderr",
          "output_type": "stream",
          "text": [
            "100%|██████████| 10/10 [00:14<00:00,  1.43s/it]\n"
          ]
        },
        {
          "name": "stdout",
          "output_type": "stream",
          "text": [
            "Average validation Loss: 3.8507070541381836\n",
            "Epoch [469/1000], Average Loss: 5.9927\n",
            "Average validation Loss: 3.8507070541381836\n",
            "Learning rate decayed. Updated LR is: 0.000118\n"
          ]
        },
        {
          "name": "stderr",
          "output_type": "stream",
          "text": [
            "100%|██████████| 10/10 [00:14<00:00,  1.43s/it]\n"
          ]
        },
        {
          "name": "stdout",
          "output_type": "stream",
          "text": [
            "Average validation Loss: 6.4612321853637695\n",
            "Epoch [470/1000], Average Loss: 5.2242\n",
            "Average validation Loss: 6.4612321853637695\n",
            "Learning rate decayed. Updated LR is: 0.000118\n"
          ]
        },
        {
          "name": "stderr",
          "output_type": "stream",
          "text": [
            "100%|██████████| 10/10 [00:14<00:00,  1.43s/it]\n"
          ]
        },
        {
          "name": "stdout",
          "output_type": "stream",
          "text": [
            "Average validation Loss: 1.6253676414489746\n",
            "Epoch [471/1000], Average Loss: 5.0805\n",
            "Average validation Loss: 1.6253676414489746\n",
            "Learning rate decayed. Updated LR is: 0.000118\n"
          ]
        },
        {
          "name": "stderr",
          "output_type": "stream",
          "text": [
            "100%|██████████| 10/10 [00:14<00:00,  1.43s/it]\n"
          ]
        },
        {
          "name": "stdout",
          "output_type": "stream",
          "text": [
            "Average validation Loss: 2.996842861175537\n",
            "Epoch [472/1000], Average Loss: 5.5672\n",
            "Average validation Loss: 2.996842861175537\n",
            "Learning rate decayed. Updated LR is: 0.000117\n"
          ]
        },
        {
          "name": "stderr",
          "output_type": "stream",
          "text": [
            "100%|██████████| 10/10 [00:14<00:00,  1.43s/it]\n"
          ]
        },
        {
          "name": "stdout",
          "output_type": "stream",
          "text": [
            "Average validation Loss: 1.7187117338180542\n",
            "Epoch [473/1000], Average Loss: 5.3960\n",
            "Average validation Loss: 1.7187117338180542\n",
            "Learning rate decayed. Updated LR is: 0.000117\n"
          ]
        },
        {
          "name": "stderr",
          "output_type": "stream",
          "text": [
            "100%|██████████| 10/10 [00:14<00:00,  1.43s/it]\n"
          ]
        },
        {
          "name": "stdout",
          "output_type": "stream",
          "text": [
            "Average validation Loss: 7.554778099060059\n",
            "Epoch [474/1000], Average Loss: 5.4294\n",
            "Average validation Loss: 7.554778099060059\n",
            "Learning rate decayed. Updated LR is: 0.000117\n"
          ]
        },
        {
          "name": "stderr",
          "output_type": "stream",
          "text": [
            "100%|██████████| 10/10 [00:14<00:00,  1.43s/it]\n"
          ]
        },
        {
          "name": "stdout",
          "output_type": "stream",
          "text": [
            "Average validation Loss: 1.931189775466919\n",
            "Epoch [475/1000], Average Loss: 4.6665\n",
            "Average validation Loss: 1.931189775466919\n",
            "Learning rate decayed. Updated LR is: 0.000117\n"
          ]
        },
        {
          "name": "stderr",
          "output_type": "stream",
          "text": [
            "100%|██████████| 10/10 [00:14<00:00,  1.43s/it]\n"
          ]
        },
        {
          "name": "stdout",
          "output_type": "stream",
          "text": [
            "Average validation Loss: 4.24676513671875\n",
            "Epoch [476/1000], Average Loss: 4.5529\n",
            "Average validation Loss: 4.24676513671875\n",
            "Learning rate decayed. Updated LR is: 0.000116\n"
          ]
        },
        {
          "name": "stderr",
          "output_type": "stream",
          "text": [
            "100%|██████████| 10/10 [00:14<00:00,  1.43s/it]\n"
          ]
        },
        {
          "name": "stdout",
          "output_type": "stream",
          "text": [
            "Average validation Loss: 7.555693626403809\n",
            "Epoch [477/1000], Average Loss: 5.3429\n",
            "Average validation Loss: 7.555693626403809\n",
            "Learning rate decayed. Updated LR is: 0.000116\n"
          ]
        },
        {
          "name": "stderr",
          "output_type": "stream",
          "text": [
            "100%|██████████| 10/10 [00:14<00:00,  1.43s/it]\n"
          ]
        },
        {
          "name": "stdout",
          "output_type": "stream",
          "text": [
            "Average validation Loss: 3.079578399658203\n",
            "Epoch [478/1000], Average Loss: 5.2633\n",
            "Average validation Loss: 3.079578399658203\n",
            "Learning rate decayed. Updated LR is: 0.000116\n"
          ]
        },
        {
          "name": "stderr",
          "output_type": "stream",
          "text": [
            "100%|██████████| 10/10 [00:14<00:00,  1.43s/it]\n"
          ]
        },
        {
          "name": "stdout",
          "output_type": "stream",
          "text": [
            "Average validation Loss: 6.952300071716309\n",
            "Epoch [479/1000], Average Loss: 5.8005\n",
            "Average validation Loss: 6.952300071716309\n",
            "Learning rate decayed. Updated LR is: 0.000116\n"
          ]
        },
        {
          "name": "stderr",
          "output_type": "stream",
          "text": [
            "100%|██████████| 10/10 [00:14<00:00,  1.43s/it]\n"
          ]
        },
        {
          "name": "stdout",
          "output_type": "stream",
          "text": [
            "Average validation Loss: 3.0869035720825195\n",
            "Epoch [480/1000], Average Loss: 5.8167\n",
            "Average validation Loss: 3.0869035720825195\n",
            "Learning rate decayed. Updated LR is: 0.000116\n"
          ]
        },
        {
          "name": "stderr",
          "output_type": "stream",
          "text": [
            "100%|██████████| 10/10 [00:14<00:00,  1.43s/it]\n"
          ]
        },
        {
          "name": "stdout",
          "output_type": "stream",
          "text": [
            "Average validation Loss: 4.758156776428223\n",
            "Epoch [481/1000], Average Loss: 7.3862\n",
            "Average validation Loss: 4.758156776428223\n",
            "Learning rate decayed. Updated LR is: 0.000115\n"
          ]
        },
        {
          "name": "stderr",
          "output_type": "stream",
          "text": [
            "100%|██████████| 10/10 [00:14<00:00,  1.43s/it]\n"
          ]
        },
        {
          "name": "stdout",
          "output_type": "stream",
          "text": [
            "Average validation Loss: 3.3866095542907715\n",
            "Epoch [482/1000], Average Loss: 9.0321\n",
            "Average validation Loss: 3.3866095542907715\n",
            "Learning rate decayed. Updated LR is: 0.000115\n"
          ]
        },
        {
          "name": "stderr",
          "output_type": "stream",
          "text": [
            "100%|██████████| 10/10 [00:14<00:00,  1.43s/it]\n"
          ]
        },
        {
          "name": "stdout",
          "output_type": "stream",
          "text": [
            "Average validation Loss: 3.3027687072753906\n",
            "Epoch [483/1000], Average Loss: 7.8068\n",
            "Average validation Loss: 3.3027687072753906\n",
            "Learning rate decayed. Updated LR is: 0.000115\n"
          ]
        },
        {
          "name": "stderr",
          "output_type": "stream",
          "text": [
            "100%|██████████| 10/10 [00:14<00:00,  1.43s/it]\n"
          ]
        },
        {
          "name": "stdout",
          "output_type": "stream",
          "text": [
            "Average validation Loss: 11.335494041442871\n",
            "Epoch [484/1000], Average Loss: 6.4637\n",
            "Average validation Loss: 11.335494041442871\n",
            "Learning rate decayed. Updated LR is: 0.000115\n"
          ]
        },
        {
          "name": "stderr",
          "output_type": "stream",
          "text": [
            "100%|██████████| 10/10 [00:14<00:00,  1.43s/it]\n"
          ]
        },
        {
          "name": "stdout",
          "output_type": "stream",
          "text": [
            "Average validation Loss: 5.8116655349731445\n",
            "Epoch [485/1000], Average Loss: 6.2463\n",
            "Average validation Loss: 5.8116655349731445\n",
            "Learning rate decayed. Updated LR is: 0.000114\n"
          ]
        },
        {
          "name": "stderr",
          "output_type": "stream",
          "text": [
            "100%|██████████| 10/10 [00:14<00:00,  1.43s/it]\n"
          ]
        },
        {
          "name": "stdout",
          "output_type": "stream",
          "text": [
            "Average validation Loss: 5.811875343322754\n",
            "Epoch [486/1000], Average Loss: 5.9610\n",
            "Average validation Loss: 5.811875343322754\n",
            "Learning rate decayed. Updated LR is: 0.000114\n"
          ]
        },
        {
          "name": "stderr",
          "output_type": "stream",
          "text": [
            "100%|██████████| 10/10 [00:14<00:00,  1.43s/it]\n"
          ]
        },
        {
          "name": "stdout",
          "output_type": "stream",
          "text": [
            "Average validation Loss: 7.131808280944824\n",
            "Epoch [487/1000], Average Loss: 5.8092\n",
            "Average validation Loss: 7.131808280944824\n",
            "Learning rate decayed. Updated LR is: 0.000114\n"
          ]
        },
        {
          "name": "stderr",
          "output_type": "stream",
          "text": [
            "100%|██████████| 10/10 [00:14<00:00,  1.43s/it]\n"
          ]
        },
        {
          "name": "stdout",
          "output_type": "stream",
          "text": [
            "Average validation Loss: 6.119813442230225\n",
            "Epoch [488/1000], Average Loss: 6.3008\n",
            "Average validation Loss: 6.119813442230225\n",
            "Learning rate decayed. Updated LR is: 0.000114\n"
          ]
        },
        {
          "name": "stderr",
          "output_type": "stream",
          "text": [
            "100%|██████████| 10/10 [00:14<00:00,  1.43s/it]\n"
          ]
        },
        {
          "name": "stdout",
          "output_type": "stream",
          "text": [
            "Average validation Loss: 2.1171348094940186\n",
            "Epoch [489/1000], Average Loss: 4.6751\n",
            "Average validation Loss: 2.1171348094940186\n",
            "Learning rate decayed. Updated LR is: 0.000114\n"
          ]
        },
        {
          "name": "stderr",
          "output_type": "stream",
          "text": [
            "100%|██████████| 10/10 [00:14<00:00,  1.43s/it]\n"
          ]
        },
        {
          "name": "stdout",
          "output_type": "stream",
          "text": [
            "Average validation Loss: 3.0538878440856934\n",
            "Epoch [490/1000], Average Loss: 4.5484\n",
            "Average validation Loss: 3.0538878440856934\n",
            "Learning rate decayed. Updated LR is: 0.000113\n"
          ]
        },
        {
          "name": "stderr",
          "output_type": "stream",
          "text": [
            "100%|██████████| 10/10 [00:14<00:00,  1.43s/it]\n"
          ]
        },
        {
          "name": "stdout",
          "output_type": "stream",
          "text": [
            "Average validation Loss: 2.0323357582092285\n",
            "Epoch [491/1000], Average Loss: 4.4609\n",
            "Average validation Loss: 2.0323357582092285\n",
            "Learning rate decayed. Updated LR is: 0.000113\n"
          ]
        },
        {
          "name": "stderr",
          "output_type": "stream",
          "text": [
            "100%|██████████| 10/10 [00:14<00:00,  1.43s/it]\n"
          ]
        },
        {
          "name": "stdout",
          "output_type": "stream",
          "text": [
            "Average validation Loss: 1.7153199911117554\n",
            "Epoch [492/1000], Average Loss: 4.4360\n",
            "Average validation Loss: 1.7153199911117554\n",
            "Learning rate decayed. Updated LR is: 0.000113\n"
          ]
        },
        {
          "name": "stderr",
          "output_type": "stream",
          "text": [
            "100%|██████████| 10/10 [00:14<00:00,  1.43s/it]\n"
          ]
        },
        {
          "name": "stdout",
          "output_type": "stream",
          "text": [
            "Average validation Loss: 1.818036437034607\n",
            "Epoch [493/1000], Average Loss: 4.1838\n",
            "Average validation Loss: 1.818036437034607\n",
            "Learning rate decayed. Updated LR is: 0.000113\n"
          ]
        },
        {
          "name": "stderr",
          "output_type": "stream",
          "text": [
            "100%|██████████| 10/10 [00:14<00:00,  1.43s/it]\n"
          ]
        },
        {
          "name": "stdout",
          "output_type": "stream",
          "text": [
            "Average validation Loss: 3.803955078125\n",
            "Epoch [494/1000], Average Loss: 4.8217\n",
            "Average validation Loss: 3.803955078125\n",
            "Learning rate decayed. Updated LR is: 0.000112\n"
          ]
        },
        {
          "name": "stderr",
          "output_type": "stream",
          "text": [
            "100%|██████████| 10/10 [00:14<00:00,  1.43s/it]\n"
          ]
        },
        {
          "name": "stdout",
          "output_type": "stream",
          "text": [
            "Average validation Loss: 4.654214382171631\n",
            "Epoch [495/1000], Average Loss: 4.5845\n",
            "Average validation Loss: 4.654214382171631\n",
            "Learning rate decayed. Updated LR is: 0.000112\n"
          ]
        },
        {
          "name": "stderr",
          "output_type": "stream",
          "text": [
            "100%|██████████| 10/10 [00:14<00:00,  1.43s/it]\n"
          ]
        },
        {
          "name": "stdout",
          "output_type": "stream",
          "text": [
            "Average validation Loss: 2.4791150093078613\n",
            "Epoch [496/1000], Average Loss: 4.6303\n",
            "Average validation Loss: 2.4791150093078613\n",
            "Learning rate decayed. Updated LR is: 0.000112\n"
          ]
        },
        {
          "name": "stderr",
          "output_type": "stream",
          "text": [
            "100%|██████████| 10/10 [00:14<00:00,  1.43s/it]\n"
          ]
        },
        {
          "name": "stdout",
          "output_type": "stream",
          "text": [
            "Average validation Loss: 2.3714804649353027\n",
            "Epoch [497/1000], Average Loss: 4.4079\n",
            "Average validation Loss: 2.3714804649353027\n",
            "Learning rate decayed. Updated LR is: 0.000112\n"
          ]
        },
        {
          "name": "stderr",
          "output_type": "stream",
          "text": [
            "100%|██████████| 10/10 [00:14<00:00,  1.43s/it]\n"
          ]
        },
        {
          "name": "stdout",
          "output_type": "stream",
          "text": [
            "Average validation Loss: 1.9222197532653809\n",
            "Epoch [498/1000], Average Loss: 4.0402\n",
            "Average validation Loss: 1.9222197532653809\n",
            "Learning rate decayed. Updated LR is: 0.000112\n"
          ]
        },
        {
          "name": "stderr",
          "output_type": "stream",
          "text": [
            "100%|██████████| 10/10 [00:14<00:00,  1.43s/it]\n"
          ]
        },
        {
          "name": "stdout",
          "output_type": "stream",
          "text": [
            "Average validation Loss: 5.461109161376953\n",
            "Epoch [499/1000], Average Loss: 4.3942\n",
            "Average validation Loss: 5.461109161376953\n",
            "Learning rate decayed. Updated LR is: 0.000111\n"
          ]
        },
        {
          "name": "stderr",
          "output_type": "stream",
          "text": [
            "100%|██████████| 10/10 [00:14<00:00,  1.43s/it]\n"
          ]
        },
        {
          "name": "stdout",
          "output_type": "stream",
          "text": [
            "Average validation Loss: 5.5334062576293945\n",
            "Epoch [500/1000], Average Loss: 4.8272\n",
            "Average validation Loss: 5.5334062576293945\n",
            "Learning rate decayed. Updated LR is: 0.000111\n"
          ]
        },
        {
          "name": "stderr",
          "output_type": "stream",
          "text": [
            "100%|██████████| 10/10 [00:14<00:00,  1.43s/it]\n"
          ]
        },
        {
          "name": "stdout",
          "output_type": "stream",
          "text": [
            "Average validation Loss: 2.952993154525757\n",
            "Epoch [501/1000], Average Loss: 5.6348\n",
            "Average validation Loss: 2.952993154525757\n",
            "Learning rate decayed. Updated LR is: 0.000111\n"
          ]
        },
        {
          "name": "stderr",
          "output_type": "stream",
          "text": [
            "100%|██████████| 10/10 [00:14<00:00,  1.43s/it]\n"
          ]
        },
        {
          "name": "stdout",
          "output_type": "stream",
          "text": [
            "Average validation Loss: 6.776315689086914\n",
            "Epoch [502/1000], Average Loss: 5.3932\n",
            "Average validation Loss: 6.776315689086914\n",
            "Learning rate decayed. Updated LR is: 0.000111\n"
          ]
        },
        {
          "name": "stderr",
          "output_type": "stream",
          "text": [
            "100%|██████████| 10/10 [00:14<00:00,  1.43s/it]\n"
          ]
        },
        {
          "name": "stdout",
          "output_type": "stream",
          "text": [
            "Average validation Loss: 3.5240886211395264\n",
            "Epoch [503/1000], Average Loss: 4.9297\n",
            "Average validation Loss: 3.5240886211395264\n",
            "Learning rate decayed. Updated LR is: 0.000110\n"
          ]
        },
        {
          "name": "stderr",
          "output_type": "stream",
          "text": [
            "100%|██████████| 10/10 [00:14<00:00,  1.43s/it]\n"
          ]
        },
        {
          "name": "stdout",
          "output_type": "stream",
          "text": [
            "Average validation Loss: 9.378643035888672\n",
            "Epoch [504/1000], Average Loss: 5.6920\n",
            "Average validation Loss: 9.378643035888672\n",
            "Learning rate decayed. Updated LR is: 0.000110\n"
          ]
        },
        {
          "name": "stderr",
          "output_type": "stream",
          "text": [
            "100%|██████████| 10/10 [00:14<00:00,  1.43s/it]\n"
          ]
        },
        {
          "name": "stdout",
          "output_type": "stream",
          "text": [
            "Average validation Loss: 2.480394124984741\n",
            "Epoch [505/1000], Average Loss: 4.4977\n",
            "Average validation Loss: 2.480394124984741\n",
            "Learning rate decayed. Updated LR is: 0.000110\n"
          ]
        },
        {
          "name": "stderr",
          "output_type": "stream",
          "text": [
            "100%|██████████| 10/10 [00:14<00:00,  1.43s/it]\n"
          ]
        },
        {
          "name": "stdout",
          "output_type": "stream",
          "text": [
            "Average validation Loss: 3.7518575191497803\n",
            "Epoch [506/1000], Average Loss: 5.2332\n",
            "Average validation Loss: 3.7518575191497803\n",
            "Learning rate decayed. Updated LR is: 0.000110\n"
          ]
        },
        {
          "name": "stderr",
          "output_type": "stream",
          "text": [
            "100%|██████████| 10/10 [00:14<00:00,  1.43s/it]\n"
          ]
        },
        {
          "name": "stdout",
          "output_type": "stream",
          "text": [
            "Average validation Loss: 1.8590545654296875\n",
            "Epoch [507/1000], Average Loss: 5.1081\n",
            "Average validation Loss: 1.8590545654296875\n",
            "Learning rate decayed. Updated LR is: 0.000110\n"
          ]
        },
        {
          "name": "stderr",
          "output_type": "stream",
          "text": [
            "100%|██████████| 10/10 [00:14<00:00,  1.43s/it]\n"
          ]
        },
        {
          "name": "stdout",
          "output_type": "stream",
          "text": [
            "Average validation Loss: 3.3497188091278076\n",
            "Epoch [508/1000], Average Loss: 4.8281\n",
            "Average validation Loss: 3.3497188091278076\n",
            "Learning rate decayed. Updated LR is: 0.000109\n"
          ]
        },
        {
          "name": "stderr",
          "output_type": "stream",
          "text": [
            "100%|██████████| 10/10 [00:14<00:00,  1.43s/it]\n"
          ]
        },
        {
          "name": "stdout",
          "output_type": "stream",
          "text": [
            "Average validation Loss: 3.6094717979431152\n",
            "Epoch [509/1000], Average Loss: 4.7199\n",
            "Average validation Loss: 3.6094717979431152\n",
            "Learning rate decayed. Updated LR is: 0.000109\n"
          ]
        },
        {
          "name": "stderr",
          "output_type": "stream",
          "text": [
            "100%|██████████| 10/10 [00:14<00:00,  1.43s/it]\n"
          ]
        },
        {
          "name": "stdout",
          "output_type": "stream",
          "text": [
            "Average validation Loss: 9.781576156616211\n",
            "Epoch [510/1000], Average Loss: 6.0281\n",
            "Average validation Loss: 9.781576156616211\n",
            "Learning rate decayed. Updated LR is: 0.000109\n"
          ]
        },
        {
          "name": "stderr",
          "output_type": "stream",
          "text": [
            "100%|██████████| 10/10 [00:14<00:00,  1.43s/it]\n"
          ]
        },
        {
          "name": "stdout",
          "output_type": "stream",
          "text": [
            "Average validation Loss: 8.257109642028809\n",
            "Epoch [511/1000], Average Loss: 6.4536\n",
            "Average validation Loss: 8.257109642028809\n",
            "Learning rate decayed. Updated LR is: 0.000109\n"
          ]
        },
        {
          "name": "stderr",
          "output_type": "stream",
          "text": [
            "100%|██████████| 10/10 [00:14<00:00,  1.43s/it]\n"
          ]
        },
        {
          "name": "stdout",
          "output_type": "stream",
          "text": [
            "Average validation Loss: 1.599303960800171\n",
            "Epoch [512/1000], Average Loss: 5.4713\n",
            "Average validation Loss: 1.599303960800171\n",
            "Learning rate decayed. Updated LR is: 0.000108\n"
          ]
        },
        {
          "name": "stderr",
          "output_type": "stream",
          "text": [
            "100%|██████████| 10/10 [00:14<00:00,  1.43s/it]\n"
          ]
        },
        {
          "name": "stdout",
          "output_type": "stream",
          "text": [
            "Average validation Loss: 6.040004730224609\n",
            "Epoch [513/1000], Average Loss: 5.6793\n",
            "Average validation Loss: 6.040004730224609\n",
            "Learning rate decayed. Updated LR is: 0.000108\n"
          ]
        },
        {
          "name": "stderr",
          "output_type": "stream",
          "text": [
            "100%|██████████| 10/10 [00:14<00:00,  1.43s/it]\n"
          ]
        },
        {
          "name": "stdout",
          "output_type": "stream",
          "text": [
            "Average validation Loss: 5.873064994812012\n",
            "Epoch [514/1000], Average Loss: 5.7626\n",
            "Average validation Loss: 5.873064994812012\n",
            "Learning rate decayed. Updated LR is: 0.000108\n"
          ]
        },
        {
          "name": "stderr",
          "output_type": "stream",
          "text": [
            "100%|██████████| 10/10 [00:14<00:00,  1.43s/it]\n"
          ]
        },
        {
          "name": "stdout",
          "output_type": "stream",
          "text": [
            "Average validation Loss: 5.358397483825684\n",
            "Epoch [515/1000], Average Loss: 4.9152\n",
            "Average validation Loss: 5.358397483825684\n",
            "Learning rate decayed. Updated LR is: 0.000108\n"
          ]
        },
        {
          "name": "stderr",
          "output_type": "stream",
          "text": [
            "100%|██████████| 10/10 [00:14<00:00,  1.43s/it]\n"
          ]
        },
        {
          "name": "stdout",
          "output_type": "stream",
          "text": [
            "Average validation Loss: 2.2958459854125977\n",
            "Epoch [516/1000], Average Loss: 4.2027\n",
            "Average validation Loss: 2.2958459854125977\n",
            "Learning rate decayed. Updated LR is: 0.000108\n"
          ]
        },
        {
          "name": "stderr",
          "output_type": "stream",
          "text": [
            "100%|██████████| 10/10 [00:14<00:00,  1.43s/it]\n"
          ]
        },
        {
          "name": "stdout",
          "output_type": "stream",
          "text": [
            "Average validation Loss: 5.442744255065918\n",
            "Epoch [517/1000], Average Loss: 4.2078\n",
            "Average validation Loss: 5.442744255065918\n",
            "Learning rate decayed. Updated LR is: 0.000107\n"
          ]
        },
        {
          "name": "stderr",
          "output_type": "stream",
          "text": [
            "100%|██████████| 10/10 [00:14<00:00,  1.43s/it]\n"
          ]
        },
        {
          "name": "stdout",
          "output_type": "stream",
          "text": [
            "Average validation Loss: 3.3562445640563965\n",
            "Epoch [518/1000], Average Loss: 4.1743\n",
            "Average validation Loss: 3.3562445640563965\n",
            "Learning rate decayed. Updated LR is: 0.000107\n"
          ]
        },
        {
          "name": "stderr",
          "output_type": "stream",
          "text": [
            "100%|██████████| 10/10 [00:14<00:00,  1.43s/it]\n"
          ]
        },
        {
          "name": "stdout",
          "output_type": "stream",
          "text": [
            "Average validation Loss: 5.26704216003418\n",
            "Epoch [519/1000], Average Loss: 4.2328\n",
            "Average validation Loss: 5.26704216003418\n",
            "Learning rate decayed. Updated LR is: 0.000107\n"
          ]
        },
        {
          "name": "stderr",
          "output_type": "stream",
          "text": [
            "100%|██████████| 10/10 [00:14<00:00,  1.43s/it]\n"
          ]
        },
        {
          "name": "stdout",
          "output_type": "stream",
          "text": [
            "Average validation Loss: 2.0702881813049316\n",
            "Epoch [520/1000], Average Loss: 4.3811\n",
            "Average validation Loss: 2.0702881813049316\n",
            "Learning rate decayed. Updated LR is: 0.000107\n"
          ]
        },
        {
          "name": "stderr",
          "output_type": "stream",
          "text": [
            "100%|██████████| 10/10 [00:14<00:00,  1.43s/it]\n"
          ]
        },
        {
          "name": "stdout",
          "output_type": "stream",
          "text": [
            "Average validation Loss: 2.994229793548584\n",
            "Epoch [521/1000], Average Loss: 5.2777\n",
            "Average validation Loss: 2.994229793548584\n",
            "Learning rate decayed. Updated LR is: 0.000106\n"
          ]
        },
        {
          "name": "stderr",
          "output_type": "stream",
          "text": [
            "100%|██████████| 10/10 [00:14<00:00,  1.43s/it]\n"
          ]
        },
        {
          "name": "stdout",
          "output_type": "stream",
          "text": [
            "Average validation Loss: 10.028684616088867\n",
            "Epoch [522/1000], Average Loss: 5.4186\n",
            "Average validation Loss: 10.028684616088867\n",
            "Learning rate decayed. Updated LR is: 0.000106\n"
          ]
        },
        {
          "name": "stderr",
          "output_type": "stream",
          "text": [
            "100%|██████████| 10/10 [00:14<00:00,  1.43s/it]\n"
          ]
        },
        {
          "name": "stdout",
          "output_type": "stream",
          "text": [
            "Average validation Loss: 3.0863161087036133\n",
            "Epoch [523/1000], Average Loss: 4.9593\n",
            "Average validation Loss: 3.0863161087036133\n",
            "Learning rate decayed. Updated LR is: 0.000106\n"
          ]
        },
        {
          "name": "stderr",
          "output_type": "stream",
          "text": [
            "100%|██████████| 10/10 [00:14<00:00,  1.44s/it]\n"
          ]
        },
        {
          "name": "stdout",
          "output_type": "stream",
          "text": [
            "Average validation Loss: 2.5489087104797363\n",
            "Epoch [524/1000], Average Loss: 4.8440\n",
            "Average validation Loss: 2.5489087104797363\n",
            "Learning rate decayed. Updated LR is: 0.000106\n"
          ]
        },
        {
          "name": "stderr",
          "output_type": "stream",
          "text": [
            "100%|██████████| 10/10 [00:14<00:00,  1.43s/it]\n"
          ]
        },
        {
          "name": "stdout",
          "output_type": "stream",
          "text": [
            "Average validation Loss: 2.922935962677002\n",
            "Epoch [525/1000], Average Loss: 4.4597\n",
            "Average validation Loss: 2.922935962677002\n",
            "Learning rate decayed. Updated LR is: 0.000106\n"
          ]
        },
        {
          "name": "stderr",
          "output_type": "stream",
          "text": [
            "100%|██████████| 10/10 [00:14<00:00,  1.43s/it]\n"
          ]
        },
        {
          "name": "stdout",
          "output_type": "stream",
          "text": [
            "Average validation Loss: 1.4549602270126343\n",
            "Epoch [526/1000], Average Loss: 4.1130\n",
            "Average validation Loss: 1.4549602270126343\n",
            "Learning rate decayed. Updated LR is: 0.000105\n"
          ]
        },
        {
          "name": "stderr",
          "output_type": "stream",
          "text": [
            "100%|██████████| 10/10 [00:14<00:00,  1.43s/it]\n"
          ]
        },
        {
          "name": "stdout",
          "output_type": "stream",
          "text": [
            "Average validation Loss: 11.381373405456543\n",
            "Epoch [527/1000], Average Loss: 5.4414\n",
            "Average validation Loss: 11.381373405456543\n",
            "Learning rate decayed. Updated LR is: 0.000105\n"
          ]
        },
        {
          "name": "stderr",
          "output_type": "stream",
          "text": [
            "100%|██████████| 10/10 [00:14<00:00,  1.43s/it]\n"
          ]
        },
        {
          "name": "stdout",
          "output_type": "stream",
          "text": [
            "Average validation Loss: 5.539544582366943\n",
            "Epoch [528/1000], Average Loss: 5.7912\n",
            "Average validation Loss: 5.539544582366943\n",
            "Learning rate decayed. Updated LR is: 0.000105\n"
          ]
        },
        {
          "name": "stderr",
          "output_type": "stream",
          "text": [
            "100%|██████████| 10/10 [00:14<00:00,  1.43s/it]\n"
          ]
        },
        {
          "name": "stdout",
          "output_type": "stream",
          "text": [
            "Average validation Loss: 2.978341579437256\n",
            "Epoch [529/1000], Average Loss: 5.2292\n",
            "Average validation Loss: 2.978341579437256\n",
            "Learning rate decayed. Updated LR is: 0.000105\n"
          ]
        },
        {
          "name": "stderr",
          "output_type": "stream",
          "text": [
            "100%|██████████| 10/10 [00:14<00:00,  1.43s/it]\n"
          ]
        },
        {
          "name": "stdout",
          "output_type": "stream",
          "text": [
            "Average validation Loss: 6.842666149139404\n",
            "Epoch [530/1000], Average Loss: 5.6689\n",
            "Average validation Loss: 6.842666149139404\n",
            "Learning rate decayed. Updated LR is: 0.000104\n"
          ]
        },
        {
          "name": "stderr",
          "output_type": "stream",
          "text": [
            "100%|██████████| 10/10 [00:14<00:00,  1.43s/it]\n"
          ]
        },
        {
          "name": "stdout",
          "output_type": "stream",
          "text": [
            "Average validation Loss: 3.7528035640716553\n",
            "Epoch [531/1000], Average Loss: 5.2951\n",
            "Average validation Loss: 3.7528035640716553\n",
            "Learning rate decayed. Updated LR is: 0.000104\n"
          ]
        },
        {
          "name": "stderr",
          "output_type": "stream",
          "text": [
            "100%|██████████| 10/10 [00:14<00:00,  1.43s/it]\n"
          ]
        },
        {
          "name": "stdout",
          "output_type": "stream",
          "text": [
            "Average validation Loss: 7.34260368347168\n",
            "Epoch [532/1000], Average Loss: 4.9303\n",
            "Average validation Loss: 7.34260368347168\n",
            "Learning rate decayed. Updated LR is: 0.000104\n"
          ]
        },
        {
          "name": "stderr",
          "output_type": "stream",
          "text": [
            "100%|██████████| 10/10 [00:14<00:00,  1.43s/it]\n"
          ]
        },
        {
          "name": "stdout",
          "output_type": "stream",
          "text": [
            "Average validation Loss: 4.833791732788086\n",
            "Epoch [533/1000], Average Loss: 4.3608\n",
            "Average validation Loss: 4.833791732788086\n",
            "Learning rate decayed. Updated LR is: 0.000104\n"
          ]
        },
        {
          "name": "stderr",
          "output_type": "stream",
          "text": [
            "100%|██████████| 10/10 [00:14<00:00,  1.43s/it]\n"
          ]
        },
        {
          "name": "stdout",
          "output_type": "stream",
          "text": [
            "Average validation Loss: 2.4456725120544434\n",
            "Epoch [534/1000], Average Loss: 4.4316\n",
            "Average validation Loss: 2.4456725120544434\n",
            "Learning rate decayed. Updated LR is: 0.000104\n"
          ]
        },
        {
          "name": "stderr",
          "output_type": "stream",
          "text": [
            "100%|██████████| 10/10 [00:14<00:00,  1.43s/it]\n"
          ]
        },
        {
          "name": "stdout",
          "output_type": "stream",
          "text": [
            "Average validation Loss: 3.17476749420166\n",
            "Epoch [535/1000], Average Loss: 4.4342\n",
            "Average validation Loss: 3.17476749420166\n",
            "Learning rate decayed. Updated LR is: 0.000103\n"
          ]
        },
        {
          "name": "stderr",
          "output_type": "stream",
          "text": [
            "100%|██████████| 10/10 [00:14<00:00,  1.43s/it]\n"
          ]
        },
        {
          "name": "stdout",
          "output_type": "stream",
          "text": [
            "Average validation Loss: 2.4228110313415527\n",
            "Epoch [536/1000], Average Loss: 4.2260\n",
            "Average validation Loss: 2.4228110313415527\n",
            "Learning rate decayed. Updated LR is: 0.000103\n"
          ]
        },
        {
          "name": "stderr",
          "output_type": "stream",
          "text": [
            "100%|██████████| 10/10 [00:14<00:00,  1.43s/it]\n"
          ]
        },
        {
          "name": "stdout",
          "output_type": "stream",
          "text": [
            "Average validation Loss: 5.28744649887085\n",
            "Epoch [537/1000], Average Loss: 4.4355\n",
            "Average validation Loss: 5.28744649887085\n",
            "Learning rate decayed. Updated LR is: 0.000103\n"
          ]
        },
        {
          "name": "stderr",
          "output_type": "stream",
          "text": [
            "100%|██████████| 10/10 [00:14<00:00,  1.43s/it]\n"
          ]
        },
        {
          "name": "stdout",
          "output_type": "stream",
          "text": [
            "Average validation Loss: 2.7500157356262207\n",
            "Epoch [538/1000], Average Loss: 5.2849\n",
            "Average validation Loss: 2.7500157356262207\n",
            "Learning rate decayed. Updated LR is: 0.000103\n"
          ]
        },
        {
          "name": "stderr",
          "output_type": "stream",
          "text": [
            "100%|██████████| 10/10 [00:14<00:00,  1.43s/it]\n"
          ]
        },
        {
          "name": "stdout",
          "output_type": "stream",
          "text": [
            "Average validation Loss: 3.741579055786133\n",
            "Epoch [539/1000], Average Loss: 4.7763\n",
            "Average validation Loss: 3.741579055786133\n",
            "Learning rate decayed. Updated LR is: 0.000102\n"
          ]
        },
        {
          "name": "stderr",
          "output_type": "stream",
          "text": [
            "100%|██████████| 10/10 [00:14<00:00,  1.43s/it]\n"
          ]
        },
        {
          "name": "stdout",
          "output_type": "stream",
          "text": [
            "Average validation Loss: 1.8920314311981201\n",
            "Epoch [540/1000], Average Loss: 4.9697\n",
            "Average validation Loss: 1.8920314311981201\n",
            "Learning rate decayed. Updated LR is: 0.000102\n"
          ]
        },
        {
          "name": "stderr",
          "output_type": "stream",
          "text": [
            "100%|██████████| 10/10 [00:14<00:00,  1.43s/it]\n"
          ]
        },
        {
          "name": "stdout",
          "output_type": "stream",
          "text": [
            "Average validation Loss: 1.6350188255310059\n",
            "Epoch [541/1000], Average Loss: 4.3095\n",
            "Average validation Loss: 1.6350188255310059\n",
            "Learning rate decayed. Updated LR is: 0.000102\n"
          ]
        },
        {
          "name": "stderr",
          "output_type": "stream",
          "text": [
            "100%|██████████| 10/10 [00:14<00:00,  1.43s/it]\n"
          ]
        },
        {
          "name": "stdout",
          "output_type": "stream",
          "text": [
            "Average validation Loss: 2.233715772628784\n",
            "Epoch [542/1000], Average Loss: 4.0244\n",
            "Average validation Loss: 2.233715772628784\n",
            "Learning rate decayed. Updated LR is: 0.000102\n"
          ]
        },
        {
          "name": "stderr",
          "output_type": "stream",
          "text": [
            "100%|██████████| 10/10 [00:14<00:00,  1.43s/it]\n"
          ]
        },
        {
          "name": "stdout",
          "output_type": "stream",
          "text": [
            "Average validation Loss: 2.1772122383117676\n",
            "Epoch [543/1000], Average Loss: 4.4928\n",
            "Average validation Loss: 2.1772122383117676\n",
            "Learning rate decayed. Updated LR is: 0.000102\n"
          ]
        },
        {
          "name": "stderr",
          "output_type": "stream",
          "text": [
            "100%|██████████| 10/10 [00:14<00:00,  1.43s/it]\n"
          ]
        },
        {
          "name": "stdout",
          "output_type": "stream",
          "text": [
            "Average validation Loss: 2.759495496749878\n",
            "Epoch [544/1000], Average Loss: 4.4688\n",
            "Average validation Loss: 2.759495496749878\n",
            "Learning rate decayed. Updated LR is: 0.000101\n"
          ]
        },
        {
          "name": "stderr",
          "output_type": "stream",
          "text": [
            "100%|██████████| 10/10 [00:14<00:00,  1.43s/it]\n"
          ]
        },
        {
          "name": "stdout",
          "output_type": "stream",
          "text": [
            "Average validation Loss: 3.793386459350586\n",
            "Epoch [545/1000], Average Loss: 4.2625\n",
            "Average validation Loss: 3.793386459350586\n",
            "Learning rate decayed. Updated LR is: 0.000101\n"
          ]
        },
        {
          "name": "stderr",
          "output_type": "stream",
          "text": [
            "100%|██████████| 10/10 [00:14<00:00,  1.43s/it]\n"
          ]
        },
        {
          "name": "stdout",
          "output_type": "stream",
          "text": [
            "Average validation Loss: 4.464601516723633\n",
            "Epoch [546/1000], Average Loss: 3.9606\n",
            "Average validation Loss: 4.464601516723633\n",
            "Learning rate decayed. Updated LR is: 0.000101\n"
          ]
        },
        {
          "name": "stderr",
          "output_type": "stream",
          "text": [
            "100%|██████████| 10/10 [00:14<00:00,  1.43s/it]\n"
          ]
        },
        {
          "name": "stdout",
          "output_type": "stream",
          "text": [
            "Average validation Loss: 1.4554370641708374\n",
            "Epoch [547/1000], Average Loss: 3.9902\n",
            "Average validation Loss: 1.4554370641708374\n",
            "Learning rate decayed. Updated LR is: 0.000101\n"
          ]
        },
        {
          "name": "stderr",
          "output_type": "stream",
          "text": [
            "100%|██████████| 10/10 [00:14<00:00,  1.43s/it]\n"
          ]
        },
        {
          "name": "stdout",
          "output_type": "stream",
          "text": [
            "Average validation Loss: 2.026096820831299\n",
            "Epoch [548/1000], Average Loss: 4.2647\n",
            "Average validation Loss: 2.026096820831299\n",
            "Learning rate decayed. Updated LR is: 0.000100\n"
          ]
        },
        {
          "name": "stderr",
          "output_type": "stream",
          "text": [
            "100%|██████████| 10/10 [00:14<00:00,  1.43s/it]\n"
          ]
        },
        {
          "name": "stdout",
          "output_type": "stream",
          "text": [
            "Average validation Loss: 3.450443983078003\n",
            "Epoch [549/1000], Average Loss: 4.3139\n",
            "Average validation Loss: 3.450443983078003\n",
            "Learning rate decayed. Updated LR is: 0.000100\n"
          ]
        },
        {
          "name": "stderr",
          "output_type": "stream",
          "text": [
            "100%|██████████| 10/10 [00:14<00:00,  1.43s/it]\n"
          ]
        },
        {
          "name": "stdout",
          "output_type": "stream",
          "text": [
            "Average validation Loss: 2.8605265617370605\n",
            "Epoch [550/1000], Average Loss: 4.8864\n",
            "Average validation Loss: 2.8605265617370605\n",
            "Learning rate decayed. Updated LR is: 0.000100\n"
          ]
        },
        {
          "name": "stderr",
          "output_type": "stream",
          "text": [
            "100%|██████████| 10/10 [00:14<00:00,  1.43s/it]\n"
          ]
        },
        {
          "name": "stdout",
          "output_type": "stream",
          "text": [
            "Average validation Loss: 2.815335988998413\n",
            "Epoch [551/1000], Average Loss: 4.6003\n",
            "Average validation Loss: 2.815335988998413\n",
            "Learning rate decayed. Updated LR is: 0.000100\n"
          ]
        },
        {
          "name": "stderr",
          "output_type": "stream",
          "text": [
            "100%|██████████| 10/10 [00:14<00:00,  1.43s/it]\n"
          ]
        },
        {
          "name": "stdout",
          "output_type": "stream",
          "text": [
            "Average validation Loss: 1.7663053274154663\n",
            "Epoch [552/1000], Average Loss: 4.3862\n",
            "Average validation Loss: 1.7663053274154663\n",
            "Learning rate decayed. Updated LR is: 0.000100\n"
          ]
        },
        {
          "name": "stderr",
          "output_type": "stream",
          "text": [
            "100%|██████████| 10/10 [00:14<00:00,  1.43s/it]\n"
          ]
        },
        {
          "name": "stdout",
          "output_type": "stream",
          "text": [
            "Average validation Loss: 3.6160082817077637\n",
            "Epoch [553/1000], Average Loss: 4.0641\n",
            "Average validation Loss: 3.6160082817077637\n",
            "Learning rate decayed. Updated LR is: 0.000099\n"
          ]
        },
        {
          "name": "stderr",
          "output_type": "stream",
          "text": [
            "100%|██████████| 10/10 [00:14<00:00,  1.43s/it]\n"
          ]
        },
        {
          "name": "stdout",
          "output_type": "stream",
          "text": [
            "Average validation Loss: 2.604782819747925\n",
            "Epoch [554/1000], Average Loss: 4.1712\n",
            "Average validation Loss: 2.604782819747925\n",
            "Learning rate decayed. Updated LR is: 0.000099\n"
          ]
        },
        {
          "name": "stderr",
          "output_type": "stream",
          "text": [
            "100%|██████████| 10/10 [00:14<00:00,  1.43s/it]\n"
          ]
        },
        {
          "name": "stdout",
          "output_type": "stream",
          "text": [
            "Average validation Loss: 1.3609260320663452\n",
            "Epoch [555/1000], Average Loss: 4.1063\n",
            "Average validation Loss: 1.3609260320663452\n",
            "Learning rate decayed. Updated LR is: 0.000099\n"
          ]
        },
        {
          "name": "stderr",
          "output_type": "stream",
          "text": [
            "100%|██████████| 10/10 [00:14<00:00,  1.44s/it]\n"
          ]
        },
        {
          "name": "stdout",
          "output_type": "stream",
          "text": [
            "Average validation Loss: 2.793473720550537\n",
            "Epoch [556/1000], Average Loss: 4.4354\n",
            "Average validation Loss: 2.793473720550537\n",
            "Learning rate decayed. Updated LR is: 0.000099\n"
          ]
        },
        {
          "name": "stderr",
          "output_type": "stream",
          "text": [
            "100%|██████████| 10/10 [00:14<00:00,  1.43s/it]\n"
          ]
        },
        {
          "name": "stdout",
          "output_type": "stream",
          "text": [
            "Average validation Loss: 3.9738035202026367\n",
            "Epoch [557/1000], Average Loss: 5.3749\n",
            "Average validation Loss: 3.9738035202026367\n",
            "Learning rate decayed. Updated LR is: 0.000098\n"
          ]
        },
        {
          "name": "stderr",
          "output_type": "stream",
          "text": [
            "100%|██████████| 10/10 [00:14<00:00,  1.43s/it]\n"
          ]
        },
        {
          "name": "stdout",
          "output_type": "stream",
          "text": [
            "Average validation Loss: 1.579058051109314\n",
            "Epoch [558/1000], Average Loss: 4.6208\n",
            "Average validation Loss: 1.579058051109314\n",
            "Learning rate decayed. Updated LR is: 0.000098\n"
          ]
        },
        {
          "name": "stderr",
          "output_type": "stream",
          "text": [
            "100%|██████████| 10/10 [00:14<00:00,  1.43s/it]\n"
          ]
        },
        {
          "name": "stdout",
          "output_type": "stream",
          "text": [
            "Average validation Loss: 3.0468833446502686\n",
            "Epoch [559/1000], Average Loss: 5.6094\n",
            "Average validation Loss: 3.0468833446502686\n",
            "Learning rate decayed. Updated LR is: 0.000098\n"
          ]
        },
        {
          "name": "stderr",
          "output_type": "stream",
          "text": [
            "100%|██████████| 10/10 [00:14<00:00,  1.43s/it]\n"
          ]
        },
        {
          "name": "stdout",
          "output_type": "stream",
          "text": [
            "Average validation Loss: 3.889522075653076\n",
            "Epoch [560/1000], Average Loss: 5.8867\n",
            "Average validation Loss: 3.889522075653076\n",
            "Learning rate decayed. Updated LR is: 0.000098\n"
          ]
        },
        {
          "name": "stderr",
          "output_type": "stream",
          "text": [
            "100%|██████████| 10/10 [00:14<00:00,  1.43s/it]\n"
          ]
        },
        {
          "name": "stdout",
          "output_type": "stream",
          "text": [
            "Average validation Loss: 3.4170310497283936\n",
            "Epoch [561/1000], Average Loss: 5.8565\n",
            "Average validation Loss: 3.4170310497283936\n",
            "Learning rate decayed. Updated LR is: 0.000098\n"
          ]
        },
        {
          "name": "stderr",
          "output_type": "stream",
          "text": [
            "100%|██████████| 10/10 [00:14<00:00,  1.43s/it]\n"
          ]
        },
        {
          "name": "stdout",
          "output_type": "stream",
          "text": [
            "Average validation Loss: 3.7901949882507324\n",
            "Epoch [562/1000], Average Loss: 4.7553\n",
            "Average validation Loss: 3.7901949882507324\n",
            "Learning rate decayed. Updated LR is: 0.000097\n"
          ]
        },
        {
          "name": "stderr",
          "output_type": "stream",
          "text": [
            "100%|██████████| 10/10 [00:14<00:00,  1.43s/it]\n"
          ]
        },
        {
          "name": "stdout",
          "output_type": "stream",
          "text": [
            "Average validation Loss: 4.944484710693359\n",
            "Epoch [563/1000], Average Loss: 4.0284\n",
            "Average validation Loss: 4.944484710693359\n",
            "Learning rate decayed. Updated LR is: 0.000097\n"
          ]
        },
        {
          "name": "stderr",
          "output_type": "stream",
          "text": [
            "100%|██████████| 10/10 [00:14<00:00,  1.43s/it]\n"
          ]
        },
        {
          "name": "stdout",
          "output_type": "stream",
          "text": [
            "Average validation Loss: 1.5748393535614014\n",
            "Epoch [564/1000], Average Loss: 3.8997\n",
            "Average validation Loss: 1.5748393535614014\n",
            "Learning rate decayed. Updated LR is: 0.000097\n"
          ]
        },
        {
          "name": "stderr",
          "output_type": "stream",
          "text": [
            "100%|██████████| 10/10 [00:14<00:00,  1.43s/it]\n"
          ]
        },
        {
          "name": "stdout",
          "output_type": "stream",
          "text": [
            "Average validation Loss: 2.483161687850952\n",
            "Epoch [565/1000], Average Loss: 4.2706\n",
            "Average validation Loss: 2.483161687850952\n",
            "Learning rate decayed. Updated LR is: 0.000097\n"
          ]
        },
        {
          "name": "stderr",
          "output_type": "stream",
          "text": [
            "100%|██████████| 10/10 [00:14<00:00,  1.43s/it]\n"
          ]
        },
        {
          "name": "stdout",
          "output_type": "stream",
          "text": [
            "Average validation Loss: 3.979550838470459\n",
            "Epoch [566/1000], Average Loss: 4.4552\n",
            "Average validation Loss: 3.979550838470459\n",
            "Learning rate decayed. Updated LR is: 0.000096\n"
          ]
        },
        {
          "name": "stderr",
          "output_type": "stream",
          "text": [
            "100%|██████████| 10/10 [00:14<00:00,  1.43s/it]\n"
          ]
        },
        {
          "name": "stdout",
          "output_type": "stream",
          "text": [
            "Average validation Loss: 6.609678268432617\n",
            "Epoch [567/1000], Average Loss: 5.2025\n",
            "Average validation Loss: 6.609678268432617\n",
            "Learning rate decayed. Updated LR is: 0.000096\n"
          ]
        },
        {
          "name": "stderr",
          "output_type": "stream",
          "text": [
            "100%|██████████| 10/10 [00:14<00:00,  1.43s/it]\n"
          ]
        },
        {
          "name": "stdout",
          "output_type": "stream",
          "text": [
            "Average validation Loss: 3.4063966274261475\n",
            "Epoch [568/1000], Average Loss: 4.6337\n",
            "Average validation Loss: 3.4063966274261475\n",
            "Learning rate decayed. Updated LR is: 0.000096\n"
          ]
        },
        {
          "name": "stderr",
          "output_type": "stream",
          "text": [
            "100%|██████████| 10/10 [00:14<00:00,  1.43s/it]\n"
          ]
        },
        {
          "name": "stdout",
          "output_type": "stream",
          "text": [
            "Average validation Loss: 4.239127159118652\n",
            "Epoch [569/1000], Average Loss: 4.1402\n",
            "Average validation Loss: 4.239127159118652\n",
            "Learning rate decayed. Updated LR is: 0.000096\n"
          ]
        },
        {
          "name": "stderr",
          "output_type": "stream",
          "text": [
            "100%|██████████| 10/10 [00:14<00:00,  1.43s/it]\n"
          ]
        },
        {
          "name": "stdout",
          "output_type": "stream",
          "text": [
            "Average validation Loss: 1.4073283672332764\n",
            "Epoch [570/1000], Average Loss: 4.7519\n",
            "Average validation Loss: 1.4073283672332764\n",
            "Learning rate decayed. Updated LR is: 0.000096\n"
          ]
        },
        {
          "name": "stderr",
          "output_type": "stream",
          "text": [
            "100%|██████████| 10/10 [00:14<00:00,  1.43s/it]\n"
          ]
        },
        {
          "name": "stdout",
          "output_type": "stream",
          "text": [
            "Average validation Loss: 4.985032081604004\n",
            "Epoch [571/1000], Average Loss: 5.0726\n",
            "Average validation Loss: 4.985032081604004\n",
            "Learning rate decayed. Updated LR is: 0.000095\n"
          ]
        },
        {
          "name": "stderr",
          "output_type": "stream",
          "text": [
            "100%|██████████| 10/10 [00:14<00:00,  1.43s/it]\n"
          ]
        },
        {
          "name": "stdout",
          "output_type": "stream",
          "text": [
            "Average validation Loss: 6.100688934326172\n",
            "Epoch [572/1000], Average Loss: 4.6523\n",
            "Average validation Loss: 6.100688934326172\n",
            "Learning rate decayed. Updated LR is: 0.000095\n"
          ]
        },
        {
          "name": "stderr",
          "output_type": "stream",
          "text": [
            "100%|██████████| 10/10 [00:14<00:00,  1.43s/it]\n"
          ]
        },
        {
          "name": "stdout",
          "output_type": "stream",
          "text": [
            "Average validation Loss: 2.8767008781433105\n",
            "Epoch [573/1000], Average Loss: 4.6303\n",
            "Average validation Loss: 2.8767008781433105\n",
            "Learning rate decayed. Updated LR is: 0.000095\n"
          ]
        },
        {
          "name": "stderr",
          "output_type": "stream",
          "text": [
            "100%|██████████| 10/10 [00:14<00:00,  1.43s/it]\n"
          ]
        },
        {
          "name": "stdout",
          "output_type": "stream",
          "text": [
            "Average validation Loss: 1.5476000308990479\n",
            "Epoch [574/1000], Average Loss: 4.4556\n",
            "Average validation Loss: 1.5476000308990479\n",
            "Learning rate decayed. Updated LR is: 0.000095\n"
          ]
        },
        {
          "name": "stderr",
          "output_type": "stream",
          "text": [
            "100%|██████████| 10/10 [00:14<00:00,  1.43s/it]\n"
          ]
        },
        {
          "name": "stdout",
          "output_type": "stream",
          "text": [
            "Average validation Loss: 4.919316291809082\n",
            "Epoch [575/1000], Average Loss: 4.7472\n",
            "Average validation Loss: 4.919316291809082\n",
            "Learning rate decayed. Updated LR is: 0.000094\n"
          ]
        },
        {
          "name": "stderr",
          "output_type": "stream",
          "text": [
            "100%|██████████| 10/10 [00:14<00:00,  1.43s/it]\n"
          ]
        },
        {
          "name": "stdout",
          "output_type": "stream",
          "text": [
            "Average validation Loss: 4.112420558929443\n",
            "Epoch [576/1000], Average Loss: 4.5032\n",
            "Average validation Loss: 4.112420558929443\n",
            "Learning rate decayed. Updated LR is: 0.000094\n"
          ]
        },
        {
          "name": "stderr",
          "output_type": "stream",
          "text": [
            "100%|██████████| 10/10 [00:14<00:00,  1.43s/it]\n"
          ]
        },
        {
          "name": "stdout",
          "output_type": "stream",
          "text": [
            "Average validation Loss: 1.8175952434539795\n",
            "Epoch [577/1000], Average Loss: 4.0507\n",
            "Average validation Loss: 1.8175952434539795\n",
            "Learning rate decayed. Updated LR is: 0.000094\n"
          ]
        },
        {
          "name": "stderr",
          "output_type": "stream",
          "text": [
            "100%|██████████| 10/10 [00:14<00:00,  1.43s/it]\n"
          ]
        },
        {
          "name": "stdout",
          "output_type": "stream",
          "text": [
            "Average validation Loss: 5.491350173950195\n",
            "Epoch [578/1000], Average Loss: 5.3747\n",
            "Average validation Loss: 5.491350173950195\n",
            "Learning rate decayed. Updated LR is: 0.000094\n"
          ]
        },
        {
          "name": "stderr",
          "output_type": "stream",
          "text": [
            "100%|██████████| 10/10 [00:14<00:00,  1.43s/it]\n"
          ]
        },
        {
          "name": "stdout",
          "output_type": "stream",
          "text": [
            "Average validation Loss: 1.3306463956832886\n",
            "Epoch [579/1000], Average Loss: 4.3076\n",
            "Average validation Loss: 1.3306463956832886\n",
            "Learning rate decayed. Updated LR is: 0.000094\n"
          ]
        },
        {
          "name": "stderr",
          "output_type": "stream",
          "text": [
            "100%|██████████| 10/10 [00:14<00:00,  1.43s/it]\n"
          ]
        },
        {
          "name": "stdout",
          "output_type": "stream",
          "text": [
            "Average validation Loss: 2.1966309547424316\n",
            "Epoch [580/1000], Average Loss: 3.7847\n",
            "Average validation Loss: 2.1966309547424316\n",
            "Learning rate decayed. Updated LR is: 0.000093\n"
          ]
        },
        {
          "name": "stderr",
          "output_type": "stream",
          "text": [
            "100%|██████████| 10/10 [00:14<00:00,  1.43s/it]\n"
          ]
        },
        {
          "name": "stdout",
          "output_type": "stream",
          "text": [
            "Average validation Loss: 3.0671133995056152\n",
            "Epoch [581/1000], Average Loss: 4.0150\n",
            "Average validation Loss: 3.0671133995056152\n",
            "Learning rate decayed. Updated LR is: 0.000093\n"
          ]
        },
        {
          "name": "stderr",
          "output_type": "stream",
          "text": [
            "100%|██████████| 10/10 [00:14<00:00,  1.43s/it]\n"
          ]
        },
        {
          "name": "stdout",
          "output_type": "stream",
          "text": [
            "Average validation Loss: 2.2076854705810547\n",
            "Epoch [582/1000], Average Loss: 3.7154\n",
            "Average validation Loss: 2.2076854705810547\n",
            "Learning rate decayed. Updated LR is: 0.000093\n"
          ]
        },
        {
          "name": "stderr",
          "output_type": "stream",
          "text": [
            "100%|██████████| 10/10 [00:14<00:00,  1.43s/it]\n"
          ]
        },
        {
          "name": "stdout",
          "output_type": "stream",
          "text": [
            "Average validation Loss: 3.9485061168670654\n",
            "Epoch [583/1000], Average Loss: 3.7724\n",
            "Average validation Loss: 3.9485061168670654\n",
            "Learning rate decayed. Updated LR is: 0.000093\n"
          ]
        },
        {
          "name": "stderr",
          "output_type": "stream",
          "text": [
            "100%|██████████| 10/10 [00:14<00:00,  1.43s/it]\n"
          ]
        },
        {
          "name": "stdout",
          "output_type": "stream",
          "text": [
            "Average validation Loss: 3.1741607189178467\n",
            "Epoch [584/1000], Average Loss: 3.9134\n",
            "Average validation Loss: 3.1741607189178467\n",
            "Learning rate decayed. Updated LR is: 0.000092\n"
          ]
        },
        {
          "name": "stderr",
          "output_type": "stream",
          "text": [
            "100%|██████████| 10/10 [00:14<00:00,  1.43s/it]\n"
          ]
        },
        {
          "name": "stdout",
          "output_type": "stream",
          "text": [
            "Average validation Loss: 8.4707670211792\n",
            "Epoch [585/1000], Average Loss: 4.1750\n",
            "Average validation Loss: 8.4707670211792\n",
            "Learning rate decayed. Updated LR is: 0.000092\n"
          ]
        },
        {
          "name": "stderr",
          "output_type": "stream",
          "text": [
            "100%|██████████| 10/10 [00:14<00:00,  1.43s/it]\n"
          ]
        },
        {
          "name": "stdout",
          "output_type": "stream",
          "text": [
            "Average validation Loss: 2.442216396331787\n",
            "Epoch [586/1000], Average Loss: 4.3893\n",
            "Average validation Loss: 2.442216396331787\n",
            "Learning rate decayed. Updated LR is: 0.000092\n"
          ]
        },
        {
          "name": "stderr",
          "output_type": "stream",
          "text": [
            "100%|██████████| 10/10 [00:14<00:00,  1.43s/it]\n"
          ]
        },
        {
          "name": "stdout",
          "output_type": "stream",
          "text": [
            "Average validation Loss: 3.124647855758667\n",
            "Epoch [587/1000], Average Loss: 4.0533\n",
            "Average validation Loss: 3.124647855758667\n",
            "Learning rate decayed. Updated LR is: 0.000092\n"
          ]
        },
        {
          "name": "stderr",
          "output_type": "stream",
          "text": [
            "100%|██████████| 10/10 [00:14<00:00,  1.43s/it]\n"
          ]
        },
        {
          "name": "stdout",
          "output_type": "stream",
          "text": [
            "Average validation Loss: 6.013736724853516\n",
            "Epoch [588/1000], Average Loss: 4.3237\n",
            "Average validation Loss: 6.013736724853516\n",
            "Learning rate decayed. Updated LR is: 0.000092\n"
          ]
        },
        {
          "name": "stderr",
          "output_type": "stream",
          "text": [
            "100%|██████████| 10/10 [00:14<00:00,  1.43s/it]\n"
          ]
        },
        {
          "name": "stdout",
          "output_type": "stream",
          "text": [
            "Average validation Loss: 5.065399169921875\n",
            "Epoch [589/1000], Average Loss: 4.4798\n",
            "Average validation Loss: 5.065399169921875\n",
            "Learning rate decayed. Updated LR is: 0.000091\n"
          ]
        },
        {
          "name": "stderr",
          "output_type": "stream",
          "text": [
            "100%|██████████| 10/10 [00:14<00:00,  1.43s/it]\n"
          ]
        },
        {
          "name": "stdout",
          "output_type": "stream",
          "text": [
            "Average validation Loss: 3.889092445373535\n",
            "Epoch [590/1000], Average Loss: 5.0754\n",
            "Average validation Loss: 3.889092445373535\n",
            "Learning rate decayed. Updated LR is: 0.000091\n"
          ]
        },
        {
          "name": "stderr",
          "output_type": "stream",
          "text": [
            "100%|██████████| 10/10 [00:14<00:00,  1.43s/it]\n"
          ]
        },
        {
          "name": "stdout",
          "output_type": "stream",
          "text": [
            "Average validation Loss: 4.684796333312988\n",
            "Epoch [591/1000], Average Loss: 4.1000\n",
            "Average validation Loss: 4.684796333312988\n",
            "Learning rate decayed. Updated LR is: 0.000091\n"
          ]
        },
        {
          "name": "stderr",
          "output_type": "stream",
          "text": [
            "100%|██████████| 10/10 [00:14<00:00,  1.43s/it]\n"
          ]
        },
        {
          "name": "stdout",
          "output_type": "stream",
          "text": [
            "Average validation Loss: 7.424027919769287\n",
            "Epoch [592/1000], Average Loss: 4.6447\n",
            "Average validation Loss: 7.424027919769287\n",
            "Learning rate decayed. Updated LR is: 0.000091\n"
          ]
        },
        {
          "name": "stderr",
          "output_type": "stream",
          "text": [
            "100%|██████████| 10/10 [00:14<00:00,  1.43s/it]\n"
          ]
        },
        {
          "name": "stdout",
          "output_type": "stream",
          "text": [
            "Average validation Loss: 4.610529899597168\n",
            "Epoch [593/1000], Average Loss: 4.0556\n",
            "Average validation Loss: 4.610529899597168\n",
            "Learning rate decayed. Updated LR is: 0.000090\n"
          ]
        },
        {
          "name": "stderr",
          "output_type": "stream",
          "text": [
            "100%|██████████| 10/10 [00:14<00:00,  1.43s/it]\n"
          ]
        },
        {
          "name": "stdout",
          "output_type": "stream",
          "text": [
            "Average validation Loss: 8.5747709274292\n",
            "Epoch [594/1000], Average Loss: 4.8111\n",
            "Average validation Loss: 8.5747709274292\n",
            "Learning rate decayed. Updated LR is: 0.000090\n"
          ]
        },
        {
          "name": "stderr",
          "output_type": "stream",
          "text": [
            "100%|██████████| 10/10 [00:14<00:00,  1.43s/it]\n"
          ]
        },
        {
          "name": "stdout",
          "output_type": "stream",
          "text": [
            "Average validation Loss: 19.807287216186523\n",
            "Epoch [595/1000], Average Loss: 6.6361\n",
            "Average validation Loss: 19.807287216186523\n",
            "Learning rate decayed. Updated LR is: 0.000090\n"
          ]
        },
        {
          "name": "stderr",
          "output_type": "stream",
          "text": [
            "100%|██████████| 10/10 [00:14<00:00,  1.43s/it]\n"
          ]
        },
        {
          "name": "stdout",
          "output_type": "stream",
          "text": [
            "Average validation Loss: 3.16629695892334\n",
            "Epoch [596/1000], Average Loss: 5.9316\n",
            "Average validation Loss: 3.16629695892334\n",
            "Learning rate decayed. Updated LR is: 0.000090\n"
          ]
        },
        {
          "name": "stderr",
          "output_type": "stream",
          "text": [
            "100%|██████████| 10/10 [00:14<00:00,  1.43s/it]\n"
          ]
        },
        {
          "name": "stdout",
          "output_type": "stream",
          "text": [
            "Average validation Loss: 3.767521381378174\n",
            "Epoch [597/1000], Average Loss: 5.4556\n",
            "Average validation Loss: 3.767521381378174\n",
            "Learning rate decayed. Updated LR is: 0.000090\n"
          ]
        },
        {
          "name": "stderr",
          "output_type": "stream",
          "text": [
            "100%|██████████| 10/10 [00:14<00:00,  1.43s/it]\n"
          ]
        },
        {
          "name": "stdout",
          "output_type": "stream",
          "text": [
            "Average validation Loss: 2.5244717597961426\n",
            "Epoch [598/1000], Average Loss: 4.7776\n",
            "Average validation Loss: 2.5244717597961426\n",
            "Learning rate decayed. Updated LR is: 0.000089\n"
          ]
        },
        {
          "name": "stderr",
          "output_type": "stream",
          "text": [
            "100%|██████████| 10/10 [00:14<00:00,  1.43s/it]\n"
          ]
        },
        {
          "name": "stdout",
          "output_type": "stream",
          "text": [
            "Average validation Loss: 5.37501859664917\n",
            "Epoch [599/1000], Average Loss: 4.4506\n",
            "Average validation Loss: 5.37501859664917\n",
            "Learning rate decayed. Updated LR is: 0.000089\n"
          ]
        },
        {
          "name": "stderr",
          "output_type": "stream",
          "text": [
            "100%|██████████| 10/10 [00:14<00:00,  1.43s/it]\n"
          ]
        },
        {
          "name": "stdout",
          "output_type": "stream",
          "text": [
            "Average validation Loss: 4.801949501037598\n",
            "Epoch [600/1000], Average Loss: 4.9587\n",
            "Average validation Loss: 4.801949501037598\n",
            "Learning rate decayed. Updated LR is: 0.000089\n"
          ]
        },
        {
          "name": "stderr",
          "output_type": "stream",
          "text": [
            "100%|██████████| 10/10 [00:14<00:00,  1.43s/it]\n"
          ]
        },
        {
          "name": "stdout",
          "output_type": "stream",
          "text": [
            "Average validation Loss: 3.5598716735839844\n",
            "Epoch [601/1000], Average Loss: 5.1801\n",
            "Average validation Loss: 3.5598716735839844\n",
            "Learning rate decayed. Updated LR is: 0.000089\n"
          ]
        },
        {
          "name": "stderr",
          "output_type": "stream",
          "text": [
            "100%|██████████| 10/10 [00:14<00:00,  1.43s/it]\n"
          ]
        },
        {
          "name": "stdout",
          "output_type": "stream",
          "text": [
            "Average validation Loss: 8.250936508178711\n",
            "Epoch [602/1000], Average Loss: 4.9548\n",
            "Average validation Loss: 8.250936508178711\n",
            "Learning rate decayed. Updated LR is: 0.000088\n"
          ]
        },
        {
          "name": "stderr",
          "output_type": "stream",
          "text": [
            "100%|██████████| 10/10 [00:14<00:00,  1.43s/it]\n"
          ]
        },
        {
          "name": "stdout",
          "output_type": "stream",
          "text": [
            "Average validation Loss: 3.026510715484619\n",
            "Epoch [603/1000], Average Loss: 4.3675\n",
            "Average validation Loss: 3.026510715484619\n",
            "Learning rate decayed. Updated LR is: 0.000088\n"
          ]
        },
        {
          "name": "stderr",
          "output_type": "stream",
          "text": [
            "100%|██████████| 10/10 [00:14<00:00,  1.43s/it]\n"
          ]
        },
        {
          "name": "stdout",
          "output_type": "stream",
          "text": [
            "Average validation Loss: 2.7099599838256836\n",
            "Epoch [604/1000], Average Loss: 4.8410\n",
            "Average validation Loss: 2.7099599838256836\n",
            "Learning rate decayed. Updated LR is: 0.000088\n"
          ]
        },
        {
          "name": "stderr",
          "output_type": "stream",
          "text": [
            "100%|██████████| 10/10 [00:14<00:00,  1.43s/it]\n"
          ]
        },
        {
          "name": "stdout",
          "output_type": "stream",
          "text": [
            "Average validation Loss: 2.099958896636963\n",
            "Epoch [605/1000], Average Loss: 4.3789\n",
            "Average validation Loss: 2.099958896636963\n",
            "Learning rate decayed. Updated LR is: 0.000088\n"
          ]
        },
        {
          "name": "stderr",
          "output_type": "stream",
          "text": [
            "100%|██████████| 10/10 [00:14<00:00,  1.43s/it]\n"
          ]
        },
        {
          "name": "stdout",
          "output_type": "stream",
          "text": [
            "Average validation Loss: 3.235398292541504\n",
            "Epoch [606/1000], Average Loss: 4.3520\n",
            "Average validation Loss: 3.235398292541504\n",
            "Learning rate decayed. Updated LR is: 0.000088\n"
          ]
        },
        {
          "name": "stderr",
          "output_type": "stream",
          "text": [
            "100%|██████████| 10/10 [00:14<00:00,  1.43s/it]\n"
          ]
        },
        {
          "name": "stdout",
          "output_type": "stream",
          "text": [
            "Average validation Loss: 3.141165256500244\n",
            "Epoch [607/1000], Average Loss: 3.7310\n",
            "Average validation Loss: 3.141165256500244\n",
            "Learning rate decayed. Updated LR is: 0.000087\n"
          ]
        },
        {
          "name": "stderr",
          "output_type": "stream",
          "text": [
            "100%|██████████| 10/10 [00:14<00:00,  1.43s/it]\n"
          ]
        },
        {
          "name": "stdout",
          "output_type": "stream",
          "text": [
            "Average validation Loss: 5.523271083831787\n",
            "Epoch [608/1000], Average Loss: 3.7694\n",
            "Average validation Loss: 5.523271083831787\n",
            "Learning rate decayed. Updated LR is: 0.000087\n"
          ]
        },
        {
          "name": "stderr",
          "output_type": "stream",
          "text": [
            "100%|██████████| 10/10 [00:14<00:00,  1.43s/it]\n"
          ]
        },
        {
          "name": "stdout",
          "output_type": "stream",
          "text": [
            "Average validation Loss: 2.144551992416382\n",
            "Epoch [609/1000], Average Loss: 4.1510\n",
            "Average validation Loss: 2.144551992416382\n",
            "Learning rate decayed. Updated LR is: 0.000087\n"
          ]
        },
        {
          "name": "stderr",
          "output_type": "stream",
          "text": [
            "100%|██████████| 10/10 [00:14<00:00,  1.43s/it]\n"
          ]
        },
        {
          "name": "stdout",
          "output_type": "stream",
          "text": [
            "Average validation Loss: 1.2482268810272217\n",
            "Epoch [610/1000], Average Loss: 3.9235\n",
            "Average validation Loss: 1.2482268810272217\n",
            "Learning rate decayed. Updated LR is: 0.000087\n"
          ]
        },
        {
          "name": "stderr",
          "output_type": "stream",
          "text": [
            "100%|██████████| 10/10 [00:14<00:00,  1.43s/it]\n"
          ]
        },
        {
          "name": "stdout",
          "output_type": "stream",
          "text": [
            "Average validation Loss: 3.4255664348602295\n",
            "Epoch [611/1000], Average Loss: 4.2086\n",
            "Average validation Loss: 3.4255664348602295\n",
            "Learning rate decayed. Updated LR is: 0.000086\n"
          ]
        },
        {
          "name": "stderr",
          "output_type": "stream",
          "text": [
            "100%|██████████| 10/10 [00:14<00:00,  1.43s/it]\n"
          ]
        },
        {
          "name": "stdout",
          "output_type": "stream",
          "text": [
            "Average validation Loss: 4.180782318115234\n",
            "Epoch [612/1000], Average Loss: 4.1455\n",
            "Average validation Loss: 4.180782318115234\n",
            "Learning rate decayed. Updated LR is: 0.000086\n"
          ]
        },
        {
          "name": "stderr",
          "output_type": "stream",
          "text": [
            "100%|██████████| 10/10 [00:14<00:00,  1.43s/it]\n"
          ]
        },
        {
          "name": "stdout",
          "output_type": "stream",
          "text": [
            "Average validation Loss: 6.613915920257568\n",
            "Epoch [613/1000], Average Loss: 4.5775\n",
            "Average validation Loss: 6.613915920257568\n",
            "Learning rate decayed. Updated LR is: 0.000086\n"
          ]
        },
        {
          "name": "stderr",
          "output_type": "stream",
          "text": [
            "100%|██████████| 10/10 [00:14<00:00,  1.43s/it]\n"
          ]
        },
        {
          "name": "stdout",
          "output_type": "stream",
          "text": [
            "Average validation Loss: 3.1053366661071777\n",
            "Epoch [614/1000], Average Loss: 4.1223\n",
            "Average validation Loss: 3.1053366661071777\n",
            "Learning rate decayed. Updated LR is: 0.000086\n"
          ]
        },
        {
          "name": "stderr",
          "output_type": "stream",
          "text": [
            "100%|██████████| 10/10 [00:14<00:00,  1.43s/it]\n"
          ]
        },
        {
          "name": "stdout",
          "output_type": "stream",
          "text": [
            "Average validation Loss: 1.9814900159835815\n",
            "Epoch [615/1000], Average Loss: 3.9162\n",
            "Average validation Loss: 1.9814900159835815\n",
            "Learning rate decayed. Updated LR is: 0.000086\n"
          ]
        },
        {
          "name": "stderr",
          "output_type": "stream",
          "text": [
            "100%|██████████| 10/10 [00:14<00:00,  1.43s/it]\n"
          ]
        },
        {
          "name": "stdout",
          "output_type": "stream",
          "text": [
            "Average validation Loss: 3.7270922660827637\n",
            "Epoch [616/1000], Average Loss: 3.9245\n",
            "Average validation Loss: 3.7270922660827637\n",
            "Learning rate decayed. Updated LR is: 0.000085\n"
          ]
        },
        {
          "name": "stderr",
          "output_type": "stream",
          "text": [
            "100%|██████████| 10/10 [00:14<00:00,  1.43s/it]\n"
          ]
        },
        {
          "name": "stdout",
          "output_type": "stream",
          "text": [
            "Average validation Loss: 3.1754589080810547\n",
            "Epoch [617/1000], Average Loss: 3.8122\n",
            "Average validation Loss: 3.1754589080810547\n",
            "Learning rate decayed. Updated LR is: 0.000085\n"
          ]
        },
        {
          "name": "stderr",
          "output_type": "stream",
          "text": [
            "100%|██████████| 10/10 [00:14<00:00,  1.43s/it]\n"
          ]
        },
        {
          "name": "stdout",
          "output_type": "stream",
          "text": [
            "Average validation Loss: 1.2197976112365723\n",
            "Epoch [618/1000], Average Loss: 3.5364\n",
            "Average validation Loss: 1.2197976112365723\n",
            "Learning rate decayed. Updated LR is: 0.000085\n"
          ]
        },
        {
          "name": "stderr",
          "output_type": "stream",
          "text": [
            "100%|██████████| 10/10 [00:14<00:00,  1.43s/it]\n"
          ]
        },
        {
          "name": "stdout",
          "output_type": "stream",
          "text": [
            "Average validation Loss: 5.320091247558594\n",
            "Epoch [619/1000], Average Loss: 3.6268\n",
            "Average validation Loss: 5.320091247558594\n",
            "Learning rate decayed. Updated LR is: 0.000085\n"
          ]
        },
        {
          "name": "stderr",
          "output_type": "stream",
          "text": [
            "100%|██████████| 10/10 [00:14<00:00,  1.43s/it]\n"
          ]
        },
        {
          "name": "stdout",
          "output_type": "stream",
          "text": [
            "Average validation Loss: 3.1812655925750732\n",
            "Epoch [620/1000], Average Loss: 4.1842\n",
            "Average validation Loss: 3.1812655925750732\n",
            "Learning rate decayed. Updated LR is: 0.000084\n"
          ]
        },
        {
          "name": "stderr",
          "output_type": "stream",
          "text": [
            "100%|██████████| 10/10 [00:14<00:00,  1.43s/it]\n"
          ]
        },
        {
          "name": "stdout",
          "output_type": "stream",
          "text": [
            "Average validation Loss: 1.9936437606811523\n",
            "Epoch [621/1000], Average Loss: 4.4405\n",
            "Average validation Loss: 1.9936437606811523\n",
            "Learning rate decayed. Updated LR is: 0.000084\n"
          ]
        },
        {
          "name": "stderr",
          "output_type": "stream",
          "text": [
            "100%|██████████| 10/10 [00:14<00:00,  1.43s/it]\n"
          ]
        },
        {
          "name": "stdout",
          "output_type": "stream",
          "text": [
            "Average validation Loss: 6.1949615478515625\n",
            "Epoch [622/1000], Average Loss: 4.4224\n",
            "Average validation Loss: 6.1949615478515625\n",
            "Learning rate decayed. Updated LR is: 0.000084\n"
          ]
        },
        {
          "name": "stderr",
          "output_type": "stream",
          "text": [
            "100%|██████████| 10/10 [00:14<00:00,  1.43s/it]\n"
          ]
        },
        {
          "name": "stdout",
          "output_type": "stream",
          "text": [
            "Average validation Loss: 2.612919569015503\n",
            "Epoch [623/1000], Average Loss: 3.6913\n",
            "Average validation Loss: 2.612919569015503\n",
            "Learning rate decayed. Updated LR is: 0.000084\n"
          ]
        },
        {
          "name": "stderr",
          "output_type": "stream",
          "text": [
            "100%|██████████| 10/10 [00:14<00:00,  1.43s/it]\n"
          ]
        },
        {
          "name": "stdout",
          "output_type": "stream",
          "text": [
            "Average validation Loss: 4.337963104248047\n",
            "Epoch [624/1000], Average Loss: 3.6073\n",
            "Average validation Loss: 4.337963104248047\n",
            "Learning rate decayed. Updated LR is: 0.000084\n"
          ]
        },
        {
          "name": "stderr",
          "output_type": "stream",
          "text": [
            "100%|██████████| 10/10 [00:14<00:00,  1.43s/it]\n"
          ]
        },
        {
          "name": "stdout",
          "output_type": "stream",
          "text": [
            "Average validation Loss: 2.2040767669677734\n",
            "Epoch [625/1000], Average Loss: 3.9781\n",
            "Average validation Loss: 2.2040767669677734\n",
            "Learning rate decayed. Updated LR is: 0.000083\n"
          ]
        },
        {
          "name": "stderr",
          "output_type": "stream",
          "text": [
            "100%|██████████| 10/10 [00:14<00:00,  1.43s/it]\n"
          ]
        },
        {
          "name": "stdout",
          "output_type": "stream",
          "text": [
            "Average validation Loss: 2.9449031352996826\n",
            "Epoch [626/1000], Average Loss: 3.5652\n",
            "Average validation Loss: 2.9449031352996826\n",
            "Learning rate decayed. Updated LR is: 0.000083\n"
          ]
        },
        {
          "name": "stderr",
          "output_type": "stream",
          "text": [
            "100%|██████████| 10/10 [00:14<00:00,  1.43s/it]\n"
          ]
        },
        {
          "name": "stdout",
          "output_type": "stream",
          "text": [
            "Average validation Loss: 2.2148919105529785\n",
            "Epoch [627/1000], Average Loss: 3.9551\n",
            "Average validation Loss: 2.2148919105529785\n",
            "Learning rate decayed. Updated LR is: 0.000083\n"
          ]
        },
        {
          "name": "stderr",
          "output_type": "stream",
          "text": [
            "100%|██████████| 10/10 [00:14<00:00,  1.43s/it]\n"
          ]
        },
        {
          "name": "stdout",
          "output_type": "stream",
          "text": [
            "Average validation Loss: 4.280198097229004\n",
            "Epoch [628/1000], Average Loss: 3.4106\n",
            "Average validation Loss: 4.280198097229004\n",
            "Learning rate decayed. Updated LR is: 0.000083\n"
          ]
        },
        {
          "name": "stderr",
          "output_type": "stream",
          "text": [
            "100%|██████████| 10/10 [00:14<00:00,  1.43s/it]\n"
          ]
        },
        {
          "name": "stdout",
          "output_type": "stream",
          "text": [
            "Average validation Loss: 1.721961259841919\n",
            "Epoch [629/1000], Average Loss: 3.7594\n",
            "Average validation Loss: 1.721961259841919\n",
            "Learning rate decayed. Updated LR is: 0.000082\n"
          ]
        },
        {
          "name": "stderr",
          "output_type": "stream",
          "text": [
            "100%|██████████| 10/10 [00:14<00:00,  1.43s/it]\n"
          ]
        },
        {
          "name": "stdout",
          "output_type": "stream",
          "text": [
            "Average validation Loss: 1.522396445274353\n",
            "Epoch [630/1000], Average Loss: 3.2785\n",
            "Average validation Loss: 1.522396445274353\n",
            "Learning rate decayed. Updated LR is: 0.000082\n"
          ]
        },
        {
          "name": "stderr",
          "output_type": "stream",
          "text": [
            "100%|██████████| 10/10 [00:14<00:00,  1.43s/it]\n"
          ]
        },
        {
          "name": "stdout",
          "output_type": "stream",
          "text": [
            "Average validation Loss: 3.6432104110717773\n",
            "Epoch [631/1000], Average Loss: 3.2744\n",
            "Average validation Loss: 3.6432104110717773\n",
            "Learning rate decayed. Updated LR is: 0.000082\n"
          ]
        },
        {
          "name": "stderr",
          "output_type": "stream",
          "text": [
            "100%|██████████| 10/10 [00:14<00:00,  1.43s/it]\n"
          ]
        },
        {
          "name": "stdout",
          "output_type": "stream",
          "text": [
            "Average validation Loss: 2.631187915802002\n",
            "Epoch [632/1000], Average Loss: 3.2985\n",
            "Average validation Loss: 2.631187915802002\n",
            "Learning rate decayed. Updated LR is: 0.000082\n"
          ]
        },
        {
          "name": "stderr",
          "output_type": "stream",
          "text": [
            "100%|██████████| 10/10 [00:14<00:00,  1.43s/it]\n"
          ]
        },
        {
          "name": "stdout",
          "output_type": "stream",
          "text": [
            "Average validation Loss: 1.8078584671020508\n",
            "Epoch [633/1000], Average Loss: 3.2043\n",
            "Average validation Loss: 1.8078584671020508\n",
            "Learning rate decayed. Updated LR is: 0.000082\n"
          ]
        },
        {
          "name": "stderr",
          "output_type": "stream",
          "text": [
            "100%|██████████| 10/10 [00:14<00:00,  1.43s/it]\n"
          ]
        },
        {
          "name": "stdout",
          "output_type": "stream",
          "text": [
            "Average validation Loss: 3.7569758892059326\n",
            "Epoch [634/1000], Average Loss: 3.4119\n",
            "Average validation Loss: 3.7569758892059326\n",
            "Learning rate decayed. Updated LR is: 0.000081\n"
          ]
        },
        {
          "name": "stderr",
          "output_type": "stream",
          "text": [
            "100%|██████████| 10/10 [00:14<00:00,  1.43s/it]\n"
          ]
        },
        {
          "name": "stdout",
          "output_type": "stream",
          "text": [
            "Average validation Loss: 5.286733627319336\n",
            "Epoch [635/1000], Average Loss: 3.6560\n",
            "Average validation Loss: 5.286733627319336\n",
            "Learning rate decayed. Updated LR is: 0.000081\n"
          ]
        },
        {
          "name": "stderr",
          "output_type": "stream",
          "text": [
            "100%|██████████| 10/10 [00:14<00:00,  1.43s/it]\n"
          ]
        },
        {
          "name": "stdout",
          "output_type": "stream",
          "text": [
            "Average validation Loss: 1.59855055809021\n",
            "Epoch [636/1000], Average Loss: 3.7995\n",
            "Average validation Loss: 1.59855055809021\n",
            "Learning rate decayed. Updated LR is: 0.000081\n"
          ]
        },
        {
          "name": "stderr",
          "output_type": "stream",
          "text": [
            "100%|██████████| 10/10 [00:14<00:00,  1.43s/it]\n"
          ]
        },
        {
          "name": "stdout",
          "output_type": "stream",
          "text": [
            "Average validation Loss: 1.2179107666015625\n",
            "Epoch [637/1000], Average Loss: 3.7637\n",
            "Average validation Loss: 1.2179107666015625\n",
            "Learning rate decayed. Updated LR is: 0.000081\n"
          ]
        },
        {
          "name": "stderr",
          "output_type": "stream",
          "text": [
            "100%|██████████| 10/10 [00:14<00:00,  1.43s/it]\n"
          ]
        },
        {
          "name": "stdout",
          "output_type": "stream",
          "text": [
            "Average validation Loss: 4.154677391052246\n",
            "Epoch [638/1000], Average Loss: 3.7441\n",
            "Average validation Loss: 4.154677391052246\n",
            "Learning rate decayed. Updated LR is: 0.000080\n"
          ]
        },
        {
          "name": "stderr",
          "output_type": "stream",
          "text": [
            "100%|██████████| 10/10 [00:14<00:00,  1.43s/it]\n"
          ]
        },
        {
          "name": "stdout",
          "output_type": "stream",
          "text": [
            "Average validation Loss: 6.023737907409668\n",
            "Epoch [639/1000], Average Loss: 4.2802\n",
            "Average validation Loss: 6.023737907409668\n",
            "Learning rate decayed. Updated LR is: 0.000080\n"
          ]
        },
        {
          "name": "stderr",
          "output_type": "stream",
          "text": [
            "100%|██████████| 10/10 [00:14<00:00,  1.43s/it]\n"
          ]
        },
        {
          "name": "stdout",
          "output_type": "stream",
          "text": [
            "Average validation Loss: 1.8778985738754272\n",
            "Epoch [640/1000], Average Loss: 4.1261\n",
            "Average validation Loss: 1.8778985738754272\n",
            "Learning rate decayed. Updated LR is: 0.000080\n"
          ]
        },
        {
          "name": "stderr",
          "output_type": "stream",
          "text": [
            "100%|██████████| 10/10 [00:14<00:00,  1.43s/it]\n"
          ]
        },
        {
          "name": "stdout",
          "output_type": "stream",
          "text": [
            "Average validation Loss: 2.960519313812256\n",
            "Epoch [641/1000], Average Loss: 4.1865\n",
            "Average validation Loss: 2.960519313812256\n",
            "Learning rate decayed. Updated LR is: 0.000080\n"
          ]
        },
        {
          "name": "stderr",
          "output_type": "stream",
          "text": [
            "100%|██████████| 10/10 [00:14<00:00,  1.43s/it]\n"
          ]
        },
        {
          "name": "stdout",
          "output_type": "stream",
          "text": [
            "Average validation Loss: 2.1852006912231445\n",
            "Epoch [642/1000], Average Loss: 3.7559\n",
            "Average validation Loss: 2.1852006912231445\n",
            "Learning rate decayed. Updated LR is: 0.000080\n"
          ]
        },
        {
          "name": "stderr",
          "output_type": "stream",
          "text": [
            "100%|██████████| 10/10 [00:14<00:00,  1.43s/it]\n"
          ]
        },
        {
          "name": "stdout",
          "output_type": "stream",
          "text": [
            "Average validation Loss: 2.776700019836426\n",
            "Epoch [643/1000], Average Loss: 3.2577\n",
            "Average validation Loss: 2.776700019836426\n",
            "Learning rate decayed. Updated LR is: 0.000079\n"
          ]
        },
        {
          "name": "stderr",
          "output_type": "stream",
          "text": [
            "100%|██████████| 10/10 [00:14<00:00,  1.43s/it]\n"
          ]
        },
        {
          "name": "stdout",
          "output_type": "stream",
          "text": [
            "Average validation Loss: 2.0363566875457764\n",
            "Epoch [644/1000], Average Loss: 3.2170\n",
            "Average validation Loss: 2.0363566875457764\n",
            "Learning rate decayed. Updated LR is: 0.000079\n"
          ]
        },
        {
          "name": "stderr",
          "output_type": "stream",
          "text": [
            "100%|██████████| 10/10 [00:14<00:00,  1.43s/it]\n"
          ]
        },
        {
          "name": "stdout",
          "output_type": "stream",
          "text": [
            "Average validation Loss: 1.0146710872650146\n",
            "Epoch [645/1000], Average Loss: 3.1658\n",
            "Average validation Loss: 1.0146710872650146\n",
            "Learning rate decayed. Updated LR is: 0.000079\n"
          ]
        },
        {
          "name": "stderr",
          "output_type": "stream",
          "text": [
            "100%|██████████| 10/10 [00:14<00:00,  1.43s/it]\n"
          ]
        },
        {
          "name": "stdout",
          "output_type": "stream",
          "text": [
            "Average validation Loss: 1.6820340156555176\n",
            "Epoch [646/1000], Average Loss: 3.1854\n",
            "Average validation Loss: 1.6820340156555176\n",
            "Learning rate decayed. Updated LR is: 0.000079\n"
          ]
        },
        {
          "name": "stderr",
          "output_type": "stream",
          "text": [
            "100%|██████████| 10/10 [00:14<00:00,  1.43s/it]\n"
          ]
        },
        {
          "name": "stdout",
          "output_type": "stream",
          "text": [
            "Average validation Loss: 5.132083415985107\n",
            "Epoch [647/1000], Average Loss: 3.1649\n",
            "Average validation Loss: 5.132083415985107\n",
            "Learning rate decayed. Updated LR is: 0.000078\n"
          ]
        },
        {
          "name": "stderr",
          "output_type": "stream",
          "text": [
            "100%|██████████| 10/10 [00:14<00:00,  1.43s/it]\n"
          ]
        },
        {
          "name": "stdout",
          "output_type": "stream",
          "text": [
            "Average validation Loss: 2.78395414352417\n",
            "Epoch [648/1000], Average Loss: 3.4906\n",
            "Average validation Loss: 2.78395414352417\n",
            "Learning rate decayed. Updated LR is: 0.000078\n"
          ]
        },
        {
          "name": "stderr",
          "output_type": "stream",
          "text": [
            "100%|██████████| 10/10 [00:14<00:00,  1.43s/it]\n"
          ]
        },
        {
          "name": "stdout",
          "output_type": "stream",
          "text": [
            "Average validation Loss: 2.683621883392334\n",
            "Epoch [649/1000], Average Loss: 3.5167\n",
            "Average validation Loss: 2.683621883392334\n",
            "Learning rate decayed. Updated LR is: 0.000078\n"
          ]
        },
        {
          "name": "stderr",
          "output_type": "stream",
          "text": [
            "100%|██████████| 10/10 [00:14<00:00,  1.43s/it]\n"
          ]
        },
        {
          "name": "stdout",
          "output_type": "stream",
          "text": [
            "Average validation Loss: 4.175347328186035\n",
            "Epoch [650/1000], Average Loss: 3.2296\n",
            "Average validation Loss: 4.175347328186035\n",
            "Learning rate decayed. Updated LR is: 0.000078\n"
          ]
        },
        {
          "name": "stderr",
          "output_type": "stream",
          "text": [
            "100%|██████████| 10/10 [00:14<00:00,  1.43s/it]\n"
          ]
        },
        {
          "name": "stdout",
          "output_type": "stream",
          "text": [
            "Average validation Loss: 2.0287132263183594\n",
            "Epoch [651/1000], Average Loss: 3.0646\n",
            "Average validation Loss: 2.0287132263183594\n",
            "Learning rate decayed. Updated LR is: 0.000078\n"
          ]
        },
        {
          "name": "stderr",
          "output_type": "stream",
          "text": [
            "100%|██████████| 10/10 [00:14<00:00,  1.43s/it]\n"
          ]
        },
        {
          "name": "stdout",
          "output_type": "stream",
          "text": [
            "Average validation Loss: 7.972866058349609\n",
            "Epoch [652/1000], Average Loss: 4.3380\n",
            "Average validation Loss: 7.972866058349609\n",
            "Learning rate decayed. Updated LR is: 0.000077\n"
          ]
        },
        {
          "name": "stderr",
          "output_type": "stream",
          "text": [
            "100%|██████████| 10/10 [00:14<00:00,  1.43s/it]\n"
          ]
        },
        {
          "name": "stdout",
          "output_type": "stream",
          "text": [
            "Average validation Loss: 3.529250144958496\n",
            "Epoch [653/1000], Average Loss: 3.7419\n",
            "Average validation Loss: 3.529250144958496\n",
            "Learning rate decayed. Updated LR is: 0.000077\n"
          ]
        },
        {
          "name": "stderr",
          "output_type": "stream",
          "text": [
            "100%|██████████| 10/10 [00:14<00:00,  1.43s/it]\n"
          ]
        },
        {
          "name": "stdout",
          "output_type": "stream",
          "text": [
            "Average validation Loss: 2.0286197662353516\n",
            "Epoch [654/1000], Average Loss: 3.6949\n",
            "Average validation Loss: 2.0286197662353516\n",
            "Learning rate decayed. Updated LR is: 0.000077\n"
          ]
        },
        {
          "name": "stderr",
          "output_type": "stream",
          "text": [
            "100%|██████████| 10/10 [00:14<00:00,  1.43s/it]\n"
          ]
        },
        {
          "name": "stdout",
          "output_type": "stream",
          "text": [
            "Average validation Loss: 2.0187435150146484\n",
            "Epoch [655/1000], Average Loss: 3.3998\n",
            "Average validation Loss: 2.0187435150146484\n",
            "Learning rate decayed. Updated LR is: 0.000077\n"
          ]
        },
        {
          "name": "stderr",
          "output_type": "stream",
          "text": [
            "100%|██████████| 10/10 [00:14<00:00,  1.43s/it]\n"
          ]
        },
        {
          "name": "stdout",
          "output_type": "stream",
          "text": [
            "Average validation Loss: 1.3663194179534912\n",
            "Epoch [656/1000], Average Loss: 3.3498\n",
            "Average validation Loss: 1.3663194179534912\n",
            "Learning rate decayed. Updated LR is: 0.000076\n"
          ]
        },
        {
          "name": "stderr",
          "output_type": "stream",
          "text": [
            "100%|██████████| 10/10 [00:14<00:00,  1.43s/it]\n"
          ]
        },
        {
          "name": "stdout",
          "output_type": "stream",
          "text": [
            "Average validation Loss: 1.039196252822876\n",
            "Epoch [657/1000], Average Loss: 3.1520\n",
            "Average validation Loss: 1.039196252822876\n",
            "Learning rate decayed. Updated LR is: 0.000076\n"
          ]
        },
        {
          "name": "stderr",
          "output_type": "stream",
          "text": [
            "100%|██████████| 10/10 [00:14<00:00,  1.43s/it]\n"
          ]
        },
        {
          "name": "stdout",
          "output_type": "stream",
          "text": [
            "Average validation Loss: 7.657071113586426\n",
            "Epoch [658/1000], Average Loss: 4.0261\n",
            "Average validation Loss: 7.657071113586426\n",
            "Learning rate decayed. Updated LR is: 0.000076\n"
          ]
        },
        {
          "name": "stderr",
          "output_type": "stream",
          "text": [
            "100%|██████████| 10/10 [00:14<00:00,  1.43s/it]\n"
          ]
        },
        {
          "name": "stdout",
          "output_type": "stream",
          "text": [
            "Average validation Loss: 2.1722524166107178\n",
            "Epoch [659/1000], Average Loss: 3.8249\n",
            "Average validation Loss: 2.1722524166107178\n",
            "Learning rate decayed. Updated LR is: 0.000076\n"
          ]
        },
        {
          "name": "stderr",
          "output_type": "stream",
          "text": [
            "100%|██████████| 10/10 [00:14<00:00,  1.43s/it]\n"
          ]
        },
        {
          "name": "stdout",
          "output_type": "stream",
          "text": [
            "Average validation Loss: 2.345581531524658\n",
            "Epoch [660/1000], Average Loss: 3.4356\n",
            "Average validation Loss: 2.345581531524658\n",
            "Learning rate decayed. Updated LR is: 0.000076\n"
          ]
        },
        {
          "name": "stderr",
          "output_type": "stream",
          "text": [
            "100%|██████████| 10/10 [00:14<00:00,  1.43s/it]\n"
          ]
        },
        {
          "name": "stdout",
          "output_type": "stream",
          "text": [
            "Average validation Loss: 3.696505546569824\n",
            "Epoch [661/1000], Average Loss: 3.4952\n",
            "Average validation Loss: 3.696505546569824\n",
            "Learning rate decayed. Updated LR is: 0.000075\n"
          ]
        },
        {
          "name": "stderr",
          "output_type": "stream",
          "text": [
            "100%|██████████| 10/10 [00:14<00:00,  1.43s/it]\n"
          ]
        },
        {
          "name": "stdout",
          "output_type": "stream",
          "text": [
            "Average validation Loss: 1.374223232269287\n",
            "Epoch [662/1000], Average Loss: 3.3322\n",
            "Average validation Loss: 1.374223232269287\n",
            "Learning rate decayed. Updated LR is: 0.000075\n"
          ]
        },
        {
          "name": "stderr",
          "output_type": "stream",
          "text": [
            "100%|██████████| 10/10 [00:14<00:00,  1.43s/it]\n"
          ]
        },
        {
          "name": "stdout",
          "output_type": "stream",
          "text": [
            "Average validation Loss: 1.95969557762146\n",
            "Epoch [663/1000], Average Loss: 3.6122\n",
            "Average validation Loss: 1.95969557762146\n",
            "Learning rate decayed. Updated LR is: 0.000075\n"
          ]
        },
        {
          "name": "stderr",
          "output_type": "stream",
          "text": [
            "100%|██████████| 10/10 [00:14<00:00,  1.43s/it]\n"
          ]
        },
        {
          "name": "stdout",
          "output_type": "stream",
          "text": [
            "Average validation Loss: 2.8219361305236816\n",
            "Epoch [664/1000], Average Loss: 3.5064\n",
            "Average validation Loss: 2.8219361305236816\n",
            "Learning rate decayed. Updated LR is: 0.000075\n"
          ]
        },
        {
          "name": "stderr",
          "output_type": "stream",
          "text": [
            "100%|██████████| 10/10 [00:14<00:00,  1.43s/it]\n"
          ]
        },
        {
          "name": "stdout",
          "output_type": "stream",
          "text": [
            "Average validation Loss: 4.043170928955078\n",
            "Epoch [665/1000], Average Loss: 3.5683\n",
            "Average validation Loss: 4.043170928955078\n",
            "Learning rate decayed. Updated LR is: 0.000074\n"
          ]
        },
        {
          "name": "stderr",
          "output_type": "stream",
          "text": [
            "100%|██████████| 10/10 [00:14<00:00,  1.43s/it]\n"
          ]
        },
        {
          "name": "stdout",
          "output_type": "stream",
          "text": [
            "Average validation Loss: 2.881134033203125\n",
            "Epoch [666/1000], Average Loss: 3.4582\n",
            "Average validation Loss: 2.881134033203125\n",
            "Learning rate decayed. Updated LR is: 0.000074\n"
          ]
        },
        {
          "name": "stderr",
          "output_type": "stream",
          "text": [
            "100%|██████████| 10/10 [00:14<00:00,  1.43s/it]\n"
          ]
        },
        {
          "name": "stdout",
          "output_type": "stream",
          "text": [
            "Average validation Loss: 4.970889568328857\n",
            "Epoch [667/1000], Average Loss: 3.4515\n",
            "Average validation Loss: 4.970889568328857\n",
            "Learning rate decayed. Updated LR is: 0.000074\n"
          ]
        },
        {
          "name": "stderr",
          "output_type": "stream",
          "text": [
            "100%|██████████| 10/10 [00:14<00:00,  1.43s/it]\n"
          ]
        },
        {
          "name": "stdout",
          "output_type": "stream",
          "text": [
            "Average validation Loss: 7.545987606048584\n",
            "Epoch [668/1000], Average Loss: 3.7463\n",
            "Average validation Loss: 7.545987606048584\n",
            "Learning rate decayed. Updated LR is: 0.000074\n"
          ]
        },
        {
          "name": "stderr",
          "output_type": "stream",
          "text": [
            "100%|██████████| 10/10 [00:14<00:00,  1.43s/it]\n"
          ]
        },
        {
          "name": "stdout",
          "output_type": "stream",
          "text": [
            "Average validation Loss: 16.02838134765625\n",
            "Epoch [669/1000], Average Loss: 5.3404\n",
            "Average validation Loss: 16.02838134765625\n",
            "Learning rate decayed. Updated LR is: 0.000074\n"
          ]
        },
        {
          "name": "stderr",
          "output_type": "stream",
          "text": [
            "100%|██████████| 10/10 [00:14<00:00,  1.43s/it]\n"
          ]
        },
        {
          "name": "stdout",
          "output_type": "stream",
          "text": [
            "Average validation Loss: 1.5798859596252441\n",
            "Epoch [670/1000], Average Loss: 3.8691\n",
            "Average validation Loss: 1.5798859596252441\n",
            "Learning rate decayed. Updated LR is: 0.000073\n"
          ]
        },
        {
          "name": "stderr",
          "output_type": "stream",
          "text": [
            "100%|██████████| 10/10 [00:14<00:00,  1.43s/it]\n"
          ]
        },
        {
          "name": "stdout",
          "output_type": "stream",
          "text": [
            "Average validation Loss: 4.034018516540527\n",
            "Epoch [671/1000], Average Loss: 3.5995\n",
            "Average validation Loss: 4.034018516540527\n",
            "Learning rate decayed. Updated LR is: 0.000073\n"
          ]
        },
        {
          "name": "stderr",
          "output_type": "stream",
          "text": [
            "100%|██████████| 10/10 [00:14<00:00,  1.43s/it]\n"
          ]
        },
        {
          "name": "stdout",
          "output_type": "stream",
          "text": [
            "Average validation Loss: 2.7218451499938965\n",
            "Epoch [672/1000], Average Loss: 3.7260\n",
            "Average validation Loss: 2.7218451499938965\n",
            "Learning rate decayed. Updated LR is: 0.000073\n"
          ]
        },
        {
          "name": "stderr",
          "output_type": "stream",
          "text": [
            "100%|██████████| 10/10 [00:14<00:00,  1.43s/it]\n"
          ]
        },
        {
          "name": "stdout",
          "output_type": "stream",
          "text": [
            "Average validation Loss: 4.082525253295898\n",
            "Epoch [673/1000], Average Loss: 4.0589\n",
            "Average validation Loss: 4.082525253295898\n",
            "Learning rate decayed. Updated LR is: 0.000073\n"
          ]
        },
        {
          "name": "stderr",
          "output_type": "stream",
          "text": [
            "100%|██████████| 10/10 [00:14<00:00,  1.43s/it]\n"
          ]
        },
        {
          "name": "stdout",
          "output_type": "stream",
          "text": [
            "Average validation Loss: 1.9556872844696045\n",
            "Epoch [674/1000], Average Loss: 3.4164\n",
            "Average validation Loss: 1.9556872844696045\n",
            "Learning rate decayed. Updated LR is: 0.000072\n"
          ]
        },
        {
          "name": "stderr",
          "output_type": "stream",
          "text": [
            "100%|██████████| 10/10 [00:14<00:00,  1.43s/it]\n"
          ]
        },
        {
          "name": "stdout",
          "output_type": "stream",
          "text": [
            "Average validation Loss: 1.47614324092865\n",
            "Epoch [675/1000], Average Loss: 3.3324\n",
            "Average validation Loss: 1.47614324092865\n",
            "Learning rate decayed. Updated LR is: 0.000072\n"
          ]
        },
        {
          "name": "stderr",
          "output_type": "stream",
          "text": [
            "100%|██████████| 10/10 [00:14<00:00,  1.43s/it]\n"
          ]
        },
        {
          "name": "stdout",
          "output_type": "stream",
          "text": [
            "Average validation Loss: 4.048251152038574\n",
            "Epoch [676/1000], Average Loss: 3.5634\n",
            "Average validation Loss: 4.048251152038574\n",
            "Learning rate decayed. Updated LR is: 0.000072\n"
          ]
        },
        {
          "name": "stderr",
          "output_type": "stream",
          "text": [
            "100%|██████████| 10/10 [00:14<00:00,  1.43s/it]\n"
          ]
        },
        {
          "name": "stdout",
          "output_type": "stream",
          "text": [
            "Average validation Loss: 2.3227224349975586\n",
            "Epoch [677/1000], Average Loss: 3.4076\n",
            "Average validation Loss: 2.3227224349975586\n",
            "Learning rate decayed. Updated LR is: 0.000072\n"
          ]
        },
        {
          "name": "stderr",
          "output_type": "stream",
          "text": [
            "100%|██████████| 10/10 [00:14<00:00,  1.43s/it]\n"
          ]
        },
        {
          "name": "stdout",
          "output_type": "stream",
          "text": [
            "Average validation Loss: 1.1593446731567383\n",
            "Epoch [678/1000], Average Loss: 3.2922\n",
            "Average validation Loss: 1.1593446731567383\n",
            "Learning rate decayed. Updated LR is: 0.000072\n"
          ]
        },
        {
          "name": "stderr",
          "output_type": "stream",
          "text": [
            "100%|██████████| 10/10 [00:14<00:00,  1.43s/it]\n"
          ]
        },
        {
          "name": "stdout",
          "output_type": "stream",
          "text": [
            "Average validation Loss: 4.409415245056152\n",
            "Epoch [679/1000], Average Loss: 3.4507\n",
            "Average validation Loss: 4.409415245056152\n",
            "Learning rate decayed. Updated LR is: 0.000071\n"
          ]
        },
        {
          "name": "stderr",
          "output_type": "stream",
          "text": [
            "100%|██████████| 10/10 [00:14<00:00,  1.43s/it]\n"
          ]
        },
        {
          "name": "stdout",
          "output_type": "stream",
          "text": [
            "Average validation Loss: 2.6496284008026123\n",
            "Epoch [680/1000], Average Loss: 3.0201\n",
            "Average validation Loss: 2.6496284008026123\n",
            "Learning rate decayed. Updated LR is: 0.000071\n"
          ]
        },
        {
          "name": "stderr",
          "output_type": "stream",
          "text": [
            "100%|██████████| 10/10 [00:14<00:00,  1.43s/it]\n"
          ]
        },
        {
          "name": "stdout",
          "output_type": "stream",
          "text": [
            "Average validation Loss: 1.8029626607894897\n",
            "Epoch [681/1000], Average Loss: 3.2080\n",
            "Average validation Loss: 1.8029626607894897\n",
            "Learning rate decayed. Updated LR is: 0.000071\n"
          ]
        },
        {
          "name": "stderr",
          "output_type": "stream",
          "text": [
            "100%|██████████| 10/10 [00:14<00:00,  1.43s/it]\n"
          ]
        },
        {
          "name": "stdout",
          "output_type": "stream",
          "text": [
            "Average validation Loss: 1.7205299139022827\n",
            "Epoch [682/1000], Average Loss: 3.1775\n",
            "Average validation Loss: 1.7205299139022827\n",
            "Learning rate decayed. Updated LR is: 0.000071\n"
          ]
        },
        {
          "name": "stderr",
          "output_type": "stream",
          "text": [
            "100%|██████████| 10/10 [00:14<00:00,  1.43s/it]\n"
          ]
        },
        {
          "name": "stdout",
          "output_type": "stream",
          "text": [
            "Average validation Loss: 2.4344143867492676\n",
            "Epoch [683/1000], Average Loss: 3.2813\n",
            "Average validation Loss: 2.4344143867492676\n",
            "Learning rate decayed. Updated LR is: 0.000070\n"
          ]
        },
        {
          "name": "stderr",
          "output_type": "stream",
          "text": [
            "100%|██████████| 10/10 [00:14<00:00,  1.43s/it]\n"
          ]
        },
        {
          "name": "stdout",
          "output_type": "stream",
          "text": [
            "Average validation Loss: 3.5505025386810303\n",
            "Epoch [684/1000], Average Loss: 3.5528\n",
            "Average validation Loss: 3.5505025386810303\n",
            "Learning rate decayed. Updated LR is: 0.000070\n"
          ]
        },
        {
          "name": "stderr",
          "output_type": "stream",
          "text": [
            "100%|██████████| 10/10 [00:14<00:00,  1.43s/it]\n"
          ]
        },
        {
          "name": "stdout",
          "output_type": "stream",
          "text": [
            "Average validation Loss: 4.533782958984375\n",
            "Epoch [685/1000], Average Loss: 3.5656\n",
            "Average validation Loss: 4.533782958984375\n",
            "Learning rate decayed. Updated LR is: 0.000070\n"
          ]
        },
        {
          "name": "stderr",
          "output_type": "stream",
          "text": [
            "100%|██████████| 10/10 [00:14<00:00,  1.43s/it]\n"
          ]
        },
        {
          "name": "stdout",
          "output_type": "stream",
          "text": [
            "Average validation Loss: 7.085722923278809\n",
            "Epoch [686/1000], Average Loss: 3.7231\n",
            "Average validation Loss: 7.085722923278809\n",
            "Learning rate decayed. Updated LR is: 0.000070\n"
          ]
        },
        {
          "name": "stderr",
          "output_type": "stream",
          "text": [
            "100%|██████████| 10/10 [00:14<00:00,  1.43s/it]\n"
          ]
        },
        {
          "name": "stdout",
          "output_type": "stream",
          "text": [
            "Average validation Loss: 3.1746644973754883\n",
            "Epoch [687/1000], Average Loss: 4.6477\n",
            "Average validation Loss: 3.1746644973754883\n",
            "Learning rate decayed. Updated LR is: 0.000070\n"
          ]
        },
        {
          "name": "stderr",
          "output_type": "stream",
          "text": [
            "100%|██████████| 10/10 [00:14<00:00,  1.43s/it]\n"
          ]
        },
        {
          "name": "stdout",
          "output_type": "stream",
          "text": [
            "Average validation Loss: 1.2374629974365234\n",
            "Epoch [688/1000], Average Loss: 3.5626\n",
            "Average validation Loss: 1.2374629974365234\n",
            "Learning rate decayed. Updated LR is: 0.000069\n"
          ]
        },
        {
          "name": "stderr",
          "output_type": "stream",
          "text": [
            "100%|██████████| 10/10 [00:14<00:00,  1.43s/it]\n"
          ]
        },
        {
          "name": "stdout",
          "output_type": "stream",
          "text": [
            "Average validation Loss: 1.405239462852478\n",
            "Epoch [689/1000], Average Loss: 3.6952\n",
            "Average validation Loss: 1.405239462852478\n",
            "Learning rate decayed. Updated LR is: 0.000069\n"
          ]
        },
        {
          "name": "stderr",
          "output_type": "stream",
          "text": [
            "100%|██████████| 10/10 [00:14<00:00,  1.43s/it]\n"
          ]
        },
        {
          "name": "stdout",
          "output_type": "stream",
          "text": [
            "Average validation Loss: 6.9480695724487305\n",
            "Epoch [690/1000], Average Loss: 3.6971\n",
            "Average validation Loss: 6.9480695724487305\n",
            "Learning rate decayed. Updated LR is: 0.000069\n"
          ]
        },
        {
          "name": "stderr",
          "output_type": "stream",
          "text": [
            "100%|██████████| 10/10 [00:14<00:00,  1.43s/it]\n"
          ]
        },
        {
          "name": "stdout",
          "output_type": "stream",
          "text": [
            "Average validation Loss: 4.023407936096191\n",
            "Epoch [691/1000], Average Loss: 4.0059\n",
            "Average validation Loss: 4.023407936096191\n",
            "Learning rate decayed. Updated LR is: 0.000069\n"
          ]
        },
        {
          "name": "stderr",
          "output_type": "stream",
          "text": [
            "100%|██████████| 10/10 [00:14<00:00,  1.43s/it]\n"
          ]
        },
        {
          "name": "stdout",
          "output_type": "stream",
          "text": [
            "Average validation Loss: 2.60935378074646\n",
            "Epoch [692/1000], Average Loss: 4.1846\n",
            "Average validation Loss: 2.60935378074646\n",
            "Learning rate decayed. Updated LR is: 0.000068\n"
          ]
        },
        {
          "name": "stderr",
          "output_type": "stream",
          "text": [
            "100%|██████████| 10/10 [00:14<00:00,  1.43s/it]\n"
          ]
        },
        {
          "name": "stdout",
          "output_type": "stream",
          "text": [
            "Average validation Loss: 4.465919494628906\n",
            "Epoch [693/1000], Average Loss: 3.7705\n",
            "Average validation Loss: 4.465919494628906\n",
            "Learning rate decayed. Updated LR is: 0.000068\n"
          ]
        },
        {
          "name": "stderr",
          "output_type": "stream",
          "text": [
            "100%|██████████| 10/10 [00:14<00:00,  1.43s/it]\n"
          ]
        },
        {
          "name": "stdout",
          "output_type": "stream",
          "text": [
            "Average validation Loss: 1.996531367301941\n",
            "Epoch [694/1000], Average Loss: 3.6233\n",
            "Average validation Loss: 1.996531367301941\n",
            "Learning rate decayed. Updated LR is: 0.000068\n"
          ]
        },
        {
          "name": "stderr",
          "output_type": "stream",
          "text": [
            "100%|██████████| 10/10 [00:14<00:00,  1.43s/it]\n"
          ]
        },
        {
          "name": "stdout",
          "output_type": "stream",
          "text": [
            "Average validation Loss: 3.2854697704315186\n",
            "Epoch [695/1000], Average Loss: 3.5934\n",
            "Average validation Loss: 3.2854697704315186\n",
            "Learning rate decayed. Updated LR is: 0.000068\n"
          ]
        },
        {
          "name": "stderr",
          "output_type": "stream",
          "text": [
            "100%|██████████| 10/10 [00:14<00:00,  1.43s/it]\n"
          ]
        },
        {
          "name": "stdout",
          "output_type": "stream",
          "text": [
            "Average validation Loss: 7.485381126403809\n",
            "Epoch [696/1000], Average Loss: 3.7714\n",
            "Average validation Loss: 7.485381126403809\n",
            "Learning rate decayed. Updated LR is: 0.000068\n"
          ]
        },
        {
          "name": "stderr",
          "output_type": "stream",
          "text": [
            "100%|██████████| 10/10 [00:14<00:00,  1.43s/it]\n"
          ]
        },
        {
          "name": "stdout",
          "output_type": "stream",
          "text": [
            "Average validation Loss: 1.6298540830612183\n",
            "Epoch [697/1000], Average Loss: 3.0485\n",
            "Average validation Loss: 1.6298540830612183\n",
            "Learning rate decayed. Updated LR is: 0.000067\n"
          ]
        },
        {
          "name": "stderr",
          "output_type": "stream",
          "text": [
            "100%|██████████| 10/10 [00:14<00:00,  1.43s/it]\n"
          ]
        },
        {
          "name": "stdout",
          "output_type": "stream",
          "text": [
            "Average validation Loss: 3.5893168449401855\n",
            "Epoch [698/1000], Average Loss: 3.4282\n",
            "Average validation Loss: 3.5893168449401855\n",
            "Learning rate decayed. Updated LR is: 0.000067\n"
          ]
        },
        {
          "name": "stderr",
          "output_type": "stream",
          "text": [
            "100%|██████████| 10/10 [00:14<00:00,  1.43s/it]\n"
          ]
        },
        {
          "name": "stdout",
          "output_type": "stream",
          "text": [
            "Average validation Loss: 1.907030463218689\n",
            "Epoch [699/1000], Average Loss: 2.7959\n",
            "Average validation Loss: 1.907030463218689\n",
            "Learning rate decayed. Updated LR is: 0.000067\n"
          ]
        },
        {
          "name": "stderr",
          "output_type": "stream",
          "text": [
            "100%|██████████| 10/10 [00:14<00:00,  1.43s/it]\n"
          ]
        },
        {
          "name": "stdout",
          "output_type": "stream",
          "text": [
            "Average validation Loss: 1.4979803562164307\n",
            "Epoch [700/1000], Average Loss: 3.0649\n",
            "Average validation Loss: 1.4979803562164307\n",
            "Learning rate decayed. Updated LR is: 0.000067\n"
          ]
        },
        {
          "name": "stderr",
          "output_type": "stream",
          "text": [
            "100%|██████████| 10/10 [00:14<00:00,  1.43s/it]\n"
          ]
        },
        {
          "name": "stdout",
          "output_type": "stream",
          "text": [
            "Average validation Loss: 1.8567289113998413\n",
            "Epoch [701/1000], Average Loss: 2.8503\n",
            "Average validation Loss: 1.8567289113998413\n",
            "Learning rate decayed. Updated LR is: 0.000066\n"
          ]
        },
        {
          "name": "stderr",
          "output_type": "stream",
          "text": [
            "100%|██████████| 10/10 [00:14<00:00,  1.43s/it]\n"
          ]
        },
        {
          "name": "stdout",
          "output_type": "stream",
          "text": [
            "Average validation Loss: 1.5109102725982666\n",
            "Epoch [702/1000], Average Loss: 2.9339\n",
            "Average validation Loss: 1.5109102725982666\n",
            "Learning rate decayed. Updated LR is: 0.000066\n"
          ]
        },
        {
          "name": "stderr",
          "output_type": "stream",
          "text": [
            "100%|██████████| 10/10 [00:14<00:00,  1.43s/it]\n"
          ]
        },
        {
          "name": "stdout",
          "output_type": "stream",
          "text": [
            "Average validation Loss: 4.747725486755371\n",
            "Epoch [703/1000], Average Loss: 3.1154\n",
            "Average validation Loss: 4.747725486755371\n",
            "Learning rate decayed. Updated LR is: 0.000066\n"
          ]
        },
        {
          "name": "stderr",
          "output_type": "stream",
          "text": [
            "100%|██████████| 10/10 [00:14<00:00,  1.43s/it]\n"
          ]
        },
        {
          "name": "stdout",
          "output_type": "stream",
          "text": [
            "Average validation Loss: 8.377388000488281\n",
            "Epoch [704/1000], Average Loss: 3.9016\n",
            "Average validation Loss: 8.377388000488281\n",
            "Learning rate decayed. Updated LR is: 0.000066\n"
          ]
        },
        {
          "name": "stderr",
          "output_type": "stream",
          "text": [
            "100%|██████████| 10/10 [00:14<00:00,  1.43s/it]\n"
          ]
        },
        {
          "name": "stdout",
          "output_type": "stream",
          "text": [
            "Average validation Loss: 0.9331571459770203\n",
            "Epoch [705/1000], Average Loss: 3.7614\n",
            "Average validation Loss: 0.9331571459770203\n",
            "Learning rate decayed. Updated LR is: 0.000066\n"
          ]
        },
        {
          "name": "stderr",
          "output_type": "stream",
          "text": [
            "100%|██████████| 10/10 [00:14<00:00,  1.43s/it]\n"
          ]
        },
        {
          "name": "stdout",
          "output_type": "stream",
          "text": [
            "Average validation Loss: 2.8019216060638428\n",
            "Epoch [706/1000], Average Loss: 3.8088\n",
            "Average validation Loss: 2.8019216060638428\n",
            "Learning rate decayed. Updated LR is: 0.000065\n"
          ]
        },
        {
          "name": "stderr",
          "output_type": "stream",
          "text": [
            "100%|██████████| 10/10 [00:14<00:00,  1.43s/it]\n"
          ]
        },
        {
          "name": "stdout",
          "output_type": "stream",
          "text": [
            "Average validation Loss: 2.2251393795013428\n",
            "Epoch [707/1000], Average Loss: 3.4494\n",
            "Average validation Loss: 2.2251393795013428\n",
            "Learning rate decayed. Updated LR is: 0.000065\n"
          ]
        },
        {
          "name": "stderr",
          "output_type": "stream",
          "text": [
            "100%|██████████| 10/10 [00:14<00:00,  1.43s/it]\n"
          ]
        },
        {
          "name": "stdout",
          "output_type": "stream",
          "text": [
            "Average validation Loss: 1.9569013118743896\n",
            "Epoch [708/1000], Average Loss: 3.2207\n",
            "Average validation Loss: 1.9569013118743896\n",
            "Learning rate decayed. Updated LR is: 0.000065\n"
          ]
        },
        {
          "name": "stderr",
          "output_type": "stream",
          "text": [
            "100%|██████████| 10/10 [00:14<00:00,  1.43s/it]\n"
          ]
        },
        {
          "name": "stdout",
          "output_type": "stream",
          "text": [
            "Average validation Loss: 0.9076341390609741\n",
            "Epoch [709/1000], Average Loss: 2.9693\n",
            "Average validation Loss: 0.9076341390609741\n",
            "Learning rate decayed. Updated LR is: 0.000065\n"
          ]
        },
        {
          "name": "stderr",
          "output_type": "stream",
          "text": [
            "100%|██████████| 10/10 [00:14<00:00,  1.43s/it]\n"
          ]
        },
        {
          "name": "stdout",
          "output_type": "stream",
          "text": [
            "Average validation Loss: 3.4370055198669434\n",
            "Epoch [710/1000], Average Loss: 3.1418\n",
            "Average validation Loss: 3.4370055198669434\n",
            "Learning rate decayed. Updated LR is: 0.000064\n"
          ]
        },
        {
          "name": "stderr",
          "output_type": "stream",
          "text": [
            "100%|██████████| 10/10 [00:14<00:00,  1.43s/it]\n"
          ]
        },
        {
          "name": "stdout",
          "output_type": "stream",
          "text": [
            "Average validation Loss: 1.3068422079086304\n",
            "Epoch [711/1000], Average Loss: 2.9999\n",
            "Average validation Loss: 1.3068422079086304\n",
            "Learning rate decayed. Updated LR is: 0.000064\n"
          ]
        },
        {
          "name": "stderr",
          "output_type": "stream",
          "text": [
            "100%|██████████| 10/10 [00:14<00:00,  1.43s/it]\n"
          ]
        },
        {
          "name": "stdout",
          "output_type": "stream",
          "text": [
            "Average validation Loss: 1.9495837688446045\n",
            "Epoch [712/1000], Average Loss: 3.0645\n",
            "Average validation Loss: 1.9495837688446045\n",
            "Learning rate decayed. Updated LR is: 0.000064\n"
          ]
        },
        {
          "name": "stderr",
          "output_type": "stream",
          "text": [
            "100%|██████████| 10/10 [00:14<00:00,  1.43s/it]\n"
          ]
        },
        {
          "name": "stdout",
          "output_type": "stream",
          "text": [
            "Average validation Loss: 2.3626487255096436\n",
            "Epoch [713/1000], Average Loss: 3.1085\n",
            "Average validation Loss: 2.3626487255096436\n",
            "Learning rate decayed. Updated LR is: 0.000064\n"
          ]
        },
        {
          "name": "stderr",
          "output_type": "stream",
          "text": [
            "100%|██████████| 10/10 [00:14<00:00,  1.43s/it]\n"
          ]
        },
        {
          "name": "stdout",
          "output_type": "stream",
          "text": [
            "Average validation Loss: 4.762266159057617\n",
            "Epoch [714/1000], Average Loss: 3.3612\n",
            "Average validation Loss: 4.762266159057617\n",
            "Learning rate decayed. Updated LR is: 0.000064\n"
          ]
        },
        {
          "name": "stderr",
          "output_type": "stream",
          "text": [
            "100%|██████████| 10/10 [00:14<00:00,  1.43s/it]\n"
          ]
        },
        {
          "name": "stdout",
          "output_type": "stream",
          "text": [
            "Average validation Loss: 3.311300277709961\n",
            "Epoch [715/1000], Average Loss: 3.2898\n",
            "Average validation Loss: 3.311300277709961\n",
            "Learning rate decayed. Updated LR is: 0.000063\n"
          ]
        },
        {
          "name": "stderr",
          "output_type": "stream",
          "text": [
            "100%|██████████| 10/10 [00:14<00:00,  1.43s/it]\n"
          ]
        },
        {
          "name": "stdout",
          "output_type": "stream",
          "text": [
            "Average validation Loss: 6.039937496185303\n",
            "Epoch [716/1000], Average Loss: 3.4819\n",
            "Average validation Loss: 6.039937496185303\n",
            "Learning rate decayed. Updated LR is: 0.000063\n"
          ]
        },
        {
          "name": "stderr",
          "output_type": "stream",
          "text": [
            "100%|██████████| 10/10 [00:14<00:00,  1.43s/it]\n"
          ]
        },
        {
          "name": "stdout",
          "output_type": "stream",
          "text": [
            "Average validation Loss: 1.7720335721969604\n",
            "Epoch [717/1000], Average Loss: 2.9342\n",
            "Average validation Loss: 1.7720335721969604\n",
            "Learning rate decayed. Updated LR is: 0.000063\n"
          ]
        },
        {
          "name": "stderr",
          "output_type": "stream",
          "text": [
            "100%|██████████| 10/10 [00:14<00:00,  1.43s/it]\n"
          ]
        },
        {
          "name": "stdout",
          "output_type": "stream",
          "text": [
            "Average validation Loss: 0.9274696111679077\n",
            "Epoch [718/1000], Average Loss: 3.0170\n",
            "Average validation Loss: 0.9274696111679077\n",
            "Learning rate decayed. Updated LR is: 0.000063\n"
          ]
        },
        {
          "name": "stderr",
          "output_type": "stream",
          "text": [
            "100%|██████████| 10/10 [00:14<00:00,  1.43s/it]\n"
          ]
        },
        {
          "name": "stdout",
          "output_type": "stream",
          "text": [
            "Average validation Loss: 1.2008979320526123\n",
            "Epoch [719/1000], Average Loss: 2.7710\n",
            "Average validation Loss: 1.2008979320526123\n",
            "Learning rate decayed. Updated LR is: 0.000062\n"
          ]
        },
        {
          "name": "stderr",
          "output_type": "stream",
          "text": [
            "100%|██████████| 10/10 [00:14<00:00,  1.43s/it]\n"
          ]
        },
        {
          "name": "stdout",
          "output_type": "stream",
          "text": [
            "Average validation Loss: 2.352531909942627\n",
            "Epoch [720/1000], Average Loss: 2.6738\n",
            "Average validation Loss: 2.352531909942627\n",
            "Learning rate decayed. Updated LR is: 0.000062\n"
          ]
        },
        {
          "name": "stderr",
          "output_type": "stream",
          "text": [
            "100%|██████████| 10/10 [00:14<00:00,  1.43s/it]\n"
          ]
        },
        {
          "name": "stdout",
          "output_type": "stream",
          "text": [
            "Average validation Loss: 1.4540157318115234\n",
            "Epoch [721/1000], Average Loss: 2.6406\n",
            "Average validation Loss: 1.4540157318115234\n",
            "Learning rate decayed. Updated LR is: 0.000062\n"
          ]
        },
        {
          "name": "stderr",
          "output_type": "stream",
          "text": [
            "100%|██████████| 10/10 [00:14<00:00,  1.43s/it]\n"
          ]
        },
        {
          "name": "stdout",
          "output_type": "stream",
          "text": [
            "Average validation Loss: 1.0105023384094238\n",
            "Epoch [722/1000], Average Loss: 2.9518\n",
            "Average validation Loss: 1.0105023384094238\n",
            "Learning rate decayed. Updated LR is: 0.000062\n"
          ]
        },
        {
          "name": "stderr",
          "output_type": "stream",
          "text": [
            "100%|██████████| 10/10 [00:14<00:00,  1.43s/it]\n"
          ]
        },
        {
          "name": "stdout",
          "output_type": "stream",
          "text": [
            "Average validation Loss: 0.8795737028121948\n",
            "Epoch [723/1000], Average Loss: 2.9636\n",
            "Average validation Loss: 0.8795737028121948\n",
            "Learning rate decayed. Updated LR is: 0.000062\n"
          ]
        },
        {
          "name": "stderr",
          "output_type": "stream",
          "text": [
            "100%|██████████| 10/10 [00:14<00:00,  1.43s/it]\n"
          ]
        },
        {
          "name": "stdout",
          "output_type": "stream",
          "text": [
            "Average validation Loss: 1.6871627569198608\n",
            "Epoch [724/1000], Average Loss: 3.1170\n",
            "Average validation Loss: 1.6871627569198608\n",
            "Learning rate decayed. Updated LR is: 0.000061\n"
          ]
        },
        {
          "name": "stderr",
          "output_type": "stream",
          "text": [
            "100%|██████████| 10/10 [00:14<00:00,  1.43s/it]\n"
          ]
        },
        {
          "name": "stdout",
          "output_type": "stream",
          "text": [
            "Average validation Loss: 1.5560163259506226\n",
            "Epoch [725/1000], Average Loss: 3.0268\n",
            "Average validation Loss: 1.5560163259506226\n",
            "Learning rate decayed. Updated LR is: 0.000061\n"
          ]
        },
        {
          "name": "stderr",
          "output_type": "stream",
          "text": [
            "100%|██████████| 10/10 [00:14<00:00,  1.43s/it]\n"
          ]
        },
        {
          "name": "stdout",
          "output_type": "stream",
          "text": [
            "Average validation Loss: 1.408509612083435\n",
            "Epoch [726/1000], Average Loss: 3.0684\n",
            "Average validation Loss: 1.408509612083435\n",
            "Learning rate decayed. Updated LR is: 0.000061\n"
          ]
        },
        {
          "name": "stderr",
          "output_type": "stream",
          "text": [
            "100%|██████████| 10/10 [00:14<00:00,  1.43s/it]\n"
          ]
        },
        {
          "name": "stdout",
          "output_type": "stream",
          "text": [
            "Average validation Loss: 1.0200426578521729\n",
            "Epoch [727/1000], Average Loss: 3.0836\n",
            "Average validation Loss: 1.0200426578521729\n",
            "Learning rate decayed. Updated LR is: 0.000061\n"
          ]
        },
        {
          "name": "stderr",
          "output_type": "stream",
          "text": [
            "100%|██████████| 10/10 [00:14<00:00,  1.43s/it]\n"
          ]
        },
        {
          "name": "stdout",
          "output_type": "stream",
          "text": [
            "Average validation Loss: 6.297647476196289\n",
            "Epoch [728/1000], Average Loss: 3.3231\n",
            "Average validation Loss: 6.297647476196289\n",
            "Learning rate decayed. Updated LR is: 0.000060\n"
          ]
        },
        {
          "name": "stderr",
          "output_type": "stream",
          "text": [
            "100%|██████████| 10/10 [00:14<00:00,  1.43s/it]\n"
          ]
        },
        {
          "name": "stdout",
          "output_type": "stream",
          "text": [
            "Average validation Loss: 4.769941329956055\n",
            "Epoch [729/1000], Average Loss: 4.0058\n",
            "Average validation Loss: 4.769941329956055\n",
            "Learning rate decayed. Updated LR is: 0.000060\n"
          ]
        },
        {
          "name": "stderr",
          "output_type": "stream",
          "text": [
            "100%|██████████| 10/10 [00:14<00:00,  1.43s/it]\n"
          ]
        },
        {
          "name": "stdout",
          "output_type": "stream",
          "text": [
            "Average validation Loss: 2.570058584213257\n",
            "Epoch [730/1000], Average Loss: 3.9034\n",
            "Average validation Loss: 2.570058584213257\n",
            "Learning rate decayed. Updated LR is: 0.000060\n"
          ]
        },
        {
          "name": "stderr",
          "output_type": "stream",
          "text": [
            "100%|██████████| 10/10 [00:14<00:00,  1.44s/it]\n"
          ]
        },
        {
          "name": "stdout",
          "output_type": "stream",
          "text": [
            "Average validation Loss: 2.275144338607788\n",
            "Epoch [731/1000], Average Loss: 2.9888\n",
            "Average validation Loss: 2.275144338607788\n",
            "Learning rate decayed. Updated LR is: 0.000060\n"
          ]
        },
        {
          "name": "stderr",
          "output_type": "stream",
          "text": [
            "100%|██████████| 10/10 [00:14<00:00,  1.43s/it]\n"
          ]
        },
        {
          "name": "stdout",
          "output_type": "stream",
          "text": [
            "Average validation Loss: 2.2863364219665527\n",
            "Epoch [732/1000], Average Loss: 2.6988\n",
            "Average validation Loss: 2.2863364219665527\n",
            "Learning rate decayed. Updated LR is: 0.000060\n"
          ]
        },
        {
          "name": "stderr",
          "output_type": "stream",
          "text": [
            "100%|██████████| 10/10 [00:14<00:00,  1.43s/it]\n"
          ]
        },
        {
          "name": "stdout",
          "output_type": "stream",
          "text": [
            "Average validation Loss: 2.982069492340088\n",
            "Epoch [733/1000], Average Loss: 3.1744\n",
            "Average validation Loss: 2.982069492340088\n",
            "Learning rate decayed. Updated LR is: 0.000059\n"
          ]
        },
        {
          "name": "stderr",
          "output_type": "stream",
          "text": [
            "100%|██████████| 10/10 [00:14<00:00,  1.43s/it]\n"
          ]
        },
        {
          "name": "stdout",
          "output_type": "stream",
          "text": [
            "Average validation Loss: 1.7386653423309326\n",
            "Epoch [734/1000], Average Loss: 2.9335\n",
            "Average validation Loss: 1.7386653423309326\n",
            "Learning rate decayed. Updated LR is: 0.000059\n"
          ]
        },
        {
          "name": "stderr",
          "output_type": "stream",
          "text": [
            "100%|██████████| 10/10 [00:14<00:00,  1.43s/it]\n"
          ]
        },
        {
          "name": "stdout",
          "output_type": "stream",
          "text": [
            "Average validation Loss: 2.8437438011169434\n",
            "Epoch [735/1000], Average Loss: 2.9399\n",
            "Average validation Loss: 2.8437438011169434\n",
            "Learning rate decayed. Updated LR is: 0.000059\n"
          ]
        },
        {
          "name": "stderr",
          "output_type": "stream",
          "text": [
            "100%|██████████| 10/10 [00:14<00:00,  1.43s/it]\n"
          ]
        },
        {
          "name": "stdout",
          "output_type": "stream",
          "text": [
            "Average validation Loss: 1.67087721824646\n",
            "Epoch [736/1000], Average Loss: 2.8415\n",
            "Average validation Loss: 1.67087721824646\n",
            "Learning rate decayed. Updated LR is: 0.000059\n"
          ]
        },
        {
          "name": "stderr",
          "output_type": "stream",
          "text": [
            "100%|██████████| 10/10 [00:14<00:00,  1.43s/it]\n"
          ]
        },
        {
          "name": "stdout",
          "output_type": "stream",
          "text": [
            "Average validation Loss: 1.7363818883895874\n",
            "Epoch [737/1000], Average Loss: 2.8585\n",
            "Average validation Loss: 1.7363818883895874\n",
            "Learning rate decayed. Updated LR is: 0.000058\n"
          ]
        },
        {
          "name": "stderr",
          "output_type": "stream",
          "text": [
            "100%|██████████| 10/10 [00:14<00:00,  1.43s/it]\n"
          ]
        },
        {
          "name": "stdout",
          "output_type": "stream",
          "text": [
            "Average validation Loss: 3.210844039916992\n",
            "Epoch [738/1000], Average Loss: 2.9431\n",
            "Average validation Loss: 3.210844039916992\n",
            "Learning rate decayed. Updated LR is: 0.000058\n"
          ]
        },
        {
          "name": "stderr",
          "output_type": "stream",
          "text": [
            "100%|██████████| 10/10 [00:14<00:00,  1.43s/it]\n"
          ]
        },
        {
          "name": "stdout",
          "output_type": "stream",
          "text": [
            "Average validation Loss: 1.9328778982162476\n",
            "Epoch [739/1000], Average Loss: 2.9783\n",
            "Average validation Loss: 1.9328778982162476\n",
            "Learning rate decayed. Updated LR is: 0.000058\n"
          ]
        },
        {
          "name": "stderr",
          "output_type": "stream",
          "text": [
            "100%|██████████| 10/10 [00:14<00:00,  1.43s/it]\n"
          ]
        },
        {
          "name": "stdout",
          "output_type": "stream",
          "text": [
            "Average validation Loss: 2.4587295055389404\n",
            "Epoch [740/1000], Average Loss: 2.9474\n",
            "Average validation Loss: 2.4587295055389404\n",
            "Learning rate decayed. Updated LR is: 0.000058\n"
          ]
        },
        {
          "name": "stderr",
          "output_type": "stream",
          "text": [
            "100%|██████████| 10/10 [00:14<00:00,  1.43s/it]\n"
          ]
        },
        {
          "name": "stdout",
          "output_type": "stream",
          "text": [
            "Average validation Loss: 1.863120436668396\n",
            "Epoch [741/1000], Average Loss: 2.6189\n",
            "Average validation Loss: 1.863120436668396\n",
            "Learning rate decayed. Updated LR is: 0.000058\n"
          ]
        },
        {
          "name": "stderr",
          "output_type": "stream",
          "text": [
            "100%|██████████| 10/10 [00:14<00:00,  1.43s/it]\n"
          ]
        },
        {
          "name": "stdout",
          "output_type": "stream",
          "text": [
            "Average validation Loss: 2.699197292327881\n",
            "Epoch [742/1000], Average Loss: 2.6947\n",
            "Average validation Loss: 2.699197292327881\n",
            "Learning rate decayed. Updated LR is: 0.000057\n"
          ]
        },
        {
          "name": "stderr",
          "output_type": "stream",
          "text": [
            "100%|██████████| 10/10 [00:14<00:00,  1.43s/it]\n"
          ]
        },
        {
          "name": "stdout",
          "output_type": "stream",
          "text": [
            "Average validation Loss: 1.7909319400787354\n",
            "Epoch [743/1000], Average Loss: 2.9659\n",
            "Average validation Loss: 1.7909319400787354\n",
            "Learning rate decayed. Updated LR is: 0.000057\n"
          ]
        },
        {
          "name": "stderr",
          "output_type": "stream",
          "text": [
            "100%|██████████| 10/10 [00:14<00:00,  1.43s/it]\n"
          ]
        },
        {
          "name": "stdout",
          "output_type": "stream",
          "text": [
            "Average validation Loss: 1.726287603378296\n",
            "Epoch [744/1000], Average Loss: 2.6590\n",
            "Average validation Loss: 1.726287603378296\n",
            "Learning rate decayed. Updated LR is: 0.000057\n"
          ]
        },
        {
          "name": "stderr",
          "output_type": "stream",
          "text": [
            "100%|██████████| 10/10 [00:14<00:00,  1.43s/it]\n"
          ]
        },
        {
          "name": "stdout",
          "output_type": "stream",
          "text": [
            "Average validation Loss: 3.4990463256835938\n",
            "Epoch [745/1000], Average Loss: 2.7461\n",
            "Average validation Loss: 3.4990463256835938\n",
            "Learning rate decayed. Updated LR is: 0.000057\n"
          ]
        },
        {
          "name": "stderr",
          "output_type": "stream",
          "text": [
            "100%|██████████| 10/10 [00:14<00:00,  1.43s/it]\n"
          ]
        },
        {
          "name": "stdout",
          "output_type": "stream",
          "text": [
            "Average validation Loss: 4.524620056152344\n",
            "Epoch [746/1000], Average Loss: 2.7443\n",
            "Average validation Loss: 4.524620056152344\n",
            "Learning rate decayed. Updated LR is: 0.000056\n"
          ]
        },
        {
          "name": "stderr",
          "output_type": "stream",
          "text": [
            "100%|██████████| 10/10 [00:14<00:00,  1.43s/it]\n"
          ]
        },
        {
          "name": "stdout",
          "output_type": "stream",
          "text": [
            "Average validation Loss: 2.367117404937744\n",
            "Epoch [747/1000], Average Loss: 2.8392\n",
            "Average validation Loss: 2.367117404937744\n",
            "Learning rate decayed. Updated LR is: 0.000056\n"
          ]
        },
        {
          "name": "stderr",
          "output_type": "stream",
          "text": [
            "100%|██████████| 10/10 [00:14<00:00,  1.43s/it]\n"
          ]
        },
        {
          "name": "stdout",
          "output_type": "stream",
          "text": [
            "Average validation Loss: 1.4280736446380615\n",
            "Epoch [748/1000], Average Loss: 2.6981\n",
            "Average validation Loss: 1.4280736446380615\n",
            "Learning rate decayed. Updated LR is: 0.000056\n"
          ]
        },
        {
          "name": "stderr",
          "output_type": "stream",
          "text": [
            "100%|██████████| 10/10 [00:14<00:00,  1.43s/it]\n"
          ]
        },
        {
          "name": "stdout",
          "output_type": "stream",
          "text": [
            "Average validation Loss: 5.964983940124512\n",
            "Epoch [749/1000], Average Loss: 2.8341\n",
            "Average validation Loss: 5.964983940124512\n",
            "Learning rate decayed. Updated LR is: 0.000056\n"
          ]
        },
        {
          "name": "stderr",
          "output_type": "stream",
          "text": [
            "100%|██████████| 10/10 [00:14<00:00,  1.43s/it]\n"
          ]
        },
        {
          "name": "stdout",
          "output_type": "stream",
          "text": [
            "Average validation Loss: 1.6919267177581787\n",
            "Epoch [750/1000], Average Loss: 3.3640\n",
            "Average validation Loss: 1.6919267177581787\n",
            "Learning rate decayed. Updated LR is: 0.000056\n"
          ]
        },
        {
          "name": "stderr",
          "output_type": "stream",
          "text": [
            "100%|██████████| 10/10 [00:14<00:00,  1.43s/it]\n"
          ]
        },
        {
          "name": "stdout",
          "output_type": "stream",
          "text": [
            "Average validation Loss: 8.117754936218262\n",
            "Epoch [751/1000], Average Loss: 3.4678\n",
            "Average validation Loss: 8.117754936218262\n",
            "Learning rate decayed. Updated LR is: 0.000055\n"
          ]
        },
        {
          "name": "stderr",
          "output_type": "stream",
          "text": [
            "100%|██████████| 10/10 [00:14<00:00,  1.43s/it]\n"
          ]
        },
        {
          "name": "stdout",
          "output_type": "stream",
          "text": [
            "Average validation Loss: 1.6623692512512207\n",
            "Epoch [752/1000], Average Loss: 3.1263\n",
            "Average validation Loss: 1.6623692512512207\n",
            "Learning rate decayed. Updated LR is: 0.000055\n"
          ]
        },
        {
          "name": "stderr",
          "output_type": "stream",
          "text": [
            "100%|██████████| 10/10 [00:14<00:00,  1.43s/it]\n"
          ]
        },
        {
          "name": "stdout",
          "output_type": "stream",
          "text": [
            "Average validation Loss: 1.1633118391036987\n",
            "Epoch [753/1000], Average Loss: 2.7581\n",
            "Average validation Loss: 1.1633118391036987\n",
            "Learning rate decayed. Updated LR is: 0.000055\n"
          ]
        },
        {
          "name": "stderr",
          "output_type": "stream",
          "text": [
            "100%|██████████| 10/10 [00:14<00:00,  1.43s/it]\n"
          ]
        },
        {
          "name": "stdout",
          "output_type": "stream",
          "text": [
            "Average validation Loss: 7.011171340942383\n",
            "Epoch [754/1000], Average Loss: 3.2730\n",
            "Average validation Loss: 7.011171340942383\n",
            "Learning rate decayed. Updated LR is: 0.000055\n"
          ]
        },
        {
          "name": "stderr",
          "output_type": "stream",
          "text": [
            "100%|██████████| 10/10 [00:14<00:00,  1.43s/it]\n"
          ]
        },
        {
          "name": "stdout",
          "output_type": "stream",
          "text": [
            "Average validation Loss: 1.832823634147644\n",
            "Epoch [755/1000], Average Loss: 2.5825\n",
            "Average validation Loss: 1.832823634147644\n",
            "Learning rate decayed. Updated LR is: 0.000054\n"
          ]
        },
        {
          "name": "stderr",
          "output_type": "stream",
          "text": [
            "100%|██████████| 10/10 [00:14<00:00,  1.43s/it]\n"
          ]
        },
        {
          "name": "stdout",
          "output_type": "stream",
          "text": [
            "Average validation Loss: 0.9710814356803894\n",
            "Epoch [756/1000], Average Loss: 2.9921\n",
            "Average validation Loss: 0.9710814356803894\n",
            "Learning rate decayed. Updated LR is: 0.000054\n"
          ]
        },
        {
          "name": "stderr",
          "output_type": "stream",
          "text": [
            "100%|██████████| 10/10 [00:14<00:00,  1.43s/it]\n"
          ]
        },
        {
          "name": "stdout",
          "output_type": "stream",
          "text": [
            "Average validation Loss: 1.5648858547210693\n",
            "Epoch [757/1000], Average Loss: 2.6305\n",
            "Average validation Loss: 1.5648858547210693\n",
            "Learning rate decayed. Updated LR is: 0.000054\n"
          ]
        },
        {
          "name": "stderr",
          "output_type": "stream",
          "text": [
            "100%|██████████| 10/10 [00:14<00:00,  1.43s/it]\n"
          ]
        },
        {
          "name": "stdout",
          "output_type": "stream",
          "text": [
            "Average validation Loss: 3.601491689682007\n",
            "Epoch [758/1000], Average Loss: 3.1040\n",
            "Average validation Loss: 3.601491689682007\n",
            "Learning rate decayed. Updated LR is: 0.000054\n"
          ]
        },
        {
          "name": "stderr",
          "output_type": "stream",
          "text": [
            "100%|██████████| 10/10 [00:14<00:00,  1.43s/it]\n"
          ]
        },
        {
          "name": "stdout",
          "output_type": "stream",
          "text": [
            "Average validation Loss: 0.8044596910476685\n",
            "Epoch [759/1000], Average Loss: 2.4744\n",
            "Average validation Loss: 0.8044596910476685\n",
            "Learning rate decayed. Updated LR is: 0.000054\n"
          ]
        },
        {
          "name": "stderr",
          "output_type": "stream",
          "text": [
            "100%|██████████| 10/10 [00:14<00:00,  1.43s/it]\n"
          ]
        },
        {
          "name": "stdout",
          "output_type": "stream",
          "text": [
            "Average validation Loss: 1.034725546836853\n",
            "Epoch [760/1000], Average Loss: 2.7185\n",
            "Average validation Loss: 1.034725546836853\n",
            "Learning rate decayed. Updated LR is: 0.000053\n"
          ]
        },
        {
          "name": "stderr",
          "output_type": "stream",
          "text": [
            "100%|██████████| 10/10 [00:14<00:00,  1.43s/it]\n"
          ]
        },
        {
          "name": "stdout",
          "output_type": "stream",
          "text": [
            "Average validation Loss: 2.962637424468994\n",
            "Epoch [761/1000], Average Loss: 2.5702\n",
            "Average validation Loss: 2.962637424468994\n",
            "Learning rate decayed. Updated LR is: 0.000053\n"
          ]
        },
        {
          "name": "stderr",
          "output_type": "stream",
          "text": [
            "100%|██████████| 10/10 [00:14<00:00,  1.43s/it]\n"
          ]
        },
        {
          "name": "stdout",
          "output_type": "stream",
          "text": [
            "Average validation Loss: 2.3764877319335938\n",
            "Epoch [762/1000], Average Loss: 2.8053\n",
            "Average validation Loss: 2.3764877319335938\n",
            "Learning rate decayed. Updated LR is: 0.000053\n"
          ]
        },
        {
          "name": "stderr",
          "output_type": "stream",
          "text": [
            "100%|██████████| 10/10 [00:14<00:00,  1.43s/it]\n"
          ]
        },
        {
          "name": "stdout",
          "output_type": "stream",
          "text": [
            "Average validation Loss: 1.5377687215805054\n",
            "Epoch [763/1000], Average Loss: 2.6458\n",
            "Average validation Loss: 1.5377687215805054\n",
            "Learning rate decayed. Updated LR is: 0.000053\n"
          ]
        },
        {
          "name": "stderr",
          "output_type": "stream",
          "text": [
            "100%|██████████| 10/10 [00:14<00:00,  1.43s/it]\n"
          ]
        },
        {
          "name": "stdout",
          "output_type": "stream",
          "text": [
            "Average validation Loss: 4.434187889099121\n",
            "Epoch [764/1000], Average Loss: 2.7101\n",
            "Average validation Loss: 4.434187889099121\n",
            "Learning rate decayed. Updated LR is: 0.000052\n"
          ]
        },
        {
          "name": "stderr",
          "output_type": "stream",
          "text": [
            "100%|██████████| 10/10 [00:14<00:00,  1.43s/it]\n"
          ]
        },
        {
          "name": "stdout",
          "output_type": "stream",
          "text": [
            "Average validation Loss: 1.7179349660873413\n",
            "Epoch [765/1000], Average Loss: 2.8128\n",
            "Average validation Loss: 1.7179349660873413\n",
            "Learning rate decayed. Updated LR is: 0.000052\n"
          ]
        },
        {
          "name": "stderr",
          "output_type": "stream",
          "text": [
            "100%|██████████| 10/10 [00:14<00:00,  1.43s/it]\n"
          ]
        },
        {
          "name": "stdout",
          "output_type": "stream",
          "text": [
            "Average validation Loss: 1.2935912609100342\n",
            "Epoch [766/1000], Average Loss: 3.0213\n",
            "Average validation Loss: 1.2935912609100342\n",
            "Learning rate decayed. Updated LR is: 0.000052\n"
          ]
        },
        {
          "name": "stderr",
          "output_type": "stream",
          "text": [
            "100%|██████████| 10/10 [00:14<00:00,  1.43s/it]\n"
          ]
        },
        {
          "name": "stdout",
          "output_type": "stream",
          "text": [
            "Average validation Loss: 3.487720012664795\n",
            "Epoch [767/1000], Average Loss: 3.2417\n",
            "Average validation Loss: 3.487720012664795\n",
            "Learning rate decayed. Updated LR is: 0.000052\n"
          ]
        },
        {
          "name": "stderr",
          "output_type": "stream",
          "text": [
            "100%|██████████| 10/10 [00:14<00:00,  1.43s/it]\n"
          ]
        },
        {
          "name": "stdout",
          "output_type": "stream",
          "text": [
            "Average validation Loss: 2.1151843070983887\n",
            "Epoch [768/1000], Average Loss: 3.0885\n",
            "Average validation Loss: 2.1151843070983887\n",
            "Learning rate decayed. Updated LR is: 0.000052\n"
          ]
        },
        {
          "name": "stderr",
          "output_type": "stream",
          "text": [
            "100%|██████████| 10/10 [00:14<00:00,  1.43s/it]\n"
          ]
        },
        {
          "name": "stdout",
          "output_type": "stream",
          "text": [
            "Average validation Loss: 4.899630546569824\n",
            "Epoch [769/1000], Average Loss: 3.0562\n",
            "Average validation Loss: 4.899630546569824\n",
            "Learning rate decayed. Updated LR is: 0.000051\n"
          ]
        },
        {
          "name": "stderr",
          "output_type": "stream",
          "text": [
            "100%|██████████| 10/10 [00:14<00:00,  1.43s/it]\n"
          ]
        },
        {
          "name": "stdout",
          "output_type": "stream",
          "text": [
            "Average validation Loss: 1.3561495542526245\n",
            "Epoch [770/1000], Average Loss: 3.0015\n",
            "Average validation Loss: 1.3561495542526245\n",
            "Learning rate decayed. Updated LR is: 0.000051\n"
          ]
        },
        {
          "name": "stderr",
          "output_type": "stream",
          "text": [
            "100%|██████████| 10/10 [00:14<00:00,  1.43s/it]\n"
          ]
        },
        {
          "name": "stdout",
          "output_type": "stream",
          "text": [
            "Average validation Loss: 3.2540717124938965\n",
            "Epoch [771/1000], Average Loss: 2.8711\n",
            "Average validation Loss: 3.2540717124938965\n",
            "Learning rate decayed. Updated LR is: 0.000051\n"
          ]
        },
        {
          "name": "stderr",
          "output_type": "stream",
          "text": [
            "100%|██████████| 10/10 [00:14<00:00,  1.43s/it]\n"
          ]
        },
        {
          "name": "stdout",
          "output_type": "stream",
          "text": [
            "Average validation Loss: 1.4431228637695312\n",
            "Epoch [772/1000], Average Loss: 2.5837\n",
            "Average validation Loss: 1.4431228637695312\n",
            "Learning rate decayed. Updated LR is: 0.000051\n"
          ]
        },
        {
          "name": "stderr",
          "output_type": "stream",
          "text": [
            "100%|██████████| 10/10 [00:14<00:00,  1.43s/it]\n"
          ]
        },
        {
          "name": "stdout",
          "output_type": "stream",
          "text": [
            "Average validation Loss: 6.387330055236816\n",
            "Epoch [773/1000], Average Loss: 2.9581\n",
            "Average validation Loss: 6.387330055236816\n",
            "Learning rate decayed. Updated LR is: 0.000050\n"
          ]
        },
        {
          "name": "stderr",
          "output_type": "stream",
          "text": [
            "100%|██████████| 10/10 [00:14<00:00,  1.43s/it]\n"
          ]
        },
        {
          "name": "stdout",
          "output_type": "stream",
          "text": [
            "Average validation Loss: 2.3881096839904785\n",
            "Epoch [774/1000], Average Loss: 2.8183\n",
            "Average validation Loss: 2.3881096839904785\n",
            "Learning rate decayed. Updated LR is: 0.000050\n"
          ]
        },
        {
          "name": "stderr",
          "output_type": "stream",
          "text": [
            "100%|██████████| 10/10 [00:14<00:00,  1.43s/it]\n"
          ]
        },
        {
          "name": "stdout",
          "output_type": "stream",
          "text": [
            "Average validation Loss: 2.916532278060913\n",
            "Epoch [775/1000], Average Loss: 3.4782\n",
            "Average validation Loss: 2.916532278060913\n",
            "Learning rate decayed. Updated LR is: 0.000050\n"
          ]
        },
        {
          "name": "stderr",
          "output_type": "stream",
          "text": [
            "100%|██████████| 10/10 [00:14<00:00,  1.43s/it]\n"
          ]
        },
        {
          "name": "stdout",
          "output_type": "stream",
          "text": [
            "Average validation Loss: 2.003614902496338\n",
            "Epoch [776/1000], Average Loss: 3.0382\n",
            "Average validation Loss: 2.003614902496338\n",
            "Learning rate decayed. Updated LR is: 0.000050\n"
          ]
        },
        {
          "name": "stderr",
          "output_type": "stream",
          "text": [
            "100%|██████████| 10/10 [00:14<00:00,  1.43s/it]\n"
          ]
        },
        {
          "name": "stdout",
          "output_type": "stream",
          "text": [
            "Average validation Loss: 1.4045242071151733\n",
            "Epoch [777/1000], Average Loss: 2.8546\n",
            "Average validation Loss: 1.4045242071151733\n",
            "Learning rate decayed. Updated LR is: 0.000050\n"
          ]
        },
        {
          "name": "stderr",
          "output_type": "stream",
          "text": [
            "100%|██████████| 10/10 [00:14<00:00,  1.43s/it]\n"
          ]
        },
        {
          "name": "stdout",
          "output_type": "stream",
          "text": [
            "Average validation Loss: 1.6487977504730225\n",
            "Epoch [778/1000], Average Loss: 2.7710\n",
            "Average validation Loss: 1.6487977504730225\n",
            "Learning rate decayed. Updated LR is: 0.000049\n"
          ]
        },
        {
          "name": "stderr",
          "output_type": "stream",
          "text": [
            "100%|██████████| 10/10 [00:14<00:00,  1.43s/it]\n"
          ]
        },
        {
          "name": "stdout",
          "output_type": "stream",
          "text": [
            "Average validation Loss: 2.2281177043914795\n",
            "Epoch [779/1000], Average Loss: 2.8663\n",
            "Average validation Loss: 2.2281177043914795\n",
            "Learning rate decayed. Updated LR is: 0.000049\n"
          ]
        },
        {
          "name": "stderr",
          "output_type": "stream",
          "text": [
            "100%|██████████| 10/10 [00:14<00:00,  1.43s/it]\n"
          ]
        },
        {
          "name": "stdout",
          "output_type": "stream",
          "text": [
            "Average validation Loss: 4.6933488845825195\n",
            "Epoch [780/1000], Average Loss: 2.9301\n",
            "Average validation Loss: 4.6933488845825195\n",
            "Learning rate decayed. Updated LR is: 0.000049\n"
          ]
        },
        {
          "name": "stderr",
          "output_type": "stream",
          "text": [
            "100%|██████████| 10/10 [00:14<00:00,  1.44s/it]\n"
          ]
        },
        {
          "name": "stdout",
          "output_type": "stream",
          "text": [
            "Average validation Loss: 5.254527568817139\n",
            "Epoch [781/1000], Average Loss: 3.1167\n",
            "Average validation Loss: 5.254527568817139\n",
            "Learning rate decayed. Updated LR is: 0.000049\n"
          ]
        },
        {
          "name": "stderr",
          "output_type": "stream",
          "text": [
            "100%|██████████| 10/10 [00:14<00:00,  1.43s/it]\n"
          ]
        },
        {
          "name": "stdout",
          "output_type": "stream",
          "text": [
            "Average validation Loss: 1.485880732536316\n",
            "Epoch [782/1000], Average Loss: 2.5604\n",
            "Average validation Loss: 1.485880732536316\n",
            "Learning rate decayed. Updated LR is: 0.000048\n"
          ]
        },
        {
          "name": "stderr",
          "output_type": "stream",
          "text": [
            "100%|██████████| 10/10 [00:14<00:00,  1.43s/it]\n"
          ]
        },
        {
          "name": "stdout",
          "output_type": "stream",
          "text": [
            "Average validation Loss: 2.2079415321350098\n",
            "Epoch [783/1000], Average Loss: 2.7084\n",
            "Average validation Loss: 2.2079415321350098\n",
            "Learning rate decayed. Updated LR is: 0.000048\n"
          ]
        },
        {
          "name": "stderr",
          "output_type": "stream",
          "text": [
            "100%|██████████| 10/10 [00:14<00:00,  1.43s/it]\n"
          ]
        },
        {
          "name": "stdout",
          "output_type": "stream",
          "text": [
            "Average validation Loss: 1.2597522735595703\n",
            "Epoch [784/1000], Average Loss: 2.7074\n",
            "Average validation Loss: 1.2597522735595703\n",
            "Learning rate decayed. Updated LR is: 0.000048\n"
          ]
        },
        {
          "name": "stderr",
          "output_type": "stream",
          "text": [
            "100%|██████████| 10/10 [00:14<00:00,  1.43s/it]\n"
          ]
        },
        {
          "name": "stdout",
          "output_type": "stream",
          "text": [
            "Average validation Loss: 1.3365072011947632\n",
            "Epoch [785/1000], Average Loss: 2.5776\n",
            "Average validation Loss: 1.3365072011947632\n",
            "Learning rate decayed. Updated LR is: 0.000048\n"
          ]
        },
        {
          "name": "stderr",
          "output_type": "stream",
          "text": [
            "100%|██████████| 10/10 [00:14<00:00,  1.43s/it]\n"
          ]
        },
        {
          "name": "stdout",
          "output_type": "stream",
          "text": [
            "Average validation Loss: 1.6817421913146973\n",
            "Epoch [786/1000], Average Loss: 2.7057\n",
            "Average validation Loss: 1.6817421913146973\n",
            "Learning rate decayed. Updated LR is: 0.000048\n"
          ]
        },
        {
          "name": "stderr",
          "output_type": "stream",
          "text": [
            "100%|██████████| 10/10 [00:14<00:00,  1.43s/it]\n"
          ]
        },
        {
          "name": "stdout",
          "output_type": "stream",
          "text": [
            "Average validation Loss: 2.6808199882507324\n",
            "Epoch [787/1000], Average Loss: 2.7719\n",
            "Average validation Loss: 2.6808199882507324\n",
            "Learning rate decayed. Updated LR is: 0.000047\n"
          ]
        },
        {
          "name": "stderr",
          "output_type": "stream",
          "text": [
            "100%|██████████| 10/10 [00:14<00:00,  1.43s/it]\n"
          ]
        },
        {
          "name": "stdout",
          "output_type": "stream",
          "text": [
            "Average validation Loss: 1.648081660270691\n",
            "Epoch [788/1000], Average Loss: 2.6354\n",
            "Average validation Loss: 1.648081660270691\n",
            "Learning rate decayed. Updated LR is: 0.000047\n"
          ]
        },
        {
          "name": "stderr",
          "output_type": "stream",
          "text": [
            "100%|██████████| 10/10 [00:14<00:00,  1.43s/it]\n"
          ]
        },
        {
          "name": "stdout",
          "output_type": "stream",
          "text": [
            "Average validation Loss: 1.313114881515503\n",
            "Epoch [789/1000], Average Loss: 2.7020\n",
            "Average validation Loss: 1.313114881515503\n",
            "Learning rate decayed. Updated LR is: 0.000047\n"
          ]
        },
        {
          "name": "stderr",
          "output_type": "stream",
          "text": [
            "100%|██████████| 10/10 [00:14<00:00,  1.43s/it]\n"
          ]
        },
        {
          "name": "stdout",
          "output_type": "stream",
          "text": [
            "Average validation Loss: 1.6231011152267456\n",
            "Epoch [790/1000], Average Loss: 2.3924\n",
            "Average validation Loss: 1.6231011152267456\n",
            "Learning rate decayed. Updated LR is: 0.000047\n"
          ]
        },
        {
          "name": "stderr",
          "output_type": "stream",
          "text": [
            "100%|██████████| 10/10 [00:14<00:00,  1.43s/it]\n"
          ]
        },
        {
          "name": "stdout",
          "output_type": "stream",
          "text": [
            "Average validation Loss: 2.180516004562378\n",
            "Epoch [791/1000], Average Loss: 2.6725\n",
            "Average validation Loss: 2.180516004562378\n",
            "Learning rate decayed. Updated LR is: 0.000046\n"
          ]
        },
        {
          "name": "stderr",
          "output_type": "stream",
          "text": [
            "100%|██████████| 10/10 [00:14<00:00,  1.43s/it]\n"
          ]
        },
        {
          "name": "stdout",
          "output_type": "stream",
          "text": [
            "Average validation Loss: 0.8197134733200073\n",
            "Epoch [792/1000], Average Loss: 2.5213\n",
            "Average validation Loss: 0.8197134733200073\n",
            "Learning rate decayed. Updated LR is: 0.000046\n"
          ]
        },
        {
          "name": "stderr",
          "output_type": "stream",
          "text": [
            "100%|██████████| 10/10 [00:14<00:00,  1.43s/it]\n"
          ]
        },
        {
          "name": "stdout",
          "output_type": "stream",
          "text": [
            "Average validation Loss: 1.6171549558639526\n",
            "Epoch [793/1000], Average Loss: 2.3694\n",
            "Average validation Loss: 1.6171549558639526\n",
            "Learning rate decayed. Updated LR is: 0.000046\n"
          ]
        },
        {
          "name": "stderr",
          "output_type": "stream",
          "text": [
            "100%|██████████| 10/10 [00:14<00:00,  1.43s/it]\n"
          ]
        },
        {
          "name": "stdout",
          "output_type": "stream",
          "text": [
            "Average validation Loss: 0.8308382034301758\n",
            "Epoch [794/1000], Average Loss: 2.3420\n",
            "Average validation Loss: 0.8308382034301758\n",
            "Learning rate decayed. Updated LR is: 0.000046\n"
          ]
        },
        {
          "name": "stderr",
          "output_type": "stream",
          "text": [
            "100%|██████████| 10/10 [00:14<00:00,  1.43s/it]\n"
          ]
        },
        {
          "name": "stdout",
          "output_type": "stream",
          "text": [
            "Average validation Loss: 1.4961671829223633\n",
            "Epoch [795/1000], Average Loss: 2.4962\n",
            "Average validation Loss: 1.4961671829223633\n",
            "Learning rate decayed. Updated LR is: 0.000046\n"
          ]
        },
        {
          "name": "stderr",
          "output_type": "stream",
          "text": [
            "100%|██████████| 10/10 [00:14<00:00,  1.43s/it]\n"
          ]
        },
        {
          "name": "stdout",
          "output_type": "stream",
          "text": [
            "Average validation Loss: 1.6736011505126953\n",
            "Epoch [796/1000], Average Loss: 2.3609\n",
            "Average validation Loss: 1.6736011505126953\n",
            "Learning rate decayed. Updated LR is: 0.000045\n"
          ]
        },
        {
          "name": "stderr",
          "output_type": "stream",
          "text": [
            "100%|██████████| 10/10 [00:14<00:00,  1.44s/it]\n"
          ]
        },
        {
          "name": "stdout",
          "output_type": "stream",
          "text": [
            "Average validation Loss: 4.255404472351074\n",
            "Epoch [797/1000], Average Loss: 2.5467\n",
            "Average validation Loss: 4.255404472351074\n",
            "Learning rate decayed. Updated LR is: 0.000045\n"
          ]
        },
        {
          "name": "stderr",
          "output_type": "stream",
          "text": [
            "100%|██████████| 10/10 [00:14<00:00,  1.43s/it]\n"
          ]
        },
        {
          "name": "stdout",
          "output_type": "stream",
          "text": [
            "Average validation Loss: 6.2549662590026855\n",
            "Epoch [798/1000], Average Loss: 2.8621\n",
            "Average validation Loss: 6.2549662590026855\n",
            "Learning rate decayed. Updated LR is: 0.000045\n"
          ]
        },
        {
          "name": "stderr",
          "output_type": "stream",
          "text": [
            "100%|██████████| 10/10 [00:14<00:00,  1.43s/it]\n"
          ]
        },
        {
          "name": "stdout",
          "output_type": "stream",
          "text": [
            "Average validation Loss: 16.27103042602539\n",
            "Epoch [799/1000], Average Loss: 3.8403\n",
            "Average validation Loss: 16.27103042602539\n",
            "Learning rate decayed. Updated LR is: 0.000045\n"
          ]
        },
        {
          "name": "stderr",
          "output_type": "stream",
          "text": [
            "100%|██████████| 10/10 [00:14<00:00,  1.43s/it]\n"
          ]
        },
        {
          "name": "stdout",
          "output_type": "stream",
          "text": [
            "Average validation Loss: 2.163491725921631\n",
            "Epoch [800/1000], Average Loss: 2.4049\n",
            "Average validation Loss: 2.163491725921631\n",
            "Learning rate decayed. Updated LR is: 0.000044\n"
          ]
        },
        {
          "name": "stderr",
          "output_type": "stream",
          "text": [
            "100%|██████████| 10/10 [00:14<00:00,  1.43s/it]\n"
          ]
        },
        {
          "name": "stdout",
          "output_type": "stream",
          "text": [
            "Average validation Loss: 3.56143856048584\n",
            "Epoch [801/1000], Average Loss: 2.5958\n",
            "Average validation Loss: 3.56143856048584\n",
            "Learning rate decayed. Updated LR is: 0.000044\n"
          ]
        },
        {
          "name": "stderr",
          "output_type": "stream",
          "text": [
            "100%|██████████| 10/10 [00:14<00:00,  1.43s/it]\n"
          ]
        },
        {
          "name": "stdout",
          "output_type": "stream",
          "text": [
            "Average validation Loss: 2.10925555229187\n",
            "Epoch [802/1000], Average Loss: 2.3397\n",
            "Average validation Loss: 2.10925555229187\n",
            "Learning rate decayed. Updated LR is: 0.000044\n"
          ]
        },
        {
          "name": "stderr",
          "output_type": "stream",
          "text": [
            "100%|██████████| 10/10 [00:14<00:00,  1.43s/it]\n"
          ]
        },
        {
          "name": "stdout",
          "output_type": "stream",
          "text": [
            "Average validation Loss: 1.2521827220916748\n",
            "Epoch [803/1000], Average Loss: 2.3787\n",
            "Average validation Loss: 1.2521827220916748\n",
            "Learning rate decayed. Updated LR is: 0.000044\n"
          ]
        },
        {
          "name": "stderr",
          "output_type": "stream",
          "text": [
            "100%|██████████| 10/10 [00:14<00:00,  1.43s/it]\n"
          ]
        },
        {
          "name": "stdout",
          "output_type": "stream",
          "text": [
            "Average validation Loss: 1.628775954246521\n",
            "Epoch [804/1000], Average Loss: 2.2016\n",
            "Average validation Loss: 1.628775954246521\n",
            "Learning rate decayed. Updated LR is: 0.000044\n"
          ]
        },
        {
          "name": "stderr",
          "output_type": "stream",
          "text": [
            "100%|██████████| 10/10 [00:14<00:00,  1.43s/it]\n"
          ]
        },
        {
          "name": "stdout",
          "output_type": "stream",
          "text": [
            "Average validation Loss: 3.631682872772217\n",
            "Epoch [805/1000], Average Loss: 2.3658\n",
            "Average validation Loss: 3.631682872772217\n",
            "Learning rate decayed. Updated LR is: 0.000043\n"
          ]
        },
        {
          "name": "stderr",
          "output_type": "stream",
          "text": [
            "100%|██████████| 10/10 [00:14<00:00,  1.43s/it]\n"
          ]
        },
        {
          "name": "stdout",
          "output_type": "stream",
          "text": [
            "Average validation Loss: 1.2366780042648315\n",
            "Epoch [806/1000], Average Loss: 2.1760\n",
            "Average validation Loss: 1.2366780042648315\n",
            "Learning rate decayed. Updated LR is: 0.000043\n"
          ]
        },
        {
          "name": "stderr",
          "output_type": "stream",
          "text": [
            "100%|██████████| 10/10 [00:14<00:00,  1.43s/it]\n"
          ]
        },
        {
          "name": "stdout",
          "output_type": "stream",
          "text": [
            "Average validation Loss: 2.551910877227783\n",
            "Epoch [807/1000], Average Loss: 2.4517\n",
            "Average validation Loss: 2.551910877227783\n",
            "Learning rate decayed. Updated LR is: 0.000043\n"
          ]
        },
        {
          "name": "stderr",
          "output_type": "stream",
          "text": [
            "100%|██████████| 10/10 [00:14<00:00,  1.43s/it]\n"
          ]
        },
        {
          "name": "stdout",
          "output_type": "stream",
          "text": [
            "Average validation Loss: 1.4216035604476929\n",
            "Epoch [808/1000], Average Loss: 2.4070\n",
            "Average validation Loss: 1.4216035604476929\n",
            "Learning rate decayed. Updated LR is: 0.000043\n"
          ]
        },
        {
          "name": "stderr",
          "output_type": "stream",
          "text": [
            "100%|██████████| 10/10 [00:14<00:00,  1.43s/it]\n"
          ]
        },
        {
          "name": "stdout",
          "output_type": "stream",
          "text": [
            "Average validation Loss: 1.258845567703247\n",
            "Epoch [809/1000], Average Loss: 2.1331\n",
            "Average validation Loss: 1.258845567703247\n",
            "Learning rate decayed. Updated LR is: 0.000042\n"
          ]
        },
        {
          "name": "stderr",
          "output_type": "stream",
          "text": [
            "100%|██████████| 10/10 [00:14<00:00,  1.43s/it]\n"
          ]
        },
        {
          "name": "stdout",
          "output_type": "stream",
          "text": [
            "Average validation Loss: 1.2171919345855713\n",
            "Epoch [810/1000], Average Loss: 2.2580\n",
            "Average validation Loss: 1.2171919345855713\n",
            "Learning rate decayed. Updated LR is: 0.000042\n"
          ]
        },
        {
          "name": "stderr",
          "output_type": "stream",
          "text": [
            "100%|██████████| 10/10 [00:14<00:00,  1.43s/it]\n"
          ]
        },
        {
          "name": "stdout",
          "output_type": "stream",
          "text": [
            "Average validation Loss: 1.1857331991195679\n",
            "Epoch [811/1000], Average Loss: 2.1050\n",
            "Average validation Loss: 1.1857331991195679\n",
            "Learning rate decayed. Updated LR is: 0.000042\n"
          ]
        },
        {
          "name": "stderr",
          "output_type": "stream",
          "text": [
            "100%|██████████| 10/10 [00:14<00:00,  1.43s/it]\n"
          ]
        },
        {
          "name": "stdout",
          "output_type": "stream",
          "text": [
            "Average validation Loss: 1.909873366355896\n",
            "Epoch [812/1000], Average Loss: 2.1875\n",
            "Average validation Loss: 1.909873366355896\n",
            "Learning rate decayed. Updated LR is: 0.000042\n"
          ]
        },
        {
          "name": "stderr",
          "output_type": "stream",
          "text": [
            "100%|██████████| 10/10 [00:14<00:00,  1.43s/it]\n"
          ]
        },
        {
          "name": "stdout",
          "output_type": "stream",
          "text": [
            "Average validation Loss: 5.440286159515381\n",
            "Epoch [813/1000], Average Loss: 2.5161\n",
            "Average validation Loss: 5.440286159515381\n",
            "Learning rate decayed. Updated LR is: 0.000042\n"
          ]
        },
        {
          "name": "stderr",
          "output_type": "stream",
          "text": [
            "100%|██████████| 10/10 [00:14<00:00,  1.43s/it]\n"
          ]
        },
        {
          "name": "stdout",
          "output_type": "stream",
          "text": [
            "Average validation Loss: 2.0621612071990967\n",
            "Epoch [814/1000], Average Loss: 2.6630\n",
            "Average validation Loss: 2.0621612071990967\n",
            "Learning rate decayed. Updated LR is: 0.000041\n"
          ]
        },
        {
          "name": "stderr",
          "output_type": "stream",
          "text": [
            "100%|██████████| 10/10 [00:14<00:00,  1.43s/it]\n"
          ]
        },
        {
          "name": "stdout",
          "output_type": "stream",
          "text": [
            "Average validation Loss: 6.746007442474365\n",
            "Epoch [815/1000], Average Loss: 2.6491\n",
            "Average validation Loss: 6.746007442474365\n",
            "Learning rate decayed. Updated LR is: 0.000041\n"
          ]
        },
        {
          "name": "stderr",
          "output_type": "stream",
          "text": [
            "100%|██████████| 10/10 [00:14<00:00,  1.43s/it]\n"
          ]
        },
        {
          "name": "stdout",
          "output_type": "stream",
          "text": [
            "Average validation Loss: 1.3360803127288818\n",
            "Epoch [816/1000], Average Loss: 2.3414\n",
            "Average validation Loss: 1.3360803127288818\n",
            "Learning rate decayed. Updated LR is: 0.000041\n"
          ]
        },
        {
          "name": "stderr",
          "output_type": "stream",
          "text": [
            "100%|██████████| 10/10 [00:14<00:00,  1.43s/it]\n"
          ]
        },
        {
          "name": "stdout",
          "output_type": "stream",
          "text": [
            "Average validation Loss: 1.4662983417510986\n",
            "Epoch [817/1000], Average Loss: 2.2558\n",
            "Average validation Loss: 1.4662983417510986\n",
            "Learning rate decayed. Updated LR is: 0.000041\n"
          ]
        },
        {
          "name": "stderr",
          "output_type": "stream",
          "text": [
            "100%|██████████| 10/10 [00:14<00:00,  1.43s/it]\n"
          ]
        },
        {
          "name": "stdout",
          "output_type": "stream",
          "text": [
            "Average validation Loss: 1.8480114936828613\n",
            "Epoch [818/1000], Average Loss: 2.2156\n",
            "Average validation Loss: 1.8480114936828613\n",
            "Learning rate decayed. Updated LR is: 0.000040\n"
          ]
        },
        {
          "name": "stderr",
          "output_type": "stream",
          "text": [
            "100%|██████████| 10/10 [00:14<00:00,  1.43s/it]\n"
          ]
        },
        {
          "name": "stdout",
          "output_type": "stream",
          "text": [
            "Average validation Loss: 0.9416986703872681\n",
            "Epoch [819/1000], Average Loss: 2.0806\n",
            "Average validation Loss: 0.9416986703872681\n",
            "Learning rate decayed. Updated LR is: 0.000040\n"
          ]
        },
        {
          "name": "stderr",
          "output_type": "stream",
          "text": [
            "100%|██████████| 10/10 [00:14<00:00,  1.43s/it]\n"
          ]
        },
        {
          "name": "stdout",
          "output_type": "stream",
          "text": [
            "Average validation Loss: 2.8249528408050537\n",
            "Epoch [820/1000], Average Loss: 2.1339\n",
            "Average validation Loss: 2.8249528408050537\n",
            "Learning rate decayed. Updated LR is: 0.000040\n"
          ]
        },
        {
          "name": "stderr",
          "output_type": "stream",
          "text": [
            "100%|██████████| 10/10 [00:14<00:00,  1.43s/it]\n"
          ]
        },
        {
          "name": "stdout",
          "output_type": "stream",
          "text": [
            "Average validation Loss: 4.172950267791748\n",
            "Epoch [821/1000], Average Loss: 2.3863\n",
            "Average validation Loss: 4.172950267791748\n",
            "Learning rate decayed. Updated LR is: 0.000040\n"
          ]
        },
        {
          "name": "stderr",
          "output_type": "stream",
          "text": [
            "100%|██████████| 10/10 [00:14<00:00,  1.43s/it]\n"
          ]
        },
        {
          "name": "stdout",
          "output_type": "stream",
          "text": [
            "Average validation Loss: 2.5402398109436035\n",
            "Epoch [822/1000], Average Loss: 2.2873\n",
            "Average validation Loss: 2.5402398109436035\n",
            "Learning rate decayed. Updated LR is: 0.000040\n"
          ]
        },
        {
          "name": "stderr",
          "output_type": "stream",
          "text": [
            "100%|██████████| 10/10 [00:14<00:00,  1.43s/it]\n"
          ]
        },
        {
          "name": "stdout",
          "output_type": "stream",
          "text": [
            "Average validation Loss: 1.0997552871704102\n",
            "Epoch [823/1000], Average Loss: 2.1518\n",
            "Average validation Loss: 1.0997552871704102\n",
            "Learning rate decayed. Updated LR is: 0.000039\n"
          ]
        },
        {
          "name": "stderr",
          "output_type": "stream",
          "text": [
            "100%|██████████| 10/10 [00:14<00:00,  1.43s/it]\n"
          ]
        },
        {
          "name": "stdout",
          "output_type": "stream",
          "text": [
            "Average validation Loss: 1.4637173414230347\n",
            "Epoch [824/1000], Average Loss: 2.2346\n",
            "Average validation Loss: 1.4637173414230347\n",
            "Learning rate decayed. Updated LR is: 0.000039\n"
          ]
        },
        {
          "name": "stderr",
          "output_type": "stream",
          "text": [
            "100%|██████████| 10/10 [00:14<00:00,  1.43s/it]\n"
          ]
        },
        {
          "name": "stdout",
          "output_type": "stream",
          "text": [
            "Average validation Loss: 3.058504104614258\n",
            "Epoch [825/1000], Average Loss: 2.2826\n",
            "Average validation Loss: 3.058504104614258\n",
            "Learning rate decayed. Updated LR is: 0.000039\n"
          ]
        },
        {
          "name": "stderr",
          "output_type": "stream",
          "text": [
            "100%|██████████| 10/10 [00:14<00:00,  1.43s/it]\n"
          ]
        },
        {
          "name": "stdout",
          "output_type": "stream",
          "text": [
            "Average validation Loss: 0.767951488494873\n",
            "Epoch [826/1000], Average Loss: 2.2293\n",
            "Average validation Loss: 0.767951488494873\n",
            "Learning rate decayed. Updated LR is: 0.000039\n"
          ]
        },
        {
          "name": "stderr",
          "output_type": "stream",
          "text": [
            "100%|██████████| 10/10 [00:14<00:00,  1.43s/it]\n"
          ]
        },
        {
          "name": "stdout",
          "output_type": "stream",
          "text": [
            "Average validation Loss: 1.2249882221221924\n",
            "Epoch [827/1000], Average Loss: 2.5394\n",
            "Average validation Loss: 1.2249882221221924\n",
            "Learning rate decayed. Updated LR is: 0.000038\n"
          ]
        },
        {
          "name": "stderr",
          "output_type": "stream",
          "text": [
            "100%|██████████| 10/10 [00:14<00:00,  1.43s/it]\n"
          ]
        },
        {
          "name": "stdout",
          "output_type": "stream",
          "text": [
            "Average validation Loss: 1.8713176250457764\n",
            "Epoch [828/1000], Average Loss: 2.5582\n",
            "Average validation Loss: 1.8713176250457764\n",
            "Learning rate decayed. Updated LR is: 0.000038\n"
          ]
        },
        {
          "name": "stderr",
          "output_type": "stream",
          "text": [
            "100%|██████████| 10/10 [00:14<00:00,  1.43s/it]\n"
          ]
        },
        {
          "name": "stdout",
          "output_type": "stream",
          "text": [
            "Average validation Loss: 4.143588066101074\n",
            "Epoch [829/1000], Average Loss: 2.6916\n",
            "Average validation Loss: 4.143588066101074\n",
            "Learning rate decayed. Updated LR is: 0.000038\n"
          ]
        },
        {
          "name": "stderr",
          "output_type": "stream",
          "text": [
            "100%|██████████| 10/10 [00:14<00:00,  1.43s/it]\n"
          ]
        },
        {
          "name": "stdout",
          "output_type": "stream",
          "text": [
            "Average validation Loss: 2.564396858215332\n",
            "Epoch [830/1000], Average Loss: 2.4751\n",
            "Average validation Loss: 2.564396858215332\n",
            "Learning rate decayed. Updated LR is: 0.000038\n"
          ]
        },
        {
          "name": "stderr",
          "output_type": "stream",
          "text": [
            "100%|██████████| 10/10 [00:14<00:00,  1.43s/it]\n"
          ]
        },
        {
          "name": "stdout",
          "output_type": "stream",
          "text": [
            "Average validation Loss: 1.340381383895874\n",
            "Epoch [831/1000], Average Loss: 2.2221\n",
            "Average validation Loss: 1.340381383895874\n",
            "Learning rate decayed. Updated LR is: 0.000038\n"
          ]
        },
        {
          "name": "stderr",
          "output_type": "stream",
          "text": [
            "100%|██████████| 10/10 [00:14<00:00,  1.43s/it]\n"
          ]
        },
        {
          "name": "stdout",
          "output_type": "stream",
          "text": [
            "Average validation Loss: 1.9224576950073242\n",
            "Epoch [832/1000], Average Loss: 2.4039\n",
            "Average validation Loss: 1.9224576950073242\n",
            "Learning rate decayed. Updated LR is: 0.000037\n"
          ]
        },
        {
          "name": "stderr",
          "output_type": "stream",
          "text": [
            "100%|██████████| 10/10 [00:14<00:00,  1.43s/it]\n"
          ]
        },
        {
          "name": "stdout",
          "output_type": "stream",
          "text": [
            "Average validation Loss: 1.3345937728881836\n",
            "Epoch [833/1000], Average Loss: 2.3251\n",
            "Average validation Loss: 1.3345937728881836\n",
            "Learning rate decayed. Updated LR is: 0.000037\n"
          ]
        },
        {
          "name": "stderr",
          "output_type": "stream",
          "text": [
            "100%|██████████| 10/10 [00:14<00:00,  1.43s/it]\n"
          ]
        },
        {
          "name": "stdout",
          "output_type": "stream",
          "text": [
            "Average validation Loss: 1.4164098501205444\n",
            "Epoch [834/1000], Average Loss: 2.1546\n",
            "Average validation Loss: 1.4164098501205444\n",
            "Learning rate decayed. Updated LR is: 0.000037\n"
          ]
        },
        {
          "name": "stderr",
          "output_type": "stream",
          "text": [
            "100%|██████████| 10/10 [00:14<00:00,  1.43s/it]\n"
          ]
        },
        {
          "name": "stdout",
          "output_type": "stream",
          "text": [
            "Average validation Loss: 2.5013341903686523\n",
            "Epoch [835/1000], Average Loss: 2.2634\n",
            "Average validation Loss: 2.5013341903686523\n",
            "Learning rate decayed. Updated LR is: 0.000037\n"
          ]
        },
        {
          "name": "stderr",
          "output_type": "stream",
          "text": [
            "100%|██████████| 10/10 [00:14<00:00,  1.43s/it]\n"
          ]
        },
        {
          "name": "stdout",
          "output_type": "stream",
          "text": [
            "Average validation Loss: 0.9443273544311523\n",
            "Epoch [836/1000], Average Loss: 2.2519\n",
            "Average validation Loss: 0.9443273544311523\n",
            "Learning rate decayed. Updated LR is: 0.000036\n"
          ]
        },
        {
          "name": "stderr",
          "output_type": "stream",
          "text": [
            "100%|██████████| 10/10 [00:14<00:00,  1.43s/it]\n"
          ]
        },
        {
          "name": "stdout",
          "output_type": "stream",
          "text": [
            "Average validation Loss: 2.545337200164795\n",
            "Epoch [837/1000], Average Loss: 2.2255\n",
            "Average validation Loss: 2.545337200164795\n",
            "Learning rate decayed. Updated LR is: 0.000036\n"
          ]
        },
        {
          "name": "stderr",
          "output_type": "stream",
          "text": [
            "100%|██████████| 10/10 [00:14<00:00,  1.43s/it]\n"
          ]
        },
        {
          "name": "stdout",
          "output_type": "stream",
          "text": [
            "Average validation Loss: 5.337012767791748\n",
            "Epoch [838/1000], Average Loss: 2.4906\n",
            "Average validation Loss: 5.337012767791748\n",
            "Learning rate decayed. Updated LR is: 0.000036\n"
          ]
        },
        {
          "name": "stderr",
          "output_type": "stream",
          "text": [
            "100%|██████████| 10/10 [00:14<00:00,  1.43s/it]\n"
          ]
        },
        {
          "name": "stdout",
          "output_type": "stream",
          "text": [
            "Average validation Loss: 2.0697219371795654\n",
            "Epoch [839/1000], Average Loss: 2.5387\n",
            "Average validation Loss: 2.0697219371795654\n",
            "Learning rate decayed. Updated LR is: 0.000036\n"
          ]
        },
        {
          "name": "stderr",
          "output_type": "stream",
          "text": [
            "100%|██████████| 10/10 [00:14<00:00,  1.43s/it]\n"
          ]
        },
        {
          "name": "stdout",
          "output_type": "stream",
          "text": [
            "Average validation Loss: 1.3278448581695557\n",
            "Epoch [840/1000], Average Loss: 2.5112\n",
            "Average validation Loss: 1.3278448581695557\n",
            "Learning rate decayed. Updated LR is: 0.000036\n"
          ]
        },
        {
          "name": "stderr",
          "output_type": "stream",
          "text": [
            "100%|██████████| 10/10 [00:14<00:00,  1.43s/it]\n"
          ]
        },
        {
          "name": "stdout",
          "output_type": "stream",
          "text": [
            "Average validation Loss: 4.061236381530762\n",
            "Epoch [841/1000], Average Loss: 2.2688\n",
            "Average validation Loss: 4.061236381530762\n",
            "Learning rate decayed. Updated LR is: 0.000035\n"
          ]
        },
        {
          "name": "stderr",
          "output_type": "stream",
          "text": [
            "100%|██████████| 10/10 [00:14<00:00,  1.43s/it]\n"
          ]
        },
        {
          "name": "stdout",
          "output_type": "stream",
          "text": [
            "Average validation Loss: 1.3355735540390015\n",
            "Epoch [842/1000], Average Loss: 2.0736\n",
            "Average validation Loss: 1.3355735540390015\n",
            "Learning rate decayed. Updated LR is: 0.000035\n"
          ]
        },
        {
          "name": "stderr",
          "output_type": "stream",
          "text": [
            "100%|██████████| 10/10 [00:14<00:00,  1.43s/it]\n"
          ]
        },
        {
          "name": "stdout",
          "output_type": "stream",
          "text": [
            "Average validation Loss: 1.9602141380310059\n",
            "Epoch [843/1000], Average Loss: 2.1338\n",
            "Average validation Loss: 1.9602141380310059\n",
            "Learning rate decayed. Updated LR is: 0.000035\n"
          ]
        },
        {
          "name": "stderr",
          "output_type": "stream",
          "text": [
            "100%|██████████| 10/10 [00:14<00:00,  1.43s/it]\n"
          ]
        },
        {
          "name": "stdout",
          "output_type": "stream",
          "text": [
            "Average validation Loss: 3.047250509262085\n",
            "Epoch [844/1000], Average Loss: 2.1128\n",
            "Average validation Loss: 3.047250509262085\n",
            "Learning rate decayed. Updated LR is: 0.000035\n"
          ]
        },
        {
          "name": "stderr",
          "output_type": "stream",
          "text": [
            "100%|██████████| 10/10 [00:14<00:00,  1.43s/it]\n"
          ]
        },
        {
          "name": "stdout",
          "output_type": "stream",
          "text": [
            "Average validation Loss: 2.4217681884765625\n",
            "Epoch [845/1000], Average Loss: 2.1749\n",
            "Average validation Loss: 2.4217681884765625\n",
            "Learning rate decayed. Updated LR is: 0.000034\n"
          ]
        },
        {
          "name": "stderr",
          "output_type": "stream",
          "text": [
            "100%|██████████| 10/10 [00:14<00:00,  1.44s/it]\n"
          ]
        },
        {
          "name": "stdout",
          "output_type": "stream",
          "text": [
            "Average validation Loss: 3.202435255050659\n",
            "Epoch [846/1000], Average Loss: 2.1933\n",
            "Average validation Loss: 3.202435255050659\n",
            "Learning rate decayed. Updated LR is: 0.000034\n"
          ]
        },
        {
          "name": "stderr",
          "output_type": "stream",
          "text": [
            "100%|██████████| 10/10 [00:14<00:00,  1.43s/it]\n"
          ]
        },
        {
          "name": "stdout",
          "output_type": "stream",
          "text": [
            "Average validation Loss: 3.49336314201355\n",
            "Epoch [847/1000], Average Loss: 2.2315\n",
            "Average validation Loss: 3.49336314201355\n",
            "Learning rate decayed. Updated LR is: 0.000034\n"
          ]
        },
        {
          "name": "stderr",
          "output_type": "stream",
          "text": [
            "100%|██████████| 10/10 [00:14<00:00,  1.43s/it]\n"
          ]
        },
        {
          "name": "stdout",
          "output_type": "stream",
          "text": [
            "Average validation Loss: 0.9692103266716003\n",
            "Epoch [848/1000], Average Loss: 2.0660\n",
            "Average validation Loss: 0.9692103266716003\n",
            "Learning rate decayed. Updated LR is: 0.000034\n"
          ]
        },
        {
          "name": "stderr",
          "output_type": "stream",
          "text": [
            "100%|██████████| 10/10 [00:14<00:00,  1.43s/it]\n"
          ]
        },
        {
          "name": "stdout",
          "output_type": "stream",
          "text": [
            "Average validation Loss: 4.004031181335449\n",
            "Epoch [849/1000], Average Loss: 2.2010\n",
            "Average validation Loss: 4.004031181335449\n",
            "Learning rate decayed. Updated LR is: 0.000034\n"
          ]
        },
        {
          "name": "stderr",
          "output_type": "stream",
          "text": [
            "100%|██████████| 10/10 [00:14<00:00,  1.43s/it]\n"
          ]
        },
        {
          "name": "stdout",
          "output_type": "stream",
          "text": [
            "Average validation Loss: 1.1227034330368042\n",
            "Epoch [850/1000], Average Loss: 2.1971\n",
            "Average validation Loss: 1.1227034330368042\n",
            "Learning rate decayed. Updated LR is: 0.000033\n"
          ]
        },
        {
          "name": "stderr",
          "output_type": "stream",
          "text": [
            "100%|██████████| 10/10 [00:14<00:00,  1.43s/it]\n"
          ]
        },
        {
          "name": "stdout",
          "output_type": "stream",
          "text": [
            "Average validation Loss: 1.2617013454437256\n",
            "Epoch [851/1000], Average Loss: 1.9519\n",
            "Average validation Loss: 1.2617013454437256\n",
            "Learning rate decayed. Updated LR is: 0.000033\n"
          ]
        },
        {
          "name": "stderr",
          "output_type": "stream",
          "text": [
            "100%|██████████| 10/10 [00:14<00:00,  1.43s/it]\n"
          ]
        },
        {
          "name": "stdout",
          "output_type": "stream",
          "text": [
            "Average validation Loss: 2.0299441814422607\n",
            "Epoch [852/1000], Average Loss: 2.3225\n",
            "Average validation Loss: 2.0299441814422607\n",
            "Learning rate decayed. Updated LR is: 0.000033\n"
          ]
        },
        {
          "name": "stderr",
          "output_type": "stream",
          "text": [
            "100%|██████████| 10/10 [00:14<00:00,  1.43s/it]\n"
          ]
        },
        {
          "name": "stdout",
          "output_type": "stream",
          "text": [
            "Average validation Loss: 0.7313019037246704\n",
            "Epoch [853/1000], Average Loss: 1.9909\n",
            "Average validation Loss: 0.7313019037246704\n",
            "Learning rate decayed. Updated LR is: 0.000033\n"
          ]
        },
        {
          "name": "stderr",
          "output_type": "stream",
          "text": [
            "100%|██████████| 10/10 [00:14<00:00,  1.43s/it]\n"
          ]
        },
        {
          "name": "stdout",
          "output_type": "stream",
          "text": [
            "Average validation Loss: 2.29422664642334\n",
            "Epoch [854/1000], Average Loss: 2.1798\n",
            "Average validation Loss: 2.29422664642334\n",
            "Learning rate decayed. Updated LR is: 0.000032\n"
          ]
        },
        {
          "name": "stderr",
          "output_type": "stream",
          "text": [
            "100%|██████████| 10/10 [00:14<00:00,  1.43s/it]\n"
          ]
        },
        {
          "name": "stdout",
          "output_type": "stream",
          "text": [
            "Average validation Loss: 3.949819564819336\n",
            "Epoch [855/1000], Average Loss: 2.1607\n",
            "Average validation Loss: 3.949819564819336\n",
            "Learning rate decayed. Updated LR is: 0.000032\n"
          ]
        },
        {
          "name": "stderr",
          "output_type": "stream",
          "text": [
            "100%|██████████| 10/10 [00:14<00:00,  1.43s/it]\n"
          ]
        },
        {
          "name": "stdout",
          "output_type": "stream",
          "text": [
            "Average validation Loss: 0.9352161288261414\n",
            "Epoch [856/1000], Average Loss: 1.9926\n",
            "Average validation Loss: 0.9352161288261414\n",
            "Learning rate decayed. Updated LR is: 0.000032\n"
          ]
        },
        {
          "name": "stderr",
          "output_type": "stream",
          "text": [
            "100%|██████████| 10/10 [00:14<00:00,  1.43s/it]\n"
          ]
        },
        {
          "name": "stdout",
          "output_type": "stream",
          "text": [
            "Average validation Loss: 1.3814094066619873\n",
            "Epoch [857/1000], Average Loss: 2.1663\n",
            "Average validation Loss: 1.3814094066619873\n",
            "Learning rate decayed. Updated LR is: 0.000032\n"
          ]
        },
        {
          "name": "stderr",
          "output_type": "stream",
          "text": [
            "100%|██████████| 10/10 [00:14<00:00,  1.43s/it]\n"
          ]
        },
        {
          "name": "stdout",
          "output_type": "stream",
          "text": [
            "Average validation Loss: 1.1942980289459229\n",
            "Epoch [858/1000], Average Loss: 1.9967\n",
            "Average validation Loss: 1.1942980289459229\n",
            "Learning rate decayed. Updated LR is: 0.000032\n"
          ]
        },
        {
          "name": "stderr",
          "output_type": "stream",
          "text": [
            "100%|██████████| 10/10 [00:14<00:00,  1.43s/it]\n"
          ]
        },
        {
          "name": "stdout",
          "output_type": "stream",
          "text": [
            "Average validation Loss: 0.9750049114227295\n",
            "Epoch [859/1000], Average Loss: 2.0177\n",
            "Average validation Loss: 0.9750049114227295\n",
            "Learning rate decayed. Updated LR is: 0.000031\n"
          ]
        },
        {
          "name": "stderr",
          "output_type": "stream",
          "text": [
            "100%|██████████| 10/10 [00:14<00:00,  1.43s/it]\n"
          ]
        },
        {
          "name": "stdout",
          "output_type": "stream",
          "text": [
            "Average validation Loss: 1.2562483549118042\n",
            "Epoch [860/1000], Average Loss: 1.9201\n",
            "Average validation Loss: 1.2562483549118042\n",
            "Learning rate decayed. Updated LR is: 0.000031\n"
          ]
        },
        {
          "name": "stderr",
          "output_type": "stream",
          "text": [
            "100%|██████████| 10/10 [00:14<00:00,  1.43s/it]\n"
          ]
        },
        {
          "name": "stdout",
          "output_type": "stream",
          "text": [
            "Average validation Loss: 1.067748785018921\n",
            "Epoch [861/1000], Average Loss: 2.1214\n",
            "Average validation Loss: 1.067748785018921\n",
            "Learning rate decayed. Updated LR is: 0.000031\n"
          ]
        },
        {
          "name": "stderr",
          "output_type": "stream",
          "text": [
            "100%|██████████| 10/10 [00:14<00:00,  1.43s/it]\n"
          ]
        },
        {
          "name": "stdout",
          "output_type": "stream",
          "text": [
            "Average validation Loss: 1.4959807395935059\n",
            "Epoch [862/1000], Average Loss: 1.9820\n",
            "Average validation Loss: 1.4959807395935059\n",
            "Learning rate decayed. Updated LR is: 0.000031\n"
          ]
        },
        {
          "name": "stderr",
          "output_type": "stream",
          "text": [
            "100%|██████████| 10/10 [00:14<00:00,  1.43s/it]\n"
          ]
        },
        {
          "name": "stdout",
          "output_type": "stream",
          "text": [
            "Average validation Loss: 2.3571934700012207\n",
            "Epoch [863/1000], Average Loss: 2.0716\n",
            "Average validation Loss: 2.3571934700012207\n",
            "Learning rate decayed. Updated LR is: 0.000030\n"
          ]
        },
        {
          "name": "stderr",
          "output_type": "stream",
          "text": [
            "100%|██████████| 10/10 [00:14<00:00,  1.43s/it]\n"
          ]
        },
        {
          "name": "stdout",
          "output_type": "stream",
          "text": [
            "Average validation Loss: 1.0473849773406982\n",
            "Epoch [864/1000], Average Loss: 1.9405\n",
            "Average validation Loss: 1.0473849773406982\n",
            "Learning rate decayed. Updated LR is: 0.000030\n"
          ]
        },
        {
          "name": "stderr",
          "output_type": "stream",
          "text": [
            "100%|██████████| 10/10 [00:14<00:00,  1.43s/it]\n"
          ]
        },
        {
          "name": "stdout",
          "output_type": "stream",
          "text": [
            "Average validation Loss: 1.1617658138275146\n",
            "Epoch [865/1000], Average Loss: 1.9581\n",
            "Average validation Loss: 1.1617658138275146\n",
            "Learning rate decayed. Updated LR is: 0.000030\n"
          ]
        },
        {
          "name": "stderr",
          "output_type": "stream",
          "text": [
            "100%|██████████| 10/10 [00:14<00:00,  1.43s/it]\n"
          ]
        },
        {
          "name": "stdout",
          "output_type": "stream",
          "text": [
            "Average validation Loss: 5.173377513885498\n",
            "Epoch [866/1000], Average Loss: 2.3389\n",
            "Average validation Loss: 5.173377513885498\n",
            "Learning rate decayed. Updated LR is: 0.000030\n"
          ]
        },
        {
          "name": "stderr",
          "output_type": "stream",
          "text": [
            "100%|██████████| 10/10 [00:14<00:00,  1.43s/it]\n"
          ]
        },
        {
          "name": "stdout",
          "output_type": "stream",
          "text": [
            "Average validation Loss: 1.553057074546814\n",
            "Epoch [867/1000], Average Loss: 2.2767\n",
            "Average validation Loss: 1.553057074546814\n",
            "Learning rate decayed. Updated LR is: 0.000030\n"
          ]
        },
        {
          "name": "stderr",
          "output_type": "stream",
          "text": [
            "100%|██████████| 10/10 [00:14<00:00,  1.43s/it]\n"
          ]
        },
        {
          "name": "stdout",
          "output_type": "stream",
          "text": [
            "Average validation Loss: 1.334146499633789\n",
            "Epoch [868/1000], Average Loss: 2.0461\n",
            "Average validation Loss: 1.334146499633789\n",
            "Learning rate decayed. Updated LR is: 0.000029\n"
          ]
        },
        {
          "name": "stderr",
          "output_type": "stream",
          "text": [
            "100%|██████████| 10/10 [00:14<00:00,  1.43s/it]\n"
          ]
        },
        {
          "name": "stdout",
          "output_type": "stream",
          "text": [
            "Average validation Loss: 0.9907029867172241\n",
            "Epoch [869/1000], Average Loss: 1.9549\n",
            "Average validation Loss: 0.9907029867172241\n",
            "Learning rate decayed. Updated LR is: 0.000029\n"
          ]
        },
        {
          "name": "stderr",
          "output_type": "stream",
          "text": [
            "100%|██████████| 10/10 [00:14<00:00,  1.43s/it]\n"
          ]
        },
        {
          "name": "stdout",
          "output_type": "stream",
          "text": [
            "Average validation Loss: 1.6833466291427612\n",
            "Epoch [870/1000], Average Loss: 2.1288\n",
            "Average validation Loss: 1.6833466291427612\n",
            "Learning rate decayed. Updated LR is: 0.000029\n"
          ]
        },
        {
          "name": "stderr",
          "output_type": "stream",
          "text": [
            "100%|██████████| 10/10 [00:14<00:00,  1.43s/it]\n"
          ]
        },
        {
          "name": "stdout",
          "output_type": "stream",
          "text": [
            "Average validation Loss: 0.628804087638855\n",
            "Epoch [871/1000], Average Loss: 1.9413\n",
            "Average validation Loss: 0.628804087638855\n",
            "Learning rate decayed. Updated LR is: 0.000029\n"
          ]
        },
        {
          "name": "stderr",
          "output_type": "stream",
          "text": [
            "100%|██████████| 10/10 [00:14<00:00,  1.43s/it]\n"
          ]
        },
        {
          "name": "stdout",
          "output_type": "stream",
          "text": [
            "Average validation Loss: 1.7627217769622803\n",
            "Epoch [872/1000], Average Loss: 2.1267\n",
            "Average validation Loss: 1.7627217769622803\n",
            "Learning rate decayed. Updated LR is: 0.000028\n"
          ]
        },
        {
          "name": "stderr",
          "output_type": "stream",
          "text": [
            "100%|██████████| 10/10 [00:14<00:00,  1.43s/it]\n"
          ]
        },
        {
          "name": "stdout",
          "output_type": "stream",
          "text": [
            "Average validation Loss: 0.7202141284942627\n",
            "Epoch [873/1000], Average Loss: 2.0424\n",
            "Average validation Loss: 0.7202141284942627\n",
            "Learning rate decayed. Updated LR is: 0.000028\n"
          ]
        },
        {
          "name": "stderr",
          "output_type": "stream",
          "text": [
            "100%|██████████| 10/10 [00:14<00:00,  1.43s/it]\n"
          ]
        },
        {
          "name": "stdout",
          "output_type": "stream",
          "text": [
            "Average validation Loss: 0.6327793002128601\n",
            "Epoch [874/1000], Average Loss: 1.8818\n",
            "Average validation Loss: 0.6327793002128601\n",
            "Learning rate decayed. Updated LR is: 0.000028\n"
          ]
        },
        {
          "name": "stderr",
          "output_type": "stream",
          "text": [
            "100%|██████████| 10/10 [00:14<00:00,  1.43s/it]\n"
          ]
        },
        {
          "name": "stdout",
          "output_type": "stream",
          "text": [
            "Average validation Loss: 3.9178977012634277\n",
            "Epoch [875/1000], Average Loss: 2.0583\n",
            "Average validation Loss: 3.9178977012634277\n",
            "Learning rate decayed. Updated LR is: 0.000028\n"
          ]
        },
        {
          "name": "stderr",
          "output_type": "stream",
          "text": [
            "100%|██████████| 10/10 [00:14<00:00,  1.43s/it]\n"
          ]
        },
        {
          "name": "stdout",
          "output_type": "stream",
          "text": [
            "Average validation Loss: 1.2226948738098145\n",
            "Epoch [876/1000], Average Loss: 1.9751\n",
            "Average validation Loss: 1.2226948738098145\n",
            "Learning rate decayed. Updated LR is: 0.000028\n"
          ]
        },
        {
          "name": "stderr",
          "output_type": "stream",
          "text": [
            "100%|██████████| 10/10 [00:14<00:00,  1.43s/it]\n"
          ]
        },
        {
          "name": "stdout",
          "output_type": "stream",
          "text": [
            "Average validation Loss: 5.071040630340576\n",
            "Epoch [877/1000], Average Loss: 2.2629\n",
            "Average validation Loss: 5.071040630340576\n",
            "Learning rate decayed. Updated LR is: 0.000027\n"
          ]
        },
        {
          "name": "stderr",
          "output_type": "stream",
          "text": [
            "100%|██████████| 10/10 [00:14<00:00,  1.43s/it]\n"
          ]
        },
        {
          "name": "stdout",
          "output_type": "stream",
          "text": [
            "Average validation Loss: 8.457075119018555\n",
            "Epoch [878/1000], Average Loss: 2.7685\n",
            "Average validation Loss: 8.457075119018555\n",
            "Learning rate decayed. Updated LR is: 0.000027\n"
          ]
        },
        {
          "name": "stderr",
          "output_type": "stream",
          "text": [
            "100%|██████████| 10/10 [00:14<00:00,  1.43s/it]\n"
          ]
        },
        {
          "name": "stdout",
          "output_type": "stream",
          "text": [
            "Average validation Loss: 2.08290433883667\n",
            "Epoch [879/1000], Average Loss: 2.2008\n",
            "Average validation Loss: 2.08290433883667\n",
            "Learning rate decayed. Updated LR is: 0.000027\n"
          ]
        },
        {
          "name": "stderr",
          "output_type": "stream",
          "text": [
            "100%|██████████| 10/10 [00:14<00:00,  1.43s/it]\n"
          ]
        },
        {
          "name": "stdout",
          "output_type": "stream",
          "text": [
            "Average validation Loss: 1.211359977722168\n",
            "Epoch [880/1000], Average Loss: 2.3941\n",
            "Average validation Loss: 1.211359977722168\n",
            "Learning rate decayed. Updated LR is: 0.000027\n"
          ]
        },
        {
          "name": "stderr",
          "output_type": "stream",
          "text": [
            "100%|██████████| 10/10 [00:14<00:00,  1.43s/it]\n"
          ]
        },
        {
          "name": "stdout",
          "output_type": "stream",
          "text": [
            "Average validation Loss: 0.9403912425041199\n",
            "Epoch [881/1000], Average Loss: 2.1221\n",
            "Average validation Loss: 0.9403912425041199\n",
            "Learning rate decayed. Updated LR is: 0.000026\n"
          ]
        },
        {
          "name": "stderr",
          "output_type": "stream",
          "text": [
            "100%|██████████| 10/10 [00:14<00:00,  1.43s/it]\n"
          ]
        },
        {
          "name": "stdout",
          "output_type": "stream",
          "text": [
            "Average validation Loss: 1.2201027870178223\n",
            "Epoch [882/1000], Average Loss: 2.1158\n",
            "Average validation Loss: 1.2201027870178223\n",
            "Learning rate decayed. Updated LR is: 0.000026\n"
          ]
        },
        {
          "name": "stderr",
          "output_type": "stream",
          "text": [
            "100%|██████████| 10/10 [00:14<00:00,  1.43s/it]\n"
          ]
        },
        {
          "name": "stdout",
          "output_type": "stream",
          "text": [
            "Average validation Loss: 1.1377533674240112\n",
            "Epoch [883/1000], Average Loss: 2.0703\n",
            "Average validation Loss: 1.1377533674240112\n",
            "Learning rate decayed. Updated LR is: 0.000026\n"
          ]
        },
        {
          "name": "stderr",
          "output_type": "stream",
          "text": [
            "100%|██████████| 10/10 [00:14<00:00,  1.44s/it]\n"
          ]
        },
        {
          "name": "stdout",
          "output_type": "stream",
          "text": [
            "Average validation Loss: 1.1892006397247314\n",
            "Epoch [884/1000], Average Loss: 1.8637\n",
            "Average validation Loss: 1.1892006397247314\n",
            "Learning rate decayed. Updated LR is: 0.000026\n"
          ]
        },
        {
          "name": "stderr",
          "output_type": "stream",
          "text": [
            "100%|██████████| 10/10 [00:14<00:00,  1.43s/it]\n"
          ]
        },
        {
          "name": "stdout",
          "output_type": "stream",
          "text": [
            "Average validation Loss: 0.8810940980911255\n",
            "Epoch [885/1000], Average Loss: 1.9408\n",
            "Average validation Loss: 0.8810940980911255\n",
            "Learning rate decayed. Updated LR is: 0.000026\n"
          ]
        },
        {
          "name": "stderr",
          "output_type": "stream",
          "text": [
            "100%|██████████| 10/10 [00:14<00:00,  1.43s/it]\n"
          ]
        },
        {
          "name": "stdout",
          "output_type": "stream",
          "text": [
            "Average validation Loss: 1.103060007095337\n",
            "Epoch [886/1000], Average Loss: 1.8380\n",
            "Average validation Loss: 1.103060007095337\n",
            "Learning rate decayed. Updated LR is: 0.000025\n"
          ]
        },
        {
          "name": "stderr",
          "output_type": "stream",
          "text": [
            "100%|██████████| 10/10 [00:14<00:00,  1.43s/it]\n"
          ]
        },
        {
          "name": "stdout",
          "output_type": "stream",
          "text": [
            "Average validation Loss: 1.8362176418304443\n",
            "Epoch [887/1000], Average Loss: 1.9954\n",
            "Average validation Loss: 1.8362176418304443\n",
            "Learning rate decayed. Updated LR is: 0.000025\n"
          ]
        },
        {
          "name": "stderr",
          "output_type": "stream",
          "text": [
            "100%|██████████| 10/10 [00:14<00:00,  1.43s/it]\n"
          ]
        },
        {
          "name": "stdout",
          "output_type": "stream",
          "text": [
            "Average validation Loss: 0.8006590604782104\n",
            "Epoch [888/1000], Average Loss: 1.9278\n",
            "Average validation Loss: 0.8006590604782104\n",
            "Learning rate decayed. Updated LR is: 0.000025\n"
          ]
        },
        {
          "name": "stderr",
          "output_type": "stream",
          "text": [
            "100%|██████████| 10/10 [00:14<00:00,  1.43s/it]\n"
          ]
        },
        {
          "name": "stdout",
          "output_type": "stream",
          "text": [
            "Average validation Loss: 2.742199659347534\n",
            "Epoch [889/1000], Average Loss: 1.9545\n",
            "Average validation Loss: 2.742199659347534\n",
            "Learning rate decayed. Updated LR is: 0.000025\n"
          ]
        },
        {
          "name": "stderr",
          "output_type": "stream",
          "text": [
            "100%|██████████| 10/10 [00:14<00:00,  1.43s/it]\n"
          ]
        },
        {
          "name": "stdout",
          "output_type": "stream",
          "text": [
            "Average validation Loss: 1.152589201927185\n",
            "Epoch [890/1000], Average Loss: 1.9930\n",
            "Average validation Loss: 1.152589201927185\n",
            "Learning rate decayed. Updated LR is: 0.000024\n"
          ]
        },
        {
          "name": "stderr",
          "output_type": "stream",
          "text": [
            "100%|██████████| 10/10 [00:14<00:00,  1.43s/it]\n"
          ]
        },
        {
          "name": "stdout",
          "output_type": "stream",
          "text": [
            "Average validation Loss: 1.057576060295105\n",
            "Epoch [891/1000], Average Loss: 1.8952\n",
            "Average validation Loss: 1.057576060295105\n",
            "Learning rate decayed. Updated LR is: 0.000024\n"
          ]
        },
        {
          "name": "stderr",
          "output_type": "stream",
          "text": [
            "100%|██████████| 10/10 [00:14<00:00,  1.43s/it]\n"
          ]
        },
        {
          "name": "stdout",
          "output_type": "stream",
          "text": [
            "Average validation Loss: 1.1463950872421265\n",
            "Epoch [892/1000], Average Loss: 1.6986\n",
            "Average validation Loss: 1.1463950872421265\n",
            "Learning rate decayed. Updated LR is: 0.000024\n"
          ]
        },
        {
          "name": "stderr",
          "output_type": "stream",
          "text": [
            "100%|██████████| 10/10 [00:14<00:00,  1.43s/it]\n"
          ]
        },
        {
          "name": "stdout",
          "output_type": "stream",
          "text": [
            "Average validation Loss: 1.1087291240692139\n",
            "Epoch [893/1000], Average Loss: 1.7388\n",
            "Average validation Loss: 1.1087291240692139\n",
            "Learning rate decayed. Updated LR is: 0.000024\n"
          ]
        },
        {
          "name": "stderr",
          "output_type": "stream",
          "text": [
            "100%|██████████| 10/10 [00:14<00:00,  1.43s/it]\n"
          ]
        },
        {
          "name": "stdout",
          "output_type": "stream",
          "text": [
            "Average validation Loss: 1.0508487224578857\n",
            "Epoch [894/1000], Average Loss: 1.7856\n",
            "Average validation Loss: 1.0508487224578857\n",
            "Learning rate decayed. Updated LR is: 0.000024\n"
          ]
        },
        {
          "name": "stderr",
          "output_type": "stream",
          "text": [
            "100%|██████████| 10/10 [00:14<00:00,  1.43s/it]\n"
          ]
        },
        {
          "name": "stdout",
          "output_type": "stream",
          "text": [
            "Average validation Loss: 1.0465741157531738\n",
            "Epoch [895/1000], Average Loss: 1.8406\n",
            "Average validation Loss: 1.0465741157531738\n",
            "Learning rate decayed. Updated LR is: 0.000023\n"
          ]
        },
        {
          "name": "stderr",
          "output_type": "stream",
          "text": [
            "100%|██████████| 10/10 [00:14<00:00,  1.43s/it]\n"
          ]
        },
        {
          "name": "stdout",
          "output_type": "stream",
          "text": [
            "Average validation Loss: 0.5664607882499695\n",
            "Epoch [896/1000], Average Loss: 1.8182\n",
            "Average validation Loss: 0.5664607882499695\n",
            "Learning rate decayed. Updated LR is: 0.000023\n"
          ]
        },
        {
          "name": "stderr",
          "output_type": "stream",
          "text": [
            "100%|██████████| 10/10 [00:14<00:00,  1.43s/it]\n"
          ]
        },
        {
          "name": "stdout",
          "output_type": "stream",
          "text": [
            "Average validation Loss: 2.2638134956359863\n",
            "Epoch [897/1000], Average Loss: 1.8357\n",
            "Average validation Loss: 2.2638134956359863\n",
            "Learning rate decayed. Updated LR is: 0.000023\n"
          ]
        },
        {
          "name": "stderr",
          "output_type": "stream",
          "text": [
            "100%|██████████| 10/10 [00:14<00:00,  1.43s/it]\n"
          ]
        },
        {
          "name": "stdout",
          "output_type": "stream",
          "text": [
            "Average validation Loss: 1.2020983695983887\n",
            "Epoch [898/1000], Average Loss: 1.7722\n",
            "Average validation Loss: 1.2020983695983887\n",
            "Learning rate decayed. Updated LR is: 0.000023\n"
          ]
        },
        {
          "name": "stderr",
          "output_type": "stream",
          "text": [
            "100%|██████████| 10/10 [00:14<00:00,  1.43s/it]\n"
          ]
        },
        {
          "name": "stdout",
          "output_type": "stream",
          "text": [
            "Average validation Loss: 2.2118330001831055\n",
            "Epoch [899/1000], Average Loss: 1.7977\n",
            "Average validation Loss: 2.2118330001831055\n",
            "Learning rate decayed. Updated LR is: 0.000022\n"
          ]
        },
        {
          "name": "stderr",
          "output_type": "stream",
          "text": [
            "100%|██████████| 10/10 [00:14<00:00,  1.43s/it]\n"
          ]
        },
        {
          "name": "stdout",
          "output_type": "stream",
          "text": [
            "Average validation Loss: 1.2778797149658203\n",
            "Epoch [900/1000], Average Loss: 1.7604\n",
            "Average validation Loss: 1.2778797149658203\n",
            "Learning rate decayed. Updated LR is: 0.000022\n"
          ]
        },
        {
          "name": "stderr",
          "output_type": "stream",
          "text": [
            "100%|██████████| 10/10 [00:14<00:00,  1.43s/it]\n"
          ]
        },
        {
          "name": "stdout",
          "output_type": "stream",
          "text": [
            "Average validation Loss: 1.2551896572113037\n",
            "Epoch [901/1000], Average Loss: 1.8309\n",
            "Average validation Loss: 1.2551896572113037\n",
            "Learning rate decayed. Updated LR is: 0.000022\n"
          ]
        },
        {
          "name": "stderr",
          "output_type": "stream",
          "text": [
            "100%|██████████| 10/10 [00:14<00:00,  1.43s/it]\n"
          ]
        },
        {
          "name": "stdout",
          "output_type": "stream",
          "text": [
            "Average validation Loss: 4.796677589416504\n",
            "Epoch [902/1000], Average Loss: 2.0672\n",
            "Average validation Loss: 4.796677589416504\n",
            "Learning rate decayed. Updated LR is: 0.000022\n"
          ]
        },
        {
          "name": "stderr",
          "output_type": "stream",
          "text": [
            "100%|██████████| 10/10 [00:14<00:00,  1.43s/it]\n"
          ]
        },
        {
          "name": "stdout",
          "output_type": "stream",
          "text": [
            "Average validation Loss: 1.0753309726715088\n",
            "Epoch [903/1000], Average Loss: 2.0440\n",
            "Average validation Loss: 1.0753309726715088\n",
            "Learning rate decayed. Updated LR is: 0.000022\n"
          ]
        },
        {
          "name": "stderr",
          "output_type": "stream",
          "text": [
            "100%|██████████| 10/10 [00:14<00:00,  1.43s/it]\n"
          ]
        },
        {
          "name": "stdout",
          "output_type": "stream",
          "text": [
            "Average validation Loss: 0.95115727186203\n",
            "Epoch [904/1000], Average Loss: 1.9948\n",
            "Average validation Loss: 0.95115727186203\n",
            "Learning rate decayed. Updated LR is: 0.000021\n"
          ]
        },
        {
          "name": "stderr",
          "output_type": "stream",
          "text": [
            "100%|██████████| 10/10 [00:14<00:00,  1.43s/it]\n"
          ]
        },
        {
          "name": "stdout",
          "output_type": "stream",
          "text": [
            "Average validation Loss: 2.1140871047973633\n",
            "Epoch [905/1000], Average Loss: 1.8981\n",
            "Average validation Loss: 2.1140871047973633\n",
            "Learning rate decayed. Updated LR is: 0.000021\n"
          ]
        },
        {
          "name": "stderr",
          "output_type": "stream",
          "text": [
            "100%|██████████| 10/10 [00:14<00:00,  1.43s/it]\n"
          ]
        },
        {
          "name": "stdout",
          "output_type": "stream",
          "text": [
            "Average validation Loss: 1.2467539310455322\n",
            "Epoch [906/1000], Average Loss: 1.9319\n",
            "Average validation Loss: 1.2467539310455322\n",
            "Learning rate decayed. Updated LR is: 0.000021\n"
          ]
        },
        {
          "name": "stderr",
          "output_type": "stream",
          "text": [
            "100%|██████████| 10/10 [00:14<00:00,  1.43s/it]\n"
          ]
        },
        {
          "name": "stdout",
          "output_type": "stream",
          "text": [
            "Average validation Loss: 5.1705451011657715\n",
            "Epoch [907/1000], Average Loss: 2.2837\n",
            "Average validation Loss: 5.1705451011657715\n",
            "Learning rate decayed. Updated LR is: 0.000021\n"
          ]
        },
        {
          "name": "stderr",
          "output_type": "stream",
          "text": [
            "100%|██████████| 10/10 [00:14<00:00,  1.43s/it]\n"
          ]
        },
        {
          "name": "stdout",
          "output_type": "stream",
          "text": [
            "Average validation Loss: 1.4644181728363037\n",
            "Epoch [908/1000], Average Loss: 2.0897\n",
            "Average validation Loss: 1.4644181728363037\n",
            "Learning rate decayed. Updated LR is: 0.000020\n"
          ]
        },
        {
          "name": "stderr",
          "output_type": "stream",
          "text": [
            "100%|██████████| 10/10 [00:14<00:00,  1.43s/it]\n"
          ]
        },
        {
          "name": "stdout",
          "output_type": "stream",
          "text": [
            "Average validation Loss: 1.771794319152832\n",
            "Epoch [909/1000], Average Loss: 2.2314\n",
            "Average validation Loss: 1.771794319152832\n",
            "Learning rate decayed. Updated LR is: 0.000020\n"
          ]
        },
        {
          "name": "stderr",
          "output_type": "stream",
          "text": [
            "100%|██████████| 10/10 [00:14<00:00,  1.43s/it]\n"
          ]
        },
        {
          "name": "stdout",
          "output_type": "stream",
          "text": [
            "Average validation Loss: 1.3440126180648804\n",
            "Epoch [910/1000], Average Loss: 2.0507\n",
            "Average validation Loss: 1.3440126180648804\n",
            "Learning rate decayed. Updated LR is: 0.000020\n"
          ]
        },
        {
          "name": "stderr",
          "output_type": "stream",
          "text": [
            "100%|██████████| 10/10 [00:14<00:00,  1.43s/it]\n"
          ]
        },
        {
          "name": "stdout",
          "output_type": "stream",
          "text": [
            "Average validation Loss: 0.9496769905090332\n",
            "Epoch [911/1000], Average Loss: 1.7017\n",
            "Average validation Loss: 0.9496769905090332\n",
            "Learning rate decayed. Updated LR is: 0.000020\n"
          ]
        },
        {
          "name": "stderr",
          "output_type": "stream",
          "text": [
            "100%|██████████| 10/10 [00:14<00:00,  1.43s/it]\n"
          ]
        },
        {
          "name": "stdout",
          "output_type": "stream",
          "text": [
            "Average validation Loss: 0.5638185739517212\n",
            "Epoch [912/1000], Average Loss: 1.7366\n",
            "Average validation Loss: 0.5638185739517212\n",
            "Learning rate decayed. Updated LR is: 0.000020\n"
          ]
        },
        {
          "name": "stderr",
          "output_type": "stream",
          "text": [
            "100%|██████████| 10/10 [00:14<00:00,  1.43s/it]\n"
          ]
        },
        {
          "name": "stdout",
          "output_type": "stream",
          "text": [
            "Average validation Loss: 2.0310564041137695\n",
            "Epoch [913/1000], Average Loss: 1.7244\n",
            "Average validation Loss: 2.0310564041137695\n",
            "Learning rate decayed. Updated LR is: 0.000019\n"
          ]
        },
        {
          "name": "stderr",
          "output_type": "stream",
          "text": [
            "100%|██████████| 10/10 [00:14<00:00,  1.43s/it]\n"
          ]
        },
        {
          "name": "stdout",
          "output_type": "stream",
          "text": [
            "Average validation Loss: 2.722571849822998\n",
            "Epoch [914/1000], Average Loss: 1.7538\n",
            "Average validation Loss: 2.722571849822998\n",
            "Learning rate decayed. Updated LR is: 0.000019\n"
          ]
        },
        {
          "name": "stderr",
          "output_type": "stream",
          "text": [
            "100%|██████████| 10/10 [00:14<00:00,  1.43s/it]\n"
          ]
        },
        {
          "name": "stdout",
          "output_type": "stream",
          "text": [
            "Average validation Loss: 2.367204189300537\n",
            "Epoch [915/1000], Average Loss: 1.6918\n",
            "Average validation Loss: 2.367204189300537\n",
            "Learning rate decayed. Updated LR is: 0.000019\n"
          ]
        },
        {
          "name": "stderr",
          "output_type": "stream",
          "text": [
            "100%|██████████| 10/10 [00:14<00:00,  1.43s/it]\n"
          ]
        },
        {
          "name": "stdout",
          "output_type": "stream",
          "text": [
            "Average validation Loss: 0.6834652423858643\n",
            "Epoch [916/1000], Average Loss: 1.6231\n",
            "Average validation Loss: 0.6834652423858643\n",
            "Learning rate decayed. Updated LR is: 0.000019\n"
          ]
        },
        {
          "name": "stderr",
          "output_type": "stream",
          "text": [
            "100%|██████████| 10/10 [00:14<00:00,  1.43s/it]\n"
          ]
        },
        {
          "name": "stdout",
          "output_type": "stream",
          "text": [
            "Average validation Loss: 0.9412448406219482\n",
            "Epoch [917/1000], Average Loss: 1.6449\n",
            "Average validation Loss: 0.9412448406219482\n",
            "Learning rate decayed. Updated LR is: 0.000018\n"
          ]
        },
        {
          "name": "stderr",
          "output_type": "stream",
          "text": [
            "100%|██████████| 10/10 [00:14<00:00,  1.43s/it]\n"
          ]
        },
        {
          "name": "stdout",
          "output_type": "stream",
          "text": [
            "Average validation Loss: 0.9948047995567322\n",
            "Epoch [918/1000], Average Loss: 1.7132\n",
            "Average validation Loss: 0.9948047995567322\n",
            "Learning rate decayed. Updated LR is: 0.000018\n"
          ]
        },
        {
          "name": "stderr",
          "output_type": "stream",
          "text": [
            "100%|██████████| 10/10 [00:14<00:00,  1.43s/it]\n"
          ]
        },
        {
          "name": "stdout",
          "output_type": "stream",
          "text": [
            "Average validation Loss: 0.5215550661087036\n",
            "Epoch [919/1000], Average Loss: 1.5617\n",
            "Average validation Loss: 0.5215550661087036\n",
            "Learning rate decayed. Updated LR is: 0.000018\n"
          ]
        },
        {
          "name": "stderr",
          "output_type": "stream",
          "text": [
            "100%|██████████| 10/10 [00:14<00:00,  1.43s/it]\n"
          ]
        },
        {
          "name": "stdout",
          "output_type": "stream",
          "text": [
            "Average validation Loss: 0.5635471343994141\n",
            "Epoch [920/1000], Average Loss: 1.5592\n",
            "Average validation Loss: 0.5635471343994141\n",
            "Learning rate decayed. Updated LR is: 0.000018\n"
          ]
        },
        {
          "name": "stderr",
          "output_type": "stream",
          "text": [
            "100%|██████████| 10/10 [00:14<00:00,  1.43s/it]\n"
          ]
        },
        {
          "name": "stdout",
          "output_type": "stream",
          "text": [
            "Average validation Loss: 1.698648452758789\n",
            "Epoch [921/1000], Average Loss: 1.6900\n",
            "Average validation Loss: 1.698648452758789\n",
            "Learning rate decayed. Updated LR is: 0.000018\n"
          ]
        },
        {
          "name": "stderr",
          "output_type": "stream",
          "text": [
            "100%|██████████| 10/10 [00:14<00:00,  1.43s/it]\n"
          ]
        },
        {
          "name": "stdout",
          "output_type": "stream",
          "text": [
            "Average validation Loss: 0.8094121813774109\n",
            "Epoch [922/1000], Average Loss: 1.6431\n",
            "Average validation Loss: 0.8094121813774109\n",
            "Learning rate decayed. Updated LR is: 0.000017\n"
          ]
        },
        {
          "name": "stderr",
          "output_type": "stream",
          "text": [
            "100%|██████████| 10/10 [00:14<00:00,  1.43s/it]\n"
          ]
        },
        {
          "name": "stdout",
          "output_type": "stream",
          "text": [
            "Average validation Loss: 0.6509124040603638\n",
            "Epoch [923/1000], Average Loss: 1.6845\n",
            "Average validation Loss: 0.6509124040603638\n",
            "Learning rate decayed. Updated LR is: 0.000017\n"
          ]
        },
        {
          "name": "stderr",
          "output_type": "stream",
          "text": [
            "100%|██████████| 10/10 [00:14<00:00,  1.43s/it]\n"
          ]
        },
        {
          "name": "stdout",
          "output_type": "stream",
          "text": [
            "Average validation Loss: 1.2409991025924683\n",
            "Epoch [924/1000], Average Loss: 1.8271\n",
            "Average validation Loss: 1.2409991025924683\n",
            "Learning rate decayed. Updated LR is: 0.000017\n"
          ]
        },
        {
          "name": "stderr",
          "output_type": "stream",
          "text": [
            "100%|██████████| 10/10 [00:14<00:00,  1.43s/it]\n"
          ]
        },
        {
          "name": "stdout",
          "output_type": "stream",
          "text": [
            "Average validation Loss: 1.4550546407699585\n",
            "Epoch [925/1000], Average Loss: 1.7187\n",
            "Average validation Loss: 1.4550546407699585\n",
            "Learning rate decayed. Updated LR is: 0.000017\n"
          ]
        },
        {
          "name": "stderr",
          "output_type": "stream",
          "text": [
            "100%|██████████| 10/10 [00:14<00:00,  1.43s/it]\n"
          ]
        },
        {
          "name": "stdout",
          "output_type": "stream",
          "text": [
            "Average validation Loss: 0.9764418005943298\n",
            "Epoch [926/1000], Average Loss: 1.6717\n",
            "Average validation Loss: 0.9764418005943298\n",
            "Learning rate decayed. Updated LR is: 0.000016\n"
          ]
        },
        {
          "name": "stderr",
          "output_type": "stream",
          "text": [
            "100%|██████████| 10/10 [00:14<00:00,  1.43s/it]\n"
          ]
        },
        {
          "name": "stdout",
          "output_type": "stream",
          "text": [
            "Average validation Loss: 4.69583797454834\n",
            "Epoch [927/1000], Average Loss: 1.9889\n",
            "Average validation Loss: 4.69583797454834\n",
            "Learning rate decayed. Updated LR is: 0.000016\n"
          ]
        },
        {
          "name": "stderr",
          "output_type": "stream",
          "text": [
            "100%|██████████| 10/10 [00:14<00:00,  1.43s/it]\n"
          ]
        },
        {
          "name": "stdout",
          "output_type": "stream",
          "text": [
            "Average validation Loss: 2.4767346382141113\n",
            "Epoch [928/1000], Average Loss: 1.8529\n",
            "Average validation Loss: 2.4767346382141113\n",
            "Learning rate decayed. Updated LR is: 0.000016\n"
          ]
        },
        {
          "name": "stderr",
          "output_type": "stream",
          "text": [
            "100%|██████████| 10/10 [00:14<00:00,  1.44s/it]\n"
          ]
        },
        {
          "name": "stdout",
          "output_type": "stream",
          "text": [
            "Average validation Loss: 0.9562937617301941\n",
            "Epoch [929/1000], Average Loss: 1.8934\n",
            "Average validation Loss: 0.9562937617301941\n",
            "Learning rate decayed. Updated LR is: 0.000016\n"
          ]
        },
        {
          "name": "stderr",
          "output_type": "stream",
          "text": [
            "100%|██████████| 10/10 [00:14<00:00,  1.43s/it]\n"
          ]
        },
        {
          "name": "stdout",
          "output_type": "stream",
          "text": [
            "Average validation Loss: 1.1020207405090332\n",
            "Epoch [930/1000], Average Loss: 1.9345\n",
            "Average validation Loss: 1.1020207405090332\n",
            "Learning rate decayed. Updated LR is: 0.000016\n"
          ]
        },
        {
          "name": "stderr",
          "output_type": "stream",
          "text": [
            "100%|██████████| 10/10 [00:14<00:00,  1.43s/it]\n"
          ]
        },
        {
          "name": "stdout",
          "output_type": "stream",
          "text": [
            "Average validation Loss: 5.271368980407715\n",
            "Epoch [931/1000], Average Loss: 2.0975\n",
            "Average validation Loss: 5.271368980407715\n",
            "Learning rate decayed. Updated LR is: 0.000015\n"
          ]
        },
        {
          "name": "stderr",
          "output_type": "stream",
          "text": [
            "100%|██████████| 10/10 [00:14<00:00,  1.43s/it]\n"
          ]
        },
        {
          "name": "stdout",
          "output_type": "stream",
          "text": [
            "Average validation Loss: 4.132199287414551\n",
            "Epoch [932/1000], Average Loss: 2.2183\n",
            "Average validation Loss: 4.132199287414551\n",
            "Learning rate decayed. Updated LR is: 0.000015\n"
          ]
        },
        {
          "name": "stderr",
          "output_type": "stream",
          "text": [
            "100%|██████████| 10/10 [00:14<00:00,  1.43s/it]\n"
          ]
        },
        {
          "name": "stdout",
          "output_type": "stream",
          "text": [
            "Average validation Loss: 2.3509912490844727\n",
            "Epoch [933/1000], Average Loss: 2.0314\n",
            "Average validation Loss: 2.3509912490844727\n",
            "Learning rate decayed. Updated LR is: 0.000015\n"
          ]
        },
        {
          "name": "stderr",
          "output_type": "stream",
          "text": [
            "100%|██████████| 10/10 [00:14<00:00,  1.44s/it]\n"
          ]
        },
        {
          "name": "stdout",
          "output_type": "stream",
          "text": [
            "Average validation Loss: 0.5496108531951904\n",
            "Epoch [934/1000], Average Loss: 1.7230\n",
            "Average validation Loss: 0.5496108531951904\n",
            "Learning rate decayed. Updated LR is: 0.000015\n"
          ]
        },
        {
          "name": "stderr",
          "output_type": "stream",
          "text": [
            "100%|██████████| 10/10 [00:14<00:00,  1.44s/it]\n"
          ]
        },
        {
          "name": "stdout",
          "output_type": "stream",
          "text": [
            "Average validation Loss: 1.0099519491195679\n",
            "Epoch [935/1000], Average Loss: 1.6480\n",
            "Average validation Loss: 1.0099519491195679\n",
            "Learning rate decayed. Updated LR is: 0.000014\n"
          ]
        },
        {
          "name": "stderr",
          "output_type": "stream",
          "text": [
            "100%|██████████| 10/10 [00:14<00:00,  1.44s/it]\n"
          ]
        },
        {
          "name": "stdout",
          "output_type": "stream",
          "text": [
            "Average validation Loss: 3.730243682861328\n",
            "Epoch [936/1000], Average Loss: 1.7475\n",
            "Average validation Loss: 3.730243682861328\n",
            "Learning rate decayed. Updated LR is: 0.000014\n"
          ]
        },
        {
          "name": "stderr",
          "output_type": "stream",
          "text": [
            "100%|██████████| 10/10 [00:14<00:00,  1.44s/it]\n"
          ]
        },
        {
          "name": "stdout",
          "output_type": "stream",
          "text": [
            "Average validation Loss: 0.7818031311035156\n",
            "Epoch [937/1000], Average Loss: 1.5316\n",
            "Average validation Loss: 0.7818031311035156\n",
            "Learning rate decayed. Updated LR is: 0.000014\n"
          ]
        },
        {
          "name": "stderr",
          "output_type": "stream",
          "text": [
            "100%|██████████| 10/10 [00:14<00:00,  1.43s/it]\n"
          ]
        },
        {
          "name": "stdout",
          "output_type": "stream",
          "text": [
            "Average validation Loss: 1.1797726154327393\n",
            "Epoch [938/1000], Average Loss: 1.5491\n",
            "Average validation Loss: 1.1797726154327393\n",
            "Learning rate decayed. Updated LR is: 0.000014\n"
          ]
        },
        {
          "name": "stderr",
          "output_type": "stream",
          "text": [
            "100%|██████████| 10/10 [00:14<00:00,  1.43s/it]\n"
          ]
        },
        {
          "name": "stdout",
          "output_type": "stream",
          "text": [
            "Average validation Loss: 0.8498274683952332\n",
            "Epoch [939/1000], Average Loss: 1.4783\n",
            "Average validation Loss: 0.8498274683952332\n",
            "Learning rate decayed. Updated LR is: 0.000014\n"
          ]
        },
        {
          "name": "stderr",
          "output_type": "stream",
          "text": [
            "100%|██████████| 10/10 [00:14<00:00,  1.44s/it]\n"
          ]
        },
        {
          "name": "stdout",
          "output_type": "stream",
          "text": [
            "Average validation Loss: 1.021733045578003\n",
            "Epoch [940/1000], Average Loss: 1.4672\n",
            "Average validation Loss: 1.021733045578003\n",
            "Learning rate decayed. Updated LR is: 0.000013\n"
          ]
        },
        {
          "name": "stderr",
          "output_type": "stream",
          "text": [
            "100%|██████████| 10/10 [00:14<00:00,  1.44s/it]\n"
          ]
        },
        {
          "name": "stdout",
          "output_type": "stream",
          "text": [
            "Average validation Loss: 1.2018874883651733\n",
            "Epoch [941/1000], Average Loss: 1.5096\n",
            "Average validation Loss: 1.2018874883651733\n",
            "Learning rate decayed. Updated LR is: 0.000013\n"
          ]
        },
        {
          "name": "stderr",
          "output_type": "stream",
          "text": [
            "100%|██████████| 10/10 [00:14<00:00,  1.43s/it]\n"
          ]
        },
        {
          "name": "stdout",
          "output_type": "stream",
          "text": [
            "Average validation Loss: 1.4240975379943848\n",
            "Epoch [942/1000], Average Loss: 1.5669\n",
            "Average validation Loss: 1.4240975379943848\n",
            "Learning rate decayed. Updated LR is: 0.000013\n"
          ]
        },
        {
          "name": "stderr",
          "output_type": "stream",
          "text": [
            "100%|██████████| 10/10 [00:14<00:00,  1.43s/it]\n"
          ]
        },
        {
          "name": "stdout",
          "output_type": "stream",
          "text": [
            "Average validation Loss: 1.0671262741088867\n",
            "Epoch [943/1000], Average Loss: 1.5501\n",
            "Average validation Loss: 1.0671262741088867\n",
            "Learning rate decayed. Updated LR is: 0.000013\n"
          ]
        },
        {
          "name": "stderr",
          "output_type": "stream",
          "text": [
            "100%|██████████| 10/10 [00:14<00:00,  1.44s/it]\n"
          ]
        },
        {
          "name": "stdout",
          "output_type": "stream",
          "text": [
            "Average validation Loss: 0.8211371302604675\n",
            "Epoch [944/1000], Average Loss: 1.5873\n",
            "Average validation Loss: 0.8211371302604675\n",
            "Learning rate decayed. Updated LR is: 0.000012\n"
          ]
        },
        {
          "name": "stderr",
          "output_type": "stream",
          "text": [
            "100%|██████████| 10/10 [00:14<00:00,  1.43s/it]\n"
          ]
        },
        {
          "name": "stdout",
          "output_type": "stream",
          "text": [
            "Average validation Loss: 1.0465192794799805\n",
            "Epoch [945/1000], Average Loss: 1.5705\n",
            "Average validation Loss: 1.0465192794799805\n",
            "Learning rate decayed. Updated LR is: 0.000012\n"
          ]
        },
        {
          "name": "stderr",
          "output_type": "stream",
          "text": [
            "100%|██████████| 10/10 [00:14<00:00,  1.43s/it]\n"
          ]
        },
        {
          "name": "stdout",
          "output_type": "stream",
          "text": [
            "Average validation Loss: 0.9952570796012878\n",
            "Epoch [946/1000], Average Loss: 1.5252\n",
            "Average validation Loss: 0.9952570796012878\n",
            "Learning rate decayed. Updated LR is: 0.000012\n"
          ]
        },
        {
          "name": "stderr",
          "output_type": "stream",
          "text": [
            "100%|██████████| 10/10 [00:14<00:00,  1.43s/it]\n"
          ]
        },
        {
          "name": "stdout",
          "output_type": "stream",
          "text": [
            "Average validation Loss: 1.1348265409469604\n",
            "Epoch [947/1000], Average Loss: 1.5590\n",
            "Average validation Loss: 1.1348265409469604\n",
            "Learning rate decayed. Updated LR is: 0.000012\n"
          ]
        },
        {
          "name": "stderr",
          "output_type": "stream",
          "text": [
            "100%|██████████| 10/10 [00:14<00:00,  1.43s/it]\n"
          ]
        },
        {
          "name": "stdout",
          "output_type": "stream",
          "text": [
            "Average validation Loss: 0.9725145697593689\n",
            "Epoch [948/1000], Average Loss: 1.5577\n",
            "Average validation Loss: 0.9725145697593689\n",
            "Learning rate decayed. Updated LR is: 0.000012\n"
          ]
        },
        {
          "name": "stderr",
          "output_type": "stream",
          "text": [
            "100%|██████████| 10/10 [00:14<00:00,  1.43s/it]\n"
          ]
        },
        {
          "name": "stdout",
          "output_type": "stream",
          "text": [
            "Average validation Loss: 1.1058224439620972\n",
            "Epoch [949/1000], Average Loss: 1.5744\n",
            "Average validation Loss: 1.1058224439620972\n",
            "Learning rate decayed. Updated LR is: 0.000011\n"
          ]
        },
        {
          "name": "stderr",
          "output_type": "stream",
          "text": [
            "100%|██████████| 10/10 [00:14<00:00,  1.43s/it]\n"
          ]
        },
        {
          "name": "stdout",
          "output_type": "stream",
          "text": [
            "Average validation Loss: 1.6176965236663818\n",
            "Epoch [950/1000], Average Loss: 1.5025\n",
            "Average validation Loss: 1.6176965236663818\n",
            "Learning rate decayed. Updated LR is: 0.000011\n"
          ]
        },
        {
          "name": "stderr",
          "output_type": "stream",
          "text": [
            "100%|██████████| 10/10 [00:14<00:00,  1.43s/it]\n"
          ]
        },
        {
          "name": "stdout",
          "output_type": "stream",
          "text": [
            "Average validation Loss: 0.8686420917510986\n",
            "Epoch [951/1000], Average Loss: 1.4598\n",
            "Average validation Loss: 0.8686420917510986\n",
            "Learning rate decayed. Updated LR is: 0.000011\n"
          ]
        },
        {
          "name": "stderr",
          "output_type": "stream",
          "text": [
            "100%|██████████| 10/10 [00:14<00:00,  1.43s/it]\n"
          ]
        },
        {
          "name": "stdout",
          "output_type": "stream",
          "text": [
            "Average validation Loss: 1.0484193563461304\n",
            "Epoch [952/1000], Average Loss: 1.5038\n",
            "Average validation Loss: 1.0484193563461304\n",
            "Learning rate decayed. Updated LR is: 0.000011\n"
          ]
        },
        {
          "name": "stderr",
          "output_type": "stream",
          "text": [
            "100%|██████████| 10/10 [00:14<00:00,  1.43s/it]\n"
          ]
        },
        {
          "name": "stdout",
          "output_type": "stream",
          "text": [
            "Average validation Loss: 0.9858249425888062\n",
            "Epoch [953/1000], Average Loss: 1.5121\n",
            "Average validation Loss: 0.9858249425888062\n",
            "Learning rate decayed. Updated LR is: 0.000010\n"
          ]
        },
        {
          "name": "stderr",
          "output_type": "stream",
          "text": [
            "100%|██████████| 10/10 [00:14<00:00,  1.43s/it]\n"
          ]
        },
        {
          "name": "stdout",
          "output_type": "stream",
          "text": [
            "Average validation Loss: 3.650582790374756\n",
            "Epoch [954/1000], Average Loss: 1.6397\n",
            "Average validation Loss: 3.650582790374756\n",
            "Learning rate decayed. Updated LR is: 0.000010\n"
          ]
        },
        {
          "name": "stderr",
          "output_type": "stream",
          "text": [
            "100%|██████████| 10/10 [00:14<00:00,  1.43s/it]\n"
          ]
        },
        {
          "name": "stdout",
          "output_type": "stream",
          "text": [
            "Average validation Loss: 2.010228157043457\n",
            "Epoch [955/1000], Average Loss: 1.5104\n",
            "Average validation Loss: 2.010228157043457\n",
            "Learning rate decayed. Updated LR is: 0.000010\n"
          ]
        },
        {
          "name": "stderr",
          "output_type": "stream",
          "text": [
            "100%|██████████| 10/10 [00:14<00:00,  1.43s/it]\n"
          ]
        },
        {
          "name": "stdout",
          "output_type": "stream",
          "text": [
            "Average validation Loss: 0.9305667281150818\n",
            "Epoch [956/1000], Average Loss: 1.4241\n",
            "Average validation Loss: 0.9305667281150818\n",
            "Learning rate decayed. Updated LR is: 0.000010\n"
          ]
        },
        {
          "name": "stderr",
          "output_type": "stream",
          "text": [
            "100%|██████████| 10/10 [00:14<00:00,  1.43s/it]\n"
          ]
        },
        {
          "name": "stdout",
          "output_type": "stream",
          "text": [
            "Average validation Loss: 0.9660590887069702\n",
            "Epoch [957/1000], Average Loss: 1.4367\n",
            "Average validation Loss: 0.9660590887069702\n",
            "Learning rate decayed. Updated LR is: 0.000010\n"
          ]
        },
        {
          "name": "stderr",
          "output_type": "stream",
          "text": [
            "100%|██████████| 10/10 [00:14<00:00,  1.43s/it]\n"
          ]
        },
        {
          "name": "stdout",
          "output_type": "stream",
          "text": [
            "Average validation Loss: 2.1220622062683105\n",
            "Epoch [958/1000], Average Loss: 1.4674\n",
            "Average validation Loss: 2.1220622062683105\n",
            "Learning rate decayed. Updated LR is: 0.000009\n"
          ]
        },
        {
          "name": "stderr",
          "output_type": "stream",
          "text": [
            "100%|██████████| 10/10 [00:14<00:00,  1.43s/it]\n"
          ]
        },
        {
          "name": "stdout",
          "output_type": "stream",
          "text": [
            "Average validation Loss: 0.7470030784606934\n",
            "Epoch [959/1000], Average Loss: 1.4114\n",
            "Average validation Loss: 0.7470030784606934\n",
            "Learning rate decayed. Updated LR is: 0.000009\n"
          ]
        },
        {
          "name": "stderr",
          "output_type": "stream",
          "text": [
            "100%|██████████| 10/10 [00:14<00:00,  1.43s/it]\n"
          ]
        },
        {
          "name": "stdout",
          "output_type": "stream",
          "text": [
            "Average validation Loss: 2.152266025543213\n",
            "Epoch [960/1000], Average Loss: 1.4616\n",
            "Average validation Loss: 2.152266025543213\n",
            "Learning rate decayed. Updated LR is: 0.000009\n"
          ]
        },
        {
          "name": "stderr",
          "output_type": "stream",
          "text": [
            "100%|██████████| 10/10 [00:14<00:00,  1.43s/it]\n"
          ]
        },
        {
          "name": "stdout",
          "output_type": "stream",
          "text": [
            "Average validation Loss: 0.572229266166687\n",
            "Epoch [961/1000], Average Loss: 1.3899\n",
            "Average validation Loss: 0.572229266166687\n",
            "Learning rate decayed. Updated LR is: 0.000009\n"
          ]
        },
        {
          "name": "stderr",
          "output_type": "stream",
          "text": [
            "100%|██████████| 10/10 [00:14<00:00,  1.43s/it]\n"
          ]
        },
        {
          "name": "stdout",
          "output_type": "stream",
          "text": [
            "Average validation Loss: 1.80391526222229\n",
            "Epoch [962/1000], Average Loss: 1.4355\n",
            "Average validation Loss: 1.80391526222229\n",
            "Learning rate decayed. Updated LR is: 0.000008\n"
          ]
        },
        {
          "name": "stderr",
          "output_type": "stream",
          "text": [
            "100%|██████████| 10/10 [00:14<00:00,  1.43s/it]\n"
          ]
        },
        {
          "name": "stdout",
          "output_type": "stream",
          "text": [
            "Average validation Loss: 0.4831938147544861\n",
            "Epoch [963/1000], Average Loss: 1.3902\n",
            "Average validation Loss: 0.4831938147544861\n",
            "Learning rate decayed. Updated LR is: 0.000008\n"
          ]
        },
        {
          "name": "stderr",
          "output_type": "stream",
          "text": [
            "100%|██████████| 10/10 [00:14<00:00,  1.43s/it]\n"
          ]
        },
        {
          "name": "stdout",
          "output_type": "stream",
          "text": [
            "Average validation Loss: 1.1487698554992676\n",
            "Epoch [964/1000], Average Loss: 1.4029\n",
            "Average validation Loss: 1.1487698554992676\n",
            "Learning rate decayed. Updated LR is: 0.000008\n"
          ]
        },
        {
          "name": "stderr",
          "output_type": "stream",
          "text": [
            "100%|██████████| 10/10 [00:14<00:00,  1.43s/it]\n"
          ]
        },
        {
          "name": "stdout",
          "output_type": "stream",
          "text": [
            "Average validation Loss: 0.73549485206604\n",
            "Epoch [965/1000], Average Loss: 1.3721\n",
            "Average validation Loss: 0.73549485206604\n",
            "Learning rate decayed. Updated LR is: 0.000008\n"
          ]
        },
        {
          "name": "stderr",
          "output_type": "stream",
          "text": [
            "100%|██████████| 10/10 [00:14<00:00,  1.43s/it]\n"
          ]
        },
        {
          "name": "stdout",
          "output_type": "stream",
          "text": [
            "Average validation Loss: 0.7964614629745483\n",
            "Epoch [966/1000], Average Loss: 1.3682\n",
            "Average validation Loss: 0.7964614629745483\n",
            "Learning rate decayed. Updated LR is: 0.000008\n"
          ]
        },
        {
          "name": "stderr",
          "output_type": "stream",
          "text": [
            "100%|██████████| 10/10 [00:14<00:00,  1.43s/it]\n"
          ]
        },
        {
          "name": "stdout",
          "output_type": "stream",
          "text": [
            "Average validation Loss: 0.48296138644218445\n",
            "Epoch [967/1000], Average Loss: 1.3525\n",
            "Average validation Loss: 0.48296138644218445\n",
            "Learning rate decayed. Updated LR is: 0.000007\n"
          ]
        },
        {
          "name": "stderr",
          "output_type": "stream",
          "text": [
            "100%|██████████| 10/10 [00:14<00:00,  1.43s/it]\n"
          ]
        },
        {
          "name": "stdout",
          "output_type": "stream",
          "text": [
            "Average validation Loss: 3.5639595985412598\n",
            "Epoch [968/1000], Average Loss: 1.4988\n",
            "Average validation Loss: 3.5639595985412598\n",
            "Learning rate decayed. Updated LR is: 0.000007\n"
          ]
        },
        {
          "name": "stderr",
          "output_type": "stream",
          "text": [
            "100%|██████████| 10/10 [00:14<00:00,  1.43s/it]\n"
          ]
        },
        {
          "name": "stdout",
          "output_type": "stream",
          "text": [
            "Average validation Loss: 0.5079127550125122\n",
            "Epoch [969/1000], Average Loss: 1.3463\n",
            "Average validation Loss: 0.5079127550125122\n",
            "Learning rate decayed. Updated LR is: 0.000007\n"
          ]
        },
        {
          "name": "stderr",
          "output_type": "stream",
          "text": [
            "100%|██████████| 10/10 [00:14<00:00,  1.43s/it]\n"
          ]
        },
        {
          "name": "stdout",
          "output_type": "stream",
          "text": [
            "Average validation Loss: 0.9114115238189697\n",
            "Epoch [970/1000], Average Loss: 1.3557\n",
            "Average validation Loss: 0.9114115238189697\n",
            "Learning rate decayed. Updated LR is: 0.000007\n"
          ]
        },
        {
          "name": "stderr",
          "output_type": "stream",
          "text": [
            "100%|██████████| 10/10 [00:14<00:00,  1.43s/it]\n"
          ]
        },
        {
          "name": "stdout",
          "output_type": "stream",
          "text": [
            "Average validation Loss: 0.9155455827713013\n",
            "Epoch [971/1000], Average Loss: 1.3613\n",
            "Average validation Loss: 0.9155455827713013\n",
            "Learning rate decayed. Updated LR is: 0.000006\n"
          ]
        },
        {
          "name": "stderr",
          "output_type": "stream",
          "text": [
            "100%|██████████| 10/10 [00:14<00:00,  1.43s/it]\n"
          ]
        },
        {
          "name": "stdout",
          "output_type": "stream",
          "text": [
            "Average validation Loss: 0.4809821546077728\n",
            "Epoch [972/1000], Average Loss: 1.3327\n",
            "Average validation Loss: 0.4809821546077728\n",
            "Learning rate decayed. Updated LR is: 0.000006\n"
          ]
        },
        {
          "name": "stderr",
          "output_type": "stream",
          "text": [
            "100%|██████████| 10/10 [00:14<00:00,  1.43s/it]\n"
          ]
        },
        {
          "name": "stdout",
          "output_type": "stream",
          "text": [
            "Average validation Loss: 4.212672710418701\n",
            "Epoch [973/1000], Average Loss: 1.5234\n",
            "Average validation Loss: 4.212672710418701\n",
            "Learning rate decayed. Updated LR is: 0.000006\n"
          ]
        },
        {
          "name": "stderr",
          "output_type": "stream",
          "text": [
            "100%|██████████| 10/10 [00:14<00:00,  1.43s/it]\n"
          ]
        },
        {
          "name": "stdout",
          "output_type": "stream",
          "text": [
            "Average validation Loss: 0.8889424204826355\n",
            "Epoch [974/1000], Average Loss: 1.3498\n",
            "Average validation Loss: 0.8889424204826355\n",
            "Learning rate decayed. Updated LR is: 0.000006\n"
          ]
        },
        {
          "name": "stderr",
          "output_type": "stream",
          "text": [
            "100%|██████████| 10/10 [00:14<00:00,  1.43s/it]\n"
          ]
        },
        {
          "name": "stdout",
          "output_type": "stream",
          "text": [
            "Average validation Loss: 0.7825051546096802\n",
            "Epoch [975/1000], Average Loss: 1.3396\n",
            "Average validation Loss: 0.7825051546096802\n",
            "Learning rate decayed. Updated LR is: 0.000006\n"
          ]
        },
        {
          "name": "stderr",
          "output_type": "stream",
          "text": [
            "100%|██████████| 10/10 [00:14<00:00,  1.43s/it]\n"
          ]
        },
        {
          "name": "stdout",
          "output_type": "stream",
          "text": [
            "Average validation Loss: 0.7233878970146179\n",
            "Epoch [976/1000], Average Loss: 1.3372\n",
            "Average validation Loss: 0.7233878970146179\n",
            "Learning rate decayed. Updated LR is: 0.000005\n"
          ]
        },
        {
          "name": "stderr",
          "output_type": "stream",
          "text": [
            "100%|██████████| 10/10 [00:14<00:00,  1.43s/it]\n"
          ]
        },
        {
          "name": "stdout",
          "output_type": "stream",
          "text": [
            "Average validation Loss: 1.550990104675293\n",
            "Epoch [977/1000], Average Loss: 1.3712\n",
            "Average validation Loss: 1.550990104675293\n",
            "Learning rate decayed. Updated LR is: 0.000005\n"
          ]
        },
        {
          "name": "stderr",
          "output_type": "stream",
          "text": [
            "100%|██████████| 10/10 [00:14<00:00,  1.43s/it]\n"
          ]
        },
        {
          "name": "stdout",
          "output_type": "stream",
          "text": [
            "Average validation Loss: 1.5491409301757812\n",
            "Epoch [978/1000], Average Loss: 1.3707\n",
            "Average validation Loss: 1.5491409301757812\n",
            "Learning rate decayed. Updated LR is: 0.000005\n"
          ]
        },
        {
          "name": "stderr",
          "output_type": "stream",
          "text": [
            "100%|██████████| 10/10 [00:14<00:00,  1.43s/it]\n"
          ]
        },
        {
          "name": "stdout",
          "output_type": "stream",
          "text": [
            "Average validation Loss: 2.0579285621643066\n",
            "Epoch [979/1000], Average Loss: 1.3924\n",
            "Average validation Loss: 2.0579285621643066\n",
            "Learning rate decayed. Updated LR is: 0.000005\n"
          ]
        },
        {
          "name": "stderr",
          "output_type": "stream",
          "text": [
            "100%|██████████| 10/10 [00:14<00:00,  1.43s/it]\n"
          ]
        },
        {
          "name": "stdout",
          "output_type": "stream",
          "text": [
            "Average validation Loss: 0.46526655554771423\n",
            "Epoch [980/1000], Average Loss: 1.3120\n",
            "Average validation Loss: 0.46526655554771423\n",
            "Learning rate decayed. Updated LR is: 0.000004\n"
          ]
        },
        {
          "name": "stderr",
          "output_type": "stream",
          "text": [
            "100%|██████████| 10/10 [00:14<00:00,  1.43s/it]\n"
          ]
        },
        {
          "name": "stdout",
          "output_type": "stream",
          "text": [
            "Average validation Loss: 0.46985745429992676\n",
            "Epoch [981/1000], Average Loss: 1.3085\n",
            "Average validation Loss: 0.46985745429992676\n",
            "Learning rate decayed. Updated LR is: 0.000004\n"
          ]
        },
        {
          "name": "stderr",
          "output_type": "stream",
          "text": [
            "100%|██████████| 10/10 [00:14<00:00,  1.43s/it]\n"
          ]
        },
        {
          "name": "stdout",
          "output_type": "stream",
          "text": [
            "Average validation Loss: 0.8810580968856812\n",
            "Epoch [982/1000], Average Loss: 1.3286\n",
            "Average validation Loss: 0.8810580968856812\n",
            "Learning rate decayed. Updated LR is: 0.000004\n"
          ]
        },
        {
          "name": "stderr",
          "output_type": "stream",
          "text": [
            "100%|██████████| 10/10 [00:14<00:00,  1.43s/it]\n"
          ]
        },
        {
          "name": "stdout",
          "output_type": "stream",
          "text": [
            "Average validation Loss: 1.7517222166061401\n",
            "Epoch [983/1000], Average Loss: 1.3771\n",
            "Average validation Loss: 1.7517222166061401\n",
            "Learning rate decayed. Updated LR is: 0.000004\n"
          ]
        },
        {
          "name": "stderr",
          "output_type": "stream",
          "text": [
            "100%|██████████| 10/10 [00:14<00:00,  1.43s/it]\n"
          ]
        },
        {
          "name": "stdout",
          "output_type": "stream",
          "text": [
            "Average validation Loss: 0.8198515176773071\n",
            "Epoch [984/1000], Average Loss: 1.3297\n",
            "Average validation Loss: 0.8198515176773071\n",
            "Learning rate decayed. Updated LR is: 0.000004\n"
          ]
        },
        {
          "name": "stderr",
          "output_type": "stream",
          "text": [
            "100%|██████████| 10/10 [00:14<00:00,  1.43s/it]\n"
          ]
        },
        {
          "name": "stdout",
          "output_type": "stream",
          "text": [
            "Average validation Loss: 2.0491323471069336\n",
            "Epoch [985/1000], Average Loss: 1.3930\n",
            "Average validation Loss: 2.0491323471069336\n",
            "Learning rate decayed. Updated LR is: 0.000003\n"
          ]
        },
        {
          "name": "stderr",
          "output_type": "stream",
          "text": [
            "100%|██████████| 10/10 [00:14<00:00,  1.43s/it]\n"
          ]
        },
        {
          "name": "stdout",
          "output_type": "stream",
          "text": [
            "Average validation Loss: 1.8903656005859375\n",
            "Epoch [986/1000], Average Loss: 1.3788\n",
            "Average validation Loss: 1.8903656005859375\n",
            "Learning rate decayed. Updated LR is: 0.000003\n"
          ]
        },
        {
          "name": "stderr",
          "output_type": "stream",
          "text": [
            "100%|██████████| 10/10 [00:14<00:00,  1.43s/it]\n"
          ]
        },
        {
          "name": "stdout",
          "output_type": "stream",
          "text": [
            "Average validation Loss: 1.7432000637054443\n",
            "Epoch [987/1000], Average Loss: 1.3684\n",
            "Average validation Loss: 1.7432000637054443\n",
            "Learning rate decayed. Updated LR is: 0.000003\n"
          ]
        },
        {
          "name": "stderr",
          "output_type": "stream",
          "text": [
            "100%|██████████| 10/10 [00:14<00:00,  1.43s/it]\n"
          ]
        },
        {
          "name": "stdout",
          "output_type": "stream",
          "text": [
            "Average validation Loss: 0.9007936716079712\n",
            "Epoch [988/1000], Average Loss: 1.3249\n",
            "Average validation Loss: 0.9007936716079712\n",
            "Learning rate decayed. Updated LR is: 0.000003\n"
          ]
        },
        {
          "name": "stderr",
          "output_type": "stream",
          "text": [
            "100%|██████████| 10/10 [00:14<00:00,  1.43s/it]\n"
          ]
        },
        {
          "name": "stdout",
          "output_type": "stream",
          "text": [
            "Average validation Loss: 1.5421589612960815\n",
            "Epoch [989/1000], Average Loss: 1.3577\n",
            "Average validation Loss: 1.5421589612960815\n",
            "Learning rate decayed. Updated LR is: 0.000002\n"
          ]
        },
        {
          "name": "stderr",
          "output_type": "stream",
          "text": [
            "100%|██████████| 10/10 [00:14<00:00,  1.43s/it]\n"
          ]
        },
        {
          "name": "stdout",
          "output_type": "stream",
          "text": [
            "Average validation Loss: 0.7575112581253052\n",
            "Epoch [990/1000], Average Loss: 1.3165\n",
            "Average validation Loss: 0.7575112581253052\n",
            "Learning rate decayed. Updated LR is: 0.000002\n"
          ]
        },
        {
          "name": "stderr",
          "output_type": "stream",
          "text": [
            "100%|██████████| 10/10 [00:14<00:00,  1.43s/it]\n"
          ]
        },
        {
          "name": "stdout",
          "output_type": "stream",
          "text": [
            "Average validation Loss: 0.8138484358787537\n",
            "Epoch [991/1000], Average Loss: 1.3183\n",
            "Average validation Loss: 0.8138484358787537\n",
            "Learning rate decayed. Updated LR is: 0.000002\n"
          ]
        },
        {
          "name": "stderr",
          "output_type": "stream",
          "text": [
            "100%|██████████| 10/10 [00:14<00:00,  1.43s/it]\n"
          ]
        },
        {
          "name": "stdout",
          "output_type": "stream",
          "text": [
            "Average validation Loss: 2.0411269664764404\n",
            "Epoch [992/1000], Average Loss: 1.3794\n",
            "Average validation Loss: 2.0411269664764404\n",
            "Learning rate decayed. Updated LR is: 0.000002\n"
          ]
        },
        {
          "name": "stderr",
          "output_type": "stream",
          "text": [
            "100%|██████████| 10/10 [00:14<00:00,  1.43s/it]\n"
          ]
        },
        {
          "name": "stdout",
          "output_type": "stream",
          "text": [
            "Average validation Loss: 0.717659592628479\n",
            "Epoch [993/1000], Average Loss: 1.3125\n",
            "Average validation Loss: 0.717659592628479\n",
            "Learning rate decayed. Updated LR is: 0.000002\n"
          ]
        },
        {
          "name": "stderr",
          "output_type": "stream",
          "text": [
            "100%|██████████| 10/10 [00:14<00:00,  1.43s/it]\n"
          ]
        },
        {
          "name": "stdout",
          "output_type": "stream",
          "text": [
            "Average validation Loss: 0.8764059543609619\n",
            "Epoch [994/1000], Average Loss: 1.3200\n",
            "Average validation Loss: 0.8764059543609619\n",
            "Learning rate decayed. Updated LR is: 0.000001\n"
          ]
        },
        {
          "name": "stderr",
          "output_type": "stream",
          "text": [
            "100%|██████████| 10/10 [00:14<00:00,  1.43s/it]\n"
          ]
        },
        {
          "name": "stdout",
          "output_type": "stream",
          "text": [
            "Average validation Loss: 0.46118682622909546\n",
            "Epoch [995/1000], Average Loss: 1.2989\n",
            "Average validation Loss: 0.46118682622909546\n",
            "Learning rate decayed. Updated LR is: 0.000001\n"
          ]
        },
        {
          "name": "stderr",
          "output_type": "stream",
          "text": [
            "100%|██████████| 10/10 [00:14<00:00,  1.43s/it]\n"
          ]
        },
        {
          "name": "stdout",
          "output_type": "stream",
          "text": [
            "Average validation Loss: 1.8839267492294312\n",
            "Epoch [996/1000], Average Loss: 1.3699\n",
            "Average validation Loss: 1.8839267492294312\n",
            "Learning rate decayed. Updated LR is: 0.000001\n"
          ]
        },
        {
          "name": "stderr",
          "output_type": "stream",
          "text": [
            "100%|██████████| 10/10 [00:14<00:00,  1.43s/it]\n"
          ]
        },
        {
          "name": "stdout",
          "output_type": "stream",
          "text": [
            "Average validation Loss: 0.8756569623947144\n",
            "Epoch [997/1000], Average Loss: 1.3192\n",
            "Average validation Loss: 0.8756569623947144\n",
            "Learning rate decayed. Updated LR is: 0.000001\n"
          ]
        },
        {
          "name": "stderr",
          "output_type": "stream",
          "text": [
            "100%|██████████| 10/10 [00:14<00:00,  1.43s/it]\n"
          ]
        },
        {
          "name": "stdout",
          "output_type": "stream",
          "text": [
            "Average validation Loss: 0.716925323009491\n",
            "Epoch [998/1000], Average Loss: 1.3112\n",
            "Average validation Loss: 0.716925323009491\n",
            "Learning rate decayed. Updated LR is: 0.000000\n"
          ]
        },
        {
          "name": "stderr",
          "output_type": "stream",
          "text": [
            "100%|██████████| 10/10 [00:14<00:00,  1.43s/it]\n"
          ]
        },
        {
          "name": "stdout",
          "output_type": "stream",
          "text": [
            "Average validation Loss: 0.7702204585075378\n",
            "Epoch [999/1000], Average Loss: 1.3137\n",
            "Average validation Loss: 0.7702204585075378\n",
            "Learning rate decayed. Updated LR is: 0.000000\n"
          ]
        },
        {
          "name": "stderr",
          "output_type": "stream",
          "text": [
            "100%|██████████| 10/10 [00:14<00:00,  1.43s/it]\n"
          ]
        },
        {
          "name": "stdout",
          "output_type": "stream",
          "text": [
            "Average validation Loss: 3.5345582962036133\n",
            "Epoch [1000/1000], Average Loss: 1.4519\n",
            "Average validation Loss: 3.5345582962036133\n"
          ]
        }
      ],
      "source": [
        "# Move the model to the device\n",
        "model.to(device)\n",
        "# Set the model to training mode\n",
        "model.train()\n",
        "# Iterate over the dataset for multiple epochs\n",
        "losses = []\n",
        "losses_validation = []\n",
        "\n",
        "opt.epochs = 1000\n",
        "for epoch in range(opt.epochs):\n",
        "    if epoch > opt.lr_decay_after:\n",
        "        update_lr(optimizer, epoch, opt)\n",
        "    total_loss = 0.0\n",
        "    for batch in tqdm(train_data_loader):\n",
        "        # Move the batch to the device\n",
        "        optimizer.zero_grad()\n",
        "        input = batch['ldr_image']\n",
        "        input = input.to(device)\n",
        "        output_true = batch['hdr_image']\n",
        "        output_true = output_true.to(device)\n",
        "        output = model(input)\n",
        "\n",
        "        l1_loss = 0\n",
        "        vgg_loss = 0\n",
        "\n",
        "        # tonemapping ground truth ->\n",
        "        # computing loss for n generated outputs (from n-iterations) ->\n",
        "\n",
        "        for i in range(len(output)):\n",
        "            l1_loss += l1(output[i], output_true[i])\n",
        "            vgg_loss += perceptual_loss(output[i], output_true[i])\n",
        "        # averaged over n iterations\n",
        "        l1_loss /= len(output)\n",
        "        vgg_loss /= len(output)\n",
        "       # averaged over batches\n",
        "        l1_loss = torch.mean(l1_loss)\n",
        "        vgg_loss = torch.mean(vgg_loss)\n",
        "\n",
        "        # FHDR loss function\n",
        "        loss = l1_loss + (vgg_loss * 10)\n",
        "        # backpropagate and step\n",
        "        loss.backward()\n",
        "        optimizer.step()\n",
        "        # Accumulate the loss\n",
        "        total_loss += loss.item()\n",
        "    # Print the average loss for the epoch\n",
        "    average_loss = total_loss / len(train_data_loader)\n",
        "    losses.append(average_loss)\n",
        "\n",
        "    # VALIDATION LOOP\n",
        "    # set model to evaluation mode\n",
        "    model.eval()\n",
        "    val_losses = []\n",
        "    with torch.no_grad():\n",
        "        for val_batch, val_data in enumerate(val_data_loader):\n",
        "            input_val = batch['ldr_image']\n",
        "            input_val = input_val.to(device)\n",
        "            ground_truth_val = batch['hdr_image']\n",
        "            ground_truth_val = ground_truth_val.to(device)\n",
        "            optimizer.zero_grad()\n",
        "\n",
        "            output_val = model(input_val)\n",
        "\n",
        "            # calculate validation loss\n",
        "            l1_loss_val = 0\n",
        "            vgg_loss_val = 0\n",
        "\n",
        "            for i in range(len(output)):\n",
        "              l1_loss_val += l1(output_val[i],ground_truth_val[i])\n",
        "              vgg_loss_val += perceptual_loss(output_val[i], ground_truth_val[i])\n",
        "\n",
        "        # averaged over n iterations\n",
        "            l1_loss_val /= len(output_val)\n",
        "            vgg_loss_val /= len(output_val)\n",
        "\n",
        "        # averaged over batches\n",
        "            l1_loss_val = torch.mean(l1_loss_val)\n",
        "            vgg_loss_val = torch.mean(vgg_loss_val)\n",
        "\n",
        "        # FHDR loss function\n",
        "            val_loss = l1_loss_val + (vgg_loss_val * 10)\n",
        "            val_losses.append(val_loss)\n",
        "\n",
        "    # Calculate average validation loss for the entire validation dataset\n",
        "    average_val_loss = sum(val_losses) / len(val_losses)\n",
        "    print(f\"Average validation Loss: {average_val_loss}\")\n",
        "    losses_validation.append(average_val_loss)\n",
        "    print(f\"Epoch [{epoch+1}/{opt.epochs}], Average Loss: {average_loss:.4f}\")\n",
        "\n",
        "    model.train()\n",
        "    if epoch%10 == 0:\n",
        "      save_hdr_image(\n",
        "                img_tensor=output,\n",
        "                batch=0,\n",
        "                path=\"/content/drive/MyDrive/epce-hdr/res/genot\"+str(epoch)+\".hdr\".format(\n",
        "                    i\n",
        "                ),\n",
        "        )\n",
        "      save_hdr_image(\n",
        "                img_tensor=output_true,\n",
        "                batch=0,\n",
        "                path=\"/content/drive/MyDrive/epce-hdr/res/realot\"+str(epoch)+\".hdr\".format(\n",
        "                    i\n",
        "                ),\n",
        "            )\n",
        "\n",
        "\n",
        "\n",
        "    # Calculate average validation loss for the entire validation dataset\n",
        "    average_val_loss = sum(val_losses) / len(val_losses)\n",
        "    print(f\"Average validation Loss: {average_val_loss}\")\n",
        "    losses_validation.append(average_val_loss.item())\n"
      ]
    },
    {
      "cell_type": "markdown",
      "metadata": {
        "id": "eSvDJ_2K0LYu"
      },
      "source": []
    },
    {
      "cell_type": "code",
      "execution_count": null,
      "metadata": {
        "id": "0fXjoGkGQbV-"
      },
      "outputs": [],
      "source": [
        "import torch\n",
        "torch.cuda.empty_cache()\n"
      ]
    },
    {
      "cell_type": "code",
      "execution_count": null,
      "metadata": {
        "colab": {
          "background_save": true
        },
        "id": "ezwGqO2nCBSF"
      },
      "outputs": [],
      "source": [
        "%cd /content/drive/MyDrive/epce-hdr\n",
        "torch.save(model, 'curvest.pth')\n"
      ]
    },
    {
      "cell_type": "code",
      "execution_count": null,
      "metadata": {
        "id": "J8XxJE-xFjlp"
      },
      "outputs": [],
      "source": [
        "torch.save(model, 'model1000curvestall.pth')\n"
      ]
    },
    {
      "cell_type": "code",
      "execution_count": null,
      "metadata": {
        "id": "jYDP7Tl4GRFz"
      },
      "outputs": [],
      "source": [
        "model = torch.load('model1000curvestall.pth')\n"
      ]
    },
    {
      "cell_type": "code",
      "execution_count": null,
      "metadata": {
        "colab": {
          "base_uri": "https://localhost:8080/",
          "height": 564
        },
        "id": "4S00iuYbCYTa",
        "outputId": "e0f31c1a-ff09-4fc9-db5f-6aff0a2e9a49"
      },
      "outputs": [
        {
          "data": {
            "image/png": "[encoded data removed]",
            "text/plain": [
              "<Figure size 800x600 with 1 Axes>"
            ]
          },
          "metadata": {},
          "output_type": "display_data"
        }
      ],
      "source": [
        "import matplotlib.pyplot as plt\n",
        "\n",
        "plt.figure(figsize=(8, 6))\n",
        "plt.plot(losses, marker='o', linestyle='-')\n",
        "plt.xlabel('Iterations')\n",
        "plt.ylabel('Loss')\n",
        "plt.title('Loss over Iterations')\n",
        "plt.grid(True)\n",
        "plt.show()"
      ]
    },
    {
      "cell_type": "code",
      "execution_count": null,
      "metadata": {
        "id": "pws9y6YwNr1b"
      },
      "outputs": [],
      "source": [
        "import numpy as np"
      ]
    },
    {
      "cell_type": "code",
      "execution_count": null,
      "metadata": {
        "colab": {
          "base_uri": "https://localhost:8080/",
          "height": 601
        },
        "id": "RsQdACUjCqGj",
        "outputId": "38623086-83f0-4c0d-dbf9-875018dde2b1"
      },
      "outputs": [
        {
          "name": "stdout",
          "output_type": "stream",
          "text": [
            "[tensor(67.2627, device='cuda:0'), 67.26266479492188, tensor(35.7192, device='cuda:0'), 35.719173431396484, tensor(31.8300, device='cuda:0'), 31.82997703552246, tensor(89.6179, device='cuda:0'), 89.61791229248047, tensor(34.2020, device='cuda:0'), 34.20195007324219, tensor(257.9535, device='cuda:0'), 257.9534912109375, tensor(87.2554, device='cuda:0'), 87.25542449951172, tensor(89.7126, device='cuda:0'), 89.71257781982422, tensor(96.1228, device='cuda:0'), 96.12278747558594, tensor(23.4756, device='cuda:0'), 23.47561264038086, tensor(30.1143, device='cuda:0'), 30.114309310913086, tensor(15.6742, device='cuda:0'), 15.674161911010742, tensor(35.6276, device='cuda:0'), 35.62763595581055, tensor(17.5944, device='cuda:0'), 17.59443473815918, tensor(25.2214, device='cuda:0'), 25.221372604370117, tensor(251.7269, device='cuda:0'), 251.7268524169922, tensor(86.7455, device='cuda:0'), 86.7455062866211, tensor(22.7542, device='cuda:0'), 22.75423240661621, tensor(16.5361, device='cuda:0'), 16.536144256591797, tensor(61.4057, device='cuda:0'), 61.40571212768555, tensor(52.7203, device='cuda:0'), 52.72028350830078, tensor(26.7710, device='cuda:0'), 26.77098846435547, tensor(87.0848, device='cuda:0'), 87.08480072021484, tensor(15.5838, device='cuda:0'), 15.583846092224121, tensor(28.1200, device='cuda:0'), 28.11998748779297, tensor(56.6150, device='cuda:0'), 56.614959716796875, tensor(46.4252, device='cuda:0'), 46.4251823425293, tensor(43.1289, device='cuda:0'), 43.12894821166992, tensor(249.6413, device='cuda:0'), 249.6412811279297, tensor(86.9549, device='cuda:0'), 86.95494079589844, tensor(44.2792, device='cuda:0'), 44.2791862487793, tensor(12.4565, device='cuda:0'), 12.45649528503418, tensor(80.1231, device='cuda:0'), 80.12307739257812, tensor(23.5266, device='cuda:0'), 23.52664566040039, tensor(27.0866, device='cuda:0'), 27.08661651611328, tensor(13.5253, device='cuda:0'), 13.52530288696289, tensor(22.0657, device='cuda:0'), 22.065685272216797, tensor(44.0156, device='cuda:0'), 44.01560592651367, tensor(42.1240, device='cuda:0'), 42.12400436401367, tensor(26.6989, device='cuda:0'), 26.698925018310547, tensor(77.9192, device='cuda:0'), 77.91915130615234, tensor(14.7854, device='cuda:0'), 14.785436630249023, tensor(47.3669, device='cuda:0'), 47.36689758300781, tensor(70.0195, device='cuda:0'), 70.01946258544922, tensor(39.2442, device='cuda:0'), 39.24419403076172, tensor(15.6139, device='cuda:0'), 15.613887786865234, tensor(34.0862, device='cuda:0'), 34.08622360229492, tensor(16.0305, device='cuda:0'), 16.030475616455078, tensor(20.4271, device='cuda:0'), 20.42707061767578, tensor(231.7249, device='cuda:0'), 231.72494506835938, tensor(16.3077, device='cuda:0'), 16.307666778564453, tensor(16.1726, device='cuda:0'), 16.172637939453125, tensor(21.3417, device='cuda:0'), 21.341726303100586, tensor(22.4212, device='cuda:0'), 22.421199798583984, tensor(17.6899, device='cuda:0'), 17.689868927001953, tensor(32.4399, device='cuda:0'), 32.43994903564453, tensor(37.5624, device='cuda:0'), 37.56238555908203, tensor(65.1848, device='cuda:0'), 65.18476867675781, tensor(14.9123, device='cuda:0'), 14.912328720092773, tensor(11.1435, device='cuda:0'), 11.143545150756836, tensor(69.8438, device='cuda:0'), 69.84376525878906, tensor(18.1992, device='cuda:0'), 18.199222564697266, tensor(15.2322, device='cuda:0'), 15.232236862182617, tensor(46.8890, device='cuda:0'), 46.88898849487305, tensor(16.9170, device='cuda:0'), 16.917011260986328, tensor(17.5764, device='cuda:0'), 17.576416015625, tensor(14.2884, device='cuda:0'), 14.288436889648438, tensor(18.9705, device='cuda:0'), 18.970516204833984, tensor(12.4566, device='cuda:0'), 12.456596374511719, tensor(12.9714, device='cuda:0'), 12.971404075622559, tensor(14.8405, device='cuda:0'), 14.840511322021484, tensor(39.3324, device='cuda:0'), 39.332435607910156, tensor(15.5993, device='cuda:0'), 15.599300384521484, tensor(104.2814, device='cuda:0'), 104.28143310546875, tensor(17.4651, device='cuda:0'), 17.46509552001953, tensor(15.8785, device='cuda:0'), 15.878450393676758, tensor(21.3618, device='cuda:0'), 21.361799240112305, tensor(20.7416, device='cuda:0'), 20.741565704345703, tensor(26.5680, device='cuda:0'), 26.567974090576172, tensor(21.2337, device='cuda:0'), 21.23370361328125, tensor(30.7679, device='cuda:0'), 30.767929077148438, tensor(17.4103, device='cuda:0'), 17.410255432128906, tensor(38.4518, device='cuda:0'), 38.45176696777344, tensor(7.7175, device='cuda:0'), 7.717538356781006, tensor(12.3366, device='cuda:0'), 12.33657455444336, tensor(10.3904, device='cuda:0'), 10.390373229980469, tensor(18.6279, device='cuda:0'), 18.62794303894043, tensor(99.7598, device='cuda:0'), 99.75981140136719, tensor(18.9929, device='cuda:0'), 18.992938995361328, tensor(17.4688, device='cuda:0'), 17.46877098083496, tensor(23.4897, device='cuda:0'), 23.489715576171875, tensor(33.1351, device='cuda:0'), 33.13511657714844, tensor(16.4319, device='cuda:0'), 16.431930541992188, tensor(9.1545, device='cuda:0'), 9.154472351074219, tensor(9.8762, device='cuda:0'), 9.876178741455078, tensor(19.7434, device='cuda:0'), 19.743404388427734, tensor(35.0726, device='cuda:0'), 35.07257843017578, tensor(16.7435, device='cuda:0'), 16.743465423583984, tensor(19.2254, device='cuda:0'), 19.22542381286621, tensor(9.0222, device='cuda:0'), 9.022199630737305, tensor(11.8435, device='cuda:0'), 11.843463897705078, tensor(7.2829, device='cuda:0'), 7.282932281494141, tensor(11.8258, device='cuda:0'), 11.825756072998047, tensor(8.3163, device='cuda:0'), 8.316293716430664, tensor(29.6692, device='cuda:0'), 29.669239044189453, tensor(9.1090, device='cuda:0'), 9.108991622924805, tensor(16.8970, device='cuda:0'), 16.896991729736328, tensor(16.8006, device='cuda:0'), 16.800634384155273, tensor(41.1462, device='cuda:0'), 41.14623260498047, tensor(25.7364, device='cuda:0'), 25.736446380615234, tensor(20.5822, device='cuda:0'), 20.582195281982422, tensor(9.1393, device='cuda:0'), 9.139323234558105, tensor(13.9293, device='cuda:0'), 13.929262161254883, tensor(16.9992, device='cuda:0'), 16.99917221069336, tensor(34.4758, device='cuda:0'), 34.47577667236328, tensor(18.3895, device='cuda:0'), 18.38947105407715, tensor(12.4883, device='cuda:0'), 12.488256454467773, tensor(10.0936, device='cuda:0'), 10.093635559082031, tensor(9.7492, device='cuda:0'), 9.749229431152344, tensor(13.0766, device='cuda:0'), 13.07656478881836, tensor(8.7004, device='cuda:0'), 8.700438499450684, tensor(15.2758, device='cuda:0'), 15.275847434997559, tensor(10.8580, device='cuda:0'), 10.858028411865234, tensor(11.2223, device='cuda:0'), 11.222346305847168, tensor(18.4584, device='cuda:0'), 18.45844078063965, tensor(9.4457, device='cuda:0'), 9.445718765258789, tensor(18.8123, device='cuda:0'), 18.812274932861328, tensor(20.0608, device='cuda:0'), 20.060840606689453, tensor(15.9943, device='cuda:0'), 15.994331359863281, tensor(12.1453, device='cuda:0'), 12.145347595214844, tensor(14.5453, device='cuda:0'), 14.545278549194336, tensor(19.1314, device='cuda:0'), 19.131399154663086, tensor(11.6617, device='cuda:0'), 11.661723136901855, tensor(6.6395, device='cuda:0'), 6.639544486999512, tensor(9.9200, device='cuda:0'), 9.919954299926758, tensor(6.6770, device='cuda:0'), 6.676957607269287, tensor(13.2181, device='cuda:0'), 13.218076705932617, tensor(8.6391, device='cuda:0'), 8.63907241821289, tensor(7.4707, device='cuda:0'), 7.4707489013671875, tensor(13.4249, device='cuda:0'), 13.424869537353516, tensor(7.4851, device='cuda:0'), 7.485082626342773, tensor(12.7387, device='cuda:0'), 12.738733291625977, tensor(18.2642, device='cuda:0'), 18.264163970947266, tensor(14.9640, device='cuda:0'), 14.963995933532715, tensor(14.5365, device='cuda:0'), 14.536505699157715, tensor(13.6427, device='cuda:0'), 13.642667770385742, tensor(25.1349, device='cuda:0'), 25.134923934936523, tensor(12.7411, device='cuda:0'), 12.741067886352539, tensor(19.8533, device='cuda:0'), 19.85330581665039, tensor(6.3210, device='cuda:0'), 6.320995330810547, tensor(9.2154, device='cuda:0'), 9.215415954589844, tensor(24.9576, device='cuda:0'), 24.95758819580078, tensor(13.3773, device='cuda:0'), 13.377291679382324, tensor(7.6853, device='cuda:0'), 7.685277938842773, tensor(9.3293, device='cuda:0'), 9.329259872436523, tensor(12.7870, device='cuda:0'), 12.786951065063477, tensor(14.5593, device='cuda:0'), 14.55933952331543, tensor(11.4493, device='cuda:0'), 11.449281692504883, tensor(4.5060, device='cuda:0'), 4.50595760345459, tensor(7.5859, device='cuda:0'), 7.58586311340332, tensor(7.0795, device='cuda:0'), 7.079545974731445, tensor(10.5656, device='cuda:0'), 10.565633773803711, tensor(8.1653, device='cuda:0'), 8.165308952331543, tensor(7.2920, device='cuda:0'), 7.29203987121582, tensor(51.1217, device='cuda:0'), 51.121734619140625, tensor(10.7676, device='cuda:0'), 10.767584800720215, tensor(10.6640, device='cuda:0'), 10.664033889770508, tensor(10.0129, device='cuda:0'), 10.012886047363281, tensor(12.0178, device='cuda:0'), 12.01782512664795, tensor(10.2963, device='cuda:0'), 10.296281814575195, tensor(13.3173, device='cuda:0'), 13.317309379577637, tensor(7.5219, device='cuda:0'), 7.521944999694824, tensor(15.1293, device='cuda:0'), 15.12928581237793, tensor(9.3445, device='cuda:0'), 9.344484329223633, tensor(11.0038, device='cuda:0'), 11.003839492797852, tensor(10.0718, device='cuda:0'), 10.071844100952148, tensor(15.6902, device='cuda:0'), 15.690208435058594, tensor(5.4479, device='cuda:0'), 5.447935104370117, tensor(9.7917, device='cuda:0'), 9.791728973388672, tensor(7.5739, device='cuda:0'), 7.573888778686523, tensor(6.6785, device='cuda:0'), 6.678494930267334, tensor(17.6277, device='cuda:0'), 17.627655029296875, tensor(22.6290, device='cuda:0'), 22.62898826599121, tensor(6.2783, device='cuda:0'), 6.2783002853393555, tensor(6.1626, device='cuda:0'), 6.162561416625977, tensor(5.2103, device='cuda:0'), 5.210341930389404, tensor(7.9136, device='cuda:0'), 7.91357946395874, tensor(36.9778, device='cuda:0'), 36.97779083251953, tensor(6.8333, device='cuda:0'), 6.833341121673584, tensor(8.0720, device='cuda:0'), 8.07203197479248, tensor(8.1212, device='cuda:0'), 8.121248245239258, tensor(15.7796, device='cuda:0'), 15.779644012451172, tensor(10.0784, device='cuda:0'), 10.078350067138672, tensor(9.8892, device='cuda:0'), 9.889184951782227, tensor(21.6064, device='cuda:0'), 21.60641860961914, tensor(4.3759, device='cuda:0'), 4.375945091247559, tensor(7.1322, device='cuda:0'), 7.132174491882324, tensor(10.4955, device='cuda:0'), 10.49545669555664, tensor(7.0314, device='cuda:0'), 7.031435012817383, tensor(5.0118, device='cuda:0'), 5.011836051940918, tensor(6.8562, device='cuda:0'), 6.856229305267334, tensor(5.7117, device='cuda:0'), 5.711657524108887, tensor(4.5787, device='cuda:0'), 4.578652381896973, tensor(18.7230, device='cuda:0'), 18.72304344177246, tensor(10.4837, device='cuda:0'), 10.483739852905273, tensor(5.7633, device='cuda:0'), 5.763315200805664, tensor(13.1706, device='cuda:0'), 13.170557975769043, tensor(9.9192, device='cuda:0'), 9.919157028198242, tensor(4.4144, device='cuda:0'), 4.414357662200928, tensor(5.8433, device='cuda:0'), 5.843331813812256, tensor(7.7753, device='cuda:0'), 7.7753095626831055, tensor(6.2698, device='cuda:0'), 6.269766807556152, tensor(5.4477, device='cuda:0'), 5.447679042816162, tensor(30.5176, device='cuda:0'), 30.517593383789062, tensor(5.4676, device='cuda:0'), 5.467580318450928, tensor(12.0083, device='cuda:0'), 12.008322715759277, tensor(4.1091, device='cuda:0'), 4.109143257141113, tensor(6.7367, device='cuda:0'), 6.736748695373535, tensor(7.5750, device='cuda:0'), 7.575002193450928, tensor(7.4274, device='cuda:0'), 7.4273810386657715, tensor(8.5281, device='cuda:0'), 8.528097152709961, tensor(7.6283, device='cuda:0'), 7.628262996673584, tensor(12.3854, device='cuda:0'), 12.385444641113281, tensor(15.2107, device='cuda:0'), 15.210683822631836, tensor(5.0146, device='cuda:0'), 5.0145978927612305, tensor(29.8345, device='cuda:0'), 29.834524154663086, tensor(12.6631, device='cuda:0'), 12.6630859375, tensor(5.7731, device='cuda:0'), 5.773056983947754, tensor(8.5281, device='cuda:0'), 8.528067588806152, tensor(3.7936, device='cuda:0'), 3.7936086654663086, tensor(5.8750, device='cuda:0'), 5.874991416931152, tensor(6.9888, device='cuda:0'), 6.988809108734131, tensor(9.4578, device='cuda:0'), 9.457807540893555, tensor(7.6874, device='cuda:0'), 7.6874098777771, tensor(30.0870, device='cuda:0'), 30.086950302124023, tensor(7.2310, device='cuda:0'), 7.2310004234313965, tensor(5.3713, device='cuda:0'), 5.371306419372559, tensor(5.0749, device='cuda:0'), 5.074893474578857, tensor(7.9593, device='cuda:0'), 7.959315776824951, tensor(10.6986, device='cuda:0'), 10.698649406433105, tensor(6.7038, device='cuda:0'), 6.703824996948242, tensor(26.6848, device='cuda:0'), 26.68477439880371, tensor(3.8222, device='cuda:0'), 3.822171211242676, tensor(6.0508, device='cuda:0'), 6.050797939300537, tensor(3.6779, device='cuda:0'), 3.677852153778076, tensor(10.7897, device='cuda:0'), 10.789663314819336, tensor(5.9317, device='cuda:0'), 5.931682109832764, tensor(5.4757, device='cuda:0'), 5.475682258605957, tensor(3.7017, device='cuda:0'), 3.7016971111297607, tensor(5.2646, device='cuda:0'), 5.264591217041016, tensor(3.7414, device='cuda:0'), 3.7414159774780273, tensor(4.7992, device='cuda:0'), 4.799201011657715, tensor(3.4929, device='cuda:0'), 3.492919445037842, tensor(4.8265, device='cuda:0'), 4.826526641845703, tensor(3.9489, device='cuda:0'), 3.948890447616577, tensor(6.1338, device='cuda:0'), 6.133763313293457, tensor(5.6045, device='cuda:0'), 5.604541778564453, tensor(11.5208, device='cuda:0'), 11.520780563354492, tensor(18.0752, device='cuda:0'), 18.07522201538086, tensor(7.7717, device='cuda:0'), 7.77169942855835, tensor(4.2531, device='cuda:0'), 4.253144264221191, tensor(23.9500, device='cuda:0'), 23.950035095214844, tensor(8.2831, device='cuda:0'), 8.283105850219727, tensor(4.8229, device='cuda:0'), 4.822884559631348, tensor(5.7018, device='cuda:0'), 5.701756954193115, tensor(3.1096, device='cuda:0'), 3.1095690727233887, tensor(10.4547, device='cuda:0'), 10.454742431640625, tensor(15.2955, device='cuda:0'), 15.295504570007324, tensor(6.4887, device='cuda:0'), 6.488696575164795, tensor(3.7479, device='cuda:0'), 3.7478671073913574, tensor(3.2275, device='cuda:0'), 3.2275424003601074, tensor(6.9603, device='cuda:0'), 6.960253715515137, tensor(5.8097, device='cuda:0'), 5.809695243835449, tensor(10.7973, device='cuda:0'), 10.797330856323242, tensor(3.0744, device='cuda:0'), 3.0744094848632812, tensor(9.9276, device='cuda:0'), 9.927565574645996, tensor(10.9351, device='cuda:0'), 10.935081481933594, tensor(5.6230, device='cuda:0'), 5.623040676116943, tensor(5.7023, device='cuda:0'), 5.7023024559021, tensor(11.7366, device='cuda:0'), 11.736620903015137, tensor(9.0684, device='cuda:0'), 9.068380355834961, tensor(2.9963, device='cuda:0'), 2.9963011741638184, tensor(7.0983, device='cuda:0'), 7.098256587982178, tensor(3.7515, device='cuda:0'), 3.7514922618865967, tensor(5.5418, device='cuda:0'), 5.541814804077148, tensor(10.7123, device='cuda:0'), 10.712302207946777, tensor(5.2914, device='cuda:0'), 5.291440963745117, tensor(9.9342, device='cuda:0'), 9.93419075012207, tensor(4.4114, device='cuda:0'), 4.411363124847412, tensor(4.9587, device='cuda:0'), 4.958658218383789, tensor(2.9630, device='cuda:0'), 2.962984561920166, tensor(9.7962, device='cuda:0'), 9.796244621276855, tensor(3.2208, device='cuda:0'), 3.220828056335449, tensor(5.4216, device='cuda:0'), 5.421551704406738, tensor(5.6049, device='cuda:0'), 5.604910850524902, tensor(13.8757, device='cuda:0'), 13.875651359558105, tensor(3.1969, device='cuda:0'), 3.1969122886657715, tensor(6.1091, device='cuda:0'), 6.109138011932373, tensor(8.4918, device='cuda:0'), 8.491766929626465, tensor(4.8041, device='cuda:0'), 4.804113388061523, tensor(5.4488, device='cuda:0'), 5.448780059814453, tensor(10.9156, device='cuda:0'), 10.91560173034668, tensor(2.6977, device='cuda:0'), 2.697669506072998, tensor(5.9557, device='cuda:0'), 5.955729961395264, tensor(7.2787, device='cuda:0'), 7.278684616088867, tensor(9.2773, device='cuda:0'), 9.277284622192383, tensor(5.1480, device='cuda:0'), 5.14801549911499, tensor(5.5221, device='cuda:0'), 5.522120952606201, tensor(7.2877, device='cuda:0'), 7.287717342376709, tensor(9.5259, device='cuda:0'), 9.525897026062012, tensor(9.0498, device='cuda:0'), 9.049837112426758, tensor(7.6486, device='cuda:0'), 7.648561000823975, tensor(3.2971, device='cuda:0'), 3.297057867050171, tensor(4.3244, device='cuda:0'), 4.324355602264404, tensor(8.9501, device='cuda:0'), 8.950130462646484, tensor(12.0730, device='cuda:0'), 12.072955131530762, tensor(4.0266, device='cuda:0'), 4.026644706726074, tensor(14.6602, device='cuda:0'), 14.66016960144043, tensor(6.2273, device='cuda:0'), 6.227302551269531, tensor(3.0247, device='cuda:0'), 3.0247294902801514, tensor(4.1141, device='cuda:0'), 4.114123344421387, tensor(9.4716, device='cuda:0'), 9.471563339233398, tensor(16.3331, device='cuda:0'), 16.3331356048584, tensor(3.3777, device='cuda:0'), 3.377743721008301, tensor(3.6981, device='cuda:0'), 3.698124647140503, tensor(5.0681, device='cuda:0'), 5.068050384521484, tensor(3.2734, device='cuda:0'), 3.27335786819458, tensor(5.4636, device='cuda:0'), 5.463611602783203, tensor(3.3387, device='cuda:0'), 3.3386597633361816, tensor(5.6362, device='cuda:0'), 5.636235237121582, tensor(3.7420, device='cuda:0'), 3.7420012950897217, tensor(11.5969, device='cuda:0'), 11.596874237060547, tensor(5.4636, device='cuda:0'), 5.463621139526367, tensor(5.7898, device='cuda:0'), 5.7898054122924805, tensor(4.9127, device='cuda:0'), 4.91274356842041, tensor(6.5786, device='cuda:0'), 6.578639984130859, tensor(21.5597, device='cuda:0'), 21.559682846069336, tensor(6.6193, device='cuda:0'), 6.619306564331055, tensor(6.1610, device='cuda:0'), 6.161003112792969, tensor(3.7770, device='cuda:0'), 3.7769832611083984, tensor(3.3893, device='cuda:0'), 3.3892717361450195, tensor(4.9985, device='cuda:0'), 4.998536109924316, tensor(3.7558, device='cuda:0'), 3.7558279037475586, tensor(4.0573, device='cuda:0'), 4.057267665863037, tensor(2.2444, device='cuda:0'), 2.244378089904785, tensor(2.5205, device='cuda:0'), 2.520516872406006, tensor(2.5898, device='cuda:0'), 2.5897765159606934, tensor(4.1902, device='cuda:0'), 4.190234184265137, tensor(4.7014, device='cuda:0'), 4.701359748840332, tensor(6.2767, device='cuda:0'), 6.276656150817871, tensor(11.6650, device='cuda:0'), 11.66501235961914, tensor(4.8679, device='cuda:0'), 4.867902755737305, tensor(7.3058, device='cuda:0'), 7.305845260620117, tensor(3.5894, device='cuda:0'), 3.5894124507904053, tensor(6.0668, device='cuda:0'), 6.0668487548828125, tensor(2.7019, device='cuda:0'), 2.701930522918701, tensor(3.8633, device='cuda:0'), 3.863328695297241, tensor(4.3670, device='cuda:0'), 4.367032051086426, tensor(5.4826, device='cuda:0'), 5.482636451721191, tensor(4.9973, device='cuda:0'), 4.9972944259643555, tensor(17.7973, device='cuda:0'), 17.79727554321289, tensor(8.3042, device='cuda:0'), 8.304156303405762, tensor(9.4112, device='cuda:0'), 9.41120719909668, tensor(3.4432, device='cuda:0'), 3.443199872970581, tensor(3.6992, device='cuda:0'), 3.699228048324585, tensor(2.8557, device='cuda:0'), 2.8556652069091797, tensor(3.4019, device='cuda:0'), 3.401881694793701, tensor(2.4485, device='cuda:0'), 2.44850492477417, tensor(3.2676, device='cuda:0'), 3.267643690109253, tensor(6.2019, device='cuda:0'), 6.201859474182129, tensor(14.9348, device='cuda:0'), 14.934814453125, tensor(7.5879, device='cuda:0'), 7.587911605834961, tensor(4.7496, device='cuda:0'), 4.749615669250488, tensor(10.2568, device='cuda:0'), 10.25682258605957, tensor(3.1084, device='cuda:0'), 3.1084365844726562, tensor(3.0366, device='cuda:0'), 3.036581039428711, tensor(9.3130, device='cuda:0'), 9.312990188598633, tensor(4.5961, device='cuda:0'), 4.596091270446777, tensor(4.1205, device='cuda:0'), 4.1204833984375, tensor(6.6629, device='cuda:0'), 6.66294002532959, tensor(3.6217, device='cuda:0'), 3.621717929840088, tensor(4.4766, device='cuda:0'), 4.476647853851318, tensor(3.2719, device='cuda:0'), 3.2718780040740967, tensor(2.4015, device='cuda:0'), 2.4014554023742676, tensor(5.1361, device='cuda:0'), 5.136124610900879, tensor(3.7279, device='cuda:0'), 3.727874755859375, tensor(6.2899, device='cuda:0'), 6.289857387542725, tensor(4.4080, device='cuda:0'), 4.407984733581543, tensor(2.1301, device='cuda:0'), 2.130115032196045, tensor(3.3168, device='cuda:0'), 3.3168439865112305, tensor(4.3239, device='cuda:0'), 4.323946952819824, tensor(7.9452, device='cuda:0'), 7.945224761962891, tensor(2.4119, device='cuda:0'), 2.411925792694092, tensor(3.6762, device='cuda:0'), 3.676229953765869, tensor(5.7689, device='cuda:0'), 5.768893718719482, tensor(3.7961, device='cuda:0'), 3.7961184978485107, tensor(2.0783, device='cuda:0'), 2.0782551765441895, tensor(7.3261, device='cuda:0'), 7.326132774353027, tensor(2.9996, device='cuda:0'), 2.9995837211608887, tensor(4.8086, device='cuda:0'), 4.808598518371582, tensor(2.2754, device='cuda:0'), 2.275430679321289, tensor(2.2022, device='cuda:0'), 2.2021701335906982, tensor(13.9403, device='cuda:0'), 13.940296173095703, tensor(3.6720, device='cuda:0'), 3.6720340251922607, tensor(3.4826, device='cuda:0'), 3.482590436935425, tensor(4.9730, device='cuda:0'), 4.973012447357178, tensor(15.4003, device='cuda:0'), 15.400301933288574, tensor(5.5268, device='cuda:0'), 5.526808738708496, tensor(3.9203, device='cuda:0'), 3.920313596725464, tensor(3.6309, device='cuda:0'), 3.6308813095092773, tensor(4.9747, device='cuda:0'), 4.974674224853516, tensor(2.0174, device='cuda:0'), 2.017360210418701, tensor(3.3568, device='cuda:0'), 3.356849431991577, tensor(3.3468, device='cuda:0'), 3.3468008041381836, tensor(3.1575, device='cuda:0'), 3.1574771404266357, tensor(5.8642, device='cuda:0'), 5.864234447479248, tensor(4.4640, device='cuda:0'), 4.4639506340026855, tensor(2.1445, device='cuda:0'), 2.1445064544677734, tensor(2.8269, device='cuda:0'), 2.8268866539001465, tensor(2.7537, device='cuda:0'), 2.7537384033203125, tensor(2.0141, device='cuda:0'), 2.014061450958252, tensor(12.7855, device='cuda:0'), 12.785516738891602, tensor(2.7401, device='cuda:0'), 2.740133047103882, tensor(2.7640, device='cuda:0'), 2.763974189758301, tensor(8.1651, device='cuda:0'), 8.165060997009277, tensor(3.8726, device='cuda:0'), 3.8725955486297607, tensor(11.8124, device='cuda:0'), 11.812387466430664, tensor(6.2558, device='cuda:0'), 6.255763053894043, tensor(2.1634, device='cuda:0'), 2.163356304168701, tensor(3.1167, device='cuda:0'), 3.116732597351074, tensor(2.8129, device='cuda:0'), 2.8128623962402344, tensor(3.8239, device='cuda:0'), 3.823946952819824, tensor(4.6752, device='cuda:0'), 4.675176620483398, tensor(9.2254, device='cuda:0'), 9.22538948059082, tensor(2.2861, device='cuda:0'), 2.286120891571045, tensor(3.0241, device='cuda:0'), 3.0240771770477295, tensor(3.4803, device='cuda:0'), 3.480343818664551, tensor(2.1742, device='cuda:0'), 2.1742258071899414, tensor(1.9503, device='cuda:0'), 1.9502891302108765, tensor(2.6607, device='cuda:0'), 2.6607203483581543, tensor(1.9747, device='cuda:0'), 1.9747235774993896, tensor(1.9294, device='cuda:0'), 1.9294064044952393, tensor(1.7492, device='cuda:0'), 1.7492480278015137, tensor(6.8927, device='cuda:0'), 6.892723083496094, tensor(4.2575, device='cuda:0'), 4.2575273513793945, tensor(6.3781, device='cuda:0'), 6.378130912780762, tensor(2.7909, device='cuda:0'), 2.790923595428467, tensor(6.3413, device='cuda:0'), 6.34133243560791, tensor(13.4861, device='cuda:0'), 13.486064910888672, tensor(6.8791, device='cuda:0'), 6.87907600402832, tensor(1.7182, device='cuda:0'), 1.7181956768035889, tensor(2.8842, device='cuda:0'), 2.8842170238494873, tensor(4.0972, device='cuda:0'), 4.097222805023193, tensor(5.5107, device='cuda:0'), 5.510682582855225, tensor(2.7150, device='cuda:0'), 2.714993953704834, tensor(4.0335, device='cuda:0'), 4.03351354598999, tensor(2.5860, device='cuda:0'), 2.585991382598877, tensor(11.1511, device='cuda:0'), 11.151080131530762, tensor(7.6460, device='cuda:0'), 7.646018028259277, tensor(4.6755, device='cuda:0'), 4.675504684448242, tensor(5.8059, device='cuda:0'), 5.805931091308594, tensor(2.3741, device='cuda:0'), 2.374051570892334, tensor(5.4981, device='cuda:0'), 5.498051643371582, tensor(6.9739, device='cuda:0'), 6.9739179611206055, tensor(2.3098, device='cuda:0'), 2.3098063468933105, tensor(3.5599, device='cuda:0'), 3.5599489212036133, tensor(5.5600, device='cuda:0'), 5.559976577758789, tensor(1.9968, device='cuda:0'), 1.9967522621154785, tensor(3.8507, device='cuda:0'), 3.8507070541381836, tensor(6.4612, device='cuda:0'), 6.4612321853637695, tensor(1.6254, device='cuda:0'), 1.6253676414489746, tensor(2.9968, device='cuda:0'), 2.996842861175537, tensor(1.7187, device='cuda:0'), 1.7187117338180542, tensor(7.5548, device='cuda:0'), 7.554778099060059, tensor(1.9312, device='cuda:0'), 1.931189775466919, tensor(4.2468, device='cuda:0'), 4.24676513671875, tensor(7.5557, device='cuda:0'), 7.555693626403809, tensor(3.0796, device='cuda:0'), 3.079578399658203, tensor(6.9523, device='cuda:0'), 6.952300071716309, tensor(3.0869, device='cuda:0'), 3.0869035720825195, tensor(4.7582, device='cuda:0'), 4.758156776428223, tensor(3.3866, device='cuda:0'), 3.3866095542907715, tensor(3.3028, device='cuda:0'), 3.3027687072753906, tensor(11.3355, device='cuda:0'), 11.335494041442871, tensor(5.8117, device='cuda:0'), 5.8116655349731445, tensor(5.8119, device='cuda:0'), 5.811875343322754, tensor(7.1318, device='cuda:0'), 7.131808280944824, tensor(6.1198, device='cuda:0'), 6.119813442230225, tensor(2.1171, device='cuda:0'), 2.1171348094940186, tensor(3.0539, device='cuda:0'), 3.0538878440856934, tensor(2.0323, device='cuda:0'), 2.0323357582092285, tensor(1.7153, device='cuda:0'), 1.7153199911117554, tensor(1.8180, device='cuda:0'), 1.818036437034607, tensor(3.8040, device='cuda:0'), 3.803955078125, tensor(4.6542, device='cuda:0'), 4.654214382171631, tensor(2.4791, device='cuda:0'), 2.4791150093078613, tensor(2.3715, device='cuda:0'), 2.3714804649353027, tensor(1.9222, device='cuda:0'), 1.9222197532653809, tensor(5.4611, device='cuda:0'), 5.461109161376953, tensor(5.5334, device='cuda:0'), 5.5334062576293945, tensor(2.9530, device='cuda:0'), 2.952993154525757, tensor(6.7763, device='cuda:0'), 6.776315689086914, tensor(3.5241, device='cuda:0'), 3.5240886211395264, tensor(9.3786, device='cuda:0'), 9.378643035888672, tensor(2.4804, device='cuda:0'), 2.480394124984741, tensor(3.7519, device='cuda:0'), 3.7518575191497803, tensor(1.8591, device='cuda:0'), 1.8590545654296875, tensor(3.3497, device='cuda:0'), 3.3497188091278076, tensor(3.6095, device='cuda:0'), 3.6094717979431152, tensor(9.7816, device='cuda:0'), 9.781576156616211, tensor(8.2571, device='cuda:0'), 8.257109642028809, tensor(1.5993, device='cuda:0'), 1.599303960800171, tensor(6.0400, device='cuda:0'), 6.040004730224609, tensor(5.8731, device='cuda:0'), 5.873064994812012, tensor(5.3584, device='cuda:0'), 5.358397483825684, tensor(2.2958, device='cuda:0'), 2.2958459854125977, tensor(5.4427, device='cuda:0'), 5.442744255065918, tensor(3.3562, device='cuda:0'), 3.3562445640563965, tensor(5.2670, device='cuda:0'), 5.26704216003418, tensor(2.0703, device='cuda:0'), 2.0702881813049316, tensor(2.9942, device='cuda:0'), 2.994229793548584, tensor(10.0287, device='cuda:0'), 10.028684616088867, tensor(3.0863, device='cuda:0'), 3.0863161087036133, tensor(2.5489, device='cuda:0'), 2.5489087104797363, tensor(2.9229, device='cuda:0'), 2.922935962677002, tensor(1.4550, device='cuda:0'), 1.4549602270126343, tensor(11.3814, device='cuda:0'), 11.381373405456543, tensor(5.5395, device='cuda:0'), 5.539544582366943, tensor(2.9783, device='cuda:0'), 2.978341579437256, tensor(6.8427, device='cuda:0'), 6.842666149139404, tensor(3.7528, device='cuda:0'), 3.7528035640716553, tensor(7.3426, device='cuda:0'), 7.34260368347168, tensor(4.8338, device='cuda:0'), 4.833791732788086, tensor(2.4457, device='cuda:0'), 2.4456725120544434, tensor(3.1748, device='cuda:0'), 3.17476749420166, tensor(2.4228, device='cuda:0'), 2.4228110313415527, tensor(5.2874, device='cuda:0'), 5.28744649887085, tensor(2.7500, device='cuda:0'), 2.7500157356262207, tensor(3.7416, device='cuda:0'), 3.741579055786133, tensor(1.8920, device='cuda:0'), 1.8920314311981201, tensor(1.6350, device='cuda:0'), 1.6350188255310059, tensor(2.2337, device='cuda:0'), 2.233715772628784, tensor(2.1772, device='cuda:0'), 2.1772122383117676, tensor(2.7595, device='cuda:0'), 2.759495496749878, tensor(3.7934, device='cuda:0'), 3.793386459350586, tensor(4.4646, device='cuda:0'), 4.464601516723633, tensor(1.4554, device='cuda:0'), 1.4554370641708374, tensor(2.0261, device='cuda:0'), 2.026096820831299, tensor(3.4504, device='cuda:0'), 3.450443983078003, tensor(2.8605, device='cuda:0'), 2.8605265617370605, tensor(2.8153, device='cuda:0'), 2.815335988998413, tensor(1.7663, device='cuda:0'), 1.7663053274154663, tensor(3.6160, device='cuda:0'), 3.6160082817077637, tensor(2.6048, device='cuda:0'), 2.604782819747925, tensor(1.3609, device='cuda:0'), 1.3609260320663452, tensor(2.7935, device='cuda:0'), 2.793473720550537, tensor(3.9738, device='cuda:0'), 3.9738035202026367, tensor(1.5791, device='cuda:0'), 1.579058051109314, tensor(3.0469, device='cuda:0'), 3.0468833446502686, tensor(3.8895, device='cuda:0'), 3.889522075653076, tensor(3.4170, device='cuda:0'), 3.4170310497283936, tensor(3.7902, device='cuda:0'), 3.7901949882507324, tensor(4.9445, device='cuda:0'), 4.944484710693359, tensor(1.5748, device='cuda:0'), 1.5748393535614014, tensor(2.4832, device='cuda:0'), 2.483161687850952, tensor(3.9796, device='cuda:0'), 3.979550838470459, tensor(6.6097, device='cuda:0'), 6.609678268432617, tensor(3.4064, device='cuda:0'), 3.4063966274261475, tensor(4.2391, device='cuda:0'), 4.239127159118652, tensor(1.4073, device='cuda:0'), 1.4073283672332764, tensor(4.9850, device='cuda:0'), 4.985032081604004, tensor(6.1007, device='cuda:0'), 6.100688934326172, tensor(2.8767, device='cuda:0'), 2.8767008781433105, tensor(1.5476, device='cuda:0'), 1.5476000308990479, tensor(4.9193, device='cuda:0'), 4.919316291809082, tensor(4.1124, device='cuda:0'), 4.112420558929443, tensor(1.8176, device='cuda:0'), 1.8175952434539795, tensor(5.4914, device='cuda:0'), 5.491350173950195, tensor(1.3306, device='cuda:0'), 1.3306463956832886, tensor(2.1966, device='cuda:0'), 2.1966309547424316, tensor(3.0671, device='cuda:0'), 3.0671133995056152, tensor(2.2077, device='cuda:0'), 2.2076854705810547, tensor(3.9485, device='cuda:0'), 3.9485061168670654, tensor(3.1742, device='cuda:0'), 3.1741607189178467, tensor(8.4708, device='cuda:0'), 8.4707670211792, tensor(2.4422, device='cuda:0'), 2.442216396331787, tensor(3.1246, device='cuda:0'), 3.124647855758667, tensor(6.0137, device='cuda:0'), 6.013736724853516, tensor(5.0654, device='cuda:0'), 5.065399169921875, tensor(3.8891, device='cuda:0'), 3.889092445373535, tensor(4.6848, device='cuda:0'), 4.684796333312988, tensor(7.4240, device='cuda:0'), 7.424027919769287, tensor(4.6105, device='cuda:0'), 4.610529899597168, tensor(8.5748, device='cuda:0'), 8.5747709274292, tensor(19.8073, device='cuda:0'), 19.807287216186523, tensor(3.1663, device='cuda:0'), 3.16629695892334, tensor(3.7675, device='cuda:0'), 3.767521381378174, tensor(2.5245, device='cuda:0'), 2.5244717597961426, tensor(5.3750, device='cuda:0'), 5.37501859664917, tensor(4.8019, device='cuda:0'), 4.801949501037598, tensor(3.5599, device='cuda:0'), 3.5598716735839844, tensor(8.2509, device='cuda:0'), 8.250936508178711, tensor(3.0265, device='cuda:0'), 3.026510715484619, tensor(2.7100, device='cuda:0'), 2.7099599838256836, tensor(2.1000, device='cuda:0'), 2.099958896636963, tensor(3.2354, device='cuda:0'), 3.235398292541504, tensor(3.1412, device='cuda:0'), 3.141165256500244, tensor(5.5233, device='cuda:0'), 5.523271083831787, tensor(2.1446, device='cuda:0'), 2.144551992416382, tensor(1.2482, device='cuda:0'), 1.2482268810272217, tensor(3.4256, device='cuda:0'), 3.4255664348602295, tensor(4.1808, device='cuda:0'), 4.180782318115234, tensor(6.6139, device='cuda:0'), 6.613915920257568, tensor(3.1053, device='cuda:0'), 3.1053366661071777, tensor(1.9815, device='cuda:0'), 1.9814900159835815, tensor(3.7271, device='cuda:0'), 3.7270922660827637, tensor(3.1755, device='cuda:0'), 3.1754589080810547, tensor(1.2198, device='cuda:0'), 1.2197976112365723, tensor(5.3201, device='cuda:0'), 5.320091247558594, tensor(3.1813, device='cuda:0'), 3.1812655925750732, tensor(1.9936, device='cuda:0'), 1.9936437606811523, tensor(6.1950, device='cuda:0'), 6.1949615478515625, tensor(2.6129, device='cuda:0'), 2.612919569015503, tensor(4.3380, device='cuda:0'), 4.337963104248047, tensor(2.2041, device='cuda:0'), 2.2040767669677734, tensor(2.9449, device='cuda:0'), 2.9449031352996826, tensor(2.2149, device='cuda:0'), 2.2148919105529785, tensor(4.2802, device='cuda:0'), 4.280198097229004, tensor(1.7220, device='cuda:0'), 1.721961259841919, tensor(1.5224, device='cuda:0'), 1.522396445274353, tensor(3.6432, device='cuda:0'), 3.6432104110717773, tensor(2.6312, device='cuda:0'), 2.631187915802002, tensor(1.8079, device='cuda:0'), 1.8078584671020508, tensor(3.7570, device='cuda:0'), 3.7569758892059326, tensor(5.2867, device='cuda:0'), 5.286733627319336, tensor(1.5986, device='cuda:0'), 1.59855055809021, tensor(1.2179, device='cuda:0'), 1.2179107666015625, tensor(4.1547, device='cuda:0'), 4.154677391052246, tensor(6.0237, device='cuda:0'), 6.023737907409668, tensor(1.8779, device='cuda:0'), 1.8778985738754272, tensor(2.9605, device='cuda:0'), 2.960519313812256, tensor(2.1852, device='cuda:0'), 2.1852006912231445, tensor(2.7767, device='cuda:0'), 2.776700019836426, tensor(2.0364, device='cuda:0'), 2.0363566875457764, tensor(1.0147, device='cuda:0'), 1.0146710872650146, tensor(1.6820, device='cuda:0'), 1.6820340156555176, tensor(5.1321, device='cuda:0'), 5.132083415985107, tensor(2.7840, device='cuda:0'), 2.78395414352417, tensor(2.6836, device='cuda:0'), 2.683621883392334, tensor(4.1753, device='cuda:0'), 4.175347328186035, tensor(2.0287, device='cuda:0'), 2.0287132263183594, tensor(7.9729, device='cuda:0'), 7.972866058349609, tensor(3.5293, device='cuda:0'), 3.529250144958496, tensor(2.0286, device='cuda:0'), 2.0286197662353516, tensor(2.0187, device='cuda:0'), 2.0187435150146484, tensor(1.3663, device='cuda:0'), 1.3663194179534912, tensor(1.0392, device='cuda:0'), 1.039196252822876, tensor(7.6571, device='cuda:0'), 7.657071113586426, tensor(2.1723, device='cuda:0'), 2.1722524166107178, tensor(2.3456, device='cuda:0'), 2.345581531524658, tensor(3.6965, device='cuda:0'), 3.696505546569824, tensor(1.3742, device='cuda:0'), 1.374223232269287, tensor(1.9597, device='cuda:0'), 1.95969557762146, tensor(2.8219, device='cuda:0'), 2.8219361305236816, tensor(4.0432, device='cuda:0'), 4.043170928955078, tensor(2.8811, device='cuda:0'), 2.881134033203125, tensor(4.9709, device='cuda:0'), 4.970889568328857, tensor(7.5460, device='cuda:0'), 7.545987606048584, tensor(16.0284, device='cuda:0'), 16.02838134765625, tensor(1.5799, device='cuda:0'), 1.5798859596252441, tensor(4.0340, device='cuda:0'), 4.034018516540527, tensor(2.7218, device='cuda:0'), 2.7218451499938965, tensor(4.0825, device='cuda:0'), 4.082525253295898, tensor(1.9557, device='cuda:0'), 1.9556872844696045, tensor(1.4761, device='cuda:0'), 1.47614324092865, tensor(4.0483, device='cuda:0'), 4.048251152038574, tensor(2.3227, device='cuda:0'), 2.3227224349975586, tensor(1.1593, device='cuda:0'), 1.1593446731567383, tensor(4.4094, device='cuda:0'), 4.409415245056152, tensor(2.6496, device='cuda:0'), 2.6496284008026123, tensor(1.8030, device='cuda:0'), 1.8029626607894897, tensor(1.7205, device='cuda:0'), 1.7205299139022827, tensor(2.4344, device='cuda:0'), 2.4344143867492676, tensor(3.5505, device='cuda:0'), 3.5505025386810303, tensor(4.5338, device='cuda:0'), 4.533782958984375, tensor(7.0857, device='cuda:0'), 7.085722923278809, tensor(3.1747, device='cuda:0'), 3.1746644973754883, tensor(1.2375, device='cuda:0'), 1.2374629974365234, tensor(1.4052, device='cuda:0'), 1.405239462852478, tensor(6.9481, device='cuda:0'), 6.9480695724487305, tensor(4.0234, device='cuda:0'), 4.023407936096191, tensor(2.6094, device='cuda:0'), 2.60935378074646, tensor(4.4659, device='cuda:0'), 4.465919494628906, tensor(1.9965, device='cuda:0'), 1.996531367301941, tensor(3.2855, device='cuda:0'), 3.2854697704315186, tensor(7.4854, device='cuda:0'), 7.485381126403809, tensor(1.6299, device='cuda:0'), 1.6298540830612183, tensor(3.5893, device='cuda:0'), 3.5893168449401855, tensor(1.9070, device='cuda:0'), 1.907030463218689, tensor(1.4980, device='cuda:0'), 1.4979803562164307, tensor(1.8567, device='cuda:0'), 1.8567289113998413, tensor(1.5109, device='cuda:0'), 1.5109102725982666, tensor(4.7477, device='cuda:0'), 4.747725486755371, tensor(8.3774, device='cuda:0'), 8.377388000488281, tensor(0.9332, device='cuda:0'), 0.9331571459770203, tensor(2.8019, device='cuda:0'), 2.8019216060638428, tensor(2.2251, device='cuda:0'), 2.2251393795013428, tensor(1.9569, device='cuda:0'), 1.9569013118743896, tensor(0.9076, device='cuda:0'), 0.9076341390609741, tensor(3.4370, device='cuda:0'), 3.4370055198669434, tensor(1.3068, device='cuda:0'), 1.3068422079086304, tensor(1.9496, device='cuda:0'), 1.9495837688446045, tensor(2.3626, device='cuda:0'), 2.3626487255096436, tensor(4.7623, device='cuda:0'), 4.762266159057617, tensor(3.3113, device='cuda:0'), 3.311300277709961, tensor(6.0399, device='cuda:0'), 6.039937496185303, tensor(1.7720, device='cuda:0'), 1.7720335721969604, tensor(0.9275, device='cuda:0'), 0.9274696111679077, tensor(1.2009, device='cuda:0'), 1.2008979320526123, tensor(2.3525, device='cuda:0'), 2.352531909942627, tensor(1.4540, device='cuda:0'), 1.4540157318115234, tensor(1.0105, device='cuda:0'), 1.0105023384094238, tensor(0.8796, device='cuda:0'), 0.8795737028121948, tensor(1.6872, device='cuda:0'), 1.6871627569198608, tensor(1.5560, device='cuda:0'), 1.5560163259506226, tensor(1.4085, device='cuda:0'), 1.408509612083435, tensor(1.0200, device='cuda:0'), 1.0200426578521729, tensor(6.2976, device='cuda:0'), 6.297647476196289, tensor(4.7699, device='cuda:0'), 4.769941329956055, tensor(2.5701, device='cuda:0'), 2.570058584213257, tensor(2.2751, device='cuda:0'), 2.275144338607788, tensor(2.2863, device='cuda:0'), 2.2863364219665527, tensor(2.9821, device='cuda:0'), 2.982069492340088, tensor(1.7387, device='cuda:0'), 1.7386653423309326, tensor(2.8437, device='cuda:0'), 2.8437438011169434, tensor(1.6709, device='cuda:0'), 1.67087721824646, tensor(1.7364, device='cuda:0'), 1.7363818883895874, tensor(3.2108, device='cuda:0'), 3.210844039916992, tensor(1.9329, device='cuda:0'), 1.9328778982162476, tensor(2.4587, device='cuda:0'), 2.4587295055389404, tensor(1.8631, device='cuda:0'), 1.863120436668396, tensor(2.6992, device='cuda:0'), 2.699197292327881, tensor(1.7909, device='cuda:0'), 1.7909319400787354, tensor(1.7263, device='cuda:0'), 1.726287603378296, tensor(3.4990, device='cuda:0'), 3.4990463256835938, tensor(4.5246, device='cuda:0'), 4.524620056152344, tensor(2.3671, device='cuda:0'), 2.367117404937744, tensor(1.4281, device='cuda:0'), 1.4280736446380615, tensor(5.9650, device='cuda:0'), 5.964983940124512, tensor(1.6919, device='cuda:0'), 1.6919267177581787, tensor(8.1178, device='cuda:0'), 8.117754936218262, tensor(1.6624, device='cuda:0'), 1.6623692512512207, tensor(1.1633, device='cuda:0'), 1.1633118391036987, tensor(7.0112, device='cuda:0'), 7.011171340942383, tensor(1.8328, device='cuda:0'), 1.832823634147644, tensor(0.9711, device='cuda:0'), 0.9710814356803894, tensor(1.5649, device='cuda:0'), 1.5648858547210693, tensor(3.6015, device='cuda:0'), 3.601491689682007, tensor(0.8045, device='cuda:0'), 0.8044596910476685, tensor(1.0347, device='cuda:0'), 1.034725546836853, tensor(2.9626, device='cuda:0'), 2.962637424468994, tensor(2.3765, device='cuda:0'), 2.3764877319335938, tensor(1.5378, device='cuda:0'), 1.5377687215805054, tensor(4.4342, device='cuda:0'), 4.434187889099121, tensor(1.7179, device='cuda:0'), 1.7179349660873413, tensor(1.2936, device='cuda:0'), 1.2935912609100342, tensor(3.4877, device='cuda:0'), 3.487720012664795, tensor(2.1152, device='cuda:0'), 2.1151843070983887, tensor(4.8996, device='cuda:0'), 4.899630546569824, tensor(1.3561, device='cuda:0'), 1.3561495542526245, tensor(3.2541, device='cuda:0'), 3.2540717124938965, tensor(1.4431, device='cuda:0'), 1.4431228637695312, tensor(6.3873, device='cuda:0'), 6.387330055236816, tensor(2.3881, device='cuda:0'), 2.3881096839904785, tensor(2.9165, device='cuda:0'), 2.916532278060913, tensor(2.0036, device='cuda:0'), 2.003614902496338, tensor(1.4045, device='cuda:0'), 1.4045242071151733, tensor(1.6488, device='cuda:0'), 1.6487977504730225, tensor(2.2281, device='cuda:0'), 2.2281177043914795, tensor(4.6933, device='cuda:0'), 4.6933488845825195, tensor(5.2545, device='cuda:0'), 5.254527568817139, tensor(1.4859, device='cuda:0'), 1.485880732536316, tensor(2.2079, device='cuda:0'), 2.2079415321350098, tensor(1.2598, device='cuda:0'), 1.2597522735595703, tensor(1.3365, device='cuda:0'), 1.3365072011947632, tensor(1.6817, device='cuda:0'), 1.6817421913146973, tensor(2.6808, device='cuda:0'), 2.6808199882507324, tensor(1.6481, device='cuda:0'), 1.648081660270691, tensor(1.3131, device='cuda:0'), 1.313114881515503, tensor(1.6231, device='cuda:0'), 1.6231011152267456, tensor(2.1805, device='cuda:0'), 2.180516004562378, tensor(0.8197, device='cuda:0'), 0.8197134733200073, tensor(1.6172, device='cuda:0'), 1.6171549558639526, tensor(0.8308, device='cuda:0'), 0.8308382034301758, tensor(1.4962, device='cuda:0'), 1.4961671829223633, tensor(1.6736, device='cuda:0'), 1.6736011505126953, tensor(4.2554, device='cuda:0'), 4.255404472351074, tensor(6.2550, device='cuda:0'), 6.2549662590026855, tensor(16.2710, device='cuda:0'), 16.27103042602539, tensor(2.1635, device='cuda:0'), 2.163491725921631, tensor(3.5614, device='cuda:0'), 3.56143856048584, tensor(2.1093, device='cuda:0'), 2.10925555229187, tensor(1.2522, device='cuda:0'), 1.2521827220916748, tensor(1.6288, device='cuda:0'), 1.628775954246521, tensor(3.6317, device='cuda:0'), 3.631682872772217, tensor(1.2367, device='cuda:0'), 1.2366780042648315, tensor(2.5519, device='cuda:0'), 2.551910877227783, tensor(1.4216, device='cuda:0'), 1.4216035604476929, tensor(1.2588, device='cuda:0'), 1.258845567703247, tensor(1.2172, device='cuda:0'), 1.2171919345855713, tensor(1.1857, device='cuda:0'), 1.1857331991195679, tensor(1.9099, device='cuda:0'), 1.909873366355896, tensor(5.4403, device='cuda:0'), 5.440286159515381, tensor(2.0622, device='cuda:0'), 2.0621612071990967, tensor(6.7460, device='cuda:0'), 6.746007442474365, tensor(1.3361, device='cuda:0'), 1.3360803127288818, tensor(1.4663, device='cuda:0'), 1.4662983417510986, tensor(1.8480, device='cuda:0'), 1.8480114936828613, tensor(0.9417, device='cuda:0'), 0.9416986703872681, tensor(2.8250, device='cuda:0'), 2.8249528408050537, tensor(4.1730, device='cuda:0'), 4.172950267791748, tensor(2.5402, device='cuda:0'), 2.5402398109436035, tensor(1.0998, device='cuda:0'), 1.0997552871704102, tensor(1.4637, device='cuda:0'), 1.4637173414230347, tensor(3.0585, device='cuda:0'), 3.058504104614258, tensor(0.7680, device='cuda:0'), 0.767951488494873, tensor(1.2250, device='cuda:0'), 1.2249882221221924, tensor(1.8713, device='cuda:0'), 1.8713176250457764, tensor(4.1436, device='cuda:0'), 4.143588066101074, tensor(2.5644, device='cuda:0'), 2.564396858215332, tensor(1.3404, device='cuda:0'), 1.340381383895874, tensor(1.9225, device='cuda:0'), 1.9224576950073242, tensor(1.3346, device='cuda:0'), 1.3345937728881836, tensor(1.4164, device='cuda:0'), 1.4164098501205444, tensor(2.5013, device='cuda:0'), 2.5013341903686523, tensor(0.9443, device='cuda:0'), 0.9443273544311523, tensor(2.5453, device='cuda:0'), 2.545337200164795, tensor(5.3370, device='cuda:0'), 5.337012767791748, tensor(2.0697, device='cuda:0'), 2.0697219371795654, tensor(1.3278, device='cuda:0'), 1.3278448581695557, tensor(4.0612, device='cuda:0'), 4.061236381530762, tensor(1.3356, device='cuda:0'), 1.3355735540390015, tensor(1.9602, device='cuda:0'), 1.9602141380310059, tensor(3.0473, device='cuda:0'), 3.047250509262085, tensor(2.4218, device='cuda:0'), 2.4217681884765625, tensor(3.2024, device='cuda:0'), 3.202435255050659, tensor(3.4934, device='cuda:0'), 3.49336314201355, tensor(0.9692, device='cuda:0'), 0.9692103266716003, tensor(4.0040, device='cuda:0'), 4.004031181335449, tensor(1.1227, device='cuda:0'), 1.1227034330368042, tensor(1.2617, device='cuda:0'), 1.2617013454437256, tensor(2.0299, device='cuda:0'), 2.0299441814422607, tensor(0.7313, device='cuda:0'), 0.7313019037246704, tensor(2.2942, device='cuda:0'), 2.29422664642334, tensor(3.9498, device='cuda:0'), 3.949819564819336, tensor(0.9352, device='cuda:0'), 0.9352161288261414, tensor(1.3814, device='cuda:0'), 1.3814094066619873, tensor(1.1943, device='cuda:0'), 1.1942980289459229, tensor(0.9750, device='cuda:0'), 0.9750049114227295, tensor(1.2562, device='cuda:0'), 1.2562483549118042, tensor(1.0677, device='cuda:0'), 1.067748785018921, tensor(1.4960, device='cuda:0'), 1.4959807395935059, tensor(2.3572, device='cuda:0'), 2.3571934700012207, tensor(1.0474, device='cuda:0'), 1.0473849773406982, tensor(1.1618, device='cuda:0'), 1.1617658138275146, tensor(5.1734, device='cuda:0'), 5.173377513885498, tensor(1.5531, device='cuda:0'), 1.553057074546814, tensor(1.3341, device='cuda:0'), 1.334146499633789, tensor(0.9907, device='cuda:0'), 0.9907029867172241, tensor(1.6833, device='cuda:0'), 1.6833466291427612, tensor(0.6288, device='cuda:0'), 0.628804087638855, tensor(1.7627, device='cuda:0'), 1.7627217769622803, tensor(0.7202, device='cuda:0'), 0.7202141284942627, tensor(0.6328, device='cuda:0'), 0.6327793002128601, tensor(3.9179, device='cuda:0'), 3.9178977012634277, tensor(1.2227, device='cuda:0'), 1.2226948738098145, tensor(5.0710, device='cuda:0'), 5.071040630340576, tensor(8.4571, device='cuda:0'), 8.457075119018555, tensor(2.0829, device='cuda:0'), 2.08290433883667, tensor(1.2114, device='cuda:0'), 1.211359977722168, tensor(0.9404, device='cuda:0'), 0.9403912425041199, tensor(1.2201, device='cuda:0'), 1.2201027870178223, tensor(1.1378, device='cuda:0'), 1.1377533674240112, tensor(1.1892, device='cuda:0'), 1.1892006397247314, tensor(0.8811, device='cuda:0'), 0.8810940980911255, tensor(1.1031, device='cuda:0'), 1.103060007095337, tensor(1.8362, device='cuda:0'), 1.8362176418304443, tensor(0.8007, device='cuda:0'), 0.8006590604782104, tensor(2.7422, device='cuda:0'), 2.742199659347534, tensor(1.1526, device='cuda:0'), 1.152589201927185, tensor(1.0576, device='cuda:0'), 1.057576060295105, tensor(1.1464, device='cuda:0'), 1.1463950872421265, tensor(1.1087, device='cuda:0'), 1.1087291240692139, tensor(1.0508, device='cuda:0'), 1.0508487224578857, tensor(1.0466, device='cuda:0'), 1.0465741157531738, tensor(0.5665, device='cuda:0'), 0.5664607882499695, tensor(2.2638, device='cuda:0'), 2.2638134956359863, tensor(1.2021, device='cuda:0'), 1.2020983695983887, tensor(2.2118, device='cuda:0'), 2.2118330001831055, tensor(1.2779, device='cuda:0'), 1.2778797149658203, tensor(1.2552, device='cuda:0'), 1.2551896572113037, tensor(4.7967, device='cuda:0'), 4.796677589416504, tensor(1.0753, device='cuda:0'), 1.0753309726715088, tensor(0.9512, device='cuda:0'), 0.95115727186203, tensor(2.1141, device='cuda:0'), 2.1140871047973633, tensor(1.2468, device='cuda:0'), 1.2467539310455322, tensor(5.1705, device='cuda:0'), 5.1705451011657715, tensor(1.4644, device='cuda:0'), 1.4644181728363037, tensor(1.7718, device='cuda:0'), 1.771794319152832, tensor(1.3440, device='cuda:0'), 1.3440126180648804, tensor(0.9497, device='cuda:0'), 0.9496769905090332, tensor(0.5638, device='cuda:0'), 0.5638185739517212, tensor(2.0311, device='cuda:0'), 2.0310564041137695, tensor(2.7226, device='cuda:0'), 2.722571849822998, tensor(2.3672, device='cuda:0'), 2.367204189300537, tensor(0.6835, device='cuda:0'), 0.6834652423858643, tensor(0.9412, device='cuda:0'), 0.9412448406219482, tensor(0.9948, device='cuda:0'), 0.9948047995567322, tensor(0.5216, device='cuda:0'), 0.5215550661087036, tensor(0.5635, device='cuda:0'), 0.5635471343994141, tensor(1.6986, device='cuda:0'), 1.698648452758789, tensor(0.8094, device='cuda:0'), 0.8094121813774109, tensor(0.6509, device='cuda:0'), 0.6509124040603638, tensor(1.2410, device='cuda:0'), 1.2409991025924683, tensor(1.4551, device='cuda:0'), 1.4550546407699585, tensor(0.9764, device='cuda:0'), 0.9764418005943298, tensor(4.6958, device='cuda:0'), 4.69583797454834, tensor(2.4767, device='cuda:0'), 2.4767346382141113, tensor(0.9563, device='cuda:0'), 0.9562937617301941, tensor(1.1020, device='cuda:0'), 1.1020207405090332, tensor(5.2714, device='cuda:0'), 5.271368980407715, tensor(4.1322, device='cuda:0'), 4.132199287414551, tensor(2.3510, device='cuda:0'), 2.3509912490844727, tensor(0.5496, device='cuda:0'), 0.5496108531951904, tensor(1.0100, device='cuda:0'), 1.0099519491195679, tensor(3.7302, device='cuda:0'), 3.730243682861328, tensor(0.7818, device='cuda:0'), 0.7818031311035156, tensor(1.1798, device='cuda:0'), 1.1797726154327393, tensor(0.8498, device='cuda:0'), 0.8498274683952332, tensor(1.0217, device='cuda:0'), 1.021733045578003, tensor(1.2019, device='cuda:0'), 1.2018874883651733, tensor(1.4241, device='cuda:0'), 1.4240975379943848, tensor(1.0671, device='cuda:0'), 1.0671262741088867, tensor(0.8211, device='cuda:0'), 0.8211371302604675, tensor(1.0465, device='cuda:0'), 1.0465192794799805, tensor(0.9953, device='cuda:0'), 0.9952570796012878, tensor(1.1348, device='cuda:0'), 1.1348265409469604, tensor(0.9725, device='cuda:0'), 0.9725145697593689, tensor(1.1058, device='cuda:0'), 1.1058224439620972, tensor(1.6177, device='cuda:0'), 1.6176965236663818, tensor(0.8686, device='cuda:0'), 0.8686420917510986, tensor(1.0484, device='cuda:0'), 1.0484193563461304, tensor(0.9858, device='cuda:0'), 0.9858249425888062, tensor(3.6506, device='cuda:0'), 3.650582790374756, tensor(2.0102, device='cuda:0'), 2.010228157043457, tensor(0.9306, device='cuda:0'), 0.9305667281150818, tensor(0.9661, device='cuda:0'), 0.9660590887069702, tensor(2.1221, device='cuda:0'), 2.1220622062683105, tensor(0.7470, device='cuda:0'), 0.7470030784606934, tensor(2.1523, device='cuda:0'), 2.152266025543213, tensor(0.5722, device='cuda:0'), 0.572229266166687, tensor(1.8039, device='cuda:0'), 1.80391526222229, tensor(0.4832, device='cuda:0'), 0.4831938147544861, tensor(1.1488, device='cuda:0'), 1.1487698554992676, tensor(0.7355, device='cuda:0'), 0.73549485206604, tensor(0.7965, device='cuda:0'), 0.7964614629745483, tensor(0.4830, device='cuda:0'), 0.48296138644218445, tensor(3.5640, device='cuda:0'), 3.5639595985412598, tensor(0.5079, device='cuda:0'), 0.5079127550125122, tensor(0.9114, device='cuda:0'), 0.9114115238189697, tensor(0.9155, device='cuda:0'), 0.9155455827713013, tensor(0.4810, device='cuda:0'), 0.4809821546077728, tensor(4.2127, device='cuda:0'), 4.212672710418701, tensor(0.8889, device='cuda:0'), 0.8889424204826355, tensor(0.7825, device='cuda:0'), 0.7825051546096802, tensor(0.7234, device='cuda:0'), 0.7233878970146179, tensor(1.5510, device='cuda:0'), 1.550990104675293, tensor(1.5491, device='cuda:0'), 1.5491409301757812, tensor(2.0579, device='cuda:0'), 2.0579285621643066, tensor(0.4653, device='cuda:0'), 0.46526655554771423, tensor(0.4699, device='cuda:0'), 0.46985745429992676, tensor(0.8811, device='cuda:0'), 0.8810580968856812, tensor(1.7517, device='cuda:0'), 1.7517222166061401, tensor(0.8199, device='cuda:0'), 0.8198515176773071, tensor(2.0491, device='cuda:0'), 2.0491323471069336, tensor(1.8904, device='cuda:0'), 1.8903656005859375, tensor(1.7432, device='cuda:0'), 1.7432000637054443, tensor(0.9008, device='cuda:0'), 0.9007936716079712, tensor(1.5422, device='cuda:0'), 1.5421589612960815, tensor(0.7575, device='cuda:0'), 0.7575112581253052, tensor(0.8138, device='cuda:0'), 0.8138484358787537, tensor(2.0411, device='cuda:0'), 2.0411269664764404, tensor(0.7177, device='cuda:0'), 0.717659592628479, tensor(0.8764, device='cuda:0'), 0.8764059543609619, tensor(0.4612, device='cuda:0'), 0.46118682622909546, tensor(1.8839, device='cuda:0'), 1.8839267492294312, tensor(0.8757, device='cuda:0'), 0.8756569623947144, tensor(0.7169, device='cuda:0'), 0.716925323009491, tensor(0.7702, device='cuda:0'), 0.7702204585075378, tensor(3.5346, device='cuda:0'), 3.5345582962036133]\n"
          ]
        },
        {
          "data": {
            "image/png": "[encoded data removed]",
            "text/plain": [
              "<Figure size 800x600 with 1 Axes>"
            ]
          },
          "metadata": {},
          "output_type": "display_data"
        }
      ],
      "source": [
        "m = []\n",
        "for val in losses_validation:\n",
        "  if type(val) == float:\n",
        "    m.append(val)\n",
        "print(losses_validation)\n",
        "plt.figure(figsize=(8, 6))\n",
        "plt.plot(m, marker='o', linestyle='-')\n",
        "plt.xlabel('Iterations')\n",
        "plt.ylabel('Loss')\n",
        "plt.title('Loss over Iterations')\n",
        "plt.grid(True)\n",
        "plt.show()"
      ]
    },
    {
      "cell_type": "code",
      "execution_count": null,
      "metadata": {
        "colab": {
          "background_save": true
        },
        "id": "4yvGq5xiIdIa"
      },
      "outputs": [],
      "source": [
        "%reset -f\n"
      ]
    },
    {
      "cell_type": "code",
      "execution_count": null,
      "metadata": {
        "colab": {
          "base_uri": "https://localhost:8080/",
          "height": 533
        },
        "id": "yG3q0bEUC2IB",
        "outputId": "c83b07b7-9ebe-42f0-e481-c1c627e54d27"
      },
      "outputs": [
        {
          "name": "stderr",
          "output_type": "stream",
          "text": [
            "  0%|          | 0/4 [00:00<?, ?it/s]/content/drive/MyDrive/epce-hdr/util.py:55: RuntimeWarning: invalid value encountered in divide\n",
            "  scaled_mantissa = mantissa * 255.0 / brightest\n",
            " 25%|██▌       | 1/4 [00:02<00:06,  2.14s/it]\n"
          ]
        },
        {
          "ename": "OutOfMemoryError",
          "evalue": "ignored",
          "output_type": "error",
          "traceback": [
            "\u001b[0;31m---------------------------------------------------------------------------\u001b[0m",
            "\u001b[0;31mOutOfMemoryError\u001b[0m                          Traceback (most recent call last)",
            "\u001b[0;32m<ipython-input-6-809d1b3857d4>\u001b[0m in \u001b[0;36m<cell line: 14>\u001b[0;34m()\u001b[0m\n\u001b[1;32m     19\u001b[0m         \u001b[0moutput_true\u001b[0m \u001b[0;34m=\u001b[0m \u001b[0moutput_true\u001b[0m\u001b[0;34m.\u001b[0m\u001b[0mto\u001b[0m\u001b[0;34m(\u001b[0m\u001b[0mdevice\u001b[0m\u001b[0;34m)\u001b[0m\u001b[0;34m\u001b[0m\u001b[0;34m\u001b[0m\u001b[0m\n\u001b[1;32m     20\u001b[0m \u001b[0;34m\u001b[0m\u001b[0m\n\u001b[0;32m---> 21\u001b[0;31m         \u001b[0moutput\u001b[0m \u001b[0;34m=\u001b[0m \u001b[0mmodel\u001b[0m\u001b[0;34m(\u001b[0m\u001b[0minput\u001b[0m\u001b[0;34m)\u001b[0m\u001b[0;34m\u001b[0m\u001b[0;34m\u001b[0m\u001b[0m\n\u001b[0m\u001b[1;32m     22\u001b[0m \u001b[0;34m\u001b[0m\u001b[0m\n\u001b[1;32m     23\u001b[0m \u001b[0;34m\u001b[0m\u001b[0m\n",
            "\u001b[0;32m/usr/local/lib/python3.10/dist-packages/torch/nn/modules/module.py\u001b[0m in \u001b[0;36m_wrapped_call_impl\u001b[0;34m(self, *args, **kwargs)\u001b[0m\n\u001b[1;32m   1516\u001b[0m             \u001b[0;32mreturn\u001b[0m \u001b[0mself\u001b[0m\u001b[0;34m.\u001b[0m\u001b[0m_compiled_call_impl\u001b[0m\u001b[0;34m(\u001b[0m\u001b[0;34m*\u001b[0m\u001b[0margs\u001b[0m\u001b[0;34m,\u001b[0m \u001b[0;34m**\u001b[0m\u001b[0mkwargs\u001b[0m\u001b[0;34m)\u001b[0m  \u001b[0;31m# type: ignore[misc]\u001b[0m\u001b[0;34m\u001b[0m\u001b[0;34m\u001b[0m\u001b[0m\n\u001b[1;32m   1517\u001b[0m         \u001b[0;32melse\u001b[0m\u001b[0;34m:\u001b[0m\u001b[0;34m\u001b[0m\u001b[0;34m\u001b[0m\u001b[0m\n\u001b[0;32m-> 1518\u001b[0;31m             \u001b[0;32mreturn\u001b[0m \u001b[0mself\u001b[0m\u001b[0;34m.\u001b[0m\u001b[0m_call_impl\u001b[0m\u001b[0;34m(\u001b[0m\u001b[0;34m*\u001b[0m\u001b[0margs\u001b[0m\u001b[0;34m,\u001b[0m \u001b[0;34m**\u001b[0m\u001b[0mkwargs\u001b[0m\u001b[0;34m)\u001b[0m\u001b[0;34m\u001b[0m\u001b[0;34m\u001b[0m\u001b[0m\n\u001b[0m\u001b[1;32m   1519\u001b[0m \u001b[0;34m\u001b[0m\u001b[0m\n\u001b[1;32m   1520\u001b[0m     \u001b[0;32mdef\u001b[0m \u001b[0m_call_impl\u001b[0m\u001b[0;34m(\u001b[0m\u001b[0mself\u001b[0m\u001b[0;34m,\u001b[0m \u001b[0;34m*\u001b[0m\u001b[0margs\u001b[0m\u001b[0;34m,\u001b[0m \u001b[0;34m**\u001b[0m\u001b[0mkwargs\u001b[0m\u001b[0;34m)\u001b[0m\u001b[0;34m:\u001b[0m\u001b[0;34m\u001b[0m\u001b[0;34m\u001b[0m\u001b[0m\n",
            "\u001b[0;32m/usr/local/lib/python3.10/dist-packages/torch/nn/modules/module.py\u001b[0m in \u001b[0;36m_call_impl\u001b[0;34m(self, *args, **kwargs)\u001b[0m\n\u001b[1;32m   1525\u001b[0m                 \u001b[0;32mor\u001b[0m \u001b[0m_global_backward_pre_hooks\u001b[0m \u001b[0;32mor\u001b[0m \u001b[0m_global_backward_hooks\u001b[0m\u001b[0;34m\u001b[0m\u001b[0;34m\u001b[0m\u001b[0m\n\u001b[1;32m   1526\u001b[0m                 or _global_forward_hooks or _global_forward_pre_hooks):\n\u001b[0;32m-> 1527\u001b[0;31m             \u001b[0;32mreturn\u001b[0m \u001b[0mforward_call\u001b[0m\u001b[0;34m(\u001b[0m\u001b[0;34m*\u001b[0m\u001b[0margs\u001b[0m\u001b[0;34m,\u001b[0m \u001b[0;34m**\u001b[0m\u001b[0mkwargs\u001b[0m\u001b[0;34m)\u001b[0m\u001b[0;34m\u001b[0m\u001b[0;34m\u001b[0m\u001b[0m\n\u001b[0m\u001b[1;32m   1528\u001b[0m \u001b[0;34m\u001b[0m\u001b[0m\n\u001b[1;32m   1529\u001b[0m         \u001b[0;32mtry\u001b[0m\u001b[0;34m:\u001b[0m\u001b[0;34m\u001b[0m\u001b[0;34m\u001b[0m\u001b[0m\n",
            "\u001b[0;32m/content/drive/MyDrive/epce-hdr/EPCE.py\u001b[0m in \u001b[0;36mforward\u001b[0;34m(self, x)\u001b[0m\n\u001b[1;32m    376\u001b[0m         \u001b[0minp_img_0\u001b[0m\u001b[0;34m=\u001b[0m\u001b[0mself\u001b[0m\u001b[0;34m.\u001b[0m\u001b[0mfirst_1\u001b[0m\u001b[0;34m(\u001b[0m\u001b[0minp_img_0\u001b[0m\u001b[0;34m)\u001b[0m\u001b[0;34m\u001b[0m\u001b[0;34m\u001b[0m\u001b[0m\n\u001b[1;32m    377\u001b[0m         \u001b[0minp_img_0\u001b[0m\u001b[0;34m=\u001b[0m\u001b[0mself\u001b[0m\u001b[0;34m.\u001b[0m\u001b[0mfirst_2\u001b[0m\u001b[0;34m(\u001b[0m\u001b[0minp_img_0\u001b[0m\u001b[0;34m)\u001b[0m\u001b[0;34m\u001b[0m\u001b[0;34m\u001b[0m\u001b[0m\n\u001b[0;32m--> 378\u001b[0;31m         \u001b[0minp_img_0\u001b[0m\u001b[0;34m=\u001b[0m\u001b[0mself\u001b[0m\u001b[0;34m.\u001b[0m\u001b[0mfirst_3\u001b[0m\u001b[0;34m(\u001b[0m\u001b[0minp_img_0\u001b[0m\u001b[0;34m)\u001b[0m\u001b[0;34m\u001b[0m\u001b[0;34m\u001b[0m\u001b[0m\n\u001b[0m\u001b[1;32m    379\u001b[0m         \u001b[0minp_img_0\u001b[0m\u001b[0;34m=\u001b[0m\u001b[0mself\u001b[0m\u001b[0;34m.\u001b[0m\u001b[0mrelu\u001b[0m\u001b[0;34m(\u001b[0m\u001b[0minp_img_0\u001b[0m\u001b[0;34m)\u001b[0m\u001b[0;34m\u001b[0m\u001b[0;34m\u001b[0m\u001b[0m\n\u001b[1;32m    380\u001b[0m \u001b[0;34m\u001b[0m\u001b[0m\n",
            "\u001b[0;32m/usr/local/lib/python3.10/dist-packages/torch/nn/modules/module.py\u001b[0m in \u001b[0;36m_wrapped_call_impl\u001b[0;34m(self, *args, **kwargs)\u001b[0m\n\u001b[1;32m   1516\u001b[0m             \u001b[0;32mreturn\u001b[0m \u001b[0mself\u001b[0m\u001b[0;34m.\u001b[0m\u001b[0m_compiled_call_impl\u001b[0m\u001b[0;34m(\u001b[0m\u001b[0;34m*\u001b[0m\u001b[0margs\u001b[0m\u001b[0;34m,\u001b[0m \u001b[0;34m**\u001b[0m\u001b[0mkwargs\u001b[0m\u001b[0;34m)\u001b[0m  \u001b[0;31m# type: ignore[misc]\u001b[0m\u001b[0;34m\u001b[0m\u001b[0;34m\u001b[0m\u001b[0m\n\u001b[1;32m   1517\u001b[0m         \u001b[0;32melse\u001b[0m\u001b[0;34m:\u001b[0m\u001b[0;34m\u001b[0m\u001b[0;34m\u001b[0m\u001b[0m\n\u001b[0;32m-> 1518\u001b[0;31m             \u001b[0;32mreturn\u001b[0m \u001b[0mself\u001b[0m\u001b[0;34m.\u001b[0m\u001b[0m_call_impl\u001b[0m\u001b[0;34m(\u001b[0m\u001b[0;34m*\u001b[0m\u001b[0margs\u001b[0m\u001b[0;34m,\u001b[0m \u001b[0;34m**\u001b[0m\u001b[0mkwargs\u001b[0m\u001b[0;34m)\u001b[0m\u001b[0;34m\u001b[0m\u001b[0;34m\u001b[0m\u001b[0m\n\u001b[0m\u001b[1;32m   1519\u001b[0m \u001b[0;34m\u001b[0m\u001b[0m\n\u001b[1;32m   1520\u001b[0m     \u001b[0;32mdef\u001b[0m \u001b[0m_call_impl\u001b[0m\u001b[0;34m(\u001b[0m\u001b[0mself\u001b[0m\u001b[0;34m,\u001b[0m \u001b[0;34m*\u001b[0m\u001b[0margs\u001b[0m\u001b[0;34m,\u001b[0m \u001b[0;34m**\u001b[0m\u001b[0mkwargs\u001b[0m\u001b[0;34m)\u001b[0m\u001b[0;34m:\u001b[0m\u001b[0;34m\u001b[0m\u001b[0;34m\u001b[0m\u001b[0m\n",
            "\u001b[0;32m/usr/local/lib/python3.10/dist-packages/torch/nn/modules/module.py\u001b[0m in \u001b[0;36m_call_impl\u001b[0;34m(self, *args, **kwargs)\u001b[0m\n\u001b[1;32m   1525\u001b[0m                 \u001b[0;32mor\u001b[0m \u001b[0m_global_backward_pre_hooks\u001b[0m \u001b[0;32mor\u001b[0m \u001b[0m_global_backward_hooks\u001b[0m\u001b[0;34m\u001b[0m\u001b[0;34m\u001b[0m\u001b[0m\n\u001b[1;32m   1526\u001b[0m                 or _global_forward_hooks or _global_forward_pre_hooks):\n\u001b[0;32m-> 1527\u001b[0;31m             \u001b[0;32mreturn\u001b[0m \u001b[0mforward_call\u001b[0m\u001b[0;34m(\u001b[0m\u001b[0;34m*\u001b[0m\u001b[0margs\u001b[0m\u001b[0;34m,\u001b[0m \u001b[0;34m**\u001b[0m\u001b[0mkwargs\u001b[0m\u001b[0;34m)\u001b[0m\u001b[0;34m\u001b[0m\u001b[0;34m\u001b[0m\u001b[0m\n\u001b[0m\u001b[1;32m   1528\u001b[0m \u001b[0;34m\u001b[0m\u001b[0m\n\u001b[1;32m   1529\u001b[0m         \u001b[0;32mtry\u001b[0m\u001b[0;34m:\u001b[0m\u001b[0;34m\u001b[0m\u001b[0;34m\u001b[0m\u001b[0m\n",
            "\u001b[0;32m/usr/local/lib/python3.10/dist-packages/torch/nn/modules/container.py\u001b[0m in \u001b[0;36mforward\u001b[0;34m(self, input)\u001b[0m\n\u001b[1;32m    213\u001b[0m     \u001b[0;32mdef\u001b[0m \u001b[0mforward\u001b[0m\u001b[0;34m(\u001b[0m\u001b[0mself\u001b[0m\u001b[0;34m,\u001b[0m \u001b[0minput\u001b[0m\u001b[0;34m)\u001b[0m\u001b[0;34m:\u001b[0m\u001b[0;34m\u001b[0m\u001b[0;34m\u001b[0m\u001b[0m\n\u001b[1;32m    214\u001b[0m         \u001b[0;32mfor\u001b[0m \u001b[0mmodule\u001b[0m \u001b[0;32min\u001b[0m \u001b[0mself\u001b[0m\u001b[0;34m:\u001b[0m\u001b[0;34m\u001b[0m\u001b[0;34m\u001b[0m\u001b[0m\n\u001b[0;32m--> 215\u001b[0;31m             \u001b[0minput\u001b[0m \u001b[0;34m=\u001b[0m \u001b[0mmodule\u001b[0m\u001b[0;34m(\u001b[0m\u001b[0minput\u001b[0m\u001b[0;34m)\u001b[0m\u001b[0;34m\u001b[0m\u001b[0;34m\u001b[0m\u001b[0m\n\u001b[0m\u001b[1;32m    216\u001b[0m         \u001b[0;32mreturn\u001b[0m \u001b[0minput\u001b[0m\u001b[0;34m\u001b[0m\u001b[0;34m\u001b[0m\u001b[0m\n\u001b[1;32m    217\u001b[0m \u001b[0;34m\u001b[0m\u001b[0m\n",
            "\u001b[0;32m/usr/local/lib/python3.10/dist-packages/torch/nn/modules/module.py\u001b[0m in \u001b[0;36m_wrapped_call_impl\u001b[0;34m(self, *args, **kwargs)\u001b[0m\n\u001b[1;32m   1516\u001b[0m             \u001b[0;32mreturn\u001b[0m \u001b[0mself\u001b[0m\u001b[0;34m.\u001b[0m\u001b[0m_compiled_call_impl\u001b[0m\u001b[0;34m(\u001b[0m\u001b[0;34m*\u001b[0m\u001b[0margs\u001b[0m\u001b[0;34m,\u001b[0m \u001b[0;34m**\u001b[0m\u001b[0mkwargs\u001b[0m\u001b[0;34m)\u001b[0m  \u001b[0;31m# type: ignore[misc]\u001b[0m\u001b[0;34m\u001b[0m\u001b[0;34m\u001b[0m\u001b[0m\n\u001b[1;32m   1517\u001b[0m         \u001b[0;32melse\u001b[0m\u001b[0;34m:\u001b[0m\u001b[0;34m\u001b[0m\u001b[0;34m\u001b[0m\u001b[0m\n\u001b[0;32m-> 1518\u001b[0;31m             \u001b[0;32mreturn\u001b[0m \u001b[0mself\u001b[0m\u001b[0;34m.\u001b[0m\u001b[0m_call_impl\u001b[0m\u001b[0;34m(\u001b[0m\u001b[0;34m*\u001b[0m\u001b[0margs\u001b[0m\u001b[0;34m,\u001b[0m \u001b[0;34m**\u001b[0m\u001b[0mkwargs\u001b[0m\u001b[0;34m)\u001b[0m\u001b[0;34m\u001b[0m\u001b[0;34m\u001b[0m\u001b[0m\n\u001b[0m\u001b[1;32m   1519\u001b[0m \u001b[0;34m\u001b[0m\u001b[0m\n\u001b[1;32m   1520\u001b[0m     \u001b[0;32mdef\u001b[0m \u001b[0m_call_impl\u001b[0m\u001b[0;34m(\u001b[0m\u001b[0mself\u001b[0m\u001b[0;34m,\u001b[0m \u001b[0;34m*\u001b[0m\u001b[0margs\u001b[0m\u001b[0;34m,\u001b[0m \u001b[0;34m**\u001b[0m\u001b[0mkwargs\u001b[0m\u001b[0;34m)\u001b[0m\u001b[0;34m:\u001b[0m\u001b[0;34m\u001b[0m\u001b[0;34m\u001b[0m\u001b[0m\n",
            "\u001b[0;32m/usr/local/lib/python3.10/dist-packages/torch/nn/modules/module.py\u001b[0m in \u001b[0;36m_call_impl\u001b[0;34m(self, *args, **kwargs)\u001b[0m\n\u001b[1;32m   1525\u001b[0m                 \u001b[0;32mor\u001b[0m \u001b[0m_global_backward_pre_hooks\u001b[0m \u001b[0;32mor\u001b[0m \u001b[0m_global_backward_hooks\u001b[0m\u001b[0;34m\u001b[0m\u001b[0;34m\u001b[0m\u001b[0m\n\u001b[1;32m   1526\u001b[0m                 or _global_forward_hooks or _global_forward_pre_hooks):\n\u001b[0;32m-> 1527\u001b[0;31m             \u001b[0;32mreturn\u001b[0m \u001b[0mforward_call\u001b[0m\u001b[0;34m(\u001b[0m\u001b[0;34m*\u001b[0m\u001b[0margs\u001b[0m\u001b[0;34m,\u001b[0m \u001b[0;34m**\u001b[0m\u001b[0mkwargs\u001b[0m\u001b[0;34m)\u001b[0m\u001b[0;34m\u001b[0m\u001b[0;34m\u001b[0m\u001b[0m\n\u001b[0m\u001b[1;32m   1528\u001b[0m \u001b[0;34m\u001b[0m\u001b[0m\n\u001b[1;32m   1529\u001b[0m         \u001b[0;32mtry\u001b[0m\u001b[0;34m:\u001b[0m\u001b[0;34m\u001b[0m\u001b[0;34m\u001b[0m\u001b[0m\n",
            "\u001b[0;32m/content/drive/MyDrive/epce-hdr/EPCE.py\u001b[0m in \u001b[0;36mforward\u001b[0;34m(self, x)\u001b[0m\n\u001b[1;32m    220\u001b[0m     \u001b[0;32mdef\u001b[0m \u001b[0mforward\u001b[0m\u001b[0;34m(\u001b[0m\u001b[0mself\u001b[0m\u001b[0;34m,\u001b[0m \u001b[0mx\u001b[0m\u001b[0;34m)\u001b[0m\u001b[0;34m:\u001b[0m\u001b[0;34m\u001b[0m\u001b[0;34m\u001b[0m\u001b[0m\n\u001b[1;32m    221\u001b[0m         \u001b[0mx\u001b[0m \u001b[0;34m=\u001b[0m \u001b[0mx\u001b[0m \u001b[0;34m+\u001b[0m \u001b[0mself\u001b[0m\u001b[0;34m.\u001b[0m\u001b[0mattn\u001b[0m\u001b[0;34m(\u001b[0m\u001b[0mself\u001b[0m\u001b[0;34m.\u001b[0m\u001b[0mnorm1\u001b[0m\u001b[0;34m(\u001b[0m\u001b[0mx\u001b[0m\u001b[0;34m)\u001b[0m\u001b[0;34m)\u001b[0m\u001b[0;34m\u001b[0m\u001b[0;34m\u001b[0m\u001b[0m\n\u001b[0;32m--> 222\u001b[0;31m         \u001b[0mx\u001b[0m \u001b[0;34m=\u001b[0m \u001b[0mx\u001b[0m \u001b[0;34m+\u001b[0m \u001b[0mself\u001b[0m\u001b[0;34m.\u001b[0m\u001b[0mffn\u001b[0m\u001b[0;34m(\u001b[0m\u001b[0mself\u001b[0m\u001b[0;34m.\u001b[0m\u001b[0mnorm2\u001b[0m\u001b[0;34m(\u001b[0m\u001b[0mx\u001b[0m\u001b[0;34m)\u001b[0m\u001b[0;34m)\u001b[0m\u001b[0;34m\u001b[0m\u001b[0;34m\u001b[0m\u001b[0m\n\u001b[0m\u001b[1;32m    223\u001b[0m \u001b[0;34m\u001b[0m\u001b[0m\n\u001b[1;32m    224\u001b[0m         \u001b[0;32mreturn\u001b[0m \u001b[0mx\u001b[0m\u001b[0;34m\u001b[0m\u001b[0;34m\u001b[0m\u001b[0m\n",
            "\u001b[0;32m/usr/local/lib/python3.10/dist-packages/torch/nn/modules/module.py\u001b[0m in \u001b[0;36m_wrapped_call_impl\u001b[0;34m(self, *args, **kwargs)\u001b[0m\n\u001b[1;32m   1516\u001b[0m             \u001b[0;32mreturn\u001b[0m \u001b[0mself\u001b[0m\u001b[0;34m.\u001b[0m\u001b[0m_compiled_call_impl\u001b[0m\u001b[0;34m(\u001b[0m\u001b[0;34m*\u001b[0m\u001b[0margs\u001b[0m\u001b[0;34m,\u001b[0m \u001b[0;34m**\u001b[0m\u001b[0mkwargs\u001b[0m\u001b[0;34m)\u001b[0m  \u001b[0;31m# type: ignore[misc]\u001b[0m\u001b[0;34m\u001b[0m\u001b[0;34m\u001b[0m\u001b[0m\n\u001b[1;32m   1517\u001b[0m         \u001b[0;32melse\u001b[0m\u001b[0;34m:\u001b[0m\u001b[0;34m\u001b[0m\u001b[0;34m\u001b[0m\u001b[0m\n\u001b[0;32m-> 1518\u001b[0;31m             \u001b[0;32mreturn\u001b[0m \u001b[0mself\u001b[0m\u001b[0;34m.\u001b[0m\u001b[0m_call_impl\u001b[0m\u001b[0;34m(\u001b[0m\u001b[0;34m*\u001b[0m\u001b[0margs\u001b[0m\u001b[0;34m,\u001b[0m \u001b[0;34m**\u001b[0m\u001b[0mkwargs\u001b[0m\u001b[0;34m)\u001b[0m\u001b[0;34m\u001b[0m\u001b[0;34m\u001b[0m\u001b[0m\n\u001b[0m\u001b[1;32m   1519\u001b[0m \u001b[0;34m\u001b[0m\u001b[0m\n\u001b[1;32m   1520\u001b[0m     \u001b[0;32mdef\u001b[0m \u001b[0m_call_impl\u001b[0m\u001b[0;34m(\u001b[0m\u001b[0mself\u001b[0m\u001b[0;34m,\u001b[0m \u001b[0;34m*\u001b[0m\u001b[0margs\u001b[0m\u001b[0;34m,\u001b[0m \u001b[0;34m**\u001b[0m\u001b[0mkwargs\u001b[0m\u001b[0;34m)\u001b[0m\u001b[0;34m:\u001b[0m\u001b[0;34m\u001b[0m\u001b[0;34m\u001b[0m\u001b[0m\n",
            "\u001b[0;32m/usr/local/lib/python3.10/dist-packages/torch/nn/modules/module.py\u001b[0m in \u001b[0;36m_call_impl\u001b[0;34m(self, *args, **kwargs)\u001b[0m\n\u001b[1;32m   1525\u001b[0m                 \u001b[0;32mor\u001b[0m \u001b[0m_global_backward_pre_hooks\u001b[0m \u001b[0;32mor\u001b[0m \u001b[0m_global_backward_hooks\u001b[0m\u001b[0;34m\u001b[0m\u001b[0;34m\u001b[0m\u001b[0m\n\u001b[1;32m   1526\u001b[0m                 or _global_forward_hooks or _global_forward_pre_hooks):\n\u001b[0;32m-> 1527\u001b[0;31m             \u001b[0;32mreturn\u001b[0m \u001b[0mforward_call\u001b[0m\u001b[0;34m(\u001b[0m\u001b[0;34m*\u001b[0m\u001b[0margs\u001b[0m\u001b[0;34m,\u001b[0m \u001b[0;34m**\u001b[0m\u001b[0mkwargs\u001b[0m\u001b[0;34m)\u001b[0m\u001b[0;34m\u001b[0m\u001b[0;34m\u001b[0m\u001b[0m\n\u001b[0m\u001b[1;32m   1528\u001b[0m \u001b[0;34m\u001b[0m\u001b[0m\n\u001b[1;32m   1529\u001b[0m         \u001b[0;32mtry\u001b[0m\u001b[0;34m:\u001b[0m\u001b[0;34m\u001b[0m\u001b[0;34m\u001b[0m\u001b[0m\n",
            "\u001b[0;32m/content/drive/MyDrive/epce-hdr/EPCE.py\u001b[0m in \u001b[0;36mforward\u001b[0;34m(self, x)\u001b[0m\n\u001b[1;32m    167\u001b[0m         \u001b[0mx3\u001b[0m \u001b[0;34m=\u001b[0m \u001b[0mself\u001b[0m\u001b[0;34m.\u001b[0m\u001b[0mrelu\u001b[0m\u001b[0;34m(\u001b[0m\u001b[0mself\u001b[0m\u001b[0;34m.\u001b[0m\u001b[0me_conv3\u001b[0m\u001b[0;34m(\u001b[0m\u001b[0mx2\u001b[0m\u001b[0;34m)\u001b[0m\u001b[0;34m)\u001b[0m\u001b[0;34m\u001b[0m\u001b[0;34m\u001b[0m\u001b[0m\n\u001b[1;32m    168\u001b[0m         \u001b[0mx4\u001b[0m \u001b[0;34m=\u001b[0m \u001b[0mself\u001b[0m\u001b[0;34m.\u001b[0m\u001b[0mrelu\u001b[0m\u001b[0;34m(\u001b[0m\u001b[0mself\u001b[0m\u001b[0;34m.\u001b[0m\u001b[0me_conv4\u001b[0m\u001b[0;34m(\u001b[0m\u001b[0mx3\u001b[0m\u001b[0;34m)\u001b[0m\u001b[0;34m)\u001b[0m\u001b[0;34m\u001b[0m\u001b[0;34m\u001b[0m\u001b[0m\n\u001b[0;32m--> 169\u001b[0;31m         \u001b[0mx5\u001b[0m \u001b[0;34m=\u001b[0m \u001b[0mself\u001b[0m\u001b[0;34m.\u001b[0m\u001b[0mrelu\u001b[0m\u001b[0;34m(\u001b[0m\u001b[0mself\u001b[0m\u001b[0;34m.\u001b[0m\u001b[0me_conv5\u001b[0m\u001b[0;34m(\u001b[0m\u001b[0mtorch\u001b[0m\u001b[0;34m.\u001b[0m\u001b[0mcat\u001b[0m\u001b[0;34m(\u001b[0m\u001b[0;34m[\u001b[0m\u001b[0mx3\u001b[0m\u001b[0;34m,\u001b[0m \u001b[0mx4\u001b[0m\u001b[0;34m]\u001b[0m\u001b[0;34m,\u001b[0m \u001b[0;36m1\u001b[0m\u001b[0;34m)\u001b[0m\u001b[0;34m)\u001b[0m\u001b[0;34m)\u001b[0m\u001b[0;34m\u001b[0m\u001b[0;34m\u001b[0m\u001b[0m\n\u001b[0m\u001b[1;32m    170\u001b[0m         \u001b[0mx6\u001b[0m \u001b[0;34m=\u001b[0m \u001b[0mself\u001b[0m\u001b[0;34m.\u001b[0m\u001b[0mrelu\u001b[0m\u001b[0;34m(\u001b[0m\u001b[0mself\u001b[0m\u001b[0;34m.\u001b[0m\u001b[0me_conv6\u001b[0m\u001b[0;34m(\u001b[0m\u001b[0mtorch\u001b[0m\u001b[0;34m.\u001b[0m\u001b[0mcat\u001b[0m\u001b[0;34m(\u001b[0m\u001b[0;34m[\u001b[0m\u001b[0mx2\u001b[0m\u001b[0;34m,\u001b[0m \u001b[0mx5\u001b[0m\u001b[0;34m]\u001b[0m\u001b[0;34m,\u001b[0m \u001b[0;36m1\u001b[0m\u001b[0;34m)\u001b[0m\u001b[0;34m)\u001b[0m\u001b[0;34m)\u001b[0m\u001b[0;34m\u001b[0m\u001b[0;34m\u001b[0m\u001b[0m\n\u001b[1;32m    171\u001b[0m         \u001b[0mx\u001b[0m \u001b[0;34m=\u001b[0m \u001b[0mF\u001b[0m\u001b[0;34m.\u001b[0m\u001b[0mtanh\u001b[0m\u001b[0;34m(\u001b[0m\u001b[0mself\u001b[0m\u001b[0;34m.\u001b[0m\u001b[0me_conv7\u001b[0m\u001b[0;34m(\u001b[0m\u001b[0mtorch\u001b[0m\u001b[0;34m.\u001b[0m\u001b[0mcat\u001b[0m\u001b[0;34m(\u001b[0m\u001b[0;34m[\u001b[0m\u001b[0mx1\u001b[0m\u001b[0;34m,\u001b[0m \u001b[0mx6\u001b[0m\u001b[0;34m]\u001b[0m\u001b[0;34m,\u001b[0m \u001b[0;36m1\u001b[0m\u001b[0;34m)\u001b[0m\u001b[0;34m)\u001b[0m\u001b[0;34m)\u001b[0m\u001b[0;34m\u001b[0m\u001b[0;34m\u001b[0m\u001b[0m\n",
            "\u001b[0;31mOutOfMemoryError\u001b[0m: CUDA out of memory. Tried to allocate 24.00 MiB. GPU 0 has a total capacty of 14.75 GiB of which 6.81 MiB is free. Process 2399002 has 14.74 GiB memory in use. Of the allocated memory 13.41 GiB is allocated by PyTorch, and 268.56 MiB is reserved by PyTorch but unallocated. If reserved but unallocated memory is large try setting max_split_size_mb to avoid fragmentation.  See documentation for Memory Management and PYTORCH_CUDA_ALLOC_CONF"
          ]
        }
      ],
      "source": [
        "dataset = HDRDataset(mode=\"test\", opt=opt)\n",
        "\n",
        "# split dataset into training and validation sets\n",
        "train_dataset, val_dataset = train_test_split(dataset, test_size=1, random_state=42)\n",
        "\n",
        "# create separate data loaders for training and validation\n",
        "train_data_loader = DataLoader(train_dataset, batch_size=opt.batch_size, shuffle=True)\n",
        "val_data_loader = DataLoader(val_dataset, batch_size=1, shuffle=False)\n",
        "torch.cuda.empty_cache()\n",
        "i = 0\n",
        "device = torch.device(\"cuda\")\n",
        "\n",
        "model.to(device)\n",
        "for batch in tqdm(train_data_loader):\n",
        "        # Move the batch to the device\n",
        "        input = batch['ldr_image']\n",
        "        input = input.to(device)\n",
        "        output_true = batch['hdr_image']\n",
        "        output_true = output_true.to(device)\n",
        "\n",
        "        output = model(input)\n",
        "\n",
        "\n",
        "\n",
        "        save_hdr_image(\n",
        "                img_tensor=output,\n",
        "                batch=0,\n",
        "                path=\"genmoxx{}.hdr\".format(\n",
        "                    i\n",
        "                ),\n",
        "        )\n",
        "        save_hdr_image(\n",
        "                img_tensor=output_true,\n",
        "                batch=0,\n",
        "                path=\"realmoxx{}.hdr\".format(\n",
        "                    i\n",
        "                ),\n",
        "            )\n",
        "\n"
      ]
    },
    {
      "cell_type": "code",
      "execution_count": null,
      "metadata": {
        "colab": {
          "base_uri": "https://localhost:8080/"
        },
        "id": "PCgArU1PkRNJ",
        "outputId": "358306c8-3190-4566-b57e-502e465b2130"
      },
      "outputs": [
        {
          "name": "stdout",
          "output_type": "stream",
          "text": [
            "The model has 35426357 parameters.\n"
          ]
        }
      ],
      "source": [
        "import torch\n",
        "\n",
        "def count_parameters(model):\n",
        "    return sum(p.numel() for p in model.parameters() if p.requires_grad)\n",
        "\n",
        "# Load your model\n",
        "loaded_model =model\n",
        "\n",
        "# Calculate the number of parameters\n",
        "num_params = count_parameters(loaded_model)\n",
        "print(f\"The model has {num_params} parameters.\")\n"
      ]
    },
    {
      "cell_type": "code",
      "execution_count": null,
      "metadata": {
        "id": "HsTVIFBGZxDw"
      },
      "outputs": [],
      "source": []
    }
  ],
  "metadata": {
    "accelerator": "GPU",
    "colab": {
      "machine_shape": "hm",
      "provenance": []
    },
    "kernelspec": {
      "display_name": "Python 3",
      "name": "python3"
    },
    "language_info": {
      "codemirror_mode": {
        "name": "ipython",
        "version": 3
      },
      "file_extension": ".py",
      "mimetype": "text/x-python",
      "name": "python",
      "nbconvert_exporter": "python",
      "pygments_lexer": "ipython3",
      "version": "3.10.13"
    }
  },
  "nbformat": 4,
  "nbformat_minor": 0
}
